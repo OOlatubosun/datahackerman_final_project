{
 "cells": [
  {
   "cell_type": "markdown",
   "id": "0ec33800",
   "metadata": {},
   "source": [
    "<div style = \"text-align: left\"><font size = 8 color = \"#B22222\" face = \"verdana\"><b>Game of Thrones CHALLENGE</b></font></div>"
   ]
  },
  {
   "cell_type": "markdown",
   "id": "a6e6f5e7",
   "metadata": {},
   "source": [
    "<div style = \"text-align: left\"><font size = 6 color = \"#00008B\" face = \"verdana\"><b>Final Purple Zone Project</b></font></div>\n",
    "<div style = \"text-align: leftt\"><font><i>By 'Olatubosun Osanyinro</i></font></div>\n",
    "<div style = \"text-align: leftt\"><font>15th April 2023</font></div>"
   ]
  },
  {
   "cell_type": "markdown",
   "id": "fc40aa6b",
   "metadata": {},
   "source": [
    "## Data Ingestion"
   ]
  },
  {
   "cell_type": "code",
   "execution_count": 28,
   "id": "3f5fe073",
   "metadata": {},
   "outputs": [
    {
     "data": {
      "text/html": [
       "<style>.container { width:100% !important; }</style>"
      ],
      "text/plain": [
       "<IPython.core.display.HTML object>"
      ]
     },
     "metadata": {},
     "output_type": "display_data"
    }
   ],
   "source": [
    "import pandas as pd\n",
    "import numpy as np\n",
    "import os\n",
    "import time\n",
    "\n",
    "from datetime import datetime\n",
    "from pandas.io.json import json_normalize\n",
    "\n",
    "pd.options.display.max_colwidth = -1\n",
    "\n",
    "# To be used for viewing\n",
    "pd.set_option('expand_frame_repr', True)\n",
    "\n",
    "\n",
    "pd.reset_option('expand_frame_repr')\n",
    "\n",
    "import warnings\n",
    "warnings.simplefilter(action='ignore', category=RuntimeWarning)\n",
    "warnings.simplefilter(action='ignore', category=FutureWarning)\n",
    "warnings.simplefilter(action='ignore', category=UserWarning)\n",
    "warnings.simplefilter(action='ignore', category=DeprecationWarning)\n",
    "\n",
    "pd.set_option(\"display.max_columns\", None)\n",
    "pd.set_option(\"display.max_rows\", None)\n",
    "pd.options.display.max_colwidth = None\n",
    "pd.set_option(\"display.float_format\", lambda x: '%.2f' % x)\n",
    "\n",
    "from IPython.display import display, HTML\n",
    "display(HTML(\"<style>.container { width:100% !important; }</style>\"))"
   ]
  },
  {
   "cell_type": "code",
   "execution_count": 29,
   "id": "36e5fc9c",
   "metadata": {},
   "outputs": [
    {
     "ename": "ModuleNotFoundError",
     "evalue": "No module named 'autogluon'",
     "output_type": "error",
     "traceback": [
      "\u001b[1;31m---------------------------------------------------------------------------\u001b[0m",
      "\u001b[1;31mModuleNotFoundError\u001b[0m                       Traceback (most recent call last)",
      "Cell \u001b[1;32mIn[29], line 2\u001b[0m\n\u001b[0;32m      1\u001b[0m \u001b[38;5;28;01mimport\u001b[39;00m \u001b[38;5;21;01mmatplotlib\u001b[39;00m\u001b[38;5;21;01m.\u001b[39;00m\u001b[38;5;21;01mpyplot\u001b[39;00m \u001b[38;5;28;01mas\u001b[39;00m \u001b[38;5;21;01mplt\u001b[39;00m\n\u001b[1;32m----> 2\u001b[0m \u001b[38;5;28;01mfrom\u001b[39;00m \u001b[38;5;21;01mautogluon\u001b[39;00m\u001b[38;5;21;01m.\u001b[39;00m\u001b[38;5;21;01mtabular\u001b[39;00m \u001b[38;5;28;01mimport\u001b[39;00m TabularDataset, TabularPredictor\n\u001b[0;32m      3\u001b[0m \u001b[38;5;28;01mfrom\u001b[39;00m \u001b[38;5;21;01msklearn\u001b[39;00m\u001b[38;5;21;01m.\u001b[39;00m\u001b[38;5;21;01mpreprocessing\u001b[39;00m \u001b[38;5;28;01mimport\u001b[39;00m LabelEncoder\n\u001b[0;32m      4\u001b[0m \u001b[38;5;28;01mfrom\u001b[39;00m \u001b[38;5;21;01msklearn\u001b[39;00m\u001b[38;5;21;01m.\u001b[39;00m\u001b[38;5;21;01mmodel_selection\u001b[39;00m \u001b[38;5;28;01mimport\u001b[39;00m train_test_split\n",
      "\u001b[1;31mModuleNotFoundError\u001b[0m: No module named 'autogluon'"
     ]
    }
   ],
   "source": [
    "import matplotlib.pyplot as plt\n",
    "from autogluon.tabular import TabularDataset, TabularPredictor\n",
    "from sklearn.preprocessing import LabelEncoder\n",
    "from sklearn.model_selection import train_test_split\n",
    "from sklearn.linear_model import LogisticRegression\n",
    "from sklearn.metrics import classification_report\n",
    "import sklearn.metrics as sm\n",
    "from sklearn.metrics import confusion_matrix"
   ]
  },
  {
   "cell_type": "code",
   "execution_count": 3,
   "id": "ecb99268",
   "metadata": {},
   "outputs": [
    {
     "data": {
      "text/plain": [
       "'C:\\\\Users\\\\User\\\\Documents\\\\workspace_datahackerman\\\\datahackerman_final_project'"
      ]
     },
     "execution_count": 3,
     "metadata": {},
     "output_type": "execute_result"
    }
   ],
   "source": [
    "pwd"
   ]
  },
  {
   "cell_type": "code",
   "execution_count": 4,
   "id": "a6a9fc2d",
   "metadata": {},
   "outputs": [
    {
     "data": {
      "text/plain": [
       "'C:\\\\Users\\\\User\\\\Documents\\\\workspace_datahackerman\\\\datahackerman_final_project'"
      ]
     },
     "execution_count": 4,
     "metadata": {},
     "output_type": "execute_result"
    }
   ],
   "source": [
    "main_path = os.getcwd()\n",
    "main_path"
   ]
  },
  {
   "cell_type": "code",
   "execution_count": 5,
   "id": "bc39e13a",
   "metadata": {},
   "outputs": [
    {
     "data": {
      "text/plain": [
       "['.git',\n",
       " '.gitignore',\n",
       " '.ipynb_checkpoints',\n",
       " 'data',\n",
       " 'Game of Thrones.ipynb',\n",
       " 'models',\n",
       " 'README.md']"
      ]
     },
     "execution_count": 5,
     "metadata": {},
     "output_type": "execute_result"
    }
   ],
   "source": [
    "os.listdir()"
   ]
  },
  {
   "cell_type": "markdown",
   "id": "6864dd0a",
   "metadata": {},
   "source": [
    "## Querying Data"
   ]
  },
  {
   "cell_type": "code",
   "execution_count": 22,
   "id": "b71c56ed",
   "metadata": {},
   "outputs": [],
   "source": [
    "import requests"
   ]
  },
  {
   "cell_type": "code",
   "execution_count": 23,
   "id": "c54e34b6",
   "metadata": {},
   "outputs": [
    {
     "data": {
      "text/plain": [
       "{'books': 'https://anapioficeandfire.com/api/books',\n",
       " 'characters': 'https://anapioficeandfire.com/api/characters',\n",
       " 'houses': 'https://anapioficeandfire.com/api/houses'}"
      ]
     },
     "execution_count": 23,
     "metadata": {},
     "output_type": "execute_result"
    }
   ],
   "source": [
    "api_url = \"http://anapioficeandfire.com/api/\" \n",
    "api_json = requests.get(api_url).json()\n",
    "api_json"
   ]
  },
  {
   "cell_type": "code",
   "execution_count": 24,
   "id": "0a494975",
   "metadata": {},
   "outputs": [],
   "source": [
    "base_url = 'https://anapioficeandfire.com/api/books'\n",
    "books = []\n",
    "\n",
    "\n",
    "while True:\n",
    "    response = requests.get(base_url)\n",
    "    if response.status_code != 200:\n",
    "        print('Failed to retrieve data')\n",
    "        break\n",
    "    results = response.json()\n",
    "    books.extend(results)\n",
    "    next_url = response.headers.get('Link')\n",
    "    if not next_url or 'rel = \"next\"'not in next_url:\n",
    "        break\n",
    "    next_url = next_url.split(';')[0][1:-1]\n",
    "    base_url = next_url"
   ]
  },
  {
   "cell_type": "code",
   "execution_count": 25,
   "id": "8ba52c5f",
   "metadata": {},
   "outputs": [],
   "source": [
    "response = requests.get(base_url)\n",
    "results = response.json()\n",
    "next_url = response.headers.get('Link')"
   ]
  },
  {
   "cell_type": "code",
   "execution_count": 26,
   "id": "ba8fd9bc",
   "metadata": {},
   "outputs": [
    {
     "data": {
      "text/plain": [
       "'<https://anapioficeandfire.com/api/books?page=2&pageSize=10>; rel=\"next\", <https://anapioficeandfire.com/api/books?page=1&pageSize=10>; rel=\"first\", <https://anapioficeandfire.com/api/books?page=2&pageSize=10>; rel=\"last\"'"
      ]
     },
     "execution_count": 26,
     "metadata": {},
     "output_type": "execute_result"
    }
   ],
   "source": [
    "next_url"
   ]
  },
  {
   "cell_type": "code",
   "execution_count": 27,
   "id": "90280bf9",
   "metadata": {},
   "outputs": [
    {
     "name": "stdout",
     "output_type": "stream",
     "text": [
      "Title: A Game of Thrones\n",
      "ISBN: 978-0553103540\n",
      "Authors: George R. R. Martin\n",
      "Number of pages: 694\n",
      "Release date: 1996-08-01T00:00:00\n",
      "\n",
      "Title: A Clash of Kings\n",
      "ISBN: 978-0553108033\n",
      "Authors: George R. R. Martin\n",
      "Number of pages: 768\n",
      "Release date: 1999-02-02T00:00:00\n",
      "\n",
      "Title: A Storm of Swords\n",
      "ISBN: 978-0553106633\n",
      "Authors: George R. R. Martin\n",
      "Number of pages: 992\n",
      "Release date: 2000-10-31T00:00:00\n",
      "\n",
      "Title: The Hedge Knight\n",
      "ISBN: 978-0976401100\n",
      "Authors: George R. R. Martin\n",
      "Number of pages: 164\n",
      "Release date: 2005-03-09T00:00:00\n",
      "\n",
      "Title: A Feast for Crows\n",
      "ISBN: 978-0553801507\n",
      "Authors: George R. R. Martin\n",
      "Number of pages: 784\n",
      "Release date: 2005-11-08T00:00:00\n",
      "\n",
      "Title: The Sworn Sword\n",
      "ISBN: 978-0785126508\n",
      "Authors: George R. R. Martin\n",
      "Number of pages: 152\n",
      "Release date: 2008-06-18T00:00:00\n",
      "\n",
      "Title: The Mystery Knight\n",
      "ISBN: 978-0765360267\n",
      "Authors: George R. R. Martin\n",
      "Number of pages: 416\n",
      "Release date: 2011-03-29T00:00:00\n",
      "\n",
      "Title: A Dance with Dragons\n",
      "ISBN: 978-0553801477\n",
      "Authors: George R. R. Martin\n",
      "Number of pages: 1040\n",
      "Release date: 2011-07-12T00:00:00\n",
      "\n",
      "Title: The Princess and the Queen\n",
      "ISBN: 978-0765332066\n",
      "Authors: George R. R. Martin\n",
      "Number of pages: 784\n",
      "Release date: 2013-12-03T00:00:00\n",
      "\n",
      "Title: The Rogue Prince\n",
      "ISBN: 978-0345537263\n",
      "Authors: George R. R. Martin\n",
      "Number of pages: 832\n",
      "Release date: 2014-06-17T00:00:00\n",
      "\n"
     ]
    }
   ],
   "source": [
    "for book in books:\n",
    "    print(f'Title: {book[\"name\"]}')\n",
    "    print(f'ISBN: {book[\"isbn\"]}')\n",
    "    print(f'Authors: {\";\".join(book[\"authors\"])}')\n",
    "    print(f'Number of pages: {book[\"numberOfPages\"]}')\n",
    "    print(f'Release date: {book[\"released\"]}')\n",
    "    print()"
   ]
  },
  {
   "cell_type": "code",
   "execution_count": 22,
   "id": "16076fb7",
   "metadata": {},
   "outputs": [
    {
     "data": {
      "text/plain": [
       "<Response [200]>"
      ]
     },
     "execution_count": 22,
     "metadata": {},
     "output_type": "execute_result"
    }
   ],
   "source": [
    "url = \"https://www.anapioficeandfire.com/api/books\"\n",
    "results = requests.get(url)\n",
    "results"
   ]
  },
  {
   "cell_type": "code",
   "execution_count": 23,
   "id": "139ef948",
   "metadata": {},
   "outputs": [
    {
     "data": {
      "text/plain": [
       "'https://www.anapioficeandfire.com/api/books'"
      ]
     },
     "execution_count": 23,
     "metadata": {},
     "output_type": "execute_result"
    }
   ],
   "source": [
    "\"https://www.anapioficeandfire.com/api/books\""
   ]
  },
  {
   "cell_type": "code",
   "execution_count": 24,
   "id": "bdef50a3",
   "metadata": {},
   "outputs": [],
   "source": [
    "base_url = \"https://www.anapioficeandfire.com/api/books\"\n",
    "response = requests.get(base_url)\n",
    "results = response.json()"
   ]
  },
  {
   "cell_type": "code",
   "execution_count": 25,
   "id": "ea995f2c",
   "metadata": {},
   "outputs": [
    {
     "name": "stdout",
     "output_type": "stream",
     "text": [
      "[{'url': 'https://www.anapioficeandfire.com/api/books/1', 'name': 'A Game of Thrones', 'isbn': '978-0553103540', 'authors': ['George R. R. Martin'], 'numberOfPages': 694, 'publisher': 'Bantam Books', 'country': 'United States', 'mediaType': 'Hardcover', 'released': '1996-08-01T00:00:00', 'characters': ['https://www.anapioficeandfire.com/api/characters/2', 'https://www.anapioficeandfire.com/api/characters/12', 'https://www.anapioficeandfire.com/api/characters/13', 'https://www.anapioficeandfire.com/api/characters/16', 'https://www.anapioficeandfire.com/api/characters/20', 'https://www.anapioficeandfire.com/api/characters/27', 'https://www.anapioficeandfire.com/api/characters/31', 'https://www.anapioficeandfire.com/api/characters/38', 'https://www.anapioficeandfire.com/api/characters/39', 'https://www.anapioficeandfire.com/api/characters/40', 'https://www.anapioficeandfire.com/api/characters/41', 'https://www.anapioficeandfire.com/api/characters/42', 'https://www.anapioficeandfire.com/api/characters/46', 'https://www.anapioficeandfire.com/api/characters/54', 'https://www.anapioficeandfire.com/api/characters/56', 'https://www.anapioficeandfire.com/api/characters/57', 'https://www.anapioficeandfire.com/api/characters/60', 'https://www.anapioficeandfire.com/api/characters/61', 'https://www.anapioficeandfire.com/api/characters/62', 'https://www.anapioficeandfire.com/api/characters/66', 'https://www.anapioficeandfire.com/api/characters/67', 'https://www.anapioficeandfire.com/api/characters/69', 'https://www.anapioficeandfire.com/api/characters/79', 'https://www.anapioficeandfire.com/api/characters/89', 'https://www.anapioficeandfire.com/api/characters/107', 'https://www.anapioficeandfire.com/api/characters/115', 'https://www.anapioficeandfire.com/api/characters/116', 'https://www.anapioficeandfire.com/api/characters/120', 'https://www.anapioficeandfire.com/api/characters/125', 'https://www.anapioficeandfire.com/api/characters/128', 'https://www.anapioficeandfire.com/api/characters/129', 'https://www.anapioficeandfire.com/api/characters/130', 'https://www.anapioficeandfire.com/api/characters/135', 'https://www.anapioficeandfire.com/api/characters/137', 'https://www.anapioficeandfire.com/api/characters/142', 'https://www.anapioficeandfire.com/api/characters/147', 'https://www.anapioficeandfire.com/api/characters/149', 'https://www.anapioficeandfire.com/api/characters/150', 'https://www.anapioficeandfire.com/api/characters/151', 'https://www.anapioficeandfire.com/api/characters/160', 'https://www.anapioficeandfire.com/api/characters/164', 'https://www.anapioficeandfire.com/api/characters/168', 'https://www.anapioficeandfire.com/api/characters/171', 'https://www.anapioficeandfire.com/api/characters/181', 'https://www.anapioficeandfire.com/api/characters/190', 'https://www.anapioficeandfire.com/api/characters/194', 'https://www.anapioficeandfire.com/api/characters/198', 'https://www.anapioficeandfire.com/api/characters/202', 'https://www.anapioficeandfire.com/api/characters/203', 'https://www.anapioficeandfire.com/api/characters/206', 'https://www.anapioficeandfire.com/api/characters/209', 'https://www.anapioficeandfire.com/api/characters/211', 'https://www.anapioficeandfire.com/api/characters/213', 'https://www.anapioficeandfire.com/api/characters/217', 'https://www.anapioficeandfire.com/api/characters/220', 'https://www.anapioficeandfire.com/api/characters/223', 'https://www.anapioficeandfire.com/api/characters/225', 'https://www.anapioficeandfire.com/api/characters/235', 'https://www.anapioficeandfire.com/api/characters/238', 'https://www.anapioficeandfire.com/api/characters/245', 'https://www.anapioficeandfire.com/api/characters/259', 'https://www.anapioficeandfire.com/api/characters/264', 'https://www.anapioficeandfire.com/api/characters/273', 'https://www.anapioficeandfire.com/api/characters/274', 'https://www.anapioficeandfire.com/api/characters/291', 'https://www.anapioficeandfire.com/api/characters/292', 'https://www.anapioficeandfire.com/api/characters/293', 'https://www.anapioficeandfire.com/api/characters/294', 'https://www.anapioficeandfire.com/api/characters/303', 'https://www.anapioficeandfire.com/api/characters/306', 'https://www.anapioficeandfire.com/api/characters/313', 'https://www.anapioficeandfire.com/api/characters/315', 'https://www.anapioficeandfire.com/api/characters/325', 'https://www.anapioficeandfire.com/api/characters/326', 'https://www.anapioficeandfire.com/api/characters/327', 'https://www.anapioficeandfire.com/api/characters/338', 'https://www.anapioficeandfire.com/api/characters/346', 'https://www.anapioficeandfire.com/api/characters/347', 'https://www.anapioficeandfire.com/api/characters/348', 'https://www.anapioficeandfire.com/api/characters/361', 'https://www.anapioficeandfire.com/api/characters/368', 'https://www.anapioficeandfire.com/api/characters/377', 'https://www.anapioficeandfire.com/api/characters/379', 'https://www.anapioficeandfire.com/api/characters/380', 'https://www.anapioficeandfire.com/api/characters/384', 'https://www.anapioficeandfire.com/api/characters/385', 'https://www.anapioficeandfire.com/api/characters/393', 'https://www.anapioficeandfire.com/api/characters/394', 'https://www.anapioficeandfire.com/api/characters/397', 'https://www.anapioficeandfire.com/api/characters/400', 'https://www.anapioficeandfire.com/api/characters/401', 'https://www.anapioficeandfire.com/api/characters/405', 'https://www.anapioficeandfire.com/api/characters/408', 'https://www.anapioficeandfire.com/api/characters/413', 'https://www.anapioficeandfire.com/api/characters/415', 'https://www.anapioficeandfire.com/api/characters/418', 'https://www.anapioficeandfire.com/api/characters/421', 'https://www.anapioficeandfire.com/api/characters/427', 'https://www.anapioficeandfire.com/api/characters/435', 'https://www.anapioficeandfire.com/api/characters/439', 'https://www.anapioficeandfire.com/api/characters/458', 'https://www.anapioficeandfire.com/api/characters/461', 'https://www.anapioficeandfire.com/api/characters/463', 'https://www.anapioficeandfire.com/api/characters/466', 'https://www.anapioficeandfire.com/api/characters/467', 'https://www.anapioficeandfire.com/api/characters/475', 'https://www.anapioficeandfire.com/api/characters/476', 'https://www.anapioficeandfire.com/api/characters/484', 'https://www.anapioficeandfire.com/api/characters/487', 'https://www.anapioficeandfire.com/api/characters/490', 'https://www.anapioficeandfire.com/api/characters/494', 'https://www.anapioficeandfire.com/api/characters/496', 'https://www.anapioficeandfire.com/api/characters/498', 'https://www.anapioficeandfire.com/api/characters/501', 'https://www.anapioficeandfire.com/api/characters/503', 'https://www.anapioficeandfire.com/api/characters/506', 'https://www.anapioficeandfire.com/api/characters/508', 'https://www.anapioficeandfire.com/api/characters/519', 'https://www.anapioficeandfire.com/api/characters/521', 'https://www.anapioficeandfire.com/api/characters/526', 'https://www.anapioficeandfire.com/api/characters/527', 'https://www.anapioficeandfire.com/api/characters/529', 'https://www.anapioficeandfire.com/api/characters/531', 'https://www.anapioficeandfire.com/api/characters/532', 'https://www.anapioficeandfire.com/api/characters/533', 'https://www.anapioficeandfire.com/api/characters/535', 'https://www.anapioficeandfire.com/api/characters/536', 'https://www.anapioficeandfire.com/api/characters/539', 'https://www.anapioficeandfire.com/api/characters/547', 'https://www.anapioficeandfire.com/api/characters/557', 'https://www.anapioficeandfire.com/api/characters/558', 'https://www.anapioficeandfire.com/api/characters/562', 'https://www.anapioficeandfire.com/api/characters/565', 'https://www.anapioficeandfire.com/api/characters/572', 'https://www.anapioficeandfire.com/api/characters/584', 'https://www.anapioficeandfire.com/api/characters/585', 'https://www.anapioficeandfire.com/api/characters/586', 'https://www.anapioficeandfire.com/api/characters/588', 'https://www.anapioficeandfire.com/api/characters/595', 'https://www.anapioficeandfire.com/api/characters/600', 'https://www.anapioficeandfire.com/api/characters/604', 'https://www.anapioficeandfire.com/api/characters/605', 'https://www.anapioficeandfire.com/api/characters/613', 'https://www.anapioficeandfire.com/api/characters/615', 'https://www.anapioficeandfire.com/api/characters/622', 'https://www.anapioficeandfire.com/api/characters/631', 'https://www.anapioficeandfire.com/api/characters/632', 'https://www.anapioficeandfire.com/api/characters/635', 'https://www.anapioficeandfire.com/api/characters/640', 'https://www.anapioficeandfire.com/api/characters/649', 'https://www.anapioficeandfire.com/api/characters/650', 'https://www.anapioficeandfire.com/api/characters/651', 'https://www.anapioficeandfire.com/api/characters/672', 'https://www.anapioficeandfire.com/api/characters/677', 'https://www.anapioficeandfire.com/api/characters/688', 'https://www.anapioficeandfire.com/api/characters/691', 'https://www.anapioficeandfire.com/api/characters/692', 'https://www.anapioficeandfire.com/api/characters/694', 'https://www.anapioficeandfire.com/api/characters/695', 'https://www.anapioficeandfire.com/api/characters/701', 'https://www.anapioficeandfire.com/api/characters/709', 'https://www.anapioficeandfire.com/api/characters/714', 'https://www.anapioficeandfire.com/api/characters/718', 'https://www.anapioficeandfire.com/api/characters/721', 'https://www.anapioficeandfire.com/api/characters/724', 'https://www.anapioficeandfire.com/api/characters/725', 'https://www.anapioficeandfire.com/api/characters/731', 'https://www.anapioficeandfire.com/api/characters/734', 'https://www.anapioficeandfire.com/api/characters/749', 'https://www.anapioficeandfire.com/api/characters/751', 'https://www.anapioficeandfire.com/api/characters/752', 'https://www.anapioficeandfire.com/api/characters/754', 'https://www.anapioficeandfire.com/api/characters/755', 'https://www.anapioficeandfire.com/api/characters/759', 'https://www.anapioficeandfire.com/api/characters/766', 'https://www.anapioficeandfire.com/api/characters/768', 'https://www.anapioficeandfire.com/api/characters/775', 'https://www.anapioficeandfire.com/api/characters/778', 'https://www.anapioficeandfire.com/api/characters/779', 'https://www.anapioficeandfire.com/api/characters/782', 'https://www.anapioficeandfire.com/api/characters/784', 'https://www.anapioficeandfire.com/api/characters/786', 'https://www.anapioficeandfire.com/api/characters/797', 'https://www.anapioficeandfire.com/api/characters/805', 'https://www.anapioficeandfire.com/api/characters/806', 'https://www.anapioficeandfire.com/api/characters/814', 'https://www.anapioficeandfire.com/api/characters/815', 'https://www.anapioficeandfire.com/api/characters/820', 'https://www.anapioficeandfire.com/api/characters/823', 'https://www.anapioficeandfire.com/api/characters/827', 'https://www.anapioficeandfire.com/api/characters/828', 'https://www.anapioficeandfire.com/api/characters/829', 'https://www.anapioficeandfire.com/api/characters/832', 'https://www.anapioficeandfire.com/api/characters/837', 'https://www.anapioficeandfire.com/api/characters/844', 'https://www.anapioficeandfire.com/api/characters/850', 'https://www.anapioficeandfire.com/api/characters/852', 'https://www.anapioficeandfire.com/api/characters/860', 'https://www.anapioficeandfire.com/api/characters/862', 'https://www.anapioficeandfire.com/api/characters/867', 'https://www.anapioficeandfire.com/api/characters/869', 'https://www.anapioficeandfire.com/api/characters/876', 'https://www.anapioficeandfire.com/api/characters/884', 'https://www.anapioficeandfire.com/api/characters/886', 'https://www.anapioficeandfire.com/api/characters/887', 'https://www.anapioficeandfire.com/api/characters/891', 'https://www.anapioficeandfire.com/api/characters/892', 'https://www.anapioficeandfire.com/api/characters/894', 'https://www.anapioficeandfire.com/api/characters/901', 'https://www.anapioficeandfire.com/api/characters/903', 'https://www.anapioficeandfire.com/api/characters/909', 'https://www.anapioficeandfire.com/api/characters/912', 'https://www.anapioficeandfire.com/api/characters/913', 'https://www.anapioficeandfire.com/api/characters/916', 'https://www.anapioficeandfire.com/api/characters/933', 'https://www.anapioficeandfire.com/api/characters/945', 'https://www.anapioficeandfire.com/api/characters/954', 'https://www.anapioficeandfire.com/api/characters/955', 'https://www.anapioficeandfire.com/api/characters/969', 'https://www.anapioficeandfire.com/api/characters/972', 'https://www.anapioficeandfire.com/api/characters/975', 'https://www.anapioficeandfire.com/api/characters/983', 'https://www.anapioficeandfire.com/api/characters/984', 'https://www.anapioficeandfire.com/api/characters/994', 'https://www.anapioficeandfire.com/api/characters/1010', 'https://www.anapioficeandfire.com/api/characters/1017', 'https://www.anapioficeandfire.com/api/characters/1022', 'https://www.anapioficeandfire.com/api/characters/1023', 'https://www.anapioficeandfire.com/api/characters/1025', 'https://www.anapioficeandfire.com/api/characters/1029', 'https://www.anapioficeandfire.com/api/characters/1033', 'https://www.anapioficeandfire.com/api/characters/1034', 'https://www.anapioficeandfire.com/api/characters/1043', 'https://www.anapioficeandfire.com/api/characters/1044', 'https://www.anapioficeandfire.com/api/characters/1049', 'https://www.anapioficeandfire.com/api/characters/1051', 'https://www.anapioficeandfire.com/api/characters/1055', 'https://www.anapioficeandfire.com/api/characters/1063', 'https://www.anapioficeandfire.com/api/characters/1068', 'https://www.anapioficeandfire.com/api/characters/1069', 'https://www.anapioficeandfire.com/api/characters/1072', 'https://www.anapioficeandfire.com/api/characters/1074', 'https://www.anapioficeandfire.com/api/characters/1076', 'https://www.anapioficeandfire.com/api/characters/1077', 'https://www.anapioficeandfire.com/api/characters/1079', 'https://www.anapioficeandfire.com/api/characters/1080', 'https://www.anapioficeandfire.com/api/characters/1089', 'https://www.anapioficeandfire.com/api/characters/1090', 'https://www.anapioficeandfire.com/api/characters/1091', 'https://www.anapioficeandfire.com/api/characters/1093', 'https://www.anapioficeandfire.com/api/characters/1096', 'https://www.anapioficeandfire.com/api/characters/1104', 'https://www.anapioficeandfire.com/api/characters/1106', 'https://www.anapioficeandfire.com/api/characters/1107', 'https://www.anapioficeandfire.com/api/characters/1110', 'https://www.anapioficeandfire.com/api/characters/1113', 'https://www.anapioficeandfire.com/api/characters/1114', 'https://www.anapioficeandfire.com/api/characters/1116', 'https://www.anapioficeandfire.com/api/characters/1120', 'https://www.anapioficeandfire.com/api/characters/1122', 'https://www.anapioficeandfire.com/api/characters/1124', 'https://www.anapioficeandfire.com/api/characters/1131', 'https://www.anapioficeandfire.com/api/characters/1132', 'https://www.anapioficeandfire.com/api/characters/1140', 'https://www.anapioficeandfire.com/api/characters/1142', 'https://www.anapioficeandfire.com/api/characters/1147', 'https://www.anapioficeandfire.com/api/characters/1152', 'https://www.anapioficeandfire.com/api/characters/1158', 'https://www.anapioficeandfire.com/api/characters/1165', 'https://www.anapioficeandfire.com/api/characters/1166', 'https://www.anapioficeandfire.com/api/characters/1178', 'https://www.anapioficeandfire.com/api/characters/1188', 'https://www.anapioficeandfire.com/api/characters/1193', 'https://www.anapioficeandfire.com/api/characters/1214', 'https://www.anapioficeandfire.com/api/characters/1219', 'https://www.anapioficeandfire.com/api/characters/1228', 'https://www.anapioficeandfire.com/api/characters/1245', 'https://www.anapioficeandfire.com/api/characters/1247', 'https://www.anapioficeandfire.com/api/characters/1253', 'https://www.anapioficeandfire.com/api/characters/1260', 'https://www.anapioficeandfire.com/api/characters/1262', 'https://www.anapioficeandfire.com/api/characters/1265', 'https://www.anapioficeandfire.com/api/characters/1266', 'https://www.anapioficeandfire.com/api/characters/1267', 'https://www.anapioficeandfire.com/api/characters/1268', 'https://www.anapioficeandfire.com/api/characters/1269', 'https://www.anapioficeandfire.com/api/characters/1275', 'https://www.anapioficeandfire.com/api/characters/1277', 'https://www.anapioficeandfire.com/api/characters/1278', 'https://www.anapioficeandfire.com/api/characters/1280', 'https://www.anapioficeandfire.com/api/characters/1282', 'https://www.anapioficeandfire.com/api/characters/1284', 'https://www.anapioficeandfire.com/api/characters/1289', 'https://www.anapioficeandfire.com/api/characters/1296', 'https://www.anapioficeandfire.com/api/characters/1299', 'https://www.anapioficeandfire.com/api/characters/1304', 'https://www.anapioficeandfire.com/api/characters/1317', 'https://www.anapioficeandfire.com/api/characters/1326', 'https://www.anapioficeandfire.com/api/characters/1333', 'https://www.anapioficeandfire.com/api/characters/1335', 'https://www.anapioficeandfire.com/api/characters/1336', 'https://www.anapioficeandfire.com/api/characters/1340', 'https://www.anapioficeandfire.com/api/characters/1346', 'https://www.anapioficeandfire.com/api/characters/1352', 'https://www.anapioficeandfire.com/api/characters/1355', 'https://www.anapioficeandfire.com/api/characters/1373', 'https://www.anapioficeandfire.com/api/characters/1383', 'https://www.anapioficeandfire.com/api/characters/1389', 'https://www.anapioficeandfire.com/api/characters/1396', 'https://www.anapioficeandfire.com/api/characters/1409', 'https://www.anapioficeandfire.com/api/characters/1410', 'https://www.anapioficeandfire.com/api/characters/1418', 'https://www.anapioficeandfire.com/api/characters/1430', 'https://www.anapioficeandfire.com/api/characters/1434', 'https://www.anapioficeandfire.com/api/characters/1442', 'https://www.anapioficeandfire.com/api/characters/1444', 'https://www.anapioficeandfire.com/api/characters/1453', 'https://www.anapioficeandfire.com/api/characters/1455', 'https://www.anapioficeandfire.com/api/characters/1456', 'https://www.anapioficeandfire.com/api/characters/1463', 'https://www.anapioficeandfire.com/api/characters/1466', 'https://www.anapioficeandfire.com/api/characters/1468', 'https://www.anapioficeandfire.com/api/characters/1470', 'https://www.anapioficeandfire.com/api/characters/1488', 'https://www.anapioficeandfire.com/api/characters/1499', 'https://www.anapioficeandfire.com/api/characters/1502', 'https://www.anapioficeandfire.com/api/characters/1515', 'https://www.anapioficeandfire.com/api/characters/1520', 'https://www.anapioficeandfire.com/api/characters/1523', 'https://www.anapioficeandfire.com/api/characters/1526', 'https://www.anapioficeandfire.com/api/characters/1529', 'https://www.anapioficeandfire.com/api/characters/1530', 'https://www.anapioficeandfire.com/api/characters/1531', 'https://www.anapioficeandfire.com/api/characters/1540', 'https://www.anapioficeandfire.com/api/characters/1547', 'https://www.anapioficeandfire.com/api/characters/1548', 'https://www.anapioficeandfire.com/api/characters/1549', 'https://www.anapioficeandfire.com/api/characters/1551', 'https://www.anapioficeandfire.com/api/characters/1559', 'https://www.anapioficeandfire.com/api/characters/1560', 'https://www.anapioficeandfire.com/api/characters/1565', 'https://www.anapioficeandfire.com/api/characters/1566', 'https://www.anapioficeandfire.com/api/characters/1568', 'https://www.anapioficeandfire.com/api/characters/1570', 'https://www.anapioficeandfire.com/api/characters/1573', 'https://www.anapioficeandfire.com/api/characters/1585', 'https://www.anapioficeandfire.com/api/characters/1596', 'https://www.anapioficeandfire.com/api/characters/1602', 'https://www.anapioficeandfire.com/api/characters/1620', 'https://www.anapioficeandfire.com/api/characters/1624', 'https://www.anapioficeandfire.com/api/characters/1627', 'https://www.anapioficeandfire.com/api/characters/1631', 'https://www.anapioficeandfire.com/api/characters/1649', 'https://www.anapioficeandfire.com/api/characters/1650', 'https://www.anapioficeandfire.com/api/characters/1660', 'https://www.anapioficeandfire.com/api/characters/1662', 'https://www.anapioficeandfire.com/api/characters/1665', 'https://www.anapioficeandfire.com/api/characters/1666', 'https://www.anapioficeandfire.com/api/characters/1670', 'https://www.anapioficeandfire.com/api/characters/1674', 'https://www.anapioficeandfire.com/api/characters/1675', 'https://www.anapioficeandfire.com/api/characters/1677', 'https://www.anapioficeandfire.com/api/characters/1682', 'https://www.anapioficeandfire.com/api/characters/1697', 'https://www.anapioficeandfire.com/api/characters/1706', 'https://www.anapioficeandfire.com/api/characters/1708', 'https://www.anapioficeandfire.com/api/characters/1710', 'https://www.anapioficeandfire.com/api/characters/1713', 'https://www.anapioficeandfire.com/api/characters/1715', 'https://www.anapioficeandfire.com/api/characters/1717', 'https://www.anapioficeandfire.com/api/characters/1721', 'https://www.anapioficeandfire.com/api/characters/1724', 'https://www.anapioficeandfire.com/api/characters/1725', 'https://www.anapioficeandfire.com/api/characters/1727', 'https://www.anapioficeandfire.com/api/characters/1741', 'https://www.anapioficeandfire.com/api/characters/1742', 'https://www.anapioficeandfire.com/api/characters/1749', 'https://www.anapioficeandfire.com/api/characters/1755', 'https://www.anapioficeandfire.com/api/characters/1770', 'https://www.anapioficeandfire.com/api/characters/1772', 'https://www.anapioficeandfire.com/api/characters/1787', 'https://www.anapioficeandfire.com/api/characters/1790', 'https://www.anapioficeandfire.com/api/characters/1802', 'https://www.anapioficeandfire.com/api/characters/1815', 'https://www.anapioficeandfire.com/api/characters/1816', 'https://www.anapioficeandfire.com/api/characters/1826', 'https://www.anapioficeandfire.com/api/characters/1837', 'https://www.anapioficeandfire.com/api/characters/1838', 'https://www.anapioficeandfire.com/api/characters/1840', 'https://www.anapioficeandfire.com/api/characters/1843', 'https://www.anapioficeandfire.com/api/characters/1855', 'https://www.anapioficeandfire.com/api/characters/1856', 'https://www.anapioficeandfire.com/api/characters/1861', 'https://www.anapioficeandfire.com/api/characters/1873', 'https://www.anapioficeandfire.com/api/characters/1874', 'https://www.anapioficeandfire.com/api/characters/1875', 'https://www.anapioficeandfire.com/api/characters/1880', 'https://www.anapioficeandfire.com/api/characters/1882', 'https://www.anapioficeandfire.com/api/characters/1900', 'https://www.anapioficeandfire.com/api/characters/1909', 'https://www.anapioficeandfire.com/api/characters/1911', 'https://www.anapioficeandfire.com/api/characters/1916', 'https://www.anapioficeandfire.com/api/characters/1935', 'https://www.anapioficeandfire.com/api/characters/1938', 'https://www.anapioficeandfire.com/api/characters/1939', 'https://www.anapioficeandfire.com/api/characters/1942', 'https://www.anapioficeandfire.com/api/characters/1963', 'https://www.anapioficeandfire.com/api/characters/1968', 'https://www.anapioficeandfire.com/api/characters/1976', 'https://www.anapioficeandfire.com/api/characters/1979', 'https://www.anapioficeandfire.com/api/characters/1997', 'https://www.anapioficeandfire.com/api/characters/2002', 'https://www.anapioficeandfire.com/api/characters/2008', 'https://www.anapioficeandfire.com/api/characters/2009', 'https://www.anapioficeandfire.com/api/characters/2013', 'https://www.anapioficeandfire.com/api/characters/2014', 'https://www.anapioficeandfire.com/api/characters/2020', 'https://www.anapioficeandfire.com/api/characters/2025', 'https://www.anapioficeandfire.com/api/characters/2029', 'https://www.anapioficeandfire.com/api/characters/2044', 'https://www.anapioficeandfire.com/api/characters/2045', 'https://www.anapioficeandfire.com/api/characters/2047', 'https://www.anapioficeandfire.com/api/characters/2051', 'https://www.anapioficeandfire.com/api/characters/2059', 'https://www.anapioficeandfire.com/api/characters/2067', 'https://www.anapioficeandfire.com/api/characters/2068', 'https://www.anapioficeandfire.com/api/characters/2069', 'https://www.anapioficeandfire.com/api/characters/2071', 'https://www.anapioficeandfire.com/api/characters/2073', 'https://www.anapioficeandfire.com/api/characters/2076', 'https://www.anapioficeandfire.com/api/characters/2089', 'https://www.anapioficeandfire.com/api/characters/2114', 'https://www.anapioficeandfire.com/api/characters/2119', 'https://www.anapioficeandfire.com/api/characters/2121'], 'povCharacters': ['https://www.anapioficeandfire.com/api/characters/148', 'https://www.anapioficeandfire.com/api/characters/208', 'https://www.anapioficeandfire.com/api/characters/232', 'https://www.anapioficeandfire.com/api/characters/339', 'https://www.anapioficeandfire.com/api/characters/583', 'https://www.anapioficeandfire.com/api/characters/957', 'https://www.anapioficeandfire.com/api/characters/1052', 'https://www.anapioficeandfire.com/api/characters/1109', 'https://www.anapioficeandfire.com/api/characters/1303']}, {'url': 'https://www.anapioficeandfire.com/api/books/2', 'name': 'A Clash of Kings', 'isbn': '978-0553108033', 'authors': ['George R. R. Martin'], 'numberOfPages': 768, 'publisher': 'Bantam Books', 'country': 'United States', 'mediaType': 'Hardback', 'released': '1999-02-02T00:00:00', 'characters': ['https://www.anapioficeandfire.com/api/characters/2', 'https://www.anapioficeandfire.com/api/characters/12', 'https://www.anapioficeandfire.com/api/characters/13', 'https://www.anapioficeandfire.com/api/characters/16', 'https://www.anapioficeandfire.com/api/characters/20', 'https://www.anapioficeandfire.com/api/characters/23', 'https://www.anapioficeandfire.com/api/characters/27', 'https://www.anapioficeandfire.com/api/characters/31', 'https://www.anapioficeandfire.com/api/characters/36', 'https://www.anapioficeandfire.com/api/characters/37', 'https://www.anapioficeandfire.com/api/characters/38', 'https://www.anapioficeandfire.com/api/characters/42', 'https://www.anapioficeandfire.com/api/characters/46', 'https://www.anapioficeandfire.com/api/characters/52', 'https://www.anapioficeandfire.com/api/characters/53', 'https://www.anapioficeandfire.com/api/characters/54', 'https://www.anapioficeandfire.com/api/characters/56', 'https://www.anapioficeandfire.com/api/characters/58', 'https://www.anapioficeandfire.com/api/characters/60', 'https://www.anapioficeandfire.com/api/characters/62', 'https://www.anapioficeandfire.com/api/characters/64', 'https://www.anapioficeandfire.com/api/characters/66', 'https://www.anapioficeandfire.com/api/characters/67', 'https://www.anapioficeandfire.com/api/characters/68', 'https://www.anapioficeandfire.com/api/characters/69', 'https://www.anapioficeandfire.com/api/characters/70', 'https://www.anapioficeandfire.com/api/characters/71', 'https://www.anapioficeandfire.com/api/characters/72', 'https://www.anapioficeandfire.com/api/characters/73', 'https://www.anapioficeandfire.com/api/characters/78', 'https://www.anapioficeandfire.com/api/characters/79', 'https://www.anapioficeandfire.com/api/characters/82', 'https://www.anapioficeandfire.com/api/characters/85', 'https://www.anapioficeandfire.com/api/characters/86', 'https://www.anapioficeandfire.com/api/characters/87', 'https://www.anapioficeandfire.com/api/characters/89', 'https://www.anapioficeandfire.com/api/characters/95', 'https://www.anapioficeandfire.com/api/characters/108', 'https://www.anapioficeandfire.com/api/characters/111', 'https://www.anapioficeandfire.com/api/characters/112', 'https://www.anapioficeandfire.com/api/characters/114', 'https://www.anapioficeandfire.com/api/characters/115', 'https://www.anapioficeandfire.com/api/characters/116', 'https://www.anapioficeandfire.com/api/characters/118', 'https://www.anapioficeandfire.com/api/characters/119', 'https://www.anapioficeandfire.com/api/characters/122', 'https://www.anapioficeandfire.com/api/characters/123', 'https://www.anapioficeandfire.com/api/characters/124', 'https://www.anapioficeandfire.com/api/characters/125', 'https://www.anapioficeandfire.com/api/characters/127', 'https://www.anapioficeandfire.com/api/characters/130', 'https://www.anapioficeandfire.com/api/characters/135', 'https://www.anapioficeandfire.com/api/characters/142', 'https://www.anapioficeandfire.com/api/characters/143', 'https://www.anapioficeandfire.com/api/characters/145', 'https://www.anapioficeandfire.com/api/characters/146', 'https://www.anapioficeandfire.com/api/characters/147', 'https://www.anapioficeandfire.com/api/characters/149', 'https://www.anapioficeandfire.com/api/characters/150', 'https://www.anapioficeandfire.com/api/characters/151', 'https://www.anapioficeandfire.com/api/characters/153', 'https://www.anapioficeandfire.com/api/characters/158', 'https://www.anapioficeandfire.com/api/characters/164', 'https://www.anapioficeandfire.com/api/characters/167', 'https://www.anapioficeandfire.com/api/characters/168', 'https://www.anapioficeandfire.com/api/characters/170', 'https://www.anapioficeandfire.com/api/characters/173', 'https://www.anapioficeandfire.com/api/characters/177', 'https://www.anapioficeandfire.com/api/characters/179', 'https://www.anapioficeandfire.com/api/characters/180', 'https://www.anapioficeandfire.com/api/characters/181', 'https://www.anapioficeandfire.com/api/characters/182', 'https://www.anapioficeandfire.com/api/characters/183', 'https://www.anapioficeandfire.com/api/characters/187', 'https://www.anapioficeandfire.com/api/characters/188', 'https://www.anapioficeandfire.com/api/characters/189', 'https://www.anapioficeandfire.com/api/characters/190', 'https://www.anapioficeandfire.com/api/characters/192', 'https://www.anapioficeandfire.com/api/characters/194', 'https://www.anapioficeandfire.com/api/characters/199', 'https://www.anapioficeandfire.com/api/characters/200', 'https://www.anapioficeandfire.com/api/characters/202', 'https://www.anapioficeandfire.com/api/characters/203', 'https://www.anapioficeandfire.com/api/characters/204', 'https://www.anapioficeandfire.com/api/characters/206', 'https://www.anapioficeandfire.com/api/characters/207', 'https://www.anapioficeandfire.com/api/characters/209', 'https://www.anapioficeandfire.com/api/characters/210', 'https://www.anapioficeandfire.com/api/characters/211', 'https://www.anapioficeandfire.com/api/characters/212', 'https://www.anapioficeandfire.com/api/characters/213', 'https://www.anapioficeandfire.com/api/characters/214', 'https://www.anapioficeandfire.com/api/characters/216', 'https://www.anapioficeandfire.com/api/characters/217', 'https://www.anapioficeandfire.com/api/characters/218', 'https://www.anapioficeandfire.com/api/characters/219', 'https://www.anapioficeandfire.com/api/characters/220', 'https://www.anapioficeandfire.com/api/characters/222', 'https://www.anapioficeandfire.com/api/characters/223', 'https://www.anapioficeandfire.com/api/characters/225', 'https://www.anapioficeandfire.com/api/characters/228', 'https://www.anapioficeandfire.com/api/characters/230', 'https://www.anapioficeandfire.com/api/characters/235', 'https://www.anapioficeandfire.com/api/characters/237', 'https://www.anapioficeandfire.com/api/characters/238', 'https://www.anapioficeandfire.com/api/characters/247', 'https://www.anapioficeandfire.com/api/characters/249', 'https://www.anapioficeandfire.com/api/characters/250', 'https://www.anapioficeandfire.com/api/characters/251', 'https://www.anapioficeandfire.com/api/characters/252', 'https://www.anapioficeandfire.com/api/characters/254', 'https://www.anapioficeandfire.com/api/characters/259', 'https://www.anapioficeandfire.com/api/characters/262', 'https://www.anapioficeandfire.com/api/characters/263', 'https://www.anapioficeandfire.com/api/characters/264', 'https://www.anapioficeandfire.com/api/characters/274', 'https://www.anapioficeandfire.com/api/characters/276', 'https://www.anapioficeandfire.com/api/characters/280', 'https://www.anapioficeandfire.com/api/characters/286', 'https://www.anapioficeandfire.com/api/characters/288', 'https://www.anapioficeandfire.com/api/characters/291', 'https://www.anapioficeandfire.com/api/characters/292', 'https://www.anapioficeandfire.com/api/characters/293', 'https://www.anapioficeandfire.com/api/characters/294', 'https://www.anapioficeandfire.com/api/characters/295', 'https://www.anapioficeandfire.com/api/characters/296', 'https://www.anapioficeandfire.com/api/characters/297', 'https://www.anapioficeandfire.com/api/characters/303', 'https://www.anapioficeandfire.com/api/characters/306', 'https://www.anapioficeandfire.com/api/characters/308', 'https://www.anapioficeandfire.com/api/characters/311', 'https://www.anapioficeandfire.com/api/characters/314', 'https://www.anapioficeandfire.com/api/characters/315', 'https://www.anapioficeandfire.com/api/characters/317', 'https://www.anapioficeandfire.com/api/characters/320', 'https://www.anapioficeandfire.com/api/characters/321', 'https://www.anapioficeandfire.com/api/characters/322', 'https://www.anapioficeandfire.com/api/characters/323', 'https://www.anapioficeandfire.com/api/characters/324', 'https://www.anapioficeandfire.com/api/characters/325', 'https://www.anapioficeandfire.com/api/characters/326', 'https://www.anapioficeandfire.com/api/characters/327', 'https://www.anapioficeandfire.com/api/characters/328', 'https://www.anapioficeandfire.com/api/characters/331', 'https://www.anapioficeandfire.com/api/characters/332', 'https://www.anapioficeandfire.com/api/characters/333', 'https://www.anapioficeandfire.com/api/characters/335', 'https://www.anapioficeandfire.com/api/characters/336', 'https://www.anapioficeandfire.com/api/characters/337', 'https://www.anapioficeandfire.com/api/characters/338', 'https://www.anapioficeandfire.com/api/characters/339', 'https://www.anapioficeandfire.com/api/characters/340', 'https://www.anapioficeandfire.com/api/characters/341', 'https://www.anapioficeandfire.com/api/characters/346', 'https://www.anapioficeandfire.com/api/characters/348', 'https://www.anapioficeandfire.com/api/characters/349', 'https://www.anapioficeandfire.com/api/characters/350', 'https://www.anapioficeandfire.com/api/characters/351', 'https://www.anapioficeandfire.com/api/characters/352', 'https://www.anapioficeandfire.com/api/characters/354', 'https://www.anapioficeandfire.com/api/characters/356', 'https://www.anapioficeandfire.com/api/characters/357', 'https://www.anapioficeandfire.com/api/characters/361', 'https://www.anapioficeandfire.com/api/characters/368', 'https://www.anapioficeandfire.com/api/characters/369', 'https://www.anapioficeandfire.com/api/characters/370', 'https://www.anapioficeandfire.com/api/characters/371', 'https://www.anapioficeandfire.com/api/characters/375', 'https://www.anapioficeandfire.com/api/characters/376', 'https://www.anapioficeandfire.com/api/characters/377', 'https://www.anapioficeandfire.com/api/characters/379', 'https://www.anapioficeandfire.com/api/characters/380', 'https://www.anapioficeandfire.com/api/characters/381', 'https://www.anapioficeandfire.com/api/characters/382', 'https://www.anapioficeandfire.com/api/characters/383', 'https://www.anapioficeandfire.com/api/characters/384', 'https://www.anapioficeandfire.com/api/characters/385', 'https://www.anapioficeandfire.com/api/characters/389', 'https://www.anapioficeandfire.com/api/characters/392', 'https://www.anapioficeandfire.com/api/characters/393', 'https://www.anapioficeandfire.com/api/characters/394', 'https://www.anapioficeandfire.com/api/characters/397', 'https://www.anapioficeandfire.com/api/characters/400', 'https://www.anapioficeandfire.com/api/characters/401', 'https://www.anapioficeandfire.com/api/characters/404', 'https://www.anapioficeandfire.com/api/characters/408', 'https://www.anapioficeandfire.com/api/characters/411', 'https://www.anapioficeandfire.com/api/characters/413', 'https://www.anapioficeandfire.com/api/characters/414', 'https://www.anapioficeandfire.com/api/characters/415', 'https://www.anapioficeandfire.com/api/characters/417', 'https://www.anapioficeandfire.com/api/characters/418', 'https://www.anapioficeandfire.com/api/characters/421', 'https://www.anapioficeandfire.com/api/characters/423', 'https://www.anapioficeandfire.com/api/characters/434', 'https://www.anapioficeandfire.com/api/characters/439', 'https://www.anapioficeandfire.com/api/characters/442', 'https://www.anapioficeandfire.com/api/characters/443', 'https://www.anapioficeandfire.com/api/characters/446', 'https://www.anapioficeandfire.com/api/characters/458', 'https://www.anapioficeandfire.com/api/characters/461', 'https://www.anapioficeandfire.com/api/characters/462', 'https://www.anapioficeandfire.com/api/characters/463', 'https://www.anapioficeandfire.com/api/characters/475', 'https://www.anapioficeandfire.com/api/characters/476', 'https://www.anapioficeandfire.com/api/characters/486', 'https://www.anapioficeandfire.com/api/characters/487', 'https://www.anapioficeandfire.com/api/characters/490', 'https://www.anapioficeandfire.com/api/characters/496', 'https://www.anapioficeandfire.com/api/characters/498', 'https://www.anapioficeandfire.com/api/characters/500', 'https://www.anapioficeandfire.com/api/characters/501', 'https://www.anapioficeandfire.com/api/characters/502', 'https://www.anapioficeandfire.com/api/characters/503', 'https://www.anapioficeandfire.com/api/characters/504', 'https://www.anapioficeandfire.com/api/characters/506', 'https://www.anapioficeandfire.com/api/characters/507', 'https://www.anapioficeandfire.com/api/characters/519', 'https://www.anapioficeandfire.com/api/characters/521', 'https://www.anapioficeandfire.com/api/characters/522', 'https://www.anapioficeandfire.com/api/characters/523', 'https://www.anapioficeandfire.com/api/characters/529', 'https://www.anapioficeandfire.com/api/characters/530', 'https://www.anapioficeandfire.com/api/characters/531', 'https://www.anapioficeandfire.com/api/characters/532', 'https://www.anapioficeandfire.com/api/characters/533', 'https://www.anapioficeandfire.com/api/characters/534', 'https://www.anapioficeandfire.com/api/characters/535', 'https://www.anapioficeandfire.com/api/characters/536', 'https://www.anapioficeandfire.com/api/characters/537', 'https://www.anapioficeandfire.com/api/characters/539', 'https://www.anapioficeandfire.com/api/characters/544', 'https://www.anapioficeandfire.com/api/characters/547', 'https://www.anapioficeandfire.com/api/characters/549', 'https://www.anapioficeandfire.com/api/characters/553', 'https://www.anapioficeandfire.com/api/characters/555', 'https://www.anapioficeandfire.com/api/characters/557', 'https://www.anapioficeandfire.com/api/characters/562', 'https://www.anapioficeandfire.com/api/characters/565', 'https://www.anapioficeandfire.com/api/characters/571', 'https://www.anapioficeandfire.com/api/characters/572', 'https://www.anapioficeandfire.com/api/characters/574', 'https://www.anapioficeandfire.com/api/characters/577', 'https://www.anapioficeandfire.com/api/characters/585', 'https://www.anapioficeandfire.com/api/characters/586', 'https://www.anapioficeandfire.com/api/characters/587', 'https://www.anapioficeandfire.com/api/characters/589', 'https://www.anapioficeandfire.com/api/characters/590', 'https://www.anapioficeandfire.com/api/characters/591', 'https://www.anapioficeandfire.com/api/characters/593', 'https://www.anapioficeandfire.com/api/characters/595', 'https://www.anapioficeandfire.com/api/characters/597', 'https://www.anapioficeandfire.com/api/characters/598', 'https://www.anapioficeandfire.com/api/characters/600', 'https://www.anapioficeandfire.com/api/characters/602', 'https://www.anapioficeandfire.com/api/characters/604', 'https://www.anapioficeandfire.com/api/characters/605', 'https://www.anapioficeandfire.com/api/characters/608', 'https://www.anapioficeandfire.com/api/characters/609', 'https://www.anapioficeandfire.com/api/characters/613', 'https://www.anapioficeandfire.com/api/characters/617', 'https://www.anapioficeandfire.com/api/characters/622', 'https://www.anapioficeandfire.com/api/characters/625', 'https://www.anapioficeandfire.com/api/characters/628', 'https://www.anapioficeandfire.com/api/characters/629', 'https://www.anapioficeandfire.com/api/characters/632', 'https://www.anapioficeandfire.com/api/characters/635', 'https://www.anapioficeandfire.com/api/characters/638', 'https://www.anapioficeandfire.com/api/characters/639', 'https://www.anapioficeandfire.com/api/characters/640', 'https://www.anapioficeandfire.com/api/characters/644', 'https://www.anapioficeandfire.com/api/characters/649', 'https://www.anapioficeandfire.com/api/characters/651', 'https://www.anapioficeandfire.com/api/characters/659', 'https://www.anapioficeandfire.com/api/characters/660', 'https://www.anapioficeandfire.com/api/characters/669', 'https://www.anapioficeandfire.com/api/characters/670', 'https://www.anapioficeandfire.com/api/characters/672', 'https://www.anapioficeandfire.com/api/characters/676', 'https://www.anapioficeandfire.com/api/characters/677', 'https://www.anapioficeandfire.com/api/characters/678', 'https://www.anapioficeandfire.com/api/characters/682', 'https://www.anapioficeandfire.com/api/characters/688', 'https://www.anapioficeandfire.com/api/characters/690', 'https://www.anapioficeandfire.com/api/characters/691', 'https://www.anapioficeandfire.com/api/characters/692', 'https://www.anapioficeandfire.com/api/characters/693', 'https://www.anapioficeandfire.com/api/characters/699', 'https://www.anapioficeandfire.com/api/characters/700', 'https://www.anapioficeandfire.com/api/characters/701', 'https://www.anapioficeandfire.com/api/characters/710', 'https://www.anapioficeandfire.com/api/characters/711', 'https://www.anapioficeandfire.com/api/characters/712', 'https://www.anapioficeandfire.com/api/characters/713', 'https://www.anapioficeandfire.com/api/characters/717', 'https://www.anapioficeandfire.com/api/characters/718', 'https://www.anapioficeandfire.com/api/characters/721', 'https://www.anapioficeandfire.com/api/characters/723', 'https://www.anapioficeandfire.com/api/characters/724', 'https://www.anapioficeandfire.com/api/characters/725', 'https://www.anapioficeandfire.com/api/characters/727', 'https://www.anapioficeandfire.com/api/characters/730', 'https://www.anapioficeandfire.com/api/characters/731', 'https://www.anapioficeandfire.com/api/characters/734', 'https://www.anapioficeandfire.com/api/characters/735', 'https://www.anapioficeandfire.com/api/characters/738', 'https://www.anapioficeandfire.com/api/characters/740', 'https://www.anapioficeandfire.com/api/characters/741', 'https://www.anapioficeandfire.com/api/characters/742', 'https://www.anapioficeandfire.com/api/characters/743', 'https://www.anapioficeandfire.com/api/characters/747', 'https://www.anapioficeandfire.com/api/characters/750', 'https://www.anapioficeandfire.com/api/characters/751', 'https://www.anapioficeandfire.com/api/characters/752', 'https://www.anapioficeandfire.com/api/characters/754', 'https://www.anapioficeandfire.com/api/characters/755', 'https://www.anapioficeandfire.com/api/characters/756', 'https://www.anapioficeandfire.com/api/characters/761', 'https://www.anapioficeandfire.com/api/characters/764', 'https://www.anapioficeandfire.com/api/characters/765', 'https://www.anapioficeandfire.com/api/characters/766', 'https://www.anapioficeandfire.com/api/characters/768', 'https://www.anapioficeandfire.com/api/characters/769', 'https://www.anapioficeandfire.com/api/characters/774', 'https://www.anapioficeandfire.com/api/characters/775', 'https://www.anapioficeandfire.com/api/characters/778', 'https://www.anapioficeandfire.com/api/characters/782', 'https://www.anapioficeandfire.com/api/characters/784', 'https://www.anapioficeandfire.com/api/characters/786', 'https://www.anapioficeandfire.com/api/characters/788', 'https://www.anapioficeandfire.com/api/characters/799', 'https://www.anapioficeandfire.com/api/characters/800', 'https://www.anapioficeandfire.com/api/characters/801', 'https://www.anapioficeandfire.com/api/characters/802', 'https://www.anapioficeandfire.com/api/characters/806', 'https://www.anapioficeandfire.com/api/characters/809', 'https://www.anapioficeandfire.com/api/characters/812', 'https://www.anapioficeandfire.com/api/characters/814', 'https://www.anapioficeandfire.com/api/characters/815', 'https://www.anapioficeandfire.com/api/characters/817', 'https://www.anapioficeandfire.com/api/characters/818', 'https://www.anapioficeandfire.com/api/characters/819', 'https://www.anapioficeandfire.com/api/characters/820', 'https://www.anapioficeandfire.com/api/characters/823', 'https://www.anapioficeandfire.com/api/characters/824', 'https://www.anapioficeandfire.com/api/characters/825', 'https://www.anapioficeandfire.com/api/characters/827', 'https://www.anapioficeandfire.com/api/characters/828', 'https://www.anapioficeandfire.com/api/characters/829', 'https://www.anapioficeandfire.com/api/characters/832', 'https://www.anapioficeandfire.com/api/characters/844', 'https://www.anapioficeandfire.com/api/characters/849', 'https://www.anapioficeandfire.com/api/characters/850', 'https://www.anapioficeandfire.com/api/characters/854', 'https://www.anapioficeandfire.com/api/characters/859', 'https://www.anapioficeandfire.com/api/characters/862', 'https://www.anapioficeandfire.com/api/characters/863', 'https://www.anapioficeandfire.com/api/characters/866', 'https://www.anapioficeandfire.com/api/characters/867', 'https://www.anapioficeandfire.com/api/characters/876', 'https://www.anapioficeandfire.com/api/characters/877', 'https://www.anapioficeandfire.com/api/characters/884', 'https://www.anapioficeandfire.com/api/characters/887', 'https://www.anapioficeandfire.com/api/characters/890', 'https://www.anapioficeandfire.com/api/characters/891', 'https://www.anapioficeandfire.com/api/characters/892', 'https://www.anapioficeandfire.com/api/characters/894', 'https://www.anapioficeandfire.com/api/characters/896', 'https://www.anapioficeandfire.com/api/characters/897', 'https://www.anapioficeandfire.com/api/characters/899', 'https://www.anapioficeandfire.com/api/characters/900', 'https://www.anapioficeandfire.com/api/characters/901', 'https://www.anapioficeandfire.com/api/characters/903', 'https://www.anapioficeandfire.com/api/characters/909', 'https://www.anapioficeandfire.com/api/characters/912', 'https://www.anapioficeandfire.com/api/characters/913', 'https://www.anapioficeandfire.com/api/characters/914', 'https://www.anapioficeandfire.com/api/characters/918', 'https://www.anapioficeandfire.com/api/characters/922', 'https://www.anapioficeandfire.com/api/characters/932', 'https://www.anapioficeandfire.com/api/characters/933', 'https://www.anapioficeandfire.com/api/characters/937', 'https://www.anapioficeandfire.com/api/characters/938', 'https://www.anapioficeandfire.com/api/characters/941', 'https://www.anapioficeandfire.com/api/characters/944', 'https://www.anapioficeandfire.com/api/characters/945', 'https://www.anapioficeandfire.com/api/characters/946', 'https://www.anapioficeandfire.com/api/characters/947', 'https://www.anapioficeandfire.com/api/characters/948', 'https://www.anapioficeandfire.com/api/characters/949', 'https://www.anapioficeandfire.com/api/characters/950', 'https://www.anapioficeandfire.com/api/characters/952', 'https://www.anapioficeandfire.com/api/characters/954', 'https://www.anapioficeandfire.com/api/characters/955', 'https://www.anapioficeandfire.com/api/characters/956', 'https://www.anapioficeandfire.com/api/characters/959', 'https://www.anapioficeandfire.com/api/characters/960', 'https://www.anapioficeandfire.com/api/characters/961', 'https://www.anapioficeandfire.com/api/characters/966', 'https://www.anapioficeandfire.com/api/characters/968', 'https://www.anapioficeandfire.com/api/characters/972', 'https://www.anapioficeandfire.com/api/characters/975', 'https://www.anapioficeandfire.com/api/characters/976', 'https://www.anapioficeandfire.com/api/characters/977', 'https://www.anapioficeandfire.com/api/characters/983', 'https://www.anapioficeandfire.com/api/characters/984', 'https://www.anapioficeandfire.com/api/characters/986', 'https://www.anapioficeandfire.com/api/characters/989', 'https://www.anapioficeandfire.com/api/characters/993', 'https://www.anapioficeandfire.com/api/characters/994', 'https://www.anapioficeandfire.com/api/characters/995', 'https://www.anapioficeandfire.com/api/characters/998', 'https://www.anapioficeandfire.com/api/characters/1000', 'https://www.anapioficeandfire.com/api/characters/1004', 'https://www.anapioficeandfire.com/api/characters/1009', 'https://www.anapioficeandfire.com/api/characters/1010', 'https://www.anapioficeandfire.com/api/characters/1011', 'https://www.anapioficeandfire.com/api/characters/1023', 'https://www.anapioficeandfire.com/api/characters/1024', 'https://www.anapioficeandfire.com/api/characters/1025', 'https://www.anapioficeandfire.com/api/characters/1029', 'https://www.anapioficeandfire.com/api/characters/1033', 'https://www.anapioficeandfire.com/api/characters/1034', 'https://www.anapioficeandfire.com/api/characters/1043', 'https://www.anapioficeandfire.com/api/characters/1045', 'https://www.anapioficeandfire.com/api/characters/1049', 'https://www.anapioficeandfire.com/api/characters/1051', 'https://www.anapioficeandfire.com/api/characters/1053', 'https://www.anapioficeandfire.com/api/characters/1054', 'https://www.anapioficeandfire.com/api/characters/1055', 'https://www.anapioficeandfire.com/api/characters/1056', 'https://www.anapioficeandfire.com/api/characters/1058', 'https://www.anapioficeandfire.com/api/characters/1063', 'https://www.anapioficeandfire.com/api/characters/1068', 'https://www.anapioficeandfire.com/api/characters/1069', 'https://www.anapioficeandfire.com/api/characters/1072', 'https://www.anapioficeandfire.com/api/characters/1074', 'https://www.anapioficeandfire.com/api/characters/1079', 'https://www.anapioficeandfire.com/api/characters/1080', 'https://www.anapioficeandfire.com/api/characters/1081', 'https://www.anapioficeandfire.com/api/characters/1082', 'https://www.anapioficeandfire.com/api/characters/1083', 'https://www.anapioficeandfire.com/api/characters/1084', 'https://www.anapioficeandfire.com/api/characters/1085', 'https://www.anapioficeandfire.com/api/characters/1086', 'https://www.anapioficeandfire.com/api/characters/1088', 'https://www.anapioficeandfire.com/api/characters/1089', 'https://www.anapioficeandfire.com/api/characters/1090', 'https://www.anapioficeandfire.com/api/characters/1091', 'https://www.anapioficeandfire.com/api/characters/1092', 'https://www.anapioficeandfire.com/api/characters/1093', 'https://www.anapioficeandfire.com/api/characters/1094', 'https://www.anapioficeandfire.com/api/characters/1095', 'https://www.anapioficeandfire.com/api/characters/1096', 'https://www.anapioficeandfire.com/api/characters/1097', 'https://www.anapioficeandfire.com/api/characters/1100', 'https://www.anapioficeandfire.com/api/characters/1101', 'https://www.anapioficeandfire.com/api/characters/1102', 'https://www.anapioficeandfire.com/api/characters/1104', 'https://www.anapioficeandfire.com/api/characters/1105', 'https://www.anapioficeandfire.com/api/characters/1106', 'https://www.anapioficeandfire.com/api/characters/1107', 'https://www.anapioficeandfire.com/api/characters/1109', 'https://www.anapioficeandfire.com/api/characters/1111', 'https://www.anapioficeandfire.com/api/characters/1113', 'https://www.anapioficeandfire.com/api/characters/1114', 'https://www.anapioficeandfire.com/api/characters/1115', 'https://www.anapioficeandfire.com/api/characters/1116', 'https://www.anapioficeandfire.com/api/characters/1118', 'https://www.anapioficeandfire.com/api/characters/1122', 'https://www.anapioficeandfire.com/api/characters/1124', 'https://www.anapioficeandfire.com/api/characters/1125', 'https://www.anapioficeandfire.com/api/characters/1131', 'https://www.anapioficeandfire.com/api/characters/1132', 'https://www.anapioficeandfire.com/api/characters/1134', 'https://www.anapioficeandfire.com/api/characters/1135', 'https://www.anapioficeandfire.com/api/characters/1136', 'https://www.anapioficeandfire.com/api/characters/1141', 'https://www.anapioficeandfire.com/api/characters/1142', 'https://www.anapioficeandfire.com/api/characters/1144', 'https://www.anapioficeandfire.com/api/characters/1146', 'https://www.anapioficeandfire.com/api/characters/1147', 'https://www.anapioficeandfire.com/api/characters/1148', 'https://www.anapioficeandfire.com/api/characters/1151', 'https://www.anapioficeandfire.com/api/characters/1153', 'https://www.anapioficeandfire.com/api/characters/1155', 'https://www.anapioficeandfire.com/api/characters/1158', 'https://www.anapioficeandfire.com/api/characters/1161', 'https://www.anapioficeandfire.com/api/characters/1162', 'https://www.anapioficeandfire.com/api/characters/1164', 'https://www.anapioficeandfire.com/api/characters/1166', 'https://www.anapioficeandfire.com/api/characters/1170', 'https://www.anapioficeandfire.com/api/characters/1171', 'https://www.anapioficeandfire.com/api/characters/1177', 'https://www.anapioficeandfire.com/api/characters/1179', 'https://www.anapioficeandfire.com/api/characters/1181', 'https://www.anapioficeandfire.com/api/characters/1184', 'https://www.anapioficeandfire.com/api/characters/1185', 'https://www.anapioficeandfire.com/api/characters/1186', 'https://www.anapioficeandfire.com/api/characters/1188', 'https://www.anapioficeandfire.com/api/characters/1190', 'https://www.anapioficeandfire.com/api/characters/1196', 'https://www.anapioficeandfire.com/api/characters/1205', 'https://www.anapioficeandfire.com/api/characters/1207', 'https://www.anapioficeandfire.com/api/characters/1217', 'https://www.anapioficeandfire.com/api/characters/1222', 'https://www.anapioficeandfire.com/api/characters/1224', 'https://www.anapioficeandfire.com/api/characters/1226', 'https://www.anapioficeandfire.com/api/characters/1237', 'https://www.anapioficeandfire.com/api/characters/1244', 'https://www.anapioficeandfire.com/api/characters/1250', 'https://www.anapioficeandfire.com/api/characters/1251', 'https://www.anapioficeandfire.com/api/characters/1253', 'https://www.anapioficeandfire.com/api/characters/1254', 'https://www.anapioficeandfire.com/api/characters/1260', 'https://www.anapioficeandfire.com/api/characters/1262', 'https://www.anapioficeandfire.com/api/characters/1265', 'https://www.anapioficeandfire.com/api/characters/1266', 'https://www.anapioficeandfire.com/api/characters/1267', 'https://www.anapioficeandfire.com/api/characters/1268', 'https://www.anapioficeandfire.com/api/characters/1270', 'https://www.anapioficeandfire.com/api/characters/1272', 'https://www.anapioficeandfire.com/api/characters/1275', 'https://www.anapioficeandfire.com/api/characters/1277', 'https://www.anapioficeandfire.com/api/characters/1280', 'https://www.anapioficeandfire.com/api/characters/1283', 'https://www.anapioficeandfire.com/api/characters/1289', 'https://www.anapioficeandfire.com/api/characters/1293', 'https://www.anapioficeandfire.com/api/characters/1294', 'https://www.anapioficeandfire.com/api/characters/1296', 'https://www.anapioficeandfire.com/api/characters/1297', 'https://www.anapioficeandfire.com/api/characters/1305', 'https://www.anapioficeandfire.com/api/characters/1306', 'https://www.anapioficeandfire.com/api/characters/1310', 'https://www.anapioficeandfire.com/api/characters/1312', 'https://www.anapioficeandfire.com/api/characters/1315', 'https://www.anapioficeandfire.com/api/characters/1317', 'https://www.anapioficeandfire.com/api/characters/1321', 'https://www.anapioficeandfire.com/api/characters/1325', 'https://www.anapioficeandfire.com/api/characters/1326', 'https://www.anapioficeandfire.com/api/characters/1332', 'https://www.anapioficeandfire.com/api/characters/1333', 'https://www.anapioficeandfire.com/api/characters/1335', 'https://www.anapioficeandfire.com/api/characters/1340', 'https://www.anapioficeandfire.com/api/characters/1345', 'https://www.anapioficeandfire.com/api/characters/1346', 'https://www.anapioficeandfire.com/api/characters/1349', 'https://www.anapioficeandfire.com/api/characters/1350', 'https://www.anapioficeandfire.com/api/characters/1352', 'https://www.anapioficeandfire.com/api/characters/1355', 'https://www.anapioficeandfire.com/api/characters/1356', 'https://www.anapioficeandfire.com/api/characters/1357', 'https://www.anapioficeandfire.com/api/characters/1360', 'https://www.anapioficeandfire.com/api/characters/1361', 'https://www.anapioficeandfire.com/api/characters/1363', 'https://www.anapioficeandfire.com/api/characters/1370', 'https://www.anapioficeandfire.com/api/characters/1371', 'https://www.anapioficeandfire.com/api/characters/1373', 'https://www.anapioficeandfire.com/api/characters/1378', 'https://www.anapioficeandfire.com/api/characters/1383', 'https://www.anapioficeandfire.com/api/characters/1393', 'https://www.anapioficeandfire.com/api/characters/1396', 'https://www.anapioficeandfire.com/api/characters/1400', 'https://www.anapioficeandfire.com/api/characters/1407', 'https://www.anapioficeandfire.com/api/characters/1409', 'https://www.anapioficeandfire.com/api/characters/1410', 'https://www.anapioficeandfire.com/api/characters/1416', 'https://www.anapioficeandfire.com/api/characters/1417', 'https://www.anapioficeandfire.com/api/characters/1418', 'https://www.anapioficeandfire.com/api/characters/1422', 'https://www.anapioficeandfire.com/api/characters/1427', 'https://www.anapioficeandfire.com/api/characters/1434', 'https://www.anapioficeandfire.com/api/characters/1435', 'https://www.anapioficeandfire.com/api/characters/1442', 'https://www.anapioficeandfire.com/api/characters/1453', 'https://www.anapioficeandfire.com/api/characters/1461', 'https://www.anapioficeandfire.com/api/characters/1466', 'https://www.anapioficeandfire.com/api/characters/1468', 'https://www.anapioficeandfire.com/api/characters/1471', 'https://www.anapioficeandfire.com/api/characters/1473', 'https://www.anapioficeandfire.com/api/characters/1479', 'https://www.anapioficeandfire.com/api/characters/1483', 'https://www.anapioficeandfire.com/api/characters/1484', 'https://www.anapioficeandfire.com/api/characters/1488', 'https://www.anapioficeandfire.com/api/characters/1489', 'https://www.anapioficeandfire.com/api/characters/1492', 'https://www.anapioficeandfire.com/api/characters/1495', 'https://www.anapioficeandfire.com/api/characters/1496', 'https://www.anapioficeandfire.com/api/characters/1502', 'https://www.anapioficeandfire.com/api/characters/1503', 'https://www.anapioficeandfire.com/api/characters/1505', 'https://www.anapioficeandfire.com/api/characters/1508', 'https://www.anapioficeandfire.com/api/characters/1515', 'https://www.anapioficeandfire.com/api/characters/1520', 'https://www.anapioficeandfire.com/api/characters/1522', 'https://www.anapioficeandfire.com/api/characters/1523', 'https://www.anapioficeandfire.com/api/characters/1526', 'https://www.anapioficeandfire.com/api/characters/1531', 'https://www.anapioficeandfire.com/api/characters/1532', 'https://www.anapioficeandfire.com/api/characters/1540', 'https://www.anapioficeandfire.com/api/characters/1544', 'https://www.anapioficeandfire.com/api/characters/1547', 'https://www.anapioficeandfire.com/api/characters/1548', 'https://www.anapioficeandfire.com/api/characters/1549', 'https://www.anapioficeandfire.com/api/characters/1550', 'https://www.anapioficeandfire.com/api/characters/1552', 'https://www.anapioficeandfire.com/api/characters/1559', 'https://www.anapioficeandfire.com/api/characters/1560', 'https://www.anapioficeandfire.com/api/characters/1561', 'https://www.anapioficeandfire.com/api/characters/1565', 'https://www.anapioficeandfire.com/api/characters/1568', 'https://www.anapioficeandfire.com/api/characters/1570', 'https://www.anapioficeandfire.com/api/characters/1571', 'https://www.anapioficeandfire.com/api/characters/1578', 'https://www.anapioficeandfire.com/api/characters/1583', 'https://www.anapioficeandfire.com/api/characters/1593', 'https://www.anapioficeandfire.com/api/characters/1595', 'https://www.anapioficeandfire.com/api/characters/1597', 'https://www.anapioficeandfire.com/api/characters/1601', 'https://www.anapioficeandfire.com/api/characters/1602', 'https://www.anapioficeandfire.com/api/characters/1606', 'https://www.anapioficeandfire.com/api/characters/1610', 'https://www.anapioficeandfire.com/api/characters/1626', 'https://www.anapioficeandfire.com/api/characters/1627', 'https://www.anapioficeandfire.com/api/characters/1630', 'https://www.anapioficeandfire.com/api/characters/1635', 'https://www.anapioficeandfire.com/api/characters/1638', 'https://www.anapioficeandfire.com/api/characters/1640', 'https://www.anapioficeandfire.com/api/characters/1649', 'https://www.anapioficeandfire.com/api/characters/1650', 'https://www.anapioficeandfire.com/api/characters/1651', 'https://www.anapioficeandfire.com/api/characters/1652', 'https://www.anapioficeandfire.com/api/characters/1661', 'https://www.anapioficeandfire.com/api/characters/1663', 'https://www.anapioficeandfire.com/api/characters/1666', 'https://www.anapioficeandfire.com/api/characters/1667', 'https://www.anapioficeandfire.com/api/characters/1669', 'https://www.anapioficeandfire.com/api/characters/1670', 'https://www.anapioficeandfire.com/api/characters/1674', 'https://www.anapioficeandfire.com/api/characters/1676', 'https://www.anapioficeandfire.com/api/characters/1677', 'https://www.anapioficeandfire.com/api/characters/1679', 'https://www.anapioficeandfire.com/api/characters/1680', 'https://www.anapioficeandfire.com/api/characters/1682', 'https://www.anapioficeandfire.com/api/characters/1683', 'https://www.anapioficeandfire.com/api/characters/1687', 'https://www.anapioficeandfire.com/api/characters/1696', 'https://www.anapioficeandfire.com/api/characters/1697', 'https://www.anapioficeandfire.com/api/characters/1701', 'https://www.anapioficeandfire.com/api/characters/1706', 'https://www.anapioficeandfire.com/api/characters/1708', 'https://www.anapioficeandfire.com/api/characters/1713', 'https://www.anapioficeandfire.com/api/characters/1715', 'https://www.anapioficeandfire.com/api/characters/1722', 'https://www.anapioficeandfire.com/api/characters/1727', 'https://www.anapioficeandfire.com/api/characters/1732', 'https://www.anapioficeandfire.com/api/characters/1734', 'https://www.anapioficeandfire.com/api/characters/1736', 'https://www.anapioficeandfire.com/api/characters/1737', 'https://www.anapioficeandfire.com/api/characters/1741', 'https://www.anapioficeandfire.com/api/characters/1742', 'https://www.anapioficeandfire.com/api/characters/1744', 'https://www.anapioficeandfire.com/api/characters/1749', 'https://www.anapioficeandfire.com/api/characters/1754', 'https://www.anapioficeandfire.com/api/characters/1755', 'https://www.anapioficeandfire.com/api/characters/1757', 'https://www.anapioficeandfire.com/api/characters/1762', 'https://www.anapioficeandfire.com/api/characters/1770', 'https://www.anapioficeandfire.com/api/characters/1778', 'https://www.anapioficeandfire.com/api/characters/1781', 'https://www.anapioficeandfire.com/api/characters/1784', 'https://www.anapioficeandfire.com/api/characters/1787', 'https://www.anapioficeandfire.com/api/characters/1791', 'https://www.anapioficeandfire.com/api/characters/1796', 'https://www.anapioficeandfire.com/api/characters/1797', 'https://www.anapioficeandfire.com/api/characters/1799', 'https://www.anapioficeandfire.com/api/characters/1807', 'https://www.anapioficeandfire.com/api/characters/1811', 'https://www.anapioficeandfire.com/api/characters/1813', 'https://www.anapioficeandfire.com/api/characters/1814', 'https://www.anapioficeandfire.com/api/characters/1815', 'https://www.anapioficeandfire.com/api/characters/1816', 'https://www.anapioficeandfire.com/api/characters/1818', 'https://www.anapioficeandfire.com/api/characters/1819', 'https://www.anapioficeandfire.com/api/characters/1820', 'https://www.anapioficeandfire.com/api/characters/1825', 'https://www.anapioficeandfire.com/api/characters/1826', 'https://www.anapioficeandfire.com/api/characters/1828', 'https://www.anapioficeandfire.com/api/characters/1829', 'https://www.anapioficeandfire.com/api/characters/1830', 'https://www.anapioficeandfire.com/api/characters/1839', 'https://www.anapioficeandfire.com/api/characters/1843', 'https://www.anapioficeandfire.com/api/characters/1844', 'https://www.anapioficeandfire.com/api/characters/1848', 'https://www.anapioficeandfire.com/api/characters/1849', 'https://www.anapioficeandfire.com/api/characters/1852', 'https://www.anapioficeandfire.com/api/characters/1854', 'https://www.anapioficeandfire.com/api/characters/1856', 'https://www.anapioficeandfire.com/api/characters/1861', 'https://www.anapioficeandfire.com/api/characters/1866', 'https://www.anapioficeandfire.com/api/characters/1871', 'https://www.anapioficeandfire.com/api/characters/1873', 'https://www.anapioficeandfire.com/api/characters/1880', 'https://www.anapioficeandfire.com/api/characters/1882', 'https://www.anapioficeandfire.com/api/characters/1893', 'https://www.anapioficeandfire.com/api/characters/1894', 'https://www.anapioficeandfire.com/api/characters/1900', 'https://www.anapioficeandfire.com/api/characters/1903', 'https://www.anapioficeandfire.com/api/characters/1916', 'https://www.anapioficeandfire.com/api/characters/1919', 'https://www.anapioficeandfire.com/api/characters/1920', 'https://www.anapioficeandfire.com/api/characters/1924', 'https://www.anapioficeandfire.com/api/characters/1925', 'https://www.anapioficeandfire.com/api/characters/1927', 'https://www.anapioficeandfire.com/api/characters/1931', 'https://www.anapioficeandfire.com/api/characters/1935', 'https://www.anapioficeandfire.com/api/characters/1938', 'https://www.anapioficeandfire.com/api/characters/1939', 'https://www.anapioficeandfire.com/api/characters/1940', 'https://www.anapioficeandfire.com/api/characters/1946', 'https://www.anapioficeandfire.com/api/characters/1947', 'https://www.anapioficeandfire.com/api/characters/1950', 'https://www.anapioficeandfire.com/api/characters/1952', 'https://www.anapioficeandfire.com/api/characters/1960', 'https://www.anapioficeandfire.com/api/characters/1963', 'https://www.anapioficeandfire.com/api/characters/1964', 'https://www.anapioficeandfire.com/api/characters/1967', 'https://www.anapioficeandfire.com/api/characters/1971', 'https://www.anapioficeandfire.com/api/characters/1973', 'https://www.anapioficeandfire.com/api/characters/1974', 'https://www.anapioficeandfire.com/api/characters/1976', 'https://www.anapioficeandfire.com/api/characters/1977', 'https://www.anapioficeandfire.com/api/characters/1979', 'https://www.anapioficeandfire.com/api/characters/1986', 'https://www.anapioficeandfire.com/api/characters/1994', 'https://www.anapioficeandfire.com/api/characters/1996', 'https://www.anapioficeandfire.com/api/characters/2002', 'https://www.anapioficeandfire.com/api/characters/2008', 'https://www.anapioficeandfire.com/api/characters/2009', 'https://www.anapioficeandfire.com/api/characters/2010', 'https://www.anapioficeandfire.com/api/characters/2012', 'https://www.anapioficeandfire.com/api/characters/2013', 'https://www.anapioficeandfire.com/api/characters/2014', 'https://www.anapioficeandfire.com/api/characters/2015', 'https://www.anapioficeandfire.com/api/characters/2019', 'https://www.anapioficeandfire.com/api/characters/2020', 'https://www.anapioficeandfire.com/api/characters/2028', 'https://www.anapioficeandfire.com/api/characters/2030', 'https://www.anapioficeandfire.com/api/characters/2034', 'https://www.anapioficeandfire.com/api/characters/2037', 'https://www.anapioficeandfire.com/api/characters/2042', 'https://www.anapioficeandfire.com/api/characters/2044', 'https://www.anapioficeandfire.com/api/characters/2045', 'https://www.anapioficeandfire.com/api/characters/2046', 'https://www.anapioficeandfire.com/api/characters/2049', 'https://www.anapioficeandfire.com/api/characters/2057', 'https://www.anapioficeandfire.com/api/characters/2058', 'https://www.anapioficeandfire.com/api/characters/2061', 'https://www.anapioficeandfire.com/api/characters/2063', 'https://www.anapioficeandfire.com/api/characters/2067', 'https://www.anapioficeandfire.com/api/characters/2069', 'https://www.anapioficeandfire.com/api/characters/2071', 'https://www.anapioficeandfire.com/api/characters/2072', 'https://www.anapioficeandfire.com/api/characters/2073', 'https://www.anapioficeandfire.com/api/characters/2074', 'https://www.anapioficeandfire.com/api/characters/2077', 'https://www.anapioficeandfire.com/api/characters/2085', 'https://www.anapioficeandfire.com/api/characters/2090', 'https://www.anapioficeandfire.com/api/characters/2091', 'https://www.anapioficeandfire.com/api/characters/2093', 'https://www.anapioficeandfire.com/api/characters/2095', 'https://www.anapioficeandfire.com/api/characters/2096', 'https://www.anapioficeandfire.com/api/characters/2097', 'https://www.anapioficeandfire.com/api/characters/2109', 'https://www.anapioficeandfire.com/api/characters/2111', 'https://www.anapioficeandfire.com/api/characters/2116', 'https://www.anapioficeandfire.com/api/characters/2122', 'https://www.anapioficeandfire.com/api/characters/2126'], 'povCharacters': ['https://www.anapioficeandfire.com/api/characters/148', 'https://www.anapioficeandfire.com/api/characters/208', 'https://www.anapioficeandfire.com/api/characters/232', 'https://www.anapioficeandfire.com/api/characters/583', 'https://www.anapioficeandfire.com/api/characters/957', 'https://www.anapioficeandfire.com/api/characters/1022', 'https://www.anapioficeandfire.com/api/characters/1052', 'https://www.anapioficeandfire.com/api/characters/1295', 'https://www.anapioficeandfire.com/api/characters/1303', 'https://www.anapioficeandfire.com/api/characters/1319']}, {'url': 'https://www.anapioficeandfire.com/api/books/3', 'name': 'A Storm of Swords', 'isbn': '978-0553106633', 'authors': ['George R. R. Martin'], 'numberOfPages': 992, 'publisher': 'Bantam Books', 'country': 'United States', 'mediaType': 'Hardcover', 'released': '2000-10-31T00:00:00', 'characters': ['https://www.anapioficeandfire.com/api/characters/2', 'https://www.anapioficeandfire.com/api/characters/3', 'https://www.anapioficeandfire.com/api/characters/7', 'https://www.anapioficeandfire.com/api/characters/12', 'https://www.anapioficeandfire.com/api/characters/13', 'https://www.anapioficeandfire.com/api/characters/16', 'https://www.anapioficeandfire.com/api/characters/20', 'https://www.anapioficeandfire.com/api/characters/21', 'https://www.anapioficeandfire.com/api/characters/27', 'https://www.anapioficeandfire.com/api/characters/31', 'https://www.anapioficeandfire.com/api/characters/35', 'https://www.anapioficeandfire.com/api/characters/36', 'https://www.anapioficeandfire.com/api/characters/37', 'https://www.anapioficeandfire.com/api/characters/38', 'https://www.anapioficeandfire.com/api/characters/39', 'https://www.anapioficeandfire.com/api/characters/40', 'https://www.anapioficeandfire.com/api/characters/41', 'https://www.anapioficeandfire.com/api/characters/42', 'https://www.anapioficeandfire.com/api/characters/46', 'https://www.anapioficeandfire.com/api/characters/50', 'https://www.anapioficeandfire.com/api/characters/51', 'https://www.anapioficeandfire.com/api/characters/52', 'https://www.anapioficeandfire.com/api/characters/53', 'https://www.anapioficeandfire.com/api/characters/54', 'https://www.anapioficeandfire.com/api/characters/56', 'https://www.anapioficeandfire.com/api/characters/58', 'https://www.anapioficeandfire.com/api/characters/60', 'https://www.anapioficeandfire.com/api/characters/62', 'https://www.anapioficeandfire.com/api/characters/64', 'https://www.anapioficeandfire.com/api/characters/67', 'https://www.anapioficeandfire.com/api/characters/68', 'https://www.anapioficeandfire.com/api/characters/69', 'https://www.anapioficeandfire.com/api/characters/70', 'https://www.anapioficeandfire.com/api/characters/71', 'https://www.anapioficeandfire.com/api/characters/72', 'https://www.anapioficeandfire.com/api/characters/73', 'https://www.anapioficeandfire.com/api/characters/77', 'https://www.anapioficeandfire.com/api/characters/78', 'https://www.anapioficeandfire.com/api/characters/79', 'https://www.anapioficeandfire.com/api/characters/80', 'https://www.anapioficeandfire.com/api/characters/81', 'https://www.anapioficeandfire.com/api/characters/82', 'https://www.anapioficeandfire.com/api/characters/84', 'https://www.anapioficeandfire.com/api/characters/85', 'https://www.anapioficeandfire.com/api/characters/86', 'https://www.anapioficeandfire.com/api/characters/87', 'https://www.anapioficeandfire.com/api/characters/89', 'https://www.anapioficeandfire.com/api/characters/94', 'https://www.anapioficeandfire.com/api/characters/95', 'https://www.anapioficeandfire.com/api/characters/96', 'https://www.anapioficeandfire.com/api/characters/100', 'https://www.anapioficeandfire.com/api/characters/105', 'https://www.anapioficeandfire.com/api/characters/108', 'https://www.anapioficeandfire.com/api/characters/111', 'https://www.anapioficeandfire.com/api/characters/112', 'https://www.anapioficeandfire.com/api/characters/114', 'https://www.anapioficeandfire.com/api/characters/115', 'https://www.anapioficeandfire.com/api/characters/116', 'https://www.anapioficeandfire.com/api/characters/117', 'https://www.anapioficeandfire.com/api/characters/118', 'https://www.anapioficeandfire.com/api/characters/120', 'https://www.anapioficeandfire.com/api/characters/122', 'https://www.anapioficeandfire.com/api/characters/123', 'https://www.anapioficeandfire.com/api/characters/124', 'https://www.anapioficeandfire.com/api/characters/125', 'https://www.anapioficeandfire.com/api/characters/127', 'https://www.anapioficeandfire.com/api/characters/130', 'https://www.anapioficeandfire.com/api/characters/138', 'https://www.anapioficeandfire.com/api/characters/141', 'https://www.anapioficeandfire.com/api/characters/142', 'https://www.anapioficeandfire.com/api/characters/145', 'https://www.anapioficeandfire.com/api/characters/146', 'https://www.anapioficeandfire.com/api/characters/147', 'https://www.anapioficeandfire.com/api/characters/149', 'https://www.anapioficeandfire.com/api/characters/151', 'https://www.anapioficeandfire.com/api/characters/153', 'https://www.anapioficeandfire.com/api/characters/158', 'https://www.anapioficeandfire.com/api/characters/159', 'https://www.anapioficeandfire.com/api/characters/160', 'https://www.anapioficeandfire.com/api/characters/161', 'https://www.anapioficeandfire.com/api/characters/162', 'https://www.anapioficeandfire.com/api/characters/164', 'https://www.anapioficeandfire.com/api/characters/168', 'https://www.anapioficeandfire.com/api/characters/169', 'https://www.anapioficeandfire.com/api/characters/173', 'https://www.anapioficeandfire.com/api/characters/175', 'https://www.anapioficeandfire.com/api/characters/177', 'https://www.anapioficeandfire.com/api/characters/179', 'https://www.anapioficeandfire.com/api/characters/180', 'https://www.anapioficeandfire.com/api/characters/181', 'https://www.anapioficeandfire.com/api/characters/187', 'https://www.anapioficeandfire.com/api/characters/188', 'https://www.anapioficeandfire.com/api/characters/189', 'https://www.anapioficeandfire.com/api/characters/190', 'https://www.anapioficeandfire.com/api/characters/193', 'https://www.anapioficeandfire.com/api/characters/194', 'https://www.anapioficeandfire.com/api/characters/199', 'https://www.anapioficeandfire.com/api/characters/200', 'https://www.anapioficeandfire.com/api/characters/202', 'https://www.anapioficeandfire.com/api/characters/203', 'https://www.anapioficeandfire.com/api/characters/204', 'https://www.anapioficeandfire.com/api/characters/206', 'https://www.anapioficeandfire.com/api/characters/214', 'https://www.anapioficeandfire.com/api/characters/216', 'https://www.anapioficeandfire.com/api/characters/217', 'https://www.anapioficeandfire.com/api/characters/219', 'https://www.anapioficeandfire.com/api/characters/222', 'https://www.anapioficeandfire.com/api/characters/223', 'https://www.anapioficeandfire.com/api/characters/225', 'https://www.anapioficeandfire.com/api/characters/227', 'https://www.anapioficeandfire.com/api/characters/228', 'https://www.anapioficeandfire.com/api/characters/230', 'https://www.anapioficeandfire.com/api/characters/234', 'https://www.anapioficeandfire.com/api/characters/235', 'https://www.anapioficeandfire.com/api/characters/237', 'https://www.anapioficeandfire.com/api/characters/238', 'https://www.anapioficeandfire.com/api/characters/245', 'https://www.anapioficeandfire.com/api/characters/247', 'https://www.anapioficeandfire.com/api/characters/250', 'https://www.anapioficeandfire.com/api/characters/251', 'https://www.anapioficeandfire.com/api/characters/252', 'https://www.anapioficeandfire.com/api/characters/254', 'https://www.anapioficeandfire.com/api/characters/262', 'https://www.anapioficeandfire.com/api/characters/263', 'https://www.anapioficeandfire.com/api/characters/264', 'https://www.anapioficeandfire.com/api/characters/267', 'https://www.anapioficeandfire.com/api/characters/273', 'https://www.anapioficeandfire.com/api/characters/274', 'https://www.anapioficeandfire.com/api/characters/279', 'https://www.anapioficeandfire.com/api/characters/280', 'https://www.anapioficeandfire.com/api/characters/282', 'https://www.anapioficeandfire.com/api/characters/285', 'https://www.anapioficeandfire.com/api/characters/286', 'https://www.anapioficeandfire.com/api/characters/288', 'https://www.anapioficeandfire.com/api/characters/290', 'https://www.anapioficeandfire.com/api/characters/291', 'https://www.anapioficeandfire.com/api/characters/292', 'https://www.anapioficeandfire.com/api/characters/294', 'https://www.anapioficeandfire.com/api/characters/295', 'https://www.anapioficeandfire.com/api/characters/296', 'https://www.anapioficeandfire.com/api/characters/297', 'https://www.anapioficeandfire.com/api/characters/298', 'https://www.anapioficeandfire.com/api/characters/299', 'https://www.anapioficeandfire.com/api/characters/300', 'https://www.anapioficeandfire.com/api/characters/303', 'https://www.anapioficeandfire.com/api/characters/306', 'https://www.anapioficeandfire.com/api/characters/308', 'https://www.anapioficeandfire.com/api/characters/309', 'https://www.anapioficeandfire.com/api/characters/310', 'https://www.anapioficeandfire.com/api/characters/311', 'https://www.anapioficeandfire.com/api/characters/312', 'https://www.anapioficeandfire.com/api/characters/315', 'https://www.anapioficeandfire.com/api/characters/320', 'https://www.anapioficeandfire.com/api/characters/321', 'https://www.anapioficeandfire.com/api/characters/322', 'https://www.anapioficeandfire.com/api/characters/323', 'https://www.anapioficeandfire.com/api/characters/325', 'https://www.anapioficeandfire.com/api/characters/326', 'https://www.anapioficeandfire.com/api/characters/327', 'https://www.anapioficeandfire.com/api/characters/329', 'https://www.anapioficeandfire.com/api/characters/330', 'https://www.anapioficeandfire.com/api/characters/331', 'https://www.anapioficeandfire.com/api/characters/332', 'https://www.anapioficeandfire.com/api/characters/336', 'https://www.anapioficeandfire.com/api/characters/337', 'https://www.anapioficeandfire.com/api/characters/338', 'https://www.anapioficeandfire.com/api/characters/339', 'https://www.anapioficeandfire.com/api/characters/341', 'https://www.anapioficeandfire.com/api/characters/346', 'https://www.anapioficeandfire.com/api/characters/347', 'https://www.anapioficeandfire.com/api/characters/348', 'https://www.anapioficeandfire.com/api/characters/352', 'https://www.anapioficeandfire.com/api/characters/357', 'https://www.anapioficeandfire.com/api/characters/360', 'https://www.anapioficeandfire.com/api/characters/361', 'https://www.anapioficeandfire.com/api/characters/362', 'https://www.anapioficeandfire.com/api/characters/364', 'https://www.anapioficeandfire.com/api/characters/365', 'https://www.anapioficeandfire.com/api/characters/368', 'https://www.anapioficeandfire.com/api/characters/369', 'https://www.anapioficeandfire.com/api/characters/370', 'https://www.anapioficeandfire.com/api/characters/372', 'https://www.anapioficeandfire.com/api/characters/374', 'https://www.anapioficeandfire.com/api/characters/375', 'https://www.anapioficeandfire.com/api/characters/377', 'https://www.anapioficeandfire.com/api/characters/379', 'https://www.anapioficeandfire.com/api/characters/380', 'https://www.anapioficeandfire.com/api/characters/381', 'https://www.anapioficeandfire.com/api/characters/382', 'https://www.anapioficeandfire.com/api/characters/383', 'https://www.anapioficeandfire.com/api/characters/385', 'https://www.anapioficeandfire.com/api/characters/392', 'https://www.anapioficeandfire.com/api/characters/393', 'https://www.anapioficeandfire.com/api/characters/394', 'https://www.anapioficeandfire.com/api/characters/397', 'https://www.anapioficeandfire.com/api/characters/401', 'https://www.anapioficeandfire.com/api/characters/404', 'https://www.anapioficeandfire.com/api/characters/405', 'https://www.anapioficeandfire.com/api/characters/406', 'https://www.anapioficeandfire.com/api/characters/408', 'https://www.anapioficeandfire.com/api/characters/411', 'https://www.anapioficeandfire.com/api/characters/413', 'https://www.anapioficeandfire.com/api/characters/415', 'https://www.anapioficeandfire.com/api/characters/416', 'https://www.anapioficeandfire.com/api/characters/417', 'https://www.anapioficeandfire.com/api/characters/418', 'https://www.anapioficeandfire.com/api/characters/421', 'https://www.anapioficeandfire.com/api/characters/423', 'https://www.anapioficeandfire.com/api/characters/424', 'https://www.anapioficeandfire.com/api/characters/426', 'https://www.anapioficeandfire.com/api/characters/434', 'https://www.anapioficeandfire.com/api/characters/438', 'https://www.anapioficeandfire.com/api/characters/439', 'https://www.anapioficeandfire.com/api/characters/442', 'https://www.anapioficeandfire.com/api/characters/443', 'https://www.anapioficeandfire.com/api/characters/448', 'https://www.anapioficeandfire.com/api/characters/453', 'https://www.anapioficeandfire.com/api/characters/458', 'https://www.anapioficeandfire.com/api/characters/461', 'https://www.anapioficeandfire.com/api/characters/462', 'https://www.anapioficeandfire.com/api/characters/465', 'https://www.anapioficeandfire.com/api/characters/470', 'https://www.anapioficeandfire.com/api/characters/475', 'https://www.anapioficeandfire.com/api/characters/476', 'https://www.anapioficeandfire.com/api/characters/485', 'https://www.anapioficeandfire.com/api/characters/486', 'https://www.anapioficeandfire.com/api/characters/487', 'https://www.anapioficeandfire.com/api/characters/490', 'https://www.anapioficeandfire.com/api/characters/496', 'https://www.anapioficeandfire.com/api/characters/498', 'https://www.anapioficeandfire.com/api/characters/499', 'https://www.anapioficeandfire.com/api/characters/500', 'https://www.anapioficeandfire.com/api/characters/501', 'https://www.anapioficeandfire.com/api/characters/502', 'https://www.anapioficeandfire.com/api/characters/503', 'https://www.anapioficeandfire.com/api/characters/504', 'https://www.anapioficeandfire.com/api/characters/506', 'https://www.anapioficeandfire.com/api/characters/507', 'https://www.anapioficeandfire.com/api/characters/511', 'https://www.anapioficeandfire.com/api/characters/519', 'https://www.anapioficeandfire.com/api/characters/521', 'https://www.anapioficeandfire.com/api/characters/522', 'https://www.anapioficeandfire.com/api/characters/523', 'https://www.anapioficeandfire.com/api/characters/524', 'https://www.anapioficeandfire.com/api/characters/526', 'https://www.anapioficeandfire.com/api/characters/527', 'https://www.anapioficeandfire.com/api/characters/530', 'https://www.anapioficeandfire.com/api/characters/531', 'https://www.anapioficeandfire.com/api/characters/532', 'https://www.anapioficeandfire.com/api/characters/533', 'https://www.anapioficeandfire.com/api/characters/534', 'https://www.anapioficeandfire.com/api/characters/535', 'https://www.anapioficeandfire.com/api/characters/536', 'https://www.anapioficeandfire.com/api/characters/537', 'https://www.anapioficeandfire.com/api/characters/539', 'https://www.anapioficeandfire.com/api/characters/547', 'https://www.anapioficeandfire.com/api/characters/549', 'https://www.anapioficeandfire.com/api/characters/550', 'https://www.anapioficeandfire.com/api/characters/553', 'https://www.anapioficeandfire.com/api/characters/555', 'https://www.anapioficeandfire.com/api/characters/557', 'https://www.anapioficeandfire.com/api/characters/559', 'https://www.anapioficeandfire.com/api/characters/560', 'https://www.anapioficeandfire.com/api/characters/561', 'https://www.anapioficeandfire.com/api/characters/562', 'https://www.anapioficeandfire.com/api/characters/563', 'https://www.anapioficeandfire.com/api/characters/565', 'https://www.anapioficeandfire.com/api/characters/571', 'https://www.anapioficeandfire.com/api/characters/572', 'https://www.anapioficeandfire.com/api/characters/574', 'https://www.anapioficeandfire.com/api/characters/575', 'https://www.anapioficeandfire.com/api/characters/576', 'https://www.anapioficeandfire.com/api/characters/580', 'https://www.anapioficeandfire.com/api/characters/585', 'https://www.anapioficeandfire.com/api/characters/586', 'https://www.anapioficeandfire.com/api/characters/587', 'https://www.anapioficeandfire.com/api/characters/588', 'https://www.anapioficeandfire.com/api/characters/590', 'https://www.anapioficeandfire.com/api/characters/592', 'https://www.anapioficeandfire.com/api/characters/595', 'https://www.anapioficeandfire.com/api/characters/597', 'https://www.anapioficeandfire.com/api/characters/599', 'https://www.anapioficeandfire.com/api/characters/600', 'https://www.anapioficeandfire.com/api/characters/602', 'https://www.anapioficeandfire.com/api/characters/603', 'https://www.anapioficeandfire.com/api/characters/604', 'https://www.anapioficeandfire.com/api/characters/605', 'https://www.anapioficeandfire.com/api/characters/606', 'https://www.anapioficeandfire.com/api/characters/607', 'https://www.anapioficeandfire.com/api/characters/609', 'https://www.anapioficeandfire.com/api/characters/613', 'https://www.anapioficeandfire.com/api/characters/616', 'https://www.anapioficeandfire.com/api/characters/617', 'https://www.anapioficeandfire.com/api/characters/621', 'https://www.anapioficeandfire.com/api/characters/622', 'https://www.anapioficeandfire.com/api/characters/623', 'https://www.anapioficeandfire.com/api/characters/624', 'https://www.anapioficeandfire.com/api/characters/625', 'https://www.anapioficeandfire.com/api/characters/626', 'https://www.anapioficeandfire.com/api/characters/628', 'https://www.anapioficeandfire.com/api/characters/629', 'https://www.anapioficeandfire.com/api/characters/630', 'https://www.anapioficeandfire.com/api/characters/631', 'https://www.anapioficeandfire.com/api/characters/632', 'https://www.anapioficeandfire.com/api/characters/635', 'https://www.anapioficeandfire.com/api/characters/636', 'https://www.anapioficeandfire.com/api/characters/638', 'https://www.anapioficeandfire.com/api/characters/639', 'https://www.anapioficeandfire.com/api/characters/640', 'https://www.anapioficeandfire.com/api/characters/647', 'https://www.anapioficeandfire.com/api/characters/649', 'https://www.anapioficeandfire.com/api/characters/650', 'https://www.anapioficeandfire.com/api/characters/651', 'https://www.anapioficeandfire.com/api/characters/657', 'https://www.anapioficeandfire.com/api/characters/658', 'https://www.anapioficeandfire.com/api/characters/659', 'https://www.anapioficeandfire.com/api/characters/660', 'https://www.anapioficeandfire.com/api/characters/662', 'https://www.anapioficeandfire.com/api/characters/663', 'https://www.anapioficeandfire.com/api/characters/664', 'https://www.anapioficeandfire.com/api/characters/665', 'https://www.anapioficeandfire.com/api/characters/666', 'https://www.anapioficeandfire.com/api/characters/669', 'https://www.anapioficeandfire.com/api/characters/670', 'https://www.anapioficeandfire.com/api/characters/673', 'https://www.anapioficeandfire.com/api/characters/674', 'https://www.anapioficeandfire.com/api/characters/676', 'https://www.anapioficeandfire.com/api/characters/677', 'https://www.anapioficeandfire.com/api/characters/678', 'https://www.anapioficeandfire.com/api/characters/682', 'https://www.anapioficeandfire.com/api/characters/683', 'https://www.anapioficeandfire.com/api/characters/686', 'https://www.anapioficeandfire.com/api/characters/688', 'https://www.anapioficeandfire.com/api/characters/689', 'https://www.anapioficeandfire.com/api/characters/690', 'https://www.anapioficeandfire.com/api/characters/691', 'https://www.anapioficeandfire.com/api/characters/692', 'https://www.anapioficeandfire.com/api/characters/693', 'https://www.anapioficeandfire.com/api/characters/694', 'https://www.anapioficeandfire.com/api/characters/697', 'https://www.anapioficeandfire.com/api/characters/699', 'https://www.anapioficeandfire.com/api/characters/700', 'https://www.anapioficeandfire.com/api/characters/701', 'https://www.anapioficeandfire.com/api/characters/704', 'https://www.anapioficeandfire.com/api/characters/708', 'https://www.anapioficeandfire.com/api/characters/710', 'https://www.anapioficeandfire.com/api/characters/711', 'https://www.anapioficeandfire.com/api/characters/712', 'https://www.anapioficeandfire.com/api/characters/713', 'https://www.anapioficeandfire.com/api/characters/717', 'https://www.anapioficeandfire.com/api/characters/718', 'https://www.anapioficeandfire.com/api/characters/720', 'https://www.anapioficeandfire.com/api/characters/721', 'https://www.anapioficeandfire.com/api/characters/722', 'https://www.anapioficeandfire.com/api/characters/723', 'https://www.anapioficeandfire.com/api/characters/725', 'https://www.anapioficeandfire.com/api/characters/727', 'https://www.anapioficeandfire.com/api/characters/730', 'https://www.anapioficeandfire.com/api/characters/731', 'https://www.anapioficeandfire.com/api/characters/735', 'https://www.anapioficeandfire.com/api/characters/736', 'https://www.anapioficeandfire.com/api/characters/738', 'https://www.anapioficeandfire.com/api/characters/740', 'https://www.anapioficeandfire.com/api/characters/741', 'https://www.anapioficeandfire.com/api/characters/742', 'https://www.anapioficeandfire.com/api/characters/743', 'https://www.anapioficeandfire.com/api/characters/745', 'https://www.anapioficeandfire.com/api/characters/746', 'https://www.anapioficeandfire.com/api/characters/747', 'https://www.anapioficeandfire.com/api/characters/748', 'https://www.anapioficeandfire.com/api/characters/750', 'https://www.anapioficeandfire.com/api/characters/752', 'https://www.anapioficeandfire.com/api/characters/754', 'https://www.anapioficeandfire.com/api/characters/755', 'https://www.anapioficeandfire.com/api/characters/756', 'https://www.anapioficeandfire.com/api/characters/757', 'https://www.anapioficeandfire.com/api/characters/761', 'https://www.anapioficeandfire.com/api/characters/762', 'https://www.anapioficeandfire.com/api/characters/764', 'https://www.anapioficeandfire.com/api/characters/765', 'https://www.anapioficeandfire.com/api/characters/766', 'https://www.anapioficeandfire.com/api/characters/767', 'https://www.anapioficeandfire.com/api/characters/768', 'https://www.anapioficeandfire.com/api/characters/769', 'https://www.anapioficeandfire.com/api/characters/770', 'https://www.anapioficeandfire.com/api/characters/771', 'https://www.anapioficeandfire.com/api/characters/772', 'https://www.anapioficeandfire.com/api/characters/774', 'https://www.anapioficeandfire.com/api/characters/775', 'https://www.anapioficeandfire.com/api/characters/776', 'https://www.anapioficeandfire.com/api/characters/778', 'https://www.anapioficeandfire.com/api/characters/780', 'https://www.anapioficeandfire.com/api/characters/781', 'https://www.anapioficeandfire.com/api/characters/783', 'https://www.anapioficeandfire.com/api/characters/784', 'https://www.anapioficeandfire.com/api/characters/785', 'https://www.anapioficeandfire.com/api/characters/786', 'https://www.anapioficeandfire.com/api/characters/788', 'https://www.anapioficeandfire.com/api/characters/796', 'https://www.anapioficeandfire.com/api/characters/799', 'https://www.anapioficeandfire.com/api/characters/800', 'https://www.anapioficeandfire.com/api/characters/801', 'https://www.anapioficeandfire.com/api/characters/802', 'https://www.anapioficeandfire.com/api/characters/803', 'https://www.anapioficeandfire.com/api/characters/804', 'https://www.anapioficeandfire.com/api/characters/805', 'https://www.anapioficeandfire.com/api/characters/806', 'https://www.anapioficeandfire.com/api/characters/808', 'https://www.anapioficeandfire.com/api/characters/809', 'https://www.anapioficeandfire.com/api/characters/811', 'https://www.anapioficeandfire.com/api/characters/812', 'https://www.anapioficeandfire.com/api/characters/814', 'https://www.anapioficeandfire.com/api/characters/815', 'https://www.anapioficeandfire.com/api/characters/817', 'https://www.anapioficeandfire.com/api/characters/818', 'https://www.anapioficeandfire.com/api/characters/819', 'https://www.anapioficeandfire.com/api/characters/820', 'https://www.anapioficeandfire.com/api/characters/822', 'https://www.anapioficeandfire.com/api/characters/823', 'https://www.anapioficeandfire.com/api/characters/824', 'https://www.anapioficeandfire.com/api/characters/825', 'https://www.anapioficeandfire.com/api/characters/826', 'https://www.anapioficeandfire.com/api/characters/827', 'https://www.anapioficeandfire.com/api/characters/828', 'https://www.anapioficeandfire.com/api/characters/829', 'https://www.anapioficeandfire.com/api/characters/831', 'https://www.anapioficeandfire.com/api/characters/832', 'https://www.anapioficeandfire.com/api/characters/834', 'https://www.anapioficeandfire.com/api/characters/837', 'https://www.anapioficeandfire.com/api/characters/838', 'https://www.anapioficeandfire.com/api/characters/844', 'https://www.anapioficeandfire.com/api/characters/848', 'https://www.anapioficeandfire.com/api/characters/849', 'https://www.anapioficeandfire.com/api/characters/850', 'https://www.anapioficeandfire.com/api/characters/851', 'https://www.anapioficeandfire.com/api/characters/852', 'https://www.anapioficeandfire.com/api/characters/854', 'https://www.anapioficeandfire.com/api/characters/855', 'https://www.anapioficeandfire.com/api/characters/856', 'https://www.anapioficeandfire.com/api/characters/858', 'https://www.anapioficeandfire.com/api/characters/860', 'https://www.anapioficeandfire.com/api/characters/862', 'https://www.anapioficeandfire.com/api/characters/863', 'https://www.anapioficeandfire.com/api/characters/866', 'https://www.anapioficeandfire.com/api/characters/867', 'https://www.anapioficeandfire.com/api/characters/869', 'https://www.anapioficeandfire.com/api/characters/874', 'https://www.anapioficeandfire.com/api/characters/876', 'https://www.anapioficeandfire.com/api/characters/877', 'https://www.anapioficeandfire.com/api/characters/882', 'https://www.anapioficeandfire.com/api/characters/884', 'https://www.anapioficeandfire.com/api/characters/887', 'https://www.anapioficeandfire.com/api/characters/889', 'https://www.anapioficeandfire.com/api/characters/890', 'https://www.anapioficeandfire.com/api/characters/891', 'https://www.anapioficeandfire.com/api/characters/892', 'https://www.anapioficeandfire.com/api/characters/894', 'https://www.anapioficeandfire.com/api/characters/896', 'https://www.anapioficeandfire.com/api/characters/897', 'https://www.anapioficeandfire.com/api/characters/899', 'https://www.anapioficeandfire.com/api/characters/900', 'https://www.anapioficeandfire.com/api/characters/901', 'https://www.anapioficeandfire.com/api/characters/902', 'https://www.anapioficeandfire.com/api/characters/903', 'https://www.anapioficeandfire.com/api/characters/905', 'https://www.anapioficeandfire.com/api/characters/909', 'https://www.anapioficeandfire.com/api/characters/912', 'https://www.anapioficeandfire.com/api/characters/913', 'https://www.anapioficeandfire.com/api/characters/914', 'https://www.anapioficeandfire.com/api/characters/922', 'https://www.anapioficeandfire.com/api/characters/923', 'https://www.anapioficeandfire.com/api/characters/925', 'https://www.anapioficeandfire.com/api/characters/927', 'https://www.anapioficeandfire.com/api/characters/929', 'https://www.anapioficeandfire.com/api/characters/930', 'https://www.anapioficeandfire.com/api/characters/931', 'https://www.anapioficeandfire.com/api/characters/932', 'https://www.anapioficeandfire.com/api/characters/933', 'https://www.anapioficeandfire.com/api/characters/937', 'https://www.anapioficeandfire.com/api/characters/938', 'https://www.anapioficeandfire.com/api/characters/940', 'https://www.anapioficeandfire.com/api/characters/941', 'https://www.anapioficeandfire.com/api/characters/944', 'https://www.anapioficeandfire.com/api/characters/945', 'https://www.anapioficeandfire.com/api/characters/946', 'https://www.anapioficeandfire.com/api/characters/947', 'https://www.anapioficeandfire.com/api/characters/948', 'https://www.anapioficeandfire.com/api/characters/949', 'https://www.anapioficeandfire.com/api/characters/950', 'https://www.anapioficeandfire.com/api/characters/952', 'https://www.anapioficeandfire.com/api/characters/953', 'https://www.anapioficeandfire.com/api/characters/955', 'https://www.anapioficeandfire.com/api/characters/956', 'https://www.anapioficeandfire.com/api/characters/959', 'https://www.anapioficeandfire.com/api/characters/960', 'https://www.anapioficeandfire.com/api/characters/961', 'https://www.anapioficeandfire.com/api/characters/965', 'https://www.anapioficeandfire.com/api/characters/966', 'https://www.anapioficeandfire.com/api/characters/968', 'https://www.anapioficeandfire.com/api/characters/972', 'https://www.anapioficeandfire.com/api/characters/973', 'https://www.anapioficeandfire.com/api/characters/974', 'https://www.anapioficeandfire.com/api/characters/975', 'https://www.anapioficeandfire.com/api/characters/976', 'https://www.anapioficeandfire.com/api/characters/983', 'https://www.anapioficeandfire.com/api/characters/984', 'https://www.anapioficeandfire.com/api/characters/986', 'https://www.anapioficeandfire.com/api/characters/989', 'https://www.anapioficeandfire.com/api/characters/991', 'https://www.anapioficeandfire.com/api/characters/992', 'https://www.anapioficeandfire.com/api/characters/994', 'https://www.anapioficeandfire.com/api/characters/995', 'https://www.anapioficeandfire.com/api/characters/996', 'https://www.anapioficeandfire.com/api/characters/997', 'https://www.anapioficeandfire.com/api/characters/998', 'https://www.anapioficeandfire.com/api/characters/1000', 'https://www.anapioficeandfire.com/api/characters/1004', 'https://www.anapioficeandfire.com/api/characters/1006', 'https://www.anapioficeandfire.com/api/characters/1008', 'https://www.anapioficeandfire.com/api/characters/1009', 'https://www.anapioficeandfire.com/api/characters/1010', 'https://www.anapioficeandfire.com/api/characters/1011', 'https://www.anapioficeandfire.com/api/characters/1013', 'https://www.anapioficeandfire.com/api/characters/1014', 'https://www.anapioficeandfire.com/api/characters/1017', 'https://www.anapioficeandfire.com/api/characters/1019', 'https://www.anapioficeandfire.com/api/characters/1020', 'https://www.anapioficeandfire.com/api/characters/1022', 'https://www.anapioficeandfire.com/api/characters/1024', 'https://www.anapioficeandfire.com/api/characters/1025', 'https://www.anapioficeandfire.com/api/characters/1027', 'https://www.anapioficeandfire.com/api/characters/1029', 'https://www.anapioficeandfire.com/api/characters/1033', 'https://www.anapioficeandfire.com/api/characters/1034', 'https://www.anapioficeandfire.com/api/characters/1036', 'https://www.anapioficeandfire.com/api/characters/1037', 'https://www.anapioficeandfire.com/api/characters/1038', 'https://www.anapioficeandfire.com/api/characters/1040', 'https://www.anapioficeandfire.com/api/characters/1043', 'https://www.anapioficeandfire.com/api/characters/1045', 'https://www.anapioficeandfire.com/api/characters/1046', 'https://www.anapioficeandfire.com/api/characters/1049', 'https://www.anapioficeandfire.com/api/characters/1051', 'https://www.anapioficeandfire.com/api/characters/1053', 'https://www.anapioficeandfire.com/api/characters/1054', 'https://www.anapioficeandfire.com/api/characters/1055', 'https://www.anapioficeandfire.com/api/characters/1056', 'https://www.anapioficeandfire.com/api/characters/1057', 'https://www.anapioficeandfire.com/api/characters/1058', 'https://www.anapioficeandfire.com/api/characters/1061', 'https://www.anapioficeandfire.com/api/characters/1063', 'https://www.anapioficeandfire.com/api/characters/1068', 'https://www.anapioficeandfire.com/api/characters/1072', 'https://www.anapioficeandfire.com/api/characters/1073', 'https://www.anapioficeandfire.com/api/characters/1074', 'https://www.anapioficeandfire.com/api/characters/1075', 'https://www.anapioficeandfire.com/api/characters/1077', 'https://www.anapioficeandfire.com/api/characters/1079', 'https://www.anapioficeandfire.com/api/characters/1080', 'https://www.anapioficeandfire.com/api/characters/1081', 'https://www.anapioficeandfire.com/api/characters/1082', 'https://www.anapioficeandfire.com/api/characters/1083', 'https://www.anapioficeandfire.com/api/characters/1084', 'https://www.anapioficeandfire.com/api/characters/1085', 'https://www.anapioficeandfire.com/api/characters/1086', 'https://www.anapioficeandfire.com/api/characters/1087', 'https://www.anapioficeandfire.com/api/characters/1088', 'https://www.anapioficeandfire.com/api/characters/1089', 'https://www.anapioficeandfire.com/api/characters/1090', 'https://www.anapioficeandfire.com/api/characters/1091', 'https://www.anapioficeandfire.com/api/characters/1092', 'https://www.anapioficeandfire.com/api/characters/1093', 'https://www.anapioficeandfire.com/api/characters/1094', 'https://www.anapioficeandfire.com/api/characters/1095', 'https://www.anapioficeandfire.com/api/characters/1096', 'https://www.anapioficeandfire.com/api/characters/1097', 'https://www.anapioficeandfire.com/api/characters/1099', 'https://www.anapioficeandfire.com/api/characters/1100', 'https://www.anapioficeandfire.com/api/characters/1102', 'https://www.anapioficeandfire.com/api/characters/1104', 'https://www.anapioficeandfire.com/api/characters/1105', 'https://www.anapioficeandfire.com/api/characters/1106', 'https://www.anapioficeandfire.com/api/characters/1107', 'https://www.anapioficeandfire.com/api/characters/1113', 'https://www.anapioficeandfire.com/api/characters/1114', 'https://www.anapioficeandfire.com/api/characters/1115', 'https://www.anapioficeandfire.com/api/characters/1116', 'https://www.anapioficeandfire.com/api/characters/1118', 'https://www.anapioficeandfire.com/api/characters/1122', 'https://www.anapioficeandfire.com/api/characters/1124', 'https://www.anapioficeandfire.com/api/characters/1125', 'https://www.anapioficeandfire.com/api/characters/1127', 'https://www.anapioficeandfire.com/api/characters/1131', 'https://www.anapioficeandfire.com/api/characters/1132', 'https://www.anapioficeandfire.com/api/characters/1134', 'https://www.anapioficeandfire.com/api/characters/1135', 'https://www.anapioficeandfire.com/api/characters/1136', 'https://www.anapioficeandfire.com/api/characters/1137', 'https://www.anapioficeandfire.com/api/characters/1139', 'https://www.anapioficeandfire.com/api/characters/1142', 'https://www.anapioficeandfire.com/api/characters/1144', 'https://www.anapioficeandfire.com/api/characters/1145', 'https://www.anapioficeandfire.com/api/characters/1146', 'https://www.anapioficeandfire.com/api/characters/1147', 'https://www.anapioficeandfire.com/api/characters/1151', 'https://www.anapioficeandfire.com/api/characters/1155', 'https://www.anapioficeandfire.com/api/characters/1157', 'https://www.anapioficeandfire.com/api/characters/1158', 'https://www.anapioficeandfire.com/api/characters/1161', 'https://www.anapioficeandfire.com/api/characters/1164', 'https://www.anapioficeandfire.com/api/characters/1165', 'https://www.anapioficeandfire.com/api/characters/1166', 'https://www.anapioficeandfire.com/api/characters/1172', 'https://www.anapioficeandfire.com/api/characters/1173', 'https://www.anapioficeandfire.com/api/characters/1174', 'https://www.anapioficeandfire.com/api/characters/1177', 'https://www.anapioficeandfire.com/api/characters/1179', 'https://www.anapioficeandfire.com/api/characters/1181', 'https://www.anapioficeandfire.com/api/characters/1182', 'https://www.anapioficeandfire.com/api/characters/1184', 'https://www.anapioficeandfire.com/api/characters/1186', 'https://www.anapioficeandfire.com/api/characters/1192', 'https://www.anapioficeandfire.com/api/characters/1194', 'https://www.anapioficeandfire.com/api/characters/1195', 'https://www.anapioficeandfire.com/api/characters/1196', 'https://www.anapioficeandfire.com/api/characters/1199', 'https://www.anapioficeandfire.com/api/characters/1200', 'https://www.anapioficeandfire.com/api/characters/1201', 'https://www.anapioficeandfire.com/api/characters/1205', 'https://www.anapioficeandfire.com/api/characters/1213', 'https://www.anapioficeandfire.com/api/characters/1216', 'https://www.anapioficeandfire.com/api/characters/1217', 'https://www.anapioficeandfire.com/api/characters/1220', 'https://www.anapioficeandfire.com/api/characters/1221', 'https://www.anapioficeandfire.com/api/characters/1222', 'https://www.anapioficeandfire.com/api/characters/1223', 'https://www.anapioficeandfire.com/api/characters/1224', 'https://www.anapioficeandfire.com/api/characters/1227', 'https://www.anapioficeandfire.com/api/characters/1231', 'https://www.anapioficeandfire.com/api/characters/1233', 'https://www.anapioficeandfire.com/api/characters/1234', 'https://www.anapioficeandfire.com/api/characters/1237', 'https://www.anapioficeandfire.com/api/characters/1240', 'https://www.anapioficeandfire.com/api/characters/1244', 'https://www.anapioficeandfire.com/api/characters/1246', 'https://www.anapioficeandfire.com/api/characters/1250', 'https://www.anapioficeandfire.com/api/characters/1252', 'https://www.anapioficeandfire.com/api/characters/1253', 'https://www.anapioficeandfire.com/api/characters/1257', 'https://www.anapioficeandfire.com/api/characters/1262', 'https://www.anapioficeandfire.com/api/characters/1265', 'https://www.anapioficeandfire.com/api/characters/1266', 'https://www.anapioficeandfire.com/api/characters/1270', 'https://www.anapioficeandfire.com/api/characters/1274', 'https://www.anapioficeandfire.com/api/characters/1275', 'https://www.anapioficeandfire.com/api/characters/1277', 'https://www.anapioficeandfire.com/api/characters/1279', 'https://www.anapioficeandfire.com/api/characters/1280', 'https://www.anapioficeandfire.com/api/characters/1281', 'https://www.anapioficeandfire.com/api/characters/1283', 'https://www.anapioficeandfire.com/api/characters/1289', 'https://www.anapioficeandfire.com/api/characters/1293', 'https://www.anapioficeandfire.com/api/characters/1295', 'https://www.anapioficeandfire.com/api/characters/1296', 'https://www.anapioficeandfire.com/api/characters/1298', 'https://www.anapioficeandfire.com/api/characters/1301', 'https://www.anapioficeandfire.com/api/characters/1305', 'https://www.anapioficeandfire.com/api/characters/1310', 'https://www.anapioficeandfire.com/api/characters/1311', 'https://www.anapioficeandfire.com/api/characters/1314', 'https://www.anapioficeandfire.com/api/characters/1315', 'https://www.anapioficeandfire.com/api/characters/1316', 'https://www.anapioficeandfire.com/api/characters/1317', 'https://www.anapioficeandfire.com/api/characters/1320', 'https://www.anapioficeandfire.com/api/characters/1321', 'https://www.anapioficeandfire.com/api/characters/1323', 'https://www.anapioficeandfire.com/api/characters/1325', 'https://www.anapioficeandfire.com/api/characters/1331', 'https://www.anapioficeandfire.com/api/characters/1334', 'https://www.anapioficeandfire.com/api/characters/1335', 'https://www.anapioficeandfire.com/api/characters/1337', 'https://www.anapioficeandfire.com/api/characters/1341', 'https://www.anapioficeandfire.com/api/characters/1342', 'https://www.anapioficeandfire.com/api/characters/1346', 'https://www.anapioficeandfire.com/api/characters/1347', 'https://www.anapioficeandfire.com/api/characters/1348', 'https://www.anapioficeandfire.com/api/characters/1350', 'https://www.anapioficeandfire.com/api/characters/1351', 'https://www.anapioficeandfire.com/api/characters/1352', 'https://www.anapioficeandfire.com/api/characters/1353', 'https://www.anapioficeandfire.com/api/characters/1355', 'https://www.anapioficeandfire.com/api/characters/1358', 'https://www.anapioficeandfire.com/api/characters/1362', 'https://www.anapioficeandfire.com/api/characters/1363', 'https://www.anapioficeandfire.com/api/characters/1364', 'https://www.anapioficeandfire.com/api/characters/1367', 'https://www.anapioficeandfire.com/api/characters/1369', 'https://www.anapioficeandfire.com/api/characters/1374', 'https://www.anapioficeandfire.com/api/characters/1375', 'https://www.anapioficeandfire.com/api/characters/1376', 'https://www.anapioficeandfire.com/api/characters/1377', 'https://www.anapioficeandfire.com/api/characters/1383', 'https://www.anapioficeandfire.com/api/characters/1384', 'https://www.anapioficeandfire.com/api/characters/1385', 'https://www.anapioficeandfire.com/api/characters/1390', 'https://www.anapioficeandfire.com/api/characters/1393', 'https://www.anapioficeandfire.com/api/characters/1396', 'https://www.anapioficeandfire.com/api/characters/1401', 'https://www.anapioficeandfire.com/api/characters/1404', 'https://www.anapioficeandfire.com/api/characters/1409', 'https://www.anapioficeandfire.com/api/characters/1410', 'https://www.anapioficeandfire.com/api/characters/1411', 'https://www.anapioficeandfire.com/api/characters/1412', 'https://www.anapioficeandfire.com/api/characters/1413', 'https://www.anapioficeandfire.com/api/characters/1417', 'https://www.anapioficeandfire.com/api/characters/1418', 'https://www.anapioficeandfire.com/api/characters/1419', 'https://www.anapioficeandfire.com/api/characters/1420', 'https://www.anapioficeandfire.com/api/characters/1425', 'https://www.anapioficeandfire.com/api/characters/1426', 'https://www.anapioficeandfire.com/api/characters/1427', 'https://www.anapioficeandfire.com/api/characters/1428', 'https://www.anapioficeandfire.com/api/characters/1429', 'https://www.anapioficeandfire.com/api/characters/1434', 'https://www.anapioficeandfire.com/api/characters/1435', 'https://www.anapioficeandfire.com/api/characters/1436', 'https://www.anapioficeandfire.com/api/characters/1437', 'https://www.anapioficeandfire.com/api/characters/1438', 'https://www.anapioficeandfire.com/api/characters/1442', 'https://www.anapioficeandfire.com/api/characters/1445', 'https://www.anapioficeandfire.com/api/characters/1447', 'https://www.anapioficeandfire.com/api/characters/1448', 'https://www.anapioficeandfire.com/api/characters/1450', 'https://www.anapioficeandfire.com/api/characters/1451', 'https://www.anapioficeandfire.com/api/characters/1453', 'https://www.anapioficeandfire.com/api/characters/1455', 'https://www.anapioficeandfire.com/api/characters/1465', 'https://www.anapioficeandfire.com/api/characters/1466', 'https://www.anapioficeandfire.com/api/characters/1467', 'https://www.anapioficeandfire.com/api/characters/1468', 'https://www.anapioficeandfire.com/api/characters/1471', 'https://www.anapioficeandfire.com/api/characters/1472', 'https://www.anapioficeandfire.com/api/characters/1474', 'https://www.anapioficeandfire.com/api/characters/1475', 'https://www.anapioficeandfire.com/api/characters/1479', 'https://www.anapioficeandfire.com/api/characters/1481', 'https://www.anapioficeandfire.com/api/characters/1487', 'https://www.anapioficeandfire.com/api/characters/1488', 'https://www.anapioficeandfire.com/api/characters/1494', 'https://www.anapioficeandfire.com/api/characters/1495', 'https://www.anapioficeandfire.com/api/characters/1497', 'https://www.anapioficeandfire.com/api/characters/1502', 'https://www.anapioficeandfire.com/api/characters/1507', 'https://www.anapioficeandfire.com/api/characters/1508', 'https://www.anapioficeandfire.com/api/characters/1515', 'https://www.anapioficeandfire.com/api/characters/1518', 'https://www.anapioficeandfire.com/api/characters/1519', 'https://www.anapioficeandfire.com/api/characters/1520', 'https://www.anapioficeandfire.com/api/characters/1522', 'https://www.anapioficeandfire.com/api/characters/1523', 'https://www.anapioficeandfire.com/api/characters/1525', 'https://www.anapioficeandfire.com/api/characters/1526', 'https://www.anapioficeandfire.com/api/characters/1531', 'https://www.anapioficeandfire.com/api/characters/1532', 'https://www.anapioficeandfire.com/api/characters/1533', 'https://www.anapioficeandfire.com/api/characters/1535', 'https://www.anapioficeandfire.com/api/characters/1536', 'https://www.anapioficeandfire.com/api/characters/1539', 'https://www.anapioficeandfire.com/api/characters/1540', 'https://www.anapioficeandfire.com/api/characters/1544', 'https://www.anapioficeandfire.com/api/characters/1547', 'https://www.anapioficeandfire.com/api/characters/1548', 'https://www.anapioficeandfire.com/api/characters/1549', 'https://www.anapioficeandfire.com/api/characters/1559', 'https://www.anapioficeandfire.com/api/characters/1560', 'https://www.anapioficeandfire.com/api/characters/1561', 'https://www.anapioficeandfire.com/api/characters/1569', 'https://www.anapioficeandfire.com/api/characters/1570', 'https://www.anapioficeandfire.com/api/characters/1571', 'https://www.anapioficeandfire.com/api/characters/1574', 'https://www.anapioficeandfire.com/api/characters/1575', 'https://www.anapioficeandfire.com/api/characters/1576', 'https://www.anapioficeandfire.com/api/characters/1577', 'https://www.anapioficeandfire.com/api/characters/1578', 'https://www.anapioficeandfire.com/api/characters/1580', 'https://www.anapioficeandfire.com/api/characters/1581', 'https://www.anapioficeandfire.com/api/characters/1584', 'https://www.anapioficeandfire.com/api/characters/1587', 'https://www.anapioficeandfire.com/api/characters/1594', 'https://www.anapioficeandfire.com/api/characters/1599', 'https://www.anapioficeandfire.com/api/characters/1603', 'https://www.anapioficeandfire.com/api/characters/1604', 'https://www.anapioficeandfire.com/api/characters/1606', 'https://www.anapioficeandfire.com/api/characters/1607', 'https://www.anapioficeandfire.com/api/characters/1612', 'https://www.anapioficeandfire.com/api/characters/1613', 'https://www.anapioficeandfire.com/api/characters/1615', 'https://www.anapioficeandfire.com/api/characters/1616', 'https://www.anapioficeandfire.com/api/characters/1617', 'https://www.anapioficeandfire.com/api/characters/1618', 'https://www.anapioficeandfire.com/api/characters/1619', 'https://www.anapioficeandfire.com/api/characters/1621', 'https://www.anapioficeandfire.com/api/characters/1623', 'https://www.anapioficeandfire.com/api/characters/1625', 'https://www.anapioficeandfire.com/api/characters/1626', 'https://www.anapioficeandfire.com/api/characters/1627', 'https://www.anapioficeandfire.com/api/characters/1629', 'https://www.anapioficeandfire.com/api/characters/1630', 'https://www.anapioficeandfire.com/api/characters/1632', 'https://www.anapioficeandfire.com/api/characters/1634', 'https://www.anapioficeandfire.com/api/characters/1640', 'https://www.anapioficeandfire.com/api/characters/1645', 'https://www.anapioficeandfire.com/api/characters/1647', 'https://www.anapioficeandfire.com/api/characters/1649', 'https://www.anapioficeandfire.com/api/characters/1650', 'https://www.anapioficeandfire.com/api/characters/1654', 'https://www.anapioficeandfire.com/api/characters/1656', 'https://www.anapioficeandfire.com/api/characters/1657', 'https://www.anapioficeandfire.com/api/characters/1658', 'https://www.anapioficeandfire.com/api/characters/1659', 'https://www.anapioficeandfire.com/api/characters/1660', 'https://www.anapioficeandfire.com/api/characters/1666', 'https://www.anapioficeandfire.com/api/characters/1667', 'https://www.anapioficeandfire.com/api/characters/1669', 'https://www.anapioficeandfire.com/api/characters/1670', 'https://www.anapioficeandfire.com/api/characters/1674', 'https://www.anapioficeandfire.com/api/characters/1675', 'https://www.anapioficeandfire.com/api/characters/1676', 'https://www.anapioficeandfire.com/api/characters/1678', 'https://www.anapioficeandfire.com/api/characters/1681', 'https://www.anapioficeandfire.com/api/characters/1682', 'https://www.anapioficeandfire.com/api/characters/1683', 'https://www.anapioficeandfire.com/api/characters/1684', 'https://www.anapioficeandfire.com/api/characters/1685', 'https://www.anapioficeandfire.com/api/characters/1688', 'https://www.anapioficeandfire.com/api/characters/1692', 'https://www.anapioficeandfire.com/api/characters/1695', 'https://www.anapioficeandfire.com/api/characters/1696', 'https://www.anapioficeandfire.com/api/characters/1697', 'https://www.anapioficeandfire.com/api/characters/1700', 'https://www.anapioficeandfire.com/api/characters/1701', 'https://www.anapioficeandfire.com/api/characters/1703', 'https://www.anapioficeandfire.com/api/characters/1704', 'https://www.anapioficeandfire.com/api/characters/1706', 'https://www.anapioficeandfire.com/api/characters/1708', 'https://www.anapioficeandfire.com/api/characters/1709', 'https://www.anapioficeandfire.com/api/characters/1713', 'https://www.anapioficeandfire.com/api/characters/1715', 'https://www.anapioficeandfire.com/api/characters/1727', 'https://www.anapioficeandfire.com/api/characters/1729', 'https://www.anapioficeandfire.com/api/characters/1730', 'https://www.anapioficeandfire.com/api/characters/1732', 'https://www.anapioficeandfire.com/api/characters/1733', 'https://www.anapioficeandfire.com/api/characters/1735', 'https://www.anapioficeandfire.com/api/characters/1740', 'https://www.anapioficeandfire.com/api/characters/1741', 'https://www.anapioficeandfire.com/api/characters/1742', 'https://www.anapioficeandfire.com/api/characters/1747', 'https://www.anapioficeandfire.com/api/characters/1749', 'https://www.anapioficeandfire.com/api/characters/1754', 'https://www.anapioficeandfire.com/api/characters/1755', 'https://www.anapioficeandfire.com/api/characters/1759', 'https://www.anapioficeandfire.com/api/characters/1761', 'https://www.anapioficeandfire.com/api/characters/1762', 'https://www.anapioficeandfire.com/api/characters/1764', 'https://www.anapioficeandfire.com/api/characters/1766', 'https://www.anapioficeandfire.com/api/characters/1768', 'https://www.anapioficeandfire.com/api/characters/1769', 'https://www.anapioficeandfire.com/api/characters/1770', 'https://www.anapioficeandfire.com/api/characters/1774', 'https://www.anapioficeandfire.com/api/characters/1776', 'https://www.anapioficeandfire.com/api/characters/1777', 'https://www.anapioficeandfire.com/api/characters/1778', 'https://www.anapioficeandfire.com/api/characters/1781', 'https://www.anapioficeandfire.com/api/characters/1782', 'https://www.anapioficeandfire.com/api/characters/1783', 'https://www.anapioficeandfire.com/api/characters/1784', 'https://www.anapioficeandfire.com/api/characters/1785', 'https://www.anapioficeandfire.com/api/characters/1787', 'https://www.anapioficeandfire.com/api/characters/1789', 'https://www.anapioficeandfire.com/api/characters/1791', 'https://www.anapioficeandfire.com/api/characters/1794', 'https://www.anapioficeandfire.com/api/characters/1795', 'https://www.anapioficeandfire.com/api/characters/1797', 'https://www.anapioficeandfire.com/api/characters/1799', 'https://www.anapioficeandfire.com/api/characters/1800', 'https://www.anapioficeandfire.com/api/characters/1804', 'https://www.anapioficeandfire.com/api/characters/1805', 'https://www.anapioficeandfire.com/api/characters/1806', 'https://www.anapioficeandfire.com/api/characters/1807', 'https://www.anapioficeandfire.com/api/characters/1808', 'https://www.anapioficeandfire.com/api/characters/1809', 'https://www.anapioficeandfire.com/api/characters/1810', 'https://www.anapioficeandfire.com/api/characters/1811', 'https://www.anapioficeandfire.com/api/characters/1814', 'https://www.anapioficeandfire.com/api/characters/1815', 'https://www.anapioficeandfire.com/api/characters/1821', 'https://www.anapioficeandfire.com/api/characters/1824', 'https://www.anapioficeandfire.com/api/characters/1825', 'https://www.anapioficeandfire.com/api/characters/1826', 'https://www.anapioficeandfire.com/api/characters/1827', 'https://www.anapioficeandfire.com/api/characters/1828', 'https://www.anapioficeandfire.com/api/characters/1830', 'https://www.anapioficeandfire.com/api/characters/1839', 'https://www.anapioficeandfire.com/api/characters/1843', 'https://www.anapioficeandfire.com/api/characters/1847', 'https://www.anapioficeandfire.com/api/characters/1848', 'https://www.anapioficeandfire.com/api/characters/1852', 'https://www.anapioficeandfire.com/api/characters/1854', 'https://www.anapioficeandfire.com/api/characters/1856', 'https://www.anapioficeandfire.com/api/characters/1860', 'https://www.anapioficeandfire.com/api/characters/1861', 'https://www.anapioficeandfire.com/api/characters/1862', 'https://www.anapioficeandfire.com/api/characters/1864', 'https://www.anapioficeandfire.com/api/characters/1873', 'https://www.anapioficeandfire.com/api/characters/1880', 'https://www.anapioficeandfire.com/api/characters/1882', 'https://www.anapioficeandfire.com/api/characters/1885', 'https://www.anapioficeandfire.com/api/characters/1896', 'https://www.anapioficeandfire.com/api/characters/1900', 'https://www.anapioficeandfire.com/api/characters/1902', 'https://www.anapioficeandfire.com/api/characters/1903', 'https://www.anapioficeandfire.com/api/characters/1904', 'https://www.anapioficeandfire.com/api/characters/1911', 'https://www.anapioficeandfire.com/api/characters/1916', 'https://www.anapioficeandfire.com/api/characters/1917', 'https://www.anapioficeandfire.com/api/characters/1918', 'https://www.anapioficeandfire.com/api/characters/1920', 'https://www.anapioficeandfire.com/api/characters/1921', 'https://www.anapioficeandfire.com/api/characters/1922', 'https://www.anapioficeandfire.com/api/characters/1925', 'https://www.anapioficeandfire.com/api/characters/1926', 'https://www.anapioficeandfire.com/api/characters/1930', 'https://www.anapioficeandfire.com/api/characters/1931', 'https://www.anapioficeandfire.com/api/characters/1932', 'https://www.anapioficeandfire.com/api/characters/1933', 'https://www.anapioficeandfire.com/api/characters/1934', 'https://www.anapioficeandfire.com/api/characters/1935', 'https://www.anapioficeandfire.com/api/characters/1938', 'https://www.anapioficeandfire.com/api/characters/1939', 'https://www.anapioficeandfire.com/api/characters/1940', 'https://www.anapioficeandfire.com/api/characters/1941', 'https://www.anapioficeandfire.com/api/characters/1943', 'https://www.anapioficeandfire.com/api/characters/1947', 'https://www.anapioficeandfire.com/api/characters/1951', 'https://www.anapioficeandfire.com/api/characters/1952', 'https://www.anapioficeandfire.com/api/characters/1954', 'https://www.anapioficeandfire.com/api/characters/1955', 'https://www.anapioficeandfire.com/api/characters/1957', 'https://www.anapioficeandfire.com/api/characters/1959', 'https://www.anapioficeandfire.com/api/characters/1963', 'https://www.anapioficeandfire.com/api/characters/1964', 'https://www.anapioficeandfire.com/api/characters/1967', 'https://www.anapioficeandfire.com/api/characters/1969', 'https://www.anapioficeandfire.com/api/characters/1971', 'https://www.anapioficeandfire.com/api/characters/1972', 'https://www.anapioficeandfire.com/api/characters/1976', 'https://www.anapioficeandfire.com/api/characters/1977', 'https://www.anapioficeandfire.com/api/characters/1979', 'https://www.anapioficeandfire.com/api/characters/1984', 'https://www.anapioficeandfire.com/api/characters/1988', 'https://www.anapioficeandfire.com/api/characters/1990', 'https://www.anapioficeandfire.com/api/characters/1993', 'https://www.anapioficeandfire.com/api/characters/1994', 'https://www.anapioficeandfire.com/api/characters/1996', 'https://www.anapioficeandfire.com/api/characters/2002', 'https://www.anapioficeandfire.com/api/characters/2003', 'https://www.anapioficeandfire.com/api/characters/2005', 'https://www.anapioficeandfire.com/api/characters/2006', 'https://www.anapioficeandfire.com/api/characters/2007', 'https://www.anapioficeandfire.com/api/characters/2009', 'https://www.anapioficeandfire.com/api/characters/2010', 'https://www.anapioficeandfire.com/api/characters/2013', 'https://www.anapioficeandfire.com/api/characters/2014', 'https://www.anapioficeandfire.com/api/characters/2016', 'https://www.anapioficeandfire.com/api/characters/2017', 'https://www.anapioficeandfire.com/api/characters/2018', 'https://www.anapioficeandfire.com/api/characters/2020', 'https://www.anapioficeandfire.com/api/characters/2022', 'https://www.anapioficeandfire.com/api/characters/2024', 'https://www.anapioficeandfire.com/api/characters/2027', 'https://www.anapioficeandfire.com/api/characters/2031', 'https://www.anapioficeandfire.com/api/characters/2032', 'https://www.anapioficeandfire.com/api/characters/2035', 'https://www.anapioficeandfire.com/api/characters/2038', 'https://www.anapioficeandfire.com/api/characters/2041', 'https://www.anapioficeandfire.com/api/characters/2044', 'https://www.anapioficeandfire.com/api/characters/2045', 'https://www.anapioficeandfire.com/api/characters/2049', 'https://www.anapioficeandfire.com/api/characters/2050', 'https://www.anapioficeandfire.com/api/characters/2052', 'https://www.anapioficeandfire.com/api/characters/2060', 'https://www.anapioficeandfire.com/api/characters/2063', 'https://www.anapioficeandfire.com/api/characters/2065', 'https://www.anapioficeandfire.com/api/characters/2066', 'https://www.anapioficeandfire.com/api/characters/2067', 'https://www.anapioficeandfire.com/api/characters/2069', 'https://www.anapioficeandfire.com/api/characters/2070', 'https://www.anapioficeandfire.com/api/characters/2071', 'https://www.anapioficeandfire.com/api/characters/2072', 'https://www.anapioficeandfire.com/api/characters/2073', 'https://www.anapioficeandfire.com/api/characters/2074', 'https://www.anapioficeandfire.com/api/characters/2077', 'https://www.anapioficeandfire.com/api/characters/2085', 'https://www.anapioficeandfire.com/api/characters/2087', 'https://www.anapioficeandfire.com/api/characters/2088', 'https://www.anapioficeandfire.com/api/characters/2091', 'https://www.anapioficeandfire.com/api/characters/2092', 'https://www.anapioficeandfire.com/api/characters/2093', 'https://www.anapioficeandfire.com/api/characters/2097', 'https://www.anapioficeandfire.com/api/characters/2098', 'https://www.anapioficeandfire.com/api/characters/2099', 'https://www.anapioficeandfire.com/api/characters/2100', 'https://www.anapioficeandfire.com/api/characters/2109', 'https://www.anapioficeandfire.com/api/characters/2120', 'https://www.anapioficeandfire.com/api/characters/2121', 'https://www.anapioficeandfire.com/api/characters/2122', 'https://www.anapioficeandfire.com/api/characters/2126', 'https://www.anapioficeandfire.com/api/characters/2131', 'https://www.anapioficeandfire.com/api/characters/2134', 'https://www.anapioficeandfire.com/api/characters/2137'], 'povCharacters': ['https://www.anapioficeandfire.com/api/characters/148', 'https://www.anapioficeandfire.com/api/characters/208', 'https://www.anapioficeandfire.com/api/characters/232', 'https://www.anapioficeandfire.com/api/characters/529', 'https://www.anapioficeandfire.com/api/characters/583', 'https://www.anapioficeandfire.com/api/characters/751', 'https://www.anapioficeandfire.com/api/characters/954', 'https://www.anapioficeandfire.com/api/characters/957', 'https://www.anapioficeandfire.com/api/characters/1052', 'https://www.anapioficeandfire.com/api/characters/1267', 'https://www.anapioficeandfire.com/api/characters/1303', 'https://www.anapioficeandfire.com/api/characters/1319']}, {'url': 'https://www.anapioficeandfire.com/api/books/4', 'name': 'The Hedge Knight', 'isbn': '978-0976401100', 'authors': ['George R. R. Martin'], 'numberOfPages': 164, 'publisher': 'Dabel Brothers Publishing', 'country': 'United States', 'mediaType': 'GraphicNovel', 'released': '2005-03-09T00:00:00', 'characters': ['https://www.anapioficeandfire.com/api/characters/29', 'https://www.anapioficeandfire.com/api/characters/38', 'https://www.anapioficeandfire.com/api/characters/40', 'https://www.anapioficeandfire.com/api/characters/41', 'https://www.anapioficeandfire.com/api/characters/46', 'https://www.anapioficeandfire.com/api/characters/54', 'https://www.anapioficeandfire.com/api/characters/58', 'https://www.anapioficeandfire.com/api/characters/61', 'https://www.anapioficeandfire.com/api/characters/121', 'https://www.anapioficeandfire.com/api/characters/132', 'https://www.anapioficeandfire.com/api/characters/161', 'https://www.anapioficeandfire.com/api/characters/274', 'https://www.anapioficeandfire.com/api/characters/276', 'https://www.anapioficeandfire.com/api/characters/283', 'https://www.anapioficeandfire.com/api/characters/318', 'https://www.anapioficeandfire.com/api/characters/412', 'https://www.anapioficeandfire.com/api/characters/437', 'https://www.anapioficeandfire.com/api/characters/513', 'https://www.anapioficeandfire.com/api/characters/514', 'https://www.anapioficeandfire.com/api/characters/581', 'https://www.anapioficeandfire.com/api/characters/596', 'https://www.anapioficeandfire.com/api/characters/623', 'https://www.anapioficeandfire.com/api/characters/641', 'https://www.anapioficeandfire.com/api/characters/679', 'https://www.anapioficeandfire.com/api/characters/695', 'https://www.anapioficeandfire.com/api/characters/702', 'https://www.anapioficeandfire.com/api/characters/709', 'https://www.anapioficeandfire.com/api/characters/729', 'https://www.anapioficeandfire.com/api/characters/733', 'https://www.anapioficeandfire.com/api/characters/782', 'https://www.anapioficeandfire.com/api/characters/792', 'https://www.anapioficeandfire.com/api/characters/807', 'https://www.anapioficeandfire.com/api/characters/816', 'https://www.anapioficeandfire.com/api/characters/843', 'https://www.anapioficeandfire.com/api/characters/853', 'https://www.anapioficeandfire.com/api/characters/868', 'https://www.anapioficeandfire.com/api/characters/874', 'https://www.anapioficeandfire.com/api/characters/895', 'https://www.anapioficeandfire.com/api/characters/910', 'https://www.anapioficeandfire.com/api/characters/921', 'https://www.anapioficeandfire.com/api/characters/945', 'https://www.anapioficeandfire.com/api/characters/969', 'https://www.anapioficeandfire.com/api/characters/988', 'https://www.anapioficeandfire.com/api/characters/1048', 'https://www.anapioficeandfire.com/api/characters/1067', 'https://www.anapioficeandfire.com/api/characters/1117', 'https://www.anapioficeandfire.com/api/characters/1392', 'https://www.anapioficeandfire.com/api/characters/1812', 'https://www.anapioficeandfire.com/api/characters/1966', 'https://www.anapioficeandfire.com/api/characters/1976', 'https://www.anapioficeandfire.com/api/characters/1983', 'https://www.anapioficeandfire.com/api/characters/2086', 'https://www.anapioficeandfire.com/api/characters/2128', 'https://www.anapioficeandfire.com/api/characters/2130'], 'povCharacters': ['https://www.anapioficeandfire.com/api/characters/329']}, {'url': 'https://www.anapioficeandfire.com/api/books/5', 'name': 'A Feast for Crows', 'isbn': '978-0553801507', 'authors': ['George R. R. Martin'], 'numberOfPages': 784, 'publisher': 'Bantam Books', 'country': 'United Status', 'mediaType': 'Hardcover', 'released': '2005-11-08T00:00:00', 'characters': ['https://www.anapioficeandfire.com/api/characters/1', 'https://www.anapioficeandfire.com/api/characters/2', 'https://www.anapioficeandfire.com/api/characters/4', 'https://www.anapioficeandfire.com/api/characters/5', 'https://www.anapioficeandfire.com/api/characters/6', 'https://www.anapioficeandfire.com/api/characters/9', 'https://www.anapioficeandfire.com/api/characters/10', 'https://www.anapioficeandfire.com/api/characters/11', 'https://www.anapioficeandfire.com/api/characters/12', 'https://www.anapioficeandfire.com/api/characters/14', 'https://www.anapioficeandfire.com/api/characters/15', 'https://www.anapioficeandfire.com/api/characters/16', 'https://www.anapioficeandfire.com/api/characters/17', 'https://www.anapioficeandfire.com/api/characters/18', 'https://www.anapioficeandfire.com/api/characters/19', 'https://www.anapioficeandfire.com/api/characters/21', 'https://www.anapioficeandfire.com/api/characters/22', 'https://www.anapioficeandfire.com/api/characters/24', 'https://www.anapioficeandfire.com/api/characters/25', 'https://www.anapioficeandfire.com/api/characters/26', 'https://www.anapioficeandfire.com/api/characters/27', 'https://www.anapioficeandfire.com/api/characters/28', 'https://www.anapioficeandfire.com/api/characters/31', 'https://www.anapioficeandfire.com/api/characters/34', 'https://www.anapioficeandfire.com/api/characters/36', 'https://www.anapioficeandfire.com/api/characters/37', 'https://www.anapioficeandfire.com/api/characters/38', 'https://www.anapioficeandfire.com/api/characters/39', 'https://www.anapioficeandfire.com/api/characters/42', 'https://www.anapioficeandfire.com/api/characters/46', 'https://www.anapioficeandfire.com/api/characters/47', 'https://www.anapioficeandfire.com/api/characters/52', 'https://www.anapioficeandfire.com/api/characters/53', 'https://www.anapioficeandfire.com/api/characters/54', 'https://www.anapioficeandfire.com/api/characters/56', 'https://www.anapioficeandfire.com/api/characters/62', 'https://www.anapioficeandfire.com/api/characters/63', 'https://www.anapioficeandfire.com/api/characters/66', 'https://www.anapioficeandfire.com/api/characters/67', 'https://www.anapioficeandfire.com/api/characters/68', 'https://www.anapioficeandfire.com/api/characters/69', 'https://www.anapioficeandfire.com/api/characters/70', 'https://www.anapioficeandfire.com/api/characters/71', 'https://www.anapioficeandfire.com/api/characters/73', 'https://www.anapioficeandfire.com/api/characters/74', 'https://www.anapioficeandfire.com/api/characters/77', 'https://www.anapioficeandfire.com/api/characters/79', 'https://www.anapioficeandfire.com/api/characters/81', 'https://www.anapioficeandfire.com/api/characters/82', 'https://www.anapioficeandfire.com/api/characters/84', 'https://www.anapioficeandfire.com/api/characters/85', 'https://www.anapioficeandfire.com/api/characters/86', 'https://www.anapioficeandfire.com/api/characters/87', 'https://www.anapioficeandfire.com/api/characters/88', 'https://www.anapioficeandfire.com/api/characters/89', 'https://www.anapioficeandfire.com/api/characters/91', 'https://www.anapioficeandfire.com/api/characters/92', 'https://www.anapioficeandfire.com/api/characters/94', 'https://www.anapioficeandfire.com/api/characters/95', 'https://www.anapioficeandfire.com/api/characters/96', 'https://www.anapioficeandfire.com/api/characters/99', 'https://www.anapioficeandfire.com/api/characters/100', 'https://www.anapioficeandfire.com/api/characters/102', 'https://www.anapioficeandfire.com/api/characters/103', 'https://www.anapioficeandfire.com/api/characters/106', 'https://www.anapioficeandfire.com/api/characters/108', 'https://www.anapioficeandfire.com/api/characters/111', 'https://www.anapioficeandfire.com/api/characters/112', 'https://www.anapioficeandfire.com/api/characters/114', 'https://www.anapioficeandfire.com/api/characters/115', 'https://www.anapioficeandfire.com/api/characters/116', 'https://www.anapioficeandfire.com/api/characters/117', 'https://www.anapioficeandfire.com/api/characters/118', 'https://www.anapioficeandfire.com/api/characters/122', 'https://www.anapioficeandfire.com/api/characters/123', 'https://www.anapioficeandfire.com/api/characters/124', 'https://www.anapioficeandfire.com/api/characters/125', 'https://www.anapioficeandfire.com/api/characters/131', 'https://www.anapioficeandfire.com/api/characters/134', 'https://www.anapioficeandfire.com/api/characters/135', 'https://www.anapioficeandfire.com/api/characters/138', 'https://www.anapioficeandfire.com/api/characters/141', 'https://www.anapioficeandfire.com/api/characters/142', 'https://www.anapioficeandfire.com/api/characters/145', 'https://www.anapioficeandfire.com/api/characters/146', 'https://www.anapioficeandfire.com/api/characters/147', 'https://www.anapioficeandfire.com/api/characters/153', 'https://www.anapioficeandfire.com/api/characters/158', 'https://www.anapioficeandfire.com/api/characters/159', 'https://www.anapioficeandfire.com/api/characters/160', 'https://www.anapioficeandfire.com/api/characters/162', 'https://www.anapioficeandfire.com/api/characters/163', 'https://www.anapioficeandfire.com/api/characters/164', 'https://www.anapioficeandfire.com/api/characters/166', 'https://www.anapioficeandfire.com/api/characters/168', 'https://www.anapioficeandfire.com/api/characters/169', 'https://www.anapioficeandfire.com/api/characters/172', 'https://www.anapioficeandfire.com/api/characters/173', 'https://www.anapioficeandfire.com/api/characters/174', 'https://www.anapioficeandfire.com/api/characters/175', 'https://www.anapioficeandfire.com/api/characters/176', 'https://www.anapioficeandfire.com/api/characters/177', 'https://www.anapioficeandfire.com/api/characters/179', 'https://www.anapioficeandfire.com/api/characters/180', 'https://www.anapioficeandfire.com/api/characters/181', 'https://www.anapioficeandfire.com/api/characters/184', 'https://www.anapioficeandfire.com/api/characters/185', 'https://www.anapioficeandfire.com/api/characters/187', 'https://www.anapioficeandfire.com/api/characters/188', 'https://www.anapioficeandfire.com/api/characters/189', 'https://www.anapioficeandfire.com/api/characters/190', 'https://www.anapioficeandfire.com/api/characters/191', 'https://www.anapioficeandfire.com/api/characters/194', 'https://www.anapioficeandfire.com/api/characters/196', 'https://www.anapioficeandfire.com/api/characters/199', 'https://www.anapioficeandfire.com/api/characters/200', 'https://www.anapioficeandfire.com/api/characters/201', 'https://www.anapioficeandfire.com/api/characters/202', 'https://www.anapioficeandfire.com/api/characters/203', 'https://www.anapioficeandfire.com/api/characters/204', 'https://www.anapioficeandfire.com/api/characters/205', 'https://www.anapioficeandfire.com/api/characters/208', 'https://www.anapioficeandfire.com/api/characters/209', 'https://www.anapioficeandfire.com/api/characters/214', 'https://www.anapioficeandfire.com/api/characters/215', 'https://www.anapioficeandfire.com/api/characters/217', 'https://www.anapioficeandfire.com/api/characters/219', 'https://www.anapioficeandfire.com/api/characters/221', 'https://www.anapioficeandfire.com/api/characters/222', 'https://www.anapioficeandfire.com/api/characters/223', 'https://www.anapioficeandfire.com/api/characters/225', 'https://www.anapioficeandfire.com/api/characters/227', 'https://www.anapioficeandfire.com/api/characters/228', 'https://www.anapioficeandfire.com/api/characters/232', 'https://www.anapioficeandfire.com/api/characters/233', 'https://www.anapioficeandfire.com/api/characters/235', 'https://www.anapioficeandfire.com/api/characters/237', 'https://www.anapioficeandfire.com/api/characters/241', 'https://www.anapioficeandfire.com/api/characters/243', 'https://www.anapioficeandfire.com/api/characters/244', 'https://www.anapioficeandfire.com/api/characters/245', 'https://www.anapioficeandfire.com/api/characters/246', 'https://www.anapioficeandfire.com/api/characters/247', 'https://www.anapioficeandfire.com/api/characters/250', 'https://www.anapioficeandfire.com/api/characters/251', 'https://www.anapioficeandfire.com/api/characters/252', 'https://www.anapioficeandfire.com/api/characters/260', 'https://www.anapioficeandfire.com/api/characters/261', 'https://www.anapioficeandfire.com/api/characters/262', 'https://www.anapioficeandfire.com/api/characters/263', 'https://www.anapioficeandfire.com/api/characters/264', 'https://www.anapioficeandfire.com/api/characters/270', 'https://www.anapioficeandfire.com/api/characters/273', 'https://www.anapioficeandfire.com/api/characters/274', 'https://www.anapioficeandfire.com/api/characters/276', 'https://www.anapioficeandfire.com/api/characters/277', 'https://www.anapioficeandfire.com/api/characters/278', 'https://www.anapioficeandfire.com/api/characters/279', 'https://www.anapioficeandfire.com/api/characters/280', 'https://www.anapioficeandfire.com/api/characters/281', 'https://www.anapioficeandfire.com/api/characters/282', 'https://www.anapioficeandfire.com/api/characters/285', 'https://www.anapioficeandfire.com/api/characters/286', 'https://www.anapioficeandfire.com/api/characters/287', 'https://www.anapioficeandfire.com/api/characters/288', 'https://www.anapioficeandfire.com/api/characters/289', 'https://www.anapioficeandfire.com/api/characters/291', 'https://www.anapioficeandfire.com/api/characters/294', 'https://www.anapioficeandfire.com/api/characters/295', 'https://www.anapioficeandfire.com/api/characters/296', 'https://www.anapioficeandfire.com/api/characters/297', 'https://www.anapioficeandfire.com/api/characters/298', 'https://www.anapioficeandfire.com/api/characters/299', 'https://www.anapioficeandfire.com/api/characters/300', 'https://www.anapioficeandfire.com/api/characters/301', 'https://www.anapioficeandfire.com/api/characters/302', 'https://www.anapioficeandfire.com/api/characters/303', 'https://www.anapioficeandfire.com/api/characters/304', 'https://www.anapioficeandfire.com/api/characters/305', 'https://www.anapioficeandfire.com/api/characters/306', 'https://www.anapioficeandfire.com/api/characters/307', 'https://www.anapioficeandfire.com/api/characters/308', 'https://www.anapioficeandfire.com/api/characters/309', 'https://www.anapioficeandfire.com/api/characters/311', 'https://www.anapioficeandfire.com/api/characters/312', 'https://www.anapioficeandfire.com/api/characters/313', 'https://www.anapioficeandfire.com/api/characters/314', 'https://www.anapioficeandfire.com/api/characters/315', 'https://www.anapioficeandfire.com/api/characters/316', 'https://www.anapioficeandfire.com/api/characters/318', 'https://www.anapioficeandfire.com/api/characters/319', 'https://www.anapioficeandfire.com/api/characters/320', 'https://www.anapioficeandfire.com/api/characters/321', 'https://www.anapioficeandfire.com/api/characters/323', 'https://www.anapioficeandfire.com/api/characters/325', 'https://www.anapioficeandfire.com/api/characters/326', 'https://www.anapioficeandfire.com/api/characters/327', 'https://www.anapioficeandfire.com/api/characters/329', 'https://www.anapioficeandfire.com/api/characters/330', 'https://www.anapioficeandfire.com/api/characters/331', 'https://www.anapioficeandfire.com/api/characters/332', 'https://www.anapioficeandfire.com/api/characters/336', 'https://www.anapioficeandfire.com/api/characters/337', 'https://www.anapioficeandfire.com/api/characters/338', 'https://www.anapioficeandfire.com/api/characters/339', 'https://www.anapioficeandfire.com/api/characters/341', 'https://www.anapioficeandfire.com/api/characters/343', 'https://www.anapioficeandfire.com/api/characters/344', 'https://www.anapioficeandfire.com/api/characters/345', 'https://www.anapioficeandfire.com/api/characters/346', 'https://www.anapioficeandfire.com/api/characters/348', 'https://www.anapioficeandfire.com/api/characters/352', 'https://www.anapioficeandfire.com/api/characters/355', 'https://www.anapioficeandfire.com/api/characters/356', 'https://www.anapioficeandfire.com/api/characters/357', 'https://www.anapioficeandfire.com/api/characters/358', 'https://www.anapioficeandfire.com/api/characters/359', 'https://www.anapioficeandfire.com/api/characters/360', 'https://www.anapioficeandfire.com/api/characters/361', 'https://www.anapioficeandfire.com/api/characters/362', 'https://www.anapioficeandfire.com/api/characters/364', 'https://www.anapioficeandfire.com/api/characters/365', 'https://www.anapioficeandfire.com/api/characters/367', 'https://www.anapioficeandfire.com/api/characters/368', 'https://www.anapioficeandfire.com/api/characters/369', 'https://www.anapioficeandfire.com/api/characters/370', 'https://www.anapioficeandfire.com/api/characters/372', 'https://www.anapioficeandfire.com/api/characters/373', 'https://www.anapioficeandfire.com/api/characters/375', 'https://www.anapioficeandfire.com/api/characters/377', 'https://www.anapioficeandfire.com/api/characters/378', 'https://www.anapioficeandfire.com/api/characters/380', 'https://www.anapioficeandfire.com/api/characters/381', 'https://www.anapioficeandfire.com/api/characters/382', 'https://www.anapioficeandfire.com/api/characters/383', 'https://www.anapioficeandfire.com/api/characters/385', 'https://www.anapioficeandfire.com/api/characters/387', 'https://www.anapioficeandfire.com/api/characters/390', 'https://www.anapioficeandfire.com/api/characters/392', 'https://www.anapioficeandfire.com/api/characters/393', 'https://www.anapioficeandfire.com/api/characters/394', 'https://www.anapioficeandfire.com/api/characters/396', 'https://www.anapioficeandfire.com/api/characters/397', 'https://www.anapioficeandfire.com/api/characters/398', 'https://www.anapioficeandfire.com/api/characters/401', 'https://www.anapioficeandfire.com/api/characters/402', 'https://www.anapioficeandfire.com/api/characters/403', 'https://www.anapioficeandfire.com/api/characters/404', 'https://www.anapioficeandfire.com/api/characters/405', 'https://www.anapioficeandfire.com/api/characters/406', 'https://www.anapioficeandfire.com/api/characters/407', 'https://www.anapioficeandfire.com/api/characters/408', 'https://www.anapioficeandfire.com/api/characters/409', 'https://www.anapioficeandfire.com/api/characters/411', 'https://www.anapioficeandfire.com/api/characters/413', 'https://www.anapioficeandfire.com/api/characters/415', 'https://www.anapioficeandfire.com/api/characters/416', 'https://www.anapioficeandfire.com/api/characters/417', 'https://www.anapioficeandfire.com/api/characters/418', 'https://www.anapioficeandfire.com/api/characters/419', 'https://www.anapioficeandfire.com/api/characters/420', 'https://www.anapioficeandfire.com/api/characters/424', 'https://www.anapioficeandfire.com/api/characters/426', 'https://www.anapioficeandfire.com/api/characters/429', 'https://www.anapioficeandfire.com/api/characters/430', 'https://www.anapioficeandfire.com/api/characters/432', 'https://www.anapioficeandfire.com/api/characters/433', 'https://www.anapioficeandfire.com/api/characters/434', 'https://www.anapioficeandfire.com/api/characters/436', 'https://www.anapioficeandfire.com/api/characters/438', 'https://www.anapioficeandfire.com/api/characters/439', 'https://www.anapioficeandfire.com/api/characters/440', 'https://www.anapioficeandfire.com/api/characters/441', 'https://www.anapioficeandfire.com/api/characters/444', 'https://www.anapioficeandfire.com/api/characters/445', 'https://www.anapioficeandfire.com/api/characters/447', 'https://www.anapioficeandfire.com/api/characters/450', 'https://www.anapioficeandfire.com/api/characters/451', 'https://www.anapioficeandfire.com/api/characters/453', 'https://www.anapioficeandfire.com/api/characters/454', 'https://www.anapioficeandfire.com/api/characters/455', 'https://www.anapioficeandfire.com/api/characters/456', 'https://www.anapioficeandfire.com/api/characters/458', 'https://www.anapioficeandfire.com/api/characters/459', 'https://www.anapioficeandfire.com/api/characters/461', 'https://www.anapioficeandfire.com/api/characters/462', 'https://www.anapioficeandfire.com/api/characters/463', 'https://www.anapioficeandfire.com/api/characters/466', 'https://www.anapioficeandfire.com/api/characters/468', 'https://www.anapioficeandfire.com/api/characters/469', 'https://www.anapioficeandfire.com/api/characters/470', 'https://www.anapioficeandfire.com/api/characters/472', 'https://www.anapioficeandfire.com/api/characters/473', 'https://www.anapioficeandfire.com/api/characters/474', 'https://www.anapioficeandfire.com/api/characters/475', 'https://www.anapioficeandfire.com/api/characters/476', 'https://www.anapioficeandfire.com/api/characters/477', 'https://www.anapioficeandfire.com/api/characters/482', 'https://www.anapioficeandfire.com/api/characters/483', 'https://www.anapioficeandfire.com/api/characters/485', 'https://www.anapioficeandfire.com/api/characters/486', 'https://www.anapioficeandfire.com/api/characters/487', 'https://www.anapioficeandfire.com/api/characters/490', 'https://www.anapioficeandfire.com/api/characters/491', 'https://www.anapioficeandfire.com/api/characters/493', 'https://www.anapioficeandfire.com/api/characters/496', 'https://www.anapioficeandfire.com/api/characters/498', 'https://www.anapioficeandfire.com/api/characters/499', 'https://www.anapioficeandfire.com/api/characters/500', 'https://www.anapioficeandfire.com/api/characters/501', 'https://www.anapioficeandfire.com/api/characters/502', 'https://www.anapioficeandfire.com/api/characters/503', 'https://www.anapioficeandfire.com/api/characters/504', 'https://www.anapioficeandfire.com/api/characters/505', 'https://www.anapioficeandfire.com/api/characters/506', 'https://www.anapioficeandfire.com/api/characters/509', 'https://www.anapioficeandfire.com/api/characters/510', 'https://www.anapioficeandfire.com/api/characters/511', 'https://www.anapioficeandfire.com/api/characters/512', 'https://www.anapioficeandfire.com/api/characters/515', 'https://www.anapioficeandfire.com/api/characters/516', 'https://www.anapioficeandfire.com/api/characters/517', 'https://www.anapioficeandfire.com/api/characters/518', 'https://www.anapioficeandfire.com/api/characters/519', 'https://www.anapioficeandfire.com/api/characters/520', 'https://www.anapioficeandfire.com/api/characters/521', 'https://www.anapioficeandfire.com/api/characters/522', 'https://www.anapioficeandfire.com/api/characters/523', 'https://www.anapioficeandfire.com/api/characters/524', 'https://www.anapioficeandfire.com/api/characters/526', 'https://www.anapioficeandfire.com/api/characters/528', 'https://www.anapioficeandfire.com/api/characters/530', 'https://www.anapioficeandfire.com/api/characters/531', 'https://www.anapioficeandfire.com/api/characters/532', 'https://www.anapioficeandfire.com/api/characters/533', 'https://www.anapioficeandfire.com/api/characters/535', 'https://www.anapioficeandfire.com/api/characters/539', 'https://www.anapioficeandfire.com/api/characters/540', 'https://www.anapioficeandfire.com/api/characters/541', 'https://www.anapioficeandfire.com/api/characters/542', 'https://www.anapioficeandfire.com/api/characters/545', 'https://www.anapioficeandfire.com/api/characters/547', 'https://www.anapioficeandfire.com/api/characters/549', 'https://www.anapioficeandfire.com/api/characters/550', 'https://www.anapioficeandfire.com/api/characters/551', 'https://www.anapioficeandfire.com/api/characters/552', 'https://www.anapioficeandfire.com/api/characters/553', 'https://www.anapioficeandfire.com/api/characters/555', 'https://www.anapioficeandfire.com/api/characters/557', 'https://www.anapioficeandfire.com/api/characters/561', 'https://www.anapioficeandfire.com/api/characters/562', 'https://www.anapioficeandfire.com/api/characters/563', 'https://www.anapioficeandfire.com/api/characters/564', 'https://www.anapioficeandfire.com/api/characters/565', 'https://www.anapioficeandfire.com/api/characters/571', 'https://www.anapioficeandfire.com/api/characters/572', 'https://www.anapioficeandfire.com/api/characters/573', 'https://www.anapioficeandfire.com/api/characters/574', 'https://www.anapioficeandfire.com/api/characters/575', 'https://www.anapioficeandfire.com/api/characters/576', 'https://www.anapioficeandfire.com/api/characters/578', 'https://www.anapioficeandfire.com/api/characters/579', 'https://www.anapioficeandfire.com/api/characters/580', 'https://www.anapioficeandfire.com/api/characters/582', 'https://www.anapioficeandfire.com/api/characters/583', 'https://www.anapioficeandfire.com/api/characters/585', 'https://www.anapioficeandfire.com/api/characters/586', 'https://www.anapioficeandfire.com/api/characters/587', 'https://www.anapioficeandfire.com/api/characters/588', 'https://www.anapioficeandfire.com/api/characters/590', 'https://www.anapioficeandfire.com/api/characters/592', 'https://www.anapioficeandfire.com/api/characters/594', 'https://www.anapioficeandfire.com/api/characters/597', 'https://www.anapioficeandfire.com/api/characters/600', 'https://www.anapioficeandfire.com/api/characters/601', 'https://www.anapioficeandfire.com/api/characters/602', 'https://www.anapioficeandfire.com/api/characters/604', 'https://www.anapioficeandfire.com/api/characters/605', 'https://www.anapioficeandfire.com/api/characters/606', 'https://www.anapioficeandfire.com/api/characters/609', 'https://www.anapioficeandfire.com/api/characters/612', 'https://www.anapioficeandfire.com/api/characters/613', 'https://www.anapioficeandfire.com/api/characters/616', 'https://www.anapioficeandfire.com/api/characters/617', 'https://www.anapioficeandfire.com/api/characters/619', 'https://www.anapioficeandfire.com/api/characters/620', 'https://www.anapioficeandfire.com/api/characters/621', 'https://www.anapioficeandfire.com/api/characters/622', 'https://www.anapioficeandfire.com/api/characters/624', 'https://www.anapioficeandfire.com/api/characters/625', 'https://www.anapioficeandfire.com/api/characters/626', 'https://www.anapioficeandfire.com/api/characters/627', 'https://www.anapioficeandfire.com/api/characters/628', 'https://www.anapioficeandfire.com/api/characters/629', 'https://www.anapioficeandfire.com/api/characters/630', 'https://www.anapioficeandfire.com/api/characters/631', 'https://www.anapioficeandfire.com/api/characters/632', 'https://www.anapioficeandfire.com/api/characters/633', 'https://www.anapioficeandfire.com/api/characters/634', 'https://www.anapioficeandfire.com/api/characters/635', 'https://www.anapioficeandfire.com/api/characters/636', 'https://www.anapioficeandfire.com/api/characters/637', 'https://www.anapioficeandfire.com/api/characters/638', 'https://www.anapioficeandfire.com/api/characters/639', 'https://www.anapioficeandfire.com/api/characters/640', 'https://www.anapioficeandfire.com/api/characters/645', 'https://www.anapioficeandfire.com/api/characters/647', 'https://www.anapioficeandfire.com/api/characters/649', 'https://www.anapioficeandfire.com/api/characters/651', 'https://www.anapioficeandfire.com/api/characters/652', 'https://www.anapioficeandfire.com/api/characters/653', 'https://www.anapioficeandfire.com/api/characters/654', 'https://www.anapioficeandfire.com/api/characters/658', 'https://www.anapioficeandfire.com/api/characters/659', 'https://www.anapioficeandfire.com/api/characters/660', 'https://www.anapioficeandfire.com/api/characters/661', 'https://www.anapioficeandfire.com/api/characters/662', 'https://www.anapioficeandfire.com/api/characters/663', 'https://www.anapioficeandfire.com/api/characters/665', 'https://www.anapioficeandfire.com/api/characters/666', 'https://www.anapioficeandfire.com/api/characters/667', 'https://www.anapioficeandfire.com/api/characters/669', 'https://www.anapioficeandfire.com/api/characters/670', 'https://www.anapioficeandfire.com/api/characters/673', 'https://www.anapioficeandfire.com/api/characters/674', 'https://www.anapioficeandfire.com/api/characters/676', 'https://www.anapioficeandfire.com/api/characters/677', 'https://www.anapioficeandfire.com/api/characters/678', 'https://www.anapioficeandfire.com/api/characters/681', 'https://www.anapioficeandfire.com/api/characters/682', 'https://www.anapioficeandfire.com/api/characters/686', 'https://www.anapioficeandfire.com/api/characters/687', 'https://www.anapioficeandfire.com/api/characters/688', 'https://www.anapioficeandfire.com/api/characters/689', 'https://www.anapioficeandfire.com/api/characters/690', 'https://www.anapioficeandfire.com/api/characters/691', 'https://www.anapioficeandfire.com/api/characters/692', 'https://www.anapioficeandfire.com/api/characters/693', 'https://www.anapioficeandfire.com/api/characters/700', 'https://www.anapioficeandfire.com/api/characters/705', 'https://www.anapioficeandfire.com/api/characters/706', 'https://www.anapioficeandfire.com/api/characters/707', 'https://www.anapioficeandfire.com/api/characters/708', 'https://www.anapioficeandfire.com/api/characters/709', 'https://www.anapioficeandfire.com/api/characters/710', 'https://www.anapioficeandfire.com/api/characters/711', 'https://www.anapioficeandfire.com/api/characters/712', 'https://www.anapioficeandfire.com/api/characters/713', 'https://www.anapioficeandfire.com/api/characters/715', 'https://www.anapioficeandfire.com/api/characters/718', 'https://www.anapioficeandfire.com/api/characters/719', 'https://www.anapioficeandfire.com/api/characters/720', 'https://www.anapioficeandfire.com/api/characters/721', 'https://www.anapioficeandfire.com/api/characters/723', 'https://www.anapioficeandfire.com/api/characters/725', 'https://www.anapioficeandfire.com/api/characters/726', 'https://www.anapioficeandfire.com/api/characters/727', 'https://www.anapioficeandfire.com/api/characters/730', 'https://www.anapioficeandfire.com/api/characters/731', 'https://www.anapioficeandfire.com/api/characters/735', 'https://www.anapioficeandfire.com/api/characters/736', 'https://www.anapioficeandfire.com/api/characters/738', 'https://www.anapioficeandfire.com/api/characters/739', 'https://www.anapioficeandfire.com/api/characters/740', 'https://www.anapioficeandfire.com/api/characters/741', 'https://www.anapioficeandfire.com/api/characters/742', 'https://www.anapioficeandfire.com/api/characters/743', 'https://www.anapioficeandfire.com/api/characters/745', 'https://www.anapioficeandfire.com/api/characters/746', 'https://www.anapioficeandfire.com/api/characters/747', 'https://www.anapioficeandfire.com/api/characters/748', 'https://www.anapioficeandfire.com/api/characters/750', 'https://www.anapioficeandfire.com/api/characters/751', 'https://www.anapioficeandfire.com/api/characters/752', 'https://www.anapioficeandfire.com/api/characters/753', 'https://www.anapioficeandfire.com/api/characters/754', 'https://www.anapioficeandfire.com/api/characters/757', 'https://www.anapioficeandfire.com/api/characters/760', 'https://www.anapioficeandfire.com/api/characters/762', 'https://www.anapioficeandfire.com/api/characters/763', 'https://www.anapioficeandfire.com/api/characters/764', 'https://www.anapioficeandfire.com/api/characters/765', 'https://www.anapioficeandfire.com/api/characters/766', 'https://www.anapioficeandfire.com/api/characters/768', 'https://www.anapioficeandfire.com/api/characters/769', 'https://www.anapioficeandfire.com/api/characters/770', 'https://www.anapioficeandfire.com/api/characters/771', 'https://www.anapioficeandfire.com/api/characters/774', 'https://www.anapioficeandfire.com/api/characters/775', 'https://www.anapioficeandfire.com/api/characters/776', 'https://www.anapioficeandfire.com/api/characters/778', 'https://www.anapioficeandfire.com/api/characters/780', 'https://www.anapioficeandfire.com/api/characters/781', 'https://www.anapioficeandfire.com/api/characters/782', 'https://www.anapioficeandfire.com/api/characters/783', 'https://www.anapioficeandfire.com/api/characters/784', 'https://www.anapioficeandfire.com/api/characters/785', 'https://www.anapioficeandfire.com/api/characters/786', 'https://www.anapioficeandfire.com/api/characters/787', 'https://www.anapioficeandfire.com/api/characters/788', 'https://www.anapioficeandfire.com/api/characters/789', 'https://www.anapioficeandfire.com/api/characters/790', 'https://www.anapioficeandfire.com/api/characters/793', 'https://www.anapioficeandfire.com/api/characters/796', 'https://www.anapioficeandfire.com/api/characters/798', 'https://www.anapioficeandfire.com/api/characters/799', 'https://www.anapioficeandfire.com/api/characters/800', 'https://www.anapioficeandfire.com/api/characters/801', 'https://www.anapioficeandfire.com/api/characters/802', 'https://www.anapioficeandfire.com/api/characters/803', 'https://www.anapioficeandfire.com/api/characters/804', 'https://www.anapioficeandfire.com/api/characters/806', 'https://www.anapioficeandfire.com/api/characters/810', 'https://www.anapioficeandfire.com/api/characters/811', 'https://www.anapioficeandfire.com/api/characters/814', 'https://www.anapioficeandfire.com/api/characters/815', 'https://www.anapioficeandfire.com/api/characters/817', 'https://www.anapioficeandfire.com/api/characters/818', 'https://www.anapioficeandfire.com/api/characters/819', 'https://www.anapioficeandfire.com/api/characters/820', 'https://www.anapioficeandfire.com/api/characters/822', 'https://www.anapioficeandfire.com/api/characters/823', 'https://www.anapioficeandfire.com/api/characters/824', 'https://www.anapioficeandfire.com/api/characters/826', 'https://www.anapioficeandfire.com/api/characters/827', 'https://www.anapioficeandfire.com/api/characters/828', 'https://www.anapioficeandfire.com/api/characters/829', 'https://www.anapioficeandfire.com/api/characters/831', 'https://www.anapioficeandfire.com/api/characters/832', 'https://www.anapioficeandfire.com/api/characters/835', 'https://www.anapioficeandfire.com/api/characters/836', 'https://www.anapioficeandfire.com/api/characters/837', 'https://www.anapioficeandfire.com/api/characters/838', 'https://www.anapioficeandfire.com/api/characters/839', 'https://www.anapioficeandfire.com/api/characters/840', 'https://www.anapioficeandfire.com/api/characters/844', 'https://www.anapioficeandfire.com/api/characters/845', 'https://www.anapioficeandfire.com/api/characters/846', 'https://www.anapioficeandfire.com/api/characters/847', 'https://www.anapioficeandfire.com/api/characters/849', 'https://www.anapioficeandfire.com/api/characters/850', 'https://www.anapioficeandfire.com/api/characters/851', 'https://www.anapioficeandfire.com/api/characters/852', 'https://www.anapioficeandfire.com/api/characters/854', 'https://www.anapioficeandfire.com/api/characters/855', 'https://www.anapioficeandfire.com/api/characters/856', 'https://www.anapioficeandfire.com/api/characters/857', 'https://www.anapioficeandfire.com/api/characters/860', 'https://www.anapioficeandfire.com/api/characters/861', 'https://www.anapioficeandfire.com/api/characters/862', 'https://www.anapioficeandfire.com/api/characters/863', 'https://www.anapioficeandfire.com/api/characters/866', 'https://www.anapioficeandfire.com/api/characters/867', 'https://www.anapioficeandfire.com/api/characters/869', 'https://www.anapioficeandfire.com/api/characters/870', 'https://www.anapioficeandfire.com/api/characters/872', 'https://www.anapioficeandfire.com/api/characters/874', 'https://www.anapioficeandfire.com/api/characters/876', 'https://www.anapioficeandfire.com/api/characters/877', 'https://www.anapioficeandfire.com/api/characters/879', 'https://www.anapioficeandfire.com/api/characters/880', 'https://www.anapioficeandfire.com/api/characters/881', 'https://www.anapioficeandfire.com/api/characters/884', 'https://www.anapioficeandfire.com/api/characters/885', 'https://www.anapioficeandfire.com/api/characters/889', 'https://www.anapioficeandfire.com/api/characters/890', 'https://www.anapioficeandfire.com/api/characters/892', 'https://www.anapioficeandfire.com/api/characters/894', 'https://www.anapioficeandfire.com/api/characters/897', 'https://www.anapioficeandfire.com/api/characters/898', 'https://www.anapioficeandfire.com/api/characters/899', 'https://www.anapioficeandfire.com/api/characters/900', 'https://www.anapioficeandfire.com/api/characters/901', 'https://www.anapioficeandfire.com/api/characters/903', 'https://www.anapioficeandfire.com/api/characters/904', 'https://www.anapioficeandfire.com/api/characters/906', 'https://www.anapioficeandfire.com/api/characters/907', 'https://www.anapioficeandfire.com/api/characters/909', 'https://www.anapioficeandfire.com/api/characters/912', 'https://www.anapioficeandfire.com/api/characters/913', 'https://www.anapioficeandfire.com/api/characters/914', 'https://www.anapioficeandfire.com/api/characters/915', 'https://www.anapioficeandfire.com/api/characters/919', 'https://www.anapioficeandfire.com/api/characters/922', 'https://www.anapioficeandfire.com/api/characters/923', 'https://www.anapioficeandfire.com/api/characters/924', 'https://www.anapioficeandfire.com/api/characters/925', 'https://www.anapioficeandfire.com/api/characters/927', 'https://www.anapioficeandfire.com/api/characters/929', 'https://www.anapioficeandfire.com/api/characters/932', 'https://www.anapioficeandfire.com/api/characters/933', 'https://www.anapioficeandfire.com/api/characters/934', 'https://www.anapioficeandfire.com/api/characters/935', 'https://www.anapioficeandfire.com/api/characters/936', 'https://www.anapioficeandfire.com/api/characters/937', 'https://www.anapioficeandfire.com/api/characters/938', 'https://www.anapioficeandfire.com/api/characters/939', 'https://www.anapioficeandfire.com/api/characters/942', 'https://www.anapioficeandfire.com/api/characters/943', 'https://www.anapioficeandfire.com/api/characters/944', 'https://www.anapioficeandfire.com/api/characters/945', 'https://www.anapioficeandfire.com/api/characters/946', 'https://www.anapioficeandfire.com/api/characters/947', 'https://www.anapioficeandfire.com/api/characters/948', 'https://www.anapioficeandfire.com/api/characters/949', 'https://www.anapioficeandfire.com/api/characters/950', 'https://www.anapioficeandfire.com/api/characters/952', 'https://www.anapioficeandfire.com/api/characters/953', 'https://www.anapioficeandfire.com/api/characters/955', 'https://www.anapioficeandfire.com/api/characters/956', 'https://www.anapioficeandfire.com/api/characters/958', 'https://www.anapioficeandfire.com/api/characters/959', 'https://www.anapioficeandfire.com/api/characters/960', 'https://www.anapioficeandfire.com/api/characters/961', 'https://www.anapioficeandfire.com/api/characters/963', 'https://www.anapioficeandfire.com/api/characters/965', 'https://www.anapioficeandfire.com/api/characters/966', 'https://www.anapioficeandfire.com/api/characters/967', 'https://www.anapioficeandfire.com/api/characters/968', 'https://www.anapioficeandfire.com/api/characters/970', 'https://www.anapioficeandfire.com/api/characters/972', 'https://www.anapioficeandfire.com/api/characters/973', 'https://www.anapioficeandfire.com/api/characters/974', 'https://www.anapioficeandfire.com/api/characters/975', 'https://www.anapioficeandfire.com/api/characters/976', 'https://www.anapioficeandfire.com/api/characters/978', 'https://www.anapioficeandfire.com/api/characters/979', 'https://www.anapioficeandfire.com/api/characters/980', 'https://www.anapioficeandfire.com/api/characters/983', 'https://www.anapioficeandfire.com/api/characters/984', 'https://www.anapioficeandfire.com/api/characters/985', 'https://www.anapioficeandfire.com/api/characters/989', 'https://www.anapioficeandfire.com/api/characters/990', 'https://www.anapioficeandfire.com/api/characters/991', 'https://www.anapioficeandfire.com/api/characters/992', 'https://www.anapioficeandfire.com/api/characters/994', 'https://www.anapioficeandfire.com/api/characters/995', 'https://www.anapioficeandfire.com/api/characters/996', 'https://www.anapioficeandfire.com/api/characters/997', 'https://www.anapioficeandfire.com/api/characters/998', 'https://www.anapioficeandfire.com/api/characters/999', 'https://www.anapioficeandfire.com/api/characters/1000', 'https://www.anapioficeandfire.com/api/characters/1001', 'https://www.anapioficeandfire.com/api/characters/1002', 'https://www.anapioficeandfire.com/api/characters/1003', 'https://www.anapioficeandfire.com/api/characters/1004', 'https://www.anapioficeandfire.com/api/characters/1005', 'https://www.anapioficeandfire.com/api/characters/1006', 'https://www.anapioficeandfire.com/api/characters/1007', 'https://www.anapioficeandfire.com/api/characters/1009', 'https://www.anapioficeandfire.com/api/characters/1010', 'https://www.anapioficeandfire.com/api/characters/1011', 'https://www.anapioficeandfire.com/api/characters/1012', 'https://www.anapioficeandfire.com/api/characters/1013', 'https://www.anapioficeandfire.com/api/characters/1014', 'https://www.anapioficeandfire.com/api/characters/1015', 'https://www.anapioficeandfire.com/api/characters/1016', 'https://www.anapioficeandfire.com/api/characters/1018', 'https://www.anapioficeandfire.com/api/characters/1019', 'https://www.anapioficeandfire.com/api/characters/1020', 'https://www.anapioficeandfire.com/api/characters/1021', 'https://www.anapioficeandfire.com/api/characters/1022', 'https://www.anapioficeandfire.com/api/characters/1025', 'https://www.anapioficeandfire.com/api/characters/1027', 'https://www.anapioficeandfire.com/api/characters/1028', 'https://www.anapioficeandfire.com/api/characters/1029', 'https://www.anapioficeandfire.com/api/characters/1030', 'https://www.anapioficeandfire.com/api/characters/1031', 'https://www.anapioficeandfire.com/api/characters/1033', 'https://www.anapioficeandfire.com/api/characters/1035', 'https://www.anapioficeandfire.com/api/characters/1036', 'https://www.anapioficeandfire.com/api/characters/1039', 'https://www.anapioficeandfire.com/api/characters/1042', 'https://www.anapioficeandfire.com/api/characters/1043', 'https://www.anapioficeandfire.com/api/characters/1045', 'https://www.anapioficeandfire.com/api/characters/1046', 'https://www.anapioficeandfire.com/api/characters/1047', 'https://www.anapioficeandfire.com/api/characters/1049', 'https://www.anapioficeandfire.com/api/characters/1051', 'https://www.anapioficeandfire.com/api/characters/1052', 'https://www.anapioficeandfire.com/api/characters/1053', 'https://www.anapioficeandfire.com/api/characters/1054', 'https://www.anapioficeandfire.com/api/characters/1055', 'https://www.anapioficeandfire.com/api/characters/1056', 'https://www.anapioficeandfire.com/api/characters/1057', 'https://www.anapioficeandfire.com/api/characters/1058', 'https://www.anapioficeandfire.com/api/characters/1059', 'https://www.anapioficeandfire.com/api/characters/1061', 'https://www.anapioficeandfire.com/api/characters/1062', 'https://www.anapioficeandfire.com/api/characters/1063', 'https://www.anapioficeandfire.com/api/characters/1064', 'https://www.anapioficeandfire.com/api/characters/1071', 'https://www.anapioficeandfire.com/api/characters/1072', 'https://www.anapioficeandfire.com/api/characters/1073', 'https://www.anapioficeandfire.com/api/characters/1075', 'https://www.anapioficeandfire.com/api/characters/1079', 'https://www.anapioficeandfire.com/api/characters/1080', 'https://www.anapioficeandfire.com/api/characters/1081', 'https://www.anapioficeandfire.com/api/characters/1082', 'https://www.anapioficeandfire.com/api/characters/1083', 'https://www.anapioficeandfire.com/api/characters/1084', 'https://www.anapioficeandfire.com/api/characters/1085', 'https://www.anapioficeandfire.com/api/characters/1086', 'https://www.anapioficeandfire.com/api/characters/1088', 'https://www.anapioficeandfire.com/api/characters/1089', 'https://www.anapioficeandfire.com/api/characters/1090', 'https://www.anapioficeandfire.com/api/characters/1091', 'https://www.anapioficeandfire.com/api/characters/1092', 'https://www.anapioficeandfire.com/api/characters/1093', 'https://www.anapioficeandfire.com/api/characters/1094', 'https://www.anapioficeandfire.com/api/characters/1095', 'https://www.anapioficeandfire.com/api/characters/1096', 'https://www.anapioficeandfire.com/api/characters/1097', 'https://www.anapioficeandfire.com/api/characters/1098', 'https://www.anapioficeandfire.com/api/characters/1100', 'https://www.anapioficeandfire.com/api/characters/1102', 'https://www.anapioficeandfire.com/api/characters/1103', 'https://www.anapioficeandfire.com/api/characters/1104', 'https://www.anapioficeandfire.com/api/characters/1105', 'https://www.anapioficeandfire.com/api/characters/1106', 'https://www.anapioficeandfire.com/api/characters/1107', 'https://www.anapioficeandfire.com/api/characters/1110', 'https://www.anapioficeandfire.com/api/characters/1112', 'https://www.anapioficeandfire.com/api/characters/1113', 'https://www.anapioficeandfire.com/api/characters/1115', 'https://www.anapioficeandfire.com/api/characters/1116', 'https://www.anapioficeandfire.com/api/characters/1118', 'https://www.anapioficeandfire.com/api/characters/1120', 'https://www.anapioficeandfire.com/api/characters/1122', 'https://www.anapioficeandfire.com/api/characters/1123', 'https://www.anapioficeandfire.com/api/characters/1124', 'https://www.anapioficeandfire.com/api/characters/1125', 'https://www.anapioficeandfire.com/api/characters/1126', 'https://www.anapioficeandfire.com/api/characters/1127', 'https://www.anapioficeandfire.com/api/characters/1128', 'https://www.anapioficeandfire.com/api/characters/1130', 'https://www.anapioficeandfire.com/api/characters/1131', 'https://www.anapioficeandfire.com/api/characters/1132', 'https://www.anapioficeandfire.com/api/characters/1133', 'https://www.anapioficeandfire.com/api/characters/1134', 'https://www.anapioficeandfire.com/api/characters/1135', 'https://www.anapioficeandfire.com/api/characters/1136', 'https://www.anapioficeandfire.com/api/characters/1137', 'https://www.anapioficeandfire.com/api/characters/1142', 'https://www.anapioficeandfire.com/api/characters/1143', 'https://www.anapioficeandfire.com/api/characters/1144', 'https://www.anapioficeandfire.com/api/characters/1145', 'https://www.anapioficeandfire.com/api/characters/1146', 'https://www.anapioficeandfire.com/api/characters/1147', 'https://www.anapioficeandfire.com/api/characters/1150', 'https://www.anapioficeandfire.com/api/characters/1154', 'https://www.anapioficeandfire.com/api/characters/1155', 'https://www.anapioficeandfire.com/api/characters/1156', 'https://www.anapioficeandfire.com/api/characters/1157', 'https://www.anapioficeandfire.com/api/characters/1163', 'https://www.anapioficeandfire.com/api/characters/1164', 'https://www.anapioficeandfire.com/api/characters/1165', 'https://www.anapioficeandfire.com/api/characters/1168', 'https://www.anapioficeandfire.com/api/characters/1172', 'https://www.anapioficeandfire.com/api/characters/1173', 'https://www.anapioficeandfire.com/api/characters/1176', 'https://www.anapioficeandfire.com/api/characters/1177', 'https://www.anapioficeandfire.com/api/characters/1179', 'https://www.anapioficeandfire.com/api/characters/1184', 'https://www.anapioficeandfire.com/api/characters/1185', 'https://www.anapioficeandfire.com/api/characters/1191', 'https://www.anapioficeandfire.com/api/characters/1192', 'https://www.anapioficeandfire.com/api/characters/1196', 'https://www.anapioficeandfire.com/api/characters/1197', 'https://www.anapioficeandfire.com/api/characters/1201', 'https://www.anapioficeandfire.com/api/characters/1202', 'https://www.anapioficeandfire.com/api/characters/1203', 'https://www.anapioficeandfire.com/api/characters/1204', 'https://www.anapioficeandfire.com/api/characters/1205', 'https://www.anapioficeandfire.com/api/characters/1206', 'https://www.anapioficeandfire.com/api/characters/1207', 'https://www.anapioficeandfire.com/api/characters/1209', 'https://www.anapioficeandfire.com/api/characters/1210', 'https://www.anapioficeandfire.com/api/characters/1211', 'https://www.anapioficeandfire.com/api/characters/1215', 'https://www.anapioficeandfire.com/api/characters/1217', 'https://www.anapioficeandfire.com/api/characters/1221', 'https://www.anapioficeandfire.com/api/characters/1222', 'https://www.anapioficeandfire.com/api/characters/1223', 'https://www.anapioficeandfire.com/api/characters/1226', 'https://www.anapioficeandfire.com/api/characters/1227', 'https://www.anapioficeandfire.com/api/characters/1230', 'https://www.anapioficeandfire.com/api/characters/1231', 'https://www.anapioficeandfire.com/api/characters/1232', 'https://www.anapioficeandfire.com/api/characters/1233', 'https://www.anapioficeandfire.com/api/characters/1238', 'https://www.anapioficeandfire.com/api/characters/1242', 'https://www.anapioficeandfire.com/api/characters/1244', 'https://www.anapioficeandfire.com/api/characters/1249', 'https://www.anapioficeandfire.com/api/characters/1253', 'https://www.anapioficeandfire.com/api/characters/1256', 'https://www.anapioficeandfire.com/api/characters/1257', 'https://www.anapioficeandfire.com/api/characters/1258', 'https://www.anapioficeandfire.com/api/characters/1261', 'https://www.anapioficeandfire.com/api/characters/1262', 'https://www.anapioficeandfire.com/api/characters/1264', 'https://www.anapioficeandfire.com/api/characters/1271', 'https://www.anapioficeandfire.com/api/characters/1273', 'https://www.anapioficeandfire.com/api/characters/1274', 'https://www.anapioficeandfire.com/api/characters/1275', 'https://www.anapioficeandfire.com/api/characters/1277', 'https://www.anapioficeandfire.com/api/characters/1279', 'https://www.anapioficeandfire.com/api/characters/1280', 'https://www.anapioficeandfire.com/api/characters/1283', 'https://www.anapioficeandfire.com/api/characters/1285', 'https://www.anapioficeandfire.com/api/characters/1288', 'https://www.anapioficeandfire.com/api/characters/1289', 'https://www.anapioficeandfire.com/api/characters/1290', 'https://www.anapioficeandfire.com/api/characters/1292', 'https://www.anapioficeandfire.com/api/characters/1293', 'https://www.anapioficeandfire.com/api/characters/1295', 'https://www.anapioficeandfire.com/api/characters/1296', 'https://www.anapioficeandfire.com/api/characters/1298', 'https://www.anapioficeandfire.com/api/characters/1300', 'https://www.anapioficeandfire.com/api/characters/1301', 'https://www.anapioficeandfire.com/api/characters/1303', 'https://www.anapioficeandfire.com/api/characters/1305', 'https://www.anapioficeandfire.com/api/characters/1306', 'https://www.anapioficeandfire.com/api/characters/1307', 'https://www.anapioficeandfire.com/api/characters/1309', 'https://www.anapioficeandfire.com/api/characters/1310', 'https://www.anapioficeandfire.com/api/characters/1311', 'https://www.anapioficeandfire.com/api/characters/1315', 'https://www.anapioficeandfire.com/api/characters/1317', 'https://www.anapioficeandfire.com/api/characters/1319', 'https://www.anapioficeandfire.com/api/characters/1320', 'https://www.anapioficeandfire.com/api/characters/1321', 'https://www.anapioficeandfire.com/api/characters/1322', 'https://www.anapioficeandfire.com/api/characters/1324', 'https://www.anapioficeandfire.com/api/characters/1325', 'https://www.anapioficeandfire.com/api/characters/1330', 'https://www.anapioficeandfire.com/api/characters/1331', 'https://www.anapioficeandfire.com/api/characters/1334', 'https://www.anapioficeandfire.com/api/characters/1335', 'https://www.anapioficeandfire.com/api/characters/1338', 'https://www.anapioficeandfire.com/api/characters/1339', 'https://www.anapioficeandfire.com/api/characters/1341', 'https://www.anapioficeandfire.com/api/characters/1347', 'https://www.anapioficeandfire.com/api/characters/1350', 'https://www.anapioficeandfire.com/api/characters/1351', 'https://www.anapioficeandfire.com/api/characters/1352', 'https://www.anapioficeandfire.com/api/characters/1354', 'https://www.anapioficeandfire.com/api/characters/1355', 'https://www.anapioficeandfire.com/api/characters/1358', 'https://www.anapioficeandfire.com/api/characters/1359', 'https://www.anapioficeandfire.com/api/characters/1362', 'https://www.anapioficeandfire.com/api/characters/1363', 'https://www.anapioficeandfire.com/api/characters/1364', 'https://www.anapioficeandfire.com/api/characters/1366', 'https://www.anapioficeandfire.com/api/characters/1367', 'https://www.anapioficeandfire.com/api/characters/1368', 'https://www.anapioficeandfire.com/api/characters/1369', 'https://www.anapioficeandfire.com/api/characters/1372', 'https://www.anapioficeandfire.com/api/characters/1376', 'https://www.anapioficeandfire.com/api/characters/1377', 'https://www.anapioficeandfire.com/api/characters/1379', 'https://www.anapioficeandfire.com/api/characters/1380', 'https://www.anapioficeandfire.com/api/characters/1382', 'https://www.anapioficeandfire.com/api/characters/1385', 'https://www.anapioficeandfire.com/api/characters/1386', 'https://www.anapioficeandfire.com/api/characters/1391', 'https://www.anapioficeandfire.com/api/characters/1393', 'https://www.anapioficeandfire.com/api/characters/1395', 'https://www.anapioficeandfire.com/api/characters/1398', 'https://www.anapioficeandfire.com/api/characters/1399', 'https://www.anapioficeandfire.com/api/characters/1403', 'https://www.anapioficeandfire.com/api/characters/1405', 'https://www.anapioficeandfire.com/api/characters/1406', 'https://www.anapioficeandfire.com/api/characters/1408', 'https://www.anapioficeandfire.com/api/characters/1409', 'https://www.anapioficeandfire.com/api/characters/1410', 'https://www.anapioficeandfire.com/api/characters/1412', 'https://www.anapioficeandfire.com/api/characters/1414', 'https://www.anapioficeandfire.com/api/characters/1418', 'https://www.anapioficeandfire.com/api/characters/1421', 'https://www.anapioficeandfire.com/api/characters/1426', 'https://www.anapioficeandfire.com/api/characters/1427', 'https://www.anapioficeandfire.com/api/characters/1428', 'https://www.anapioficeandfire.com/api/characters/1429', 'https://www.anapioficeandfire.com/api/characters/1432', 'https://www.anapioficeandfire.com/api/characters/1433', 'https://www.anapioficeandfire.com/api/characters/1434', 'https://www.anapioficeandfire.com/api/characters/1442', 'https://www.anapioficeandfire.com/api/characters/1443', 'https://www.anapioficeandfire.com/api/characters/1445', 'https://www.anapioficeandfire.com/api/characters/1446', 'https://www.anapioficeandfire.com/api/characters/1447', 'https://www.anapioficeandfire.com/api/characters/1450', 'https://www.anapioficeandfire.com/api/characters/1451', 'https://www.anapioficeandfire.com/api/characters/1453', 'https://www.anapioficeandfire.com/api/characters/1454', 'https://www.anapioficeandfire.com/api/characters/1457', 'https://www.anapioficeandfire.com/api/characters/1459', 'https://www.anapioficeandfire.com/api/characters/1460', 'https://www.anapioficeandfire.com/api/characters/1465', 'https://www.anapioficeandfire.com/api/characters/1468', 'https://www.anapioficeandfire.com/api/characters/1471', 'https://www.anapioficeandfire.com/api/characters/1472', 'https://www.anapioficeandfire.com/api/characters/1475', 'https://www.anapioficeandfire.com/api/characters/1480', 'https://www.anapioficeandfire.com/api/characters/1481', 'https://www.anapioficeandfire.com/api/characters/1482', 'https://www.anapioficeandfire.com/api/characters/1485', 'https://www.anapioficeandfire.com/api/characters/1486', 'https://www.anapioficeandfire.com/api/characters/1488', 'https://www.anapioficeandfire.com/api/characters/1492', 'https://www.anapioficeandfire.com/api/characters/1493', 'https://www.anapioficeandfire.com/api/characters/1494', 'https://www.anapioficeandfire.com/api/characters/1495', 'https://www.anapioficeandfire.com/api/characters/1497', 'https://www.anapioficeandfire.com/api/characters/1500', 'https://www.anapioficeandfire.com/api/characters/1502', 'https://www.anapioficeandfire.com/api/characters/1504', 'https://www.anapioficeandfire.com/api/characters/1507', 'https://www.anapioficeandfire.com/api/characters/1508', 'https://www.anapioficeandfire.com/api/characters/1518', 'https://www.anapioficeandfire.com/api/characters/1520', 'https://www.anapioficeandfire.com/api/characters/1523', 'https://www.anapioficeandfire.com/api/characters/1525', 'https://www.anapioficeandfire.com/api/characters/1526', 'https://www.anapioficeandfire.com/api/characters/1531', 'https://www.anapioficeandfire.com/api/characters/1532', 'https://www.anapioficeandfire.com/api/characters/1533', 'https://www.anapioficeandfire.com/api/characters/1534', 'https://www.anapioficeandfire.com/api/characters/1539', 'https://www.anapioficeandfire.com/api/characters/1540', 'https://www.anapioficeandfire.com/api/characters/1541', 'https://www.anapioficeandfire.com/api/characters/1543', 'https://www.anapioficeandfire.com/api/characters/1544', 'https://www.anapioficeandfire.com/api/characters/1547', 'https://www.anapioficeandfire.com/api/characters/1548', 'https://www.anapioficeandfire.com/api/characters/1549', 'https://www.anapioficeandfire.com/api/characters/1551', 'https://www.anapioficeandfire.com/api/characters/1553', 'https://www.anapioficeandfire.com/api/characters/1554', 'https://www.anapioficeandfire.com/api/characters/1555', 'https://www.anapioficeandfire.com/api/characters/1556', 'https://www.anapioficeandfire.com/api/characters/1557', 'https://www.anapioficeandfire.com/api/characters/1558', 'https://www.anapioficeandfire.com/api/characters/1559', 'https://www.anapioficeandfire.com/api/characters/1560', 'https://www.anapioficeandfire.com/api/characters/1563', 'https://www.anapioficeandfire.com/api/characters/1564', 'https://www.anapioficeandfire.com/api/characters/1567', 'https://www.anapioficeandfire.com/api/characters/1568', 'https://www.anapioficeandfire.com/api/characters/1570', 'https://www.anapioficeandfire.com/api/characters/1571', 'https://www.anapioficeandfire.com/api/characters/1572', 'https://www.anapioficeandfire.com/api/characters/1574', 'https://www.anapioficeandfire.com/api/characters/1575', 'https://www.anapioficeandfire.com/api/characters/1576', 'https://www.anapioficeandfire.com/api/characters/1577', 'https://www.anapioficeandfire.com/api/characters/1578', 'https://www.anapioficeandfire.com/api/characters/1579', 'https://www.anapioficeandfire.com/api/characters/1580', 'https://www.anapioficeandfire.com/api/characters/1582', 'https://www.anapioficeandfire.com/api/characters/1584', 'https://www.anapioficeandfire.com/api/characters/1590', 'https://www.anapioficeandfire.com/api/characters/1592', 'https://www.anapioficeandfire.com/api/characters/1602', 'https://www.anapioficeandfire.com/api/characters/1603', 'https://www.anapioficeandfire.com/api/characters/1604', 'https://www.anapioficeandfire.com/api/characters/1605', 'https://www.anapioficeandfire.com/api/characters/1607', 'https://www.anapioficeandfire.com/api/characters/1612', 'https://www.anapioficeandfire.com/api/characters/1613', 'https://www.anapioficeandfire.com/api/characters/1615', 'https://www.anapioficeandfire.com/api/characters/1617', 'https://www.anapioficeandfire.com/api/characters/1618', 'https://www.anapioficeandfire.com/api/characters/1619', 'https://www.anapioficeandfire.com/api/characters/1621', 'https://www.anapioficeandfire.com/api/characters/1623', 'https://www.anapioficeandfire.com/api/characters/1626', 'https://www.anapioficeandfire.com/api/characters/1627', 'https://www.anapioficeandfire.com/api/characters/1628', 'https://www.anapioficeandfire.com/api/characters/1630', 'https://www.anapioficeandfire.com/api/characters/1632', 'https://www.anapioficeandfire.com/api/characters/1633', 'https://www.anapioficeandfire.com/api/characters/1637', 'https://www.anapioficeandfire.com/api/characters/1639', 'https://www.anapioficeandfire.com/api/characters/1640', 'https://www.anapioficeandfire.com/api/characters/1642', 'https://www.anapioficeandfire.com/api/characters/1643', 'https://www.anapioficeandfire.com/api/characters/1644', 'https://www.anapioficeandfire.com/api/characters/1645', 'https://www.anapioficeandfire.com/api/characters/1647', 'https://www.anapioficeandfire.com/api/characters/1649', 'https://www.anapioficeandfire.com/api/characters/1654', 'https://www.anapioficeandfire.com/api/characters/1655', 'https://www.anapioficeandfire.com/api/characters/1658', 'https://www.anapioficeandfire.com/api/characters/1659', 'https://www.anapioficeandfire.com/api/characters/1660', 'https://www.anapioficeandfire.com/api/characters/1666', 'https://www.anapioficeandfire.com/api/characters/1667', 'https://www.anapioficeandfire.com/api/characters/1669', 'https://www.anapioficeandfire.com/api/characters/1670', 'https://www.anapioficeandfire.com/api/characters/1674', 'https://www.anapioficeandfire.com/api/characters/1675', 'https://www.anapioficeandfire.com/api/characters/1676', 'https://www.anapioficeandfire.com/api/characters/1682', 'https://www.anapioficeandfire.com/api/characters/1683', 'https://www.anapioficeandfire.com/api/characters/1684', 'https://www.anapioficeandfire.com/api/characters/1685', 'https://www.anapioficeandfire.com/api/characters/1688', 'https://www.anapioficeandfire.com/api/characters/1689', 'https://www.anapioficeandfire.com/api/characters/1693', 'https://www.anapioficeandfire.com/api/characters/1696', 'https://www.anapioficeandfire.com/api/characters/1697', 'https://www.anapioficeandfire.com/api/characters/1698', 'https://www.anapioficeandfire.com/api/characters/1701', 'https://www.anapioficeandfire.com/api/characters/1702', 'https://www.anapioficeandfire.com/api/characters/1704', 'https://www.anapioficeandfire.com/api/characters/1706', 'https://www.anapioficeandfire.com/api/characters/1708', 'https://www.anapioficeandfire.com/api/characters/1709', 'https://www.anapioficeandfire.com/api/characters/1711', 'https://www.anapioficeandfire.com/api/characters/1712', 'https://www.anapioficeandfire.com/api/characters/1713', 'https://www.anapioficeandfire.com/api/characters/1714', 'https://www.anapioficeandfire.com/api/characters/1715', 'https://www.anapioficeandfire.com/api/characters/1716', 'https://www.anapioficeandfire.com/api/characters/1719', 'https://www.anapioficeandfire.com/api/characters/1721', 'https://www.anapioficeandfire.com/api/characters/1723', 'https://www.anapioficeandfire.com/api/characters/1725', 'https://www.anapioficeandfire.com/api/characters/1727', 'https://www.anapioficeandfire.com/api/characters/1729', 'https://www.anapioficeandfire.com/api/characters/1732', 'https://www.anapioficeandfire.com/api/characters/1733', 'https://www.anapioficeandfire.com/api/characters/1735', 'https://www.anapioficeandfire.com/api/characters/1738', 'https://www.anapioficeandfire.com/api/characters/1740', 'https://www.anapioficeandfire.com/api/characters/1741', 'https://www.anapioficeandfire.com/api/characters/1743', 'https://www.anapioficeandfire.com/api/characters/1749', 'https://www.anapioficeandfire.com/api/characters/1750', 'https://www.anapioficeandfire.com/api/characters/1751', 'https://www.anapioficeandfire.com/api/characters/1754', 'https://www.anapioficeandfire.com/api/characters/1755', 'https://www.anapioficeandfire.com/api/characters/1758', 'https://www.anapioficeandfire.com/api/characters/1760', 'https://www.anapioficeandfire.com/api/characters/1761', 'https://www.anapioficeandfire.com/api/characters/1762', 'https://www.anapioficeandfire.com/api/characters/1763', 'https://www.anapioficeandfire.com/api/characters/1764', 'https://www.anapioficeandfire.com/api/characters/1765', 'https://www.anapioficeandfire.com/api/characters/1766', 'https://www.anapioficeandfire.com/api/characters/1767', 'https://www.anapioficeandfire.com/api/characters/1768', 'https://www.anapioficeandfire.com/api/characters/1769', 'https://www.anapioficeandfire.com/api/characters/1770', 'https://www.anapioficeandfire.com/api/characters/1771', 'https://www.anapioficeandfire.com/api/characters/1773', 'https://www.anapioficeandfire.com/api/characters/1775', 'https://www.anapioficeandfire.com/api/characters/1776', 'https://www.anapioficeandfire.com/api/characters/1777', 'https://www.anapioficeandfire.com/api/characters/1778', 'https://www.anapioficeandfire.com/api/characters/1779', 'https://www.anapioficeandfire.com/api/characters/1781', 'https://www.anapioficeandfire.com/api/characters/1782', 'https://www.anapioficeandfire.com/api/characters/1784', 'https://www.anapioficeandfire.com/api/characters/1785', 'https://www.anapioficeandfire.com/api/characters/1787', 'https://www.anapioficeandfire.com/api/characters/1788', 'https://www.anapioficeandfire.com/api/characters/1792', 'https://www.anapioficeandfire.com/api/characters/1793', 'https://www.anapioficeandfire.com/api/characters/1794', 'https://www.anapioficeandfire.com/api/characters/1796', 'https://www.anapioficeandfire.com/api/characters/1797', 'https://www.anapioficeandfire.com/api/characters/1798', 'https://www.anapioficeandfire.com/api/characters/1799', 'https://www.anapioficeandfire.com/api/characters/1807', 'https://www.anapioficeandfire.com/api/characters/1808', 'https://www.anapioficeandfire.com/api/characters/1810', 'https://www.anapioficeandfire.com/api/characters/1811', 'https://www.anapioficeandfire.com/api/characters/1814', 'https://www.anapioficeandfire.com/api/characters/1815', 'https://www.anapioficeandfire.com/api/characters/1817', 'https://www.anapioficeandfire.com/api/characters/1822', 'https://www.anapioficeandfire.com/api/characters/1825', 'https://www.anapioficeandfire.com/api/characters/1826', 'https://www.anapioficeandfire.com/api/characters/1827', 'https://www.anapioficeandfire.com/api/characters/1828', 'https://www.anapioficeandfire.com/api/characters/1829', 'https://www.anapioficeandfire.com/api/characters/1830', 'https://www.anapioficeandfire.com/api/characters/1831', 'https://www.anapioficeandfire.com/api/characters/1835', 'https://www.anapioficeandfire.com/api/characters/1839', 'https://www.anapioficeandfire.com/api/characters/1841', 'https://www.anapioficeandfire.com/api/characters/1842', 'https://www.anapioficeandfire.com/api/characters/1843', 'https://www.anapioficeandfire.com/api/characters/1844', 'https://www.anapioficeandfire.com/api/characters/1845', 'https://www.anapioficeandfire.com/api/characters/1846', 'https://www.anapioficeandfire.com/api/characters/1848', 'https://www.anapioficeandfire.com/api/characters/1852', 'https://www.anapioficeandfire.com/api/characters/1853', 'https://www.anapioficeandfire.com/api/characters/1854', 'https://www.anapioficeandfire.com/api/characters/1856', 'https://www.anapioficeandfire.com/api/characters/1857', 'https://www.anapioficeandfire.com/api/characters/1858', 'https://www.anapioficeandfire.com/api/characters/1859', 'https://www.anapioficeandfire.com/api/characters/1863', 'https://www.anapioficeandfire.com/api/characters/1865', 'https://www.anapioficeandfire.com/api/characters/1868', 'https://www.anapioficeandfire.com/api/characters/1870', 'https://www.anapioficeandfire.com/api/characters/1873', 'https://www.anapioficeandfire.com/api/characters/1875', 'https://www.anapioficeandfire.com/api/characters/1876', 'https://www.anapioficeandfire.com/api/characters/1877', 'https://www.anapioficeandfire.com/api/characters/1878', 'https://www.anapioficeandfire.com/api/characters/1880', 'https://www.anapioficeandfire.com/api/characters/1881', 'https://www.anapioficeandfire.com/api/characters/1882', 'https://www.anapioficeandfire.com/api/characters/1883', 'https://www.anapioficeandfire.com/api/characters/1886', 'https://www.anapioficeandfire.com/api/characters/1887', 'https://www.anapioficeandfire.com/api/characters/1888', 'https://www.anapioficeandfire.com/api/characters/1890', 'https://www.anapioficeandfire.com/api/characters/1892', 'https://www.anapioficeandfire.com/api/characters/1895', 'https://www.anapioficeandfire.com/api/characters/1898', 'https://www.anapioficeandfire.com/api/characters/1900', 'https://www.anapioficeandfire.com/api/characters/1901', 'https://www.anapioficeandfire.com/api/characters/1902', 'https://www.anapioficeandfire.com/api/characters/1903', 'https://www.anapioficeandfire.com/api/characters/1906', 'https://www.anapioficeandfire.com/api/characters/1910', 'https://www.anapioficeandfire.com/api/characters/1911', 'https://www.anapioficeandfire.com/api/characters/1913', 'https://www.anapioficeandfire.com/api/characters/1915', 'https://www.anapioficeandfire.com/api/characters/1916', 'https://www.anapioficeandfire.com/api/characters/1917', 'https://www.anapioficeandfire.com/api/characters/1922', 'https://www.anapioficeandfire.com/api/characters/1923', 'https://www.anapioficeandfire.com/api/characters/1925', 'https://www.anapioficeandfire.com/api/characters/1929', 'https://www.anapioficeandfire.com/api/characters/1930', 'https://www.anapioficeandfire.com/api/characters/1931', 'https://www.anapioficeandfire.com/api/characters/1935', 'https://www.anapioficeandfire.com/api/characters/1936', 'https://www.anapioficeandfire.com/api/characters/1938', 'https://www.anapioficeandfire.com/api/characters/1939', 'https://www.anapioficeandfire.com/api/characters/1940', 'https://www.anapioficeandfire.com/api/characters/1941', 'https://www.anapioficeandfire.com/api/characters/1945', 'https://www.anapioficeandfire.com/api/characters/1946', 'https://www.anapioficeandfire.com/api/characters/1952', 'https://www.anapioficeandfire.com/api/characters/1953', 'https://www.anapioficeandfire.com/api/characters/1954', 'https://www.anapioficeandfire.com/api/characters/1957', 'https://www.anapioficeandfire.com/api/characters/1963', 'https://www.anapioficeandfire.com/api/characters/1964', 'https://www.anapioficeandfire.com/api/characters/1967', 'https://www.anapioficeandfire.com/api/characters/1970', 'https://www.anapioficeandfire.com/api/characters/1972', 'https://www.anapioficeandfire.com/api/characters/1975', 'https://www.anapioficeandfire.com/api/characters/1976', 'https://www.anapioficeandfire.com/api/characters/1979', 'https://www.anapioficeandfire.com/api/characters/1980', 'https://www.anapioficeandfire.com/api/characters/1982', 'https://www.anapioficeandfire.com/api/characters/1984', 'https://www.anapioficeandfire.com/api/characters/1985', 'https://www.anapioficeandfire.com/api/characters/1987', 'https://www.anapioficeandfire.com/api/characters/1990', 'https://www.anapioficeandfire.com/api/characters/1991', 'https://www.anapioficeandfire.com/api/characters/1992', 'https://www.anapioficeandfire.com/api/characters/1993', 'https://www.anapioficeandfire.com/api/characters/1994', 'https://www.anapioficeandfire.com/api/characters/1996', 'https://www.anapioficeandfire.com/api/characters/1998', 'https://www.anapioficeandfire.com/api/characters/1999', 'https://www.anapioficeandfire.com/api/characters/2001', 'https://www.anapioficeandfire.com/api/characters/2002', 'https://www.anapioficeandfire.com/api/characters/2003', 'https://www.anapioficeandfire.com/api/characters/2004', 'https://www.anapioficeandfire.com/api/characters/2005', 'https://www.anapioficeandfire.com/api/characters/2006', 'https://www.anapioficeandfire.com/api/characters/2007', 'https://www.anapioficeandfire.com/api/characters/2011', 'https://www.anapioficeandfire.com/api/characters/2013', 'https://www.anapioficeandfire.com/api/characters/2016', 'https://www.anapioficeandfire.com/api/characters/2017', 'https://www.anapioficeandfire.com/api/characters/2018', 'https://www.anapioficeandfire.com/api/characters/2022', 'https://www.anapioficeandfire.com/api/characters/2024', 'https://www.anapioficeandfire.com/api/characters/2026', 'https://www.anapioficeandfire.com/api/characters/2027', 'https://www.anapioficeandfire.com/api/characters/2030', 'https://www.anapioficeandfire.com/api/characters/2032', 'https://www.anapioficeandfire.com/api/characters/2033', 'https://www.anapioficeandfire.com/api/characters/2037', 'https://www.anapioficeandfire.com/api/characters/2041', 'https://www.anapioficeandfire.com/api/characters/2043', 'https://www.anapioficeandfire.com/api/characters/2045', 'https://www.anapioficeandfire.com/api/characters/2049', 'https://www.anapioficeandfire.com/api/characters/2050', 'https://www.anapioficeandfire.com/api/characters/2053', 'https://www.anapioficeandfire.com/api/characters/2055', 'https://www.anapioficeandfire.com/api/characters/2056', 'https://www.anapioficeandfire.com/api/characters/2060', 'https://www.anapioficeandfire.com/api/characters/2064', 'https://www.anapioficeandfire.com/api/characters/2065', 'https://www.anapioficeandfire.com/api/characters/2067', 'https://www.anapioficeandfire.com/api/characters/2069', 'https://www.anapioficeandfire.com/api/characters/2071', 'https://www.anapioficeandfire.com/api/characters/2072', 'https://www.anapioficeandfire.com/api/characters/2073', 'https://www.anapioficeandfire.com/api/characters/2074', 'https://www.anapioficeandfire.com/api/characters/2075', 'https://www.anapioficeandfire.com/api/characters/2077', 'https://www.anapioficeandfire.com/api/characters/2080', 'https://www.anapioficeandfire.com/api/characters/2081', 'https://www.anapioficeandfire.com/api/characters/2082', 'https://www.anapioficeandfire.com/api/characters/2085', 'https://www.anapioficeandfire.com/api/characters/2088', 'https://www.anapioficeandfire.com/api/characters/2091', 'https://www.anapioficeandfire.com/api/characters/2092', 'https://www.anapioficeandfire.com/api/characters/2093', 'https://www.anapioficeandfire.com/api/characters/2097', 'https://www.anapioficeandfire.com/api/characters/2101', 'https://www.anapioficeandfire.com/api/characters/2104', 'https://www.anapioficeandfire.com/api/characters/2106', 'https://www.anapioficeandfire.com/api/characters/2107', 'https://www.anapioficeandfire.com/api/characters/2109', 'https://www.anapioficeandfire.com/api/characters/2110', 'https://www.anapioficeandfire.com/api/characters/2113', 'https://www.anapioficeandfire.com/api/characters/2117', 'https://www.anapioficeandfire.com/api/characters/2122', 'https://www.anapioficeandfire.com/api/characters/2123', 'https://www.anapioficeandfire.com/api/characters/2126', 'https://www.anapioficeandfire.com/api/characters/2127', 'https://www.anapioficeandfire.com/api/characters/2129', 'https://www.anapioficeandfire.com/api/characters/2133', 'https://www.anapioficeandfire.com/api/characters/2137', 'https://www.anapioficeandfire.com/api/characters/2138'], 'povCharacters': ['https://www.anapioficeandfire.com/api/characters/60', 'https://www.anapioficeandfire.com/api/characters/130', 'https://www.anapioficeandfire.com/api/characters/148', 'https://www.anapioficeandfire.com/api/characters/149', 'https://www.anapioficeandfire.com/api/characters/150', 'https://www.anapioficeandfire.com/api/characters/216', 'https://www.anapioficeandfire.com/api/characters/238', 'https://www.anapioficeandfire.com/api/characters/529', 'https://www.anapioficeandfire.com/api/characters/954', 'https://www.anapioficeandfire.com/api/characters/957', 'https://www.anapioficeandfire.com/api/characters/1074', 'https://www.anapioficeandfire.com/api/characters/1166']}, {'url': 'https://www.anapioficeandfire.com/api/books/6', 'name': 'The Sworn Sword', 'isbn': '978-0785126508', 'authors': ['George R. R. Martin'], 'numberOfPages': 152, 'publisher': 'Marvel', 'country': 'United States', 'mediaType': 'Hardcover', 'released': '2008-06-18T00:00:00', 'characters': ['https://www.anapioficeandfire.com/api/characters/8', 'https://www.anapioficeandfire.com/api/characters/32', 'https://www.anapioficeandfire.com/api/characters/35', 'https://www.anapioficeandfire.com/api/characters/38', 'https://www.anapioficeandfire.com/api/characters/46', 'https://www.anapioficeandfire.com/api/characters/47', 'https://www.anapioficeandfire.com/api/characters/48', 'https://www.anapioficeandfire.com/api/characters/50', 'https://www.anapioficeandfire.com/api/characters/54', 'https://www.anapioficeandfire.com/api/characters/58', 'https://www.anapioficeandfire.com/api/characters/61', 'https://www.anapioficeandfire.com/api/characters/104', 'https://www.anapioficeandfire.com/api/characters/113', 'https://www.anapioficeandfire.com/api/characters/132', 'https://www.anapioficeandfire.com/api/characters/152', 'https://www.anapioficeandfire.com/api/characters/160', 'https://www.anapioficeandfire.com/api/characters/161', 'https://www.anapioficeandfire.com/api/characters/186', 'https://www.anapioficeandfire.com/api/characters/231', 'https://www.anapioficeandfire.com/api/characters/248', 'https://www.anapioficeandfire.com/api/characters/266', 'https://www.anapioficeandfire.com/api/characters/267', 'https://www.anapioficeandfire.com/api/characters/271', 'https://www.anapioficeandfire.com/api/characters/273', 'https://www.anapioficeandfire.com/api/characters/274', 'https://www.anapioficeandfire.com/api/characters/278', 'https://www.anapioficeandfire.com/api/characters/353', 'https://www.anapioficeandfire.com/api/characters/388', 'https://www.anapioficeandfire.com/api/characters/422', 'https://www.anapioficeandfire.com/api/characters/431', 'https://www.anapioficeandfire.com/api/characters/447', 'https://www.anapioficeandfire.com/api/characters/457', 'https://www.anapioficeandfire.com/api/characters/478', 'https://www.anapioficeandfire.com/api/characters/489', 'https://www.anapioficeandfire.com/api/characters/513', 'https://www.anapioficeandfire.com/api/characters/514', 'https://www.anapioficeandfire.com/api/characters/614', 'https://www.anapioficeandfire.com/api/characters/655', 'https://www.anapioficeandfire.com/api/characters/695', 'https://www.anapioficeandfire.com/api/characters/703', 'https://www.anapioficeandfire.com/api/characters/729', 'https://www.anapioficeandfire.com/api/characters/791', 'https://www.anapioficeandfire.com/api/characters/807', 'https://www.anapioficeandfire.com/api/characters/821', 'https://www.anapioficeandfire.com/api/characters/842', 'https://www.anapioficeandfire.com/api/characters/864', 'https://www.anapioficeandfire.com/api/characters/865', 'https://www.anapioficeandfire.com/api/characters/893', 'https://www.anapioficeandfire.com/api/characters/926', 'https://www.anapioficeandfire.com/api/characters/964', 'https://www.anapioficeandfire.com/api/characters/981', 'https://www.anapioficeandfire.com/api/characters/982', 'https://www.anapioficeandfire.com/api/characters/1048', 'https://www.anapioficeandfire.com/api/characters/1060', 'https://www.anapioficeandfire.com/api/characters/1067', 'https://www.anapioficeandfire.com/api/characters/1108', 'https://www.anapioficeandfire.com/api/characters/1121', 'https://www.anapioficeandfire.com/api/characters/1242', 'https://www.anapioficeandfire.com/api/characters/1248', 'https://www.anapioficeandfire.com/api/characters/1263', 'https://www.anapioficeandfire.com/api/characters/1276', 'https://www.anapioficeandfire.com/api/characters/1308', 'https://www.anapioficeandfire.com/api/characters/1402', 'https://www.anapioficeandfire.com/api/characters/1411', 'https://www.anapioficeandfire.com/api/characters/1542', 'https://www.anapioficeandfire.com/api/characters/1562', 'https://www.anapioficeandfire.com/api/characters/1614', 'https://www.anapioficeandfire.com/api/characters/1731', 'https://www.anapioficeandfire.com/api/characters/1801', 'https://www.anapioficeandfire.com/api/characters/1803', 'https://www.anapioficeandfire.com/api/characters/1869', 'https://www.anapioficeandfire.com/api/characters/1879', 'https://www.anapioficeandfire.com/api/characters/1889', 'https://www.anapioficeandfire.com/api/characters/1891', 'https://www.anapioficeandfire.com/api/characters/1928', 'https://www.anapioficeandfire.com/api/characters/1944', 'https://www.anapioficeandfire.com/api/characters/1983', 'https://www.anapioficeandfire.com/api/characters/2079', 'https://www.anapioficeandfire.com/api/characters/2083', 'https://www.anapioficeandfire.com/api/characters/2084', 'https://www.anapioficeandfire.com/api/characters/2094', 'https://www.anapioficeandfire.com/api/characters/2103', 'https://www.anapioficeandfire.com/api/characters/2105', 'https://www.anapioficeandfire.com/api/characters/2115'], 'povCharacters': ['https://www.anapioficeandfire.com/api/characters/329']}, {'url': 'https://www.anapioficeandfire.com/api/books/7', 'name': 'The Mystery Knight', 'isbn': '978-0765360267', 'authors': ['George R. R. Martin'], 'numberOfPages': 416, 'publisher': 'Tor Fantasy', 'country': 'United States', 'mediaType': 'Paperback', 'released': '2011-03-29T00:00:00', 'characters': ['https://www.anapioficeandfire.com/api/characters/30', 'https://www.anapioficeandfire.com/api/characters/35', 'https://www.anapioficeandfire.com/api/characters/38', 'https://www.anapioficeandfire.com/api/characters/41', 'https://www.anapioficeandfire.com/api/characters/46', 'https://www.anapioficeandfire.com/api/characters/47', 'https://www.anapioficeandfire.com/api/characters/50', 'https://www.anapioficeandfire.com/api/characters/54', 'https://www.anapioficeandfire.com/api/characters/58', 'https://www.anapioficeandfire.com/api/characters/61', 'https://www.anapioficeandfire.com/api/characters/83', 'https://www.anapioficeandfire.com/api/characters/113', 'https://www.anapioficeandfire.com/api/characters/132', 'https://www.anapioficeandfire.com/api/characters/133', 'https://www.anapioficeandfire.com/api/characters/161', 'https://www.anapioficeandfire.com/api/characters/192', 'https://www.anapioficeandfire.com/api/characters/224', 'https://www.anapioficeandfire.com/api/characters/240', 'https://www.anapioficeandfire.com/api/characters/267', 'https://www.anapioficeandfire.com/api/characters/268', 'https://www.anapioficeandfire.com/api/characters/274', 'https://www.anapioficeandfire.com/api/characters/276', 'https://www.anapioficeandfire.com/api/characters/278', 'https://www.anapioficeandfire.com/api/characters/283', 'https://www.anapioficeandfire.com/api/characters/289', 'https://www.anapioficeandfire.com/api/characters/342', 'https://www.anapioficeandfire.com/api/characters/399', 'https://www.anapioficeandfire.com/api/characters/428', 'https://www.anapioficeandfire.com/api/characters/431', 'https://www.anapioficeandfire.com/api/characters/464', 'https://www.anapioficeandfire.com/api/characters/566', 'https://www.anapioficeandfire.com/api/characters/623', 'https://www.anapioficeandfire.com/api/characters/655', 'https://www.anapioficeandfire.com/api/characters/695', 'https://www.anapioficeandfire.com/api/characters/729', 'https://www.anapioficeandfire.com/api/characters/732', 'https://www.anapioficeandfire.com/api/characters/807', 'https://www.anapioficeandfire.com/api/characters/842', 'https://www.anapioficeandfire.com/api/characters/868', 'https://www.anapioficeandfire.com/api/characters/921', 'https://www.anapioficeandfire.com/api/characters/1048', 'https://www.anapioficeandfire.com/api/characters/1065', 'https://www.anapioficeandfire.com/api/characters/1067', 'https://www.anapioficeandfire.com/api/characters/1078', 'https://www.anapioficeandfire.com/api/characters/1093', 'https://www.anapioficeandfire.com/api/characters/1117', 'https://www.anapioficeandfire.com/api/characters/1138', 'https://www.anapioficeandfire.com/api/characters/1167', 'https://www.anapioficeandfire.com/api/characters/1242', 'https://www.anapioficeandfire.com/api/characters/1287', 'https://www.anapioficeandfire.com/api/characters/1387', 'https://www.anapioficeandfire.com/api/characters/1392', 'https://www.anapioficeandfire.com/api/characters/1462', 'https://www.anapioficeandfire.com/api/characters/1538', 'https://www.anapioficeandfire.com/api/characters/1589', 'https://www.anapioficeandfire.com/api/characters/1591', 'https://www.anapioficeandfire.com/api/characters/1598', 'https://www.anapioficeandfire.com/api/characters/1636', 'https://www.anapioficeandfire.com/api/characters/1641', 'https://www.anapioficeandfire.com/api/characters/1664', 'https://www.anapioficeandfire.com/api/characters/1694', 'https://www.anapioficeandfire.com/api/characters/1726', 'https://www.anapioficeandfire.com/api/characters/1752', 'https://www.anapioficeandfire.com/api/characters/1823', 'https://www.anapioficeandfire.com/api/characters/1851', 'https://www.anapioficeandfire.com/api/characters/1889', 'https://www.anapioficeandfire.com/api/characters/1966', 'https://www.anapioficeandfire.com/api/characters/1983', 'https://www.anapioficeandfire.com/api/characters/2021', 'https://www.anapioficeandfire.com/api/characters/2054', 'https://www.anapioficeandfire.com/api/characters/2102'], 'povCharacters': ['https://www.anapioficeandfire.com/api/characters/329']}, {'url': 'https://www.anapioficeandfire.com/api/books/8', 'name': 'A Dance with Dragons', 'isbn': '978-0553801477', 'authors': ['George R. R. Martin'], 'numberOfPages': 1040, 'publisher': 'Bantam Books', 'country': 'United States', 'mediaType': 'Hardcover', 'released': '2011-07-12T00:00:00', 'characters': ['https://www.anapioficeandfire.com/api/characters/2', 'https://www.anapioficeandfire.com/api/characters/4', 'https://www.anapioficeandfire.com/api/characters/11', 'https://www.anapioficeandfire.com/api/characters/12', 'https://www.anapioficeandfire.com/api/characters/15', 'https://www.anapioficeandfire.com/api/characters/16', 'https://www.anapioficeandfire.com/api/characters/19', 'https://www.anapioficeandfire.com/api/characters/21', 'https://www.anapioficeandfire.com/api/characters/22', 'https://www.anapioficeandfire.com/api/characters/24', 'https://www.anapioficeandfire.com/api/characters/25', 'https://www.anapioficeandfire.com/api/characters/26', 'https://www.anapioficeandfire.com/api/characters/27', 'https://www.anapioficeandfire.com/api/characters/28', 'https://www.anapioficeandfire.com/api/characters/31', 'https://www.anapioficeandfire.com/api/characters/37', 'https://www.anapioficeandfire.com/api/characters/38', 'https://www.anapioficeandfire.com/api/characters/42', 'https://www.anapioficeandfire.com/api/characters/46', 'https://www.anapioficeandfire.com/api/characters/47', 'https://www.anapioficeandfire.com/api/characters/52', 'https://www.anapioficeandfire.com/api/characters/54', 'https://www.anapioficeandfire.com/api/characters/55', 'https://www.anapioficeandfire.com/api/characters/56', 'https://www.anapioficeandfire.com/api/characters/58', 'https://www.anapioficeandfire.com/api/characters/60', 'https://www.anapioficeandfire.com/api/characters/62', 'https://www.anapioficeandfire.com/api/characters/63', 'https://www.anapioficeandfire.com/api/characters/66', 'https://www.anapioficeandfire.com/api/characters/67', 'https://www.anapioficeandfire.com/api/characters/69', 'https://www.anapioficeandfire.com/api/characters/72', 'https://www.anapioficeandfire.com/api/characters/77', 'https://www.anapioficeandfire.com/api/characters/79', 'https://www.anapioficeandfire.com/api/characters/81', 'https://www.anapioficeandfire.com/api/characters/82', 'https://www.anapioficeandfire.com/api/characters/85', 'https://www.anapioficeandfire.com/api/characters/89', 'https://www.anapioficeandfire.com/api/characters/91', 'https://www.anapioficeandfire.com/api/characters/96', 'https://www.anapioficeandfire.com/api/characters/99', 'https://www.anapioficeandfire.com/api/characters/100', 'https://www.anapioficeandfire.com/api/characters/103', 'https://www.anapioficeandfire.com/api/characters/108', 'https://www.anapioficeandfire.com/api/characters/112', 'https://www.anapioficeandfire.com/api/characters/115', 'https://www.anapioficeandfire.com/api/characters/116', 'https://www.anapioficeandfire.com/api/characters/117', 'https://www.anapioficeandfire.com/api/characters/118', 'https://www.anapioficeandfire.com/api/characters/123', 'https://www.anapioficeandfire.com/api/characters/124', 'https://www.anapioficeandfire.com/api/characters/125', 'https://www.anapioficeandfire.com/api/characters/126', 'https://www.anapioficeandfire.com/api/characters/130', 'https://www.anapioficeandfire.com/api/characters/134', 'https://www.anapioficeandfire.com/api/characters/139', 'https://www.anapioficeandfire.com/api/characters/140', 'https://www.anapioficeandfire.com/api/characters/141', 'https://www.anapioficeandfire.com/api/characters/142', 'https://www.anapioficeandfire.com/api/characters/143', 'https://www.anapioficeandfire.com/api/characters/146', 'https://www.anapioficeandfire.com/api/characters/147', 'https://www.anapioficeandfire.com/api/characters/149', 'https://www.anapioficeandfire.com/api/characters/151', 'https://www.anapioficeandfire.com/api/characters/153', 'https://www.anapioficeandfire.com/api/characters/160', 'https://www.anapioficeandfire.com/api/characters/162', 'https://www.anapioficeandfire.com/api/characters/164', 'https://www.anapioficeandfire.com/api/characters/165', 'https://www.anapioficeandfire.com/api/characters/166', 'https://www.anapioficeandfire.com/api/characters/169', 'https://www.anapioficeandfire.com/api/characters/172', 'https://www.anapioficeandfire.com/api/characters/175', 'https://www.anapioficeandfire.com/api/characters/176', 'https://www.anapioficeandfire.com/api/characters/177', 'https://www.anapioficeandfire.com/api/characters/179', 'https://www.anapioficeandfire.com/api/characters/180', 'https://www.anapioficeandfire.com/api/characters/181', 'https://www.anapioficeandfire.com/api/characters/188', 'https://www.anapioficeandfire.com/api/characters/189', 'https://www.anapioficeandfire.com/api/characters/190', 'https://www.anapioficeandfire.com/api/characters/191', 'https://www.anapioficeandfire.com/api/characters/194', 'https://www.anapioficeandfire.com/api/characters/196', 'https://www.anapioficeandfire.com/api/characters/199', 'https://www.anapioficeandfire.com/api/characters/200', 'https://www.anapioficeandfire.com/api/characters/201', 'https://www.anapioficeandfire.com/api/characters/202', 'https://www.anapioficeandfire.com/api/characters/203', 'https://www.anapioficeandfire.com/api/characters/205', 'https://www.anapioficeandfire.com/api/characters/206', 'https://www.anapioficeandfire.com/api/characters/209', 'https://www.anapioficeandfire.com/api/characters/214', 'https://www.anapioficeandfire.com/api/characters/216', 'https://www.anapioficeandfire.com/api/characters/217', 'https://www.anapioficeandfire.com/api/characters/220', 'https://www.anapioficeandfire.com/api/characters/222', 'https://www.anapioficeandfire.com/api/characters/223', 'https://www.anapioficeandfire.com/api/characters/229', 'https://www.anapioficeandfire.com/api/characters/230', 'https://www.anapioficeandfire.com/api/characters/232', 'https://www.anapioficeandfire.com/api/characters/235', 'https://www.anapioficeandfire.com/api/characters/243', 'https://www.anapioficeandfire.com/api/characters/245', 'https://www.anapioficeandfire.com/api/characters/246', 'https://www.anapioficeandfire.com/api/characters/247', 'https://www.anapioficeandfire.com/api/characters/251', 'https://www.anapioficeandfire.com/api/characters/258', 'https://www.anapioficeandfire.com/api/characters/261', 'https://www.anapioficeandfire.com/api/characters/263', 'https://www.anapioficeandfire.com/api/characters/264', 'https://www.anapioficeandfire.com/api/characters/267', 'https://www.anapioficeandfire.com/api/characters/271', 'https://www.anapioficeandfire.com/api/characters/273', 'https://www.anapioficeandfire.com/api/characters/274', 'https://www.anapioficeandfire.com/api/characters/277', 'https://www.anapioficeandfire.com/api/characters/278', 'https://www.anapioficeandfire.com/api/characters/279', 'https://www.anapioficeandfire.com/api/characters/280', 'https://www.anapioficeandfire.com/api/characters/282', 'https://www.anapioficeandfire.com/api/characters/285', 'https://www.anapioficeandfire.com/api/characters/291', 'https://www.anapioficeandfire.com/api/characters/292', 'https://www.anapioficeandfire.com/api/characters/293', 'https://www.anapioficeandfire.com/api/characters/294', 'https://www.anapioficeandfire.com/api/characters/298', 'https://www.anapioficeandfire.com/api/characters/303', 'https://www.anapioficeandfire.com/api/characters/308', 'https://www.anapioficeandfire.com/api/characters/309', 'https://www.anapioficeandfire.com/api/characters/313', 'https://www.anapioficeandfire.com/api/characters/314', 'https://www.anapioficeandfire.com/api/characters/315', 'https://www.anapioficeandfire.com/api/characters/317', 'https://www.anapioficeandfire.com/api/characters/323', 'https://www.anapioficeandfire.com/api/characters/326', 'https://www.anapioficeandfire.com/api/characters/327', 'https://www.anapioficeandfire.com/api/characters/329', 'https://www.anapioficeandfire.com/api/characters/330', 'https://www.anapioficeandfire.com/api/characters/331', 'https://www.anapioficeandfire.com/api/characters/336', 'https://www.anapioficeandfire.com/api/characters/337', 'https://www.anapioficeandfire.com/api/characters/338', 'https://www.anapioficeandfire.com/api/characters/339', 'https://www.anapioficeandfire.com/api/characters/341', 'https://www.anapioficeandfire.com/api/characters/345', 'https://www.anapioficeandfire.com/api/characters/346', 'https://www.anapioficeandfire.com/api/characters/349', 'https://www.anapioficeandfire.com/api/characters/357', 'https://www.anapioficeandfire.com/api/characters/359', 'https://www.anapioficeandfire.com/api/characters/361', 'https://www.anapioficeandfire.com/api/characters/362', 'https://www.anapioficeandfire.com/api/characters/364', 'https://www.anapioficeandfire.com/api/characters/368', 'https://www.anapioficeandfire.com/api/characters/369', 'https://www.anapioficeandfire.com/api/characters/377', 'https://www.anapioficeandfire.com/api/characters/380', 'https://www.anapioficeandfire.com/api/characters/382', 'https://www.anapioficeandfire.com/api/characters/385', 'https://www.anapioficeandfire.com/api/characters/387', 'https://www.anapioficeandfire.com/api/characters/392', 'https://www.anapioficeandfire.com/api/characters/393', 'https://www.anapioficeandfire.com/api/characters/396', 'https://www.anapioficeandfire.com/api/characters/397', 'https://www.anapioficeandfire.com/api/characters/401', 'https://www.anapioficeandfire.com/api/characters/402', 'https://www.anapioficeandfire.com/api/characters/403', 'https://www.anapioficeandfire.com/api/characters/405', 'https://www.anapioficeandfire.com/api/characters/406', 'https://www.anapioficeandfire.com/api/characters/408', 'https://www.anapioficeandfire.com/api/characters/413', 'https://www.anapioficeandfire.com/api/characters/415', 'https://www.anapioficeandfire.com/api/characters/416', 'https://www.anapioficeandfire.com/api/characters/417', 'https://www.anapioficeandfire.com/api/characters/418', 'https://www.anapioficeandfire.com/api/characters/419', 'https://www.anapioficeandfire.com/api/characters/420', 'https://www.anapioficeandfire.com/api/characters/424', 'https://www.anapioficeandfire.com/api/characters/426', 'https://www.anapioficeandfire.com/api/characters/429', 'https://www.anapioficeandfire.com/api/characters/430', 'https://www.anapioficeandfire.com/api/characters/434', 'https://www.anapioficeandfire.com/api/characters/438', 'https://www.anapioficeandfire.com/api/characters/439', 'https://www.anapioficeandfire.com/api/characters/445', 'https://www.anapioficeandfire.com/api/characters/446', 'https://www.anapioficeandfire.com/api/characters/452', 'https://www.anapioficeandfire.com/api/characters/453', 'https://www.anapioficeandfire.com/api/characters/458', 'https://www.anapioficeandfire.com/api/characters/462', 'https://www.anapioficeandfire.com/api/characters/466', 'https://www.anapioficeandfire.com/api/characters/470', 'https://www.anapioficeandfire.com/api/characters/471', 'https://www.anapioficeandfire.com/api/characters/473', 'https://www.anapioficeandfire.com/api/characters/476', 'https://www.anapioficeandfire.com/api/characters/477', 'https://www.anapioficeandfire.com/api/characters/480', 'https://www.anapioficeandfire.com/api/characters/482', 'https://www.anapioficeandfire.com/api/characters/483', 'https://www.anapioficeandfire.com/api/characters/487', 'https://www.anapioficeandfire.com/api/characters/490', 'https://www.anapioficeandfire.com/api/characters/495', 'https://www.anapioficeandfire.com/api/characters/496', 'https://www.anapioficeandfire.com/api/characters/498', 'https://www.anapioficeandfire.com/api/characters/499', 'https://www.anapioficeandfire.com/api/characters/501', 'https://www.anapioficeandfire.com/api/characters/503', 'https://www.anapioficeandfire.com/api/characters/504', 'https://www.anapioficeandfire.com/api/characters/505', 'https://www.anapioficeandfire.com/api/characters/506', 'https://www.anapioficeandfire.com/api/characters/510', 'https://www.anapioficeandfire.com/api/characters/512', 'https://www.anapioficeandfire.com/api/characters/515', 'https://www.anapioficeandfire.com/api/characters/516', 'https://www.anapioficeandfire.com/api/characters/519', 'https://www.anapioficeandfire.com/api/characters/521', 'https://www.anapioficeandfire.com/api/characters/524', 'https://www.anapioficeandfire.com/api/characters/525', 'https://www.anapioficeandfire.com/api/characters/526', 'https://www.anapioficeandfire.com/api/characters/527', 'https://www.anapioficeandfire.com/api/characters/530', 'https://www.anapioficeandfire.com/api/characters/531', 'https://www.anapioficeandfire.com/api/characters/532', 'https://www.anapioficeandfire.com/api/characters/533', 'https://www.anapioficeandfire.com/api/characters/535', 'https://www.anapioficeandfire.com/api/characters/536', 'https://www.anapioficeandfire.com/api/characters/537', 'https://www.anapioficeandfire.com/api/characters/539', 'https://www.anapioficeandfire.com/api/characters/541', 'https://www.anapioficeandfire.com/api/characters/547', 'https://www.anapioficeandfire.com/api/characters/557', 'https://www.anapioficeandfire.com/api/characters/562', 'https://www.anapioficeandfire.com/api/characters/564', 'https://www.anapioficeandfire.com/api/characters/565', 'https://www.anapioficeandfire.com/api/characters/571', 'https://www.anapioficeandfire.com/api/characters/572', 'https://www.anapioficeandfire.com/api/characters/573', 'https://www.anapioficeandfire.com/api/characters/579', 'https://www.anapioficeandfire.com/api/characters/580', 'https://www.anapioficeandfire.com/api/characters/582', 'https://www.anapioficeandfire.com/api/characters/585', 'https://www.anapioficeandfire.com/api/characters/586', 'https://www.anapioficeandfire.com/api/characters/588', 'https://www.anapioficeandfire.com/api/characters/594', 'https://www.anapioficeandfire.com/api/characters/595', 'https://www.anapioficeandfire.com/api/characters/597', 'https://www.anapioficeandfire.com/api/characters/600', 'https://www.anapioficeandfire.com/api/characters/601', 'https://www.anapioficeandfire.com/api/characters/604', 'https://www.anapioficeandfire.com/api/characters/612', 'https://www.anapioficeandfire.com/api/characters/613', 'https://www.anapioficeandfire.com/api/characters/616', 'https://www.anapioficeandfire.com/api/characters/622', 'https://www.anapioficeandfire.com/api/characters/625', 'https://www.anapioficeandfire.com/api/characters/627', 'https://www.anapioficeandfire.com/api/characters/629', 'https://www.anapioficeandfire.com/api/characters/630', 'https://www.anapioficeandfire.com/api/characters/631', 'https://www.anapioficeandfire.com/api/characters/632', 'https://www.anapioficeandfire.com/api/characters/633', 'https://www.anapioficeandfire.com/api/characters/635', 'https://www.anapioficeandfire.com/api/characters/638', 'https://www.anapioficeandfire.com/api/characters/639', 'https://www.anapioficeandfire.com/api/characters/640', 'https://www.anapioficeandfire.com/api/characters/642', 'https://www.anapioficeandfire.com/api/characters/644', 'https://www.anapioficeandfire.com/api/characters/645', 'https://www.anapioficeandfire.com/api/characters/649', 'https://www.anapioficeandfire.com/api/characters/651', 'https://www.anapioficeandfire.com/api/characters/653', 'https://www.anapioficeandfire.com/api/characters/654', 'https://www.anapioficeandfire.com/api/characters/659', 'https://www.anapioficeandfire.com/api/characters/660', 'https://www.anapioficeandfire.com/api/characters/662', 'https://www.anapioficeandfire.com/api/characters/667', 'https://www.anapioficeandfire.com/api/characters/673', 'https://www.anapioficeandfire.com/api/characters/676', 'https://www.anapioficeandfire.com/api/characters/677', 'https://www.anapioficeandfire.com/api/characters/678', 'https://www.anapioficeandfire.com/api/characters/681', 'https://www.anapioficeandfire.com/api/characters/682', 'https://www.anapioficeandfire.com/api/characters/687', 'https://www.anapioficeandfire.com/api/characters/688', 'https://www.anapioficeandfire.com/api/characters/690', 'https://www.anapioficeandfire.com/api/characters/691', 'https://www.anapioficeandfire.com/api/characters/692', 'https://www.anapioficeandfire.com/api/characters/697', 'https://www.anapioficeandfire.com/api/characters/705', 'https://www.anapioficeandfire.com/api/characters/707', 'https://www.anapioficeandfire.com/api/characters/708', 'https://www.anapioficeandfire.com/api/characters/710', 'https://www.anapioficeandfire.com/api/characters/713', 'https://www.anapioficeandfire.com/api/characters/715', 'https://www.anapioficeandfire.com/api/characters/718', 'https://www.anapioficeandfire.com/api/characters/719', 'https://www.anapioficeandfire.com/api/characters/720', 'https://www.anapioficeandfire.com/api/characters/721', 'https://www.anapioficeandfire.com/api/characters/725', 'https://www.anapioficeandfire.com/api/characters/728', 'https://www.anapioficeandfire.com/api/characters/731', 'https://www.anapioficeandfire.com/api/characters/735', 'https://www.anapioficeandfire.com/api/characters/736', 'https://www.anapioficeandfire.com/api/characters/739', 'https://www.anapioficeandfire.com/api/characters/740', 'https://www.anapioficeandfire.com/api/characters/744', 'https://www.anapioficeandfire.com/api/characters/746', 'https://www.anapioficeandfire.com/api/characters/751', 'https://www.anapioficeandfire.com/api/characters/752', 'https://www.anapioficeandfire.com/api/characters/754', 'https://www.anapioficeandfire.com/api/characters/758', 'https://www.anapioficeandfire.com/api/characters/760', 'https://www.anapioficeandfire.com/api/characters/764', 'https://www.anapioficeandfire.com/api/characters/765', 'https://www.anapioficeandfire.com/api/characters/766', 'https://www.anapioficeandfire.com/api/characters/768', 'https://www.anapioficeandfire.com/api/characters/774', 'https://www.anapioficeandfire.com/api/characters/775', 'https://www.anapioficeandfire.com/api/characters/776', 'https://www.anapioficeandfire.com/api/characters/778', 'https://www.anapioficeandfire.com/api/characters/780', 'https://www.anapioficeandfire.com/api/characters/781', 'https://www.anapioficeandfire.com/api/characters/782', 'https://www.anapioficeandfire.com/api/characters/784', 'https://www.anapioficeandfire.com/api/characters/786', 'https://www.anapioficeandfire.com/api/characters/788', 'https://www.anapioficeandfire.com/api/characters/793', 'https://www.anapioficeandfire.com/api/characters/795', 'https://www.anapioficeandfire.com/api/characters/796', 'https://www.anapioficeandfire.com/api/characters/798', 'https://www.anapioficeandfire.com/api/characters/799', 'https://www.anapioficeandfire.com/api/characters/801', 'https://www.anapioficeandfire.com/api/characters/802', 'https://www.anapioficeandfire.com/api/characters/803', 'https://www.anapioficeandfire.com/api/characters/804', 'https://www.anapioficeandfire.com/api/characters/805', 'https://www.anapioficeandfire.com/api/characters/806', 'https://www.anapioficeandfire.com/api/characters/814', 'https://www.anapioficeandfire.com/api/characters/815', 'https://www.anapioficeandfire.com/api/characters/818', 'https://www.anapioficeandfire.com/api/characters/819', 'https://www.anapioficeandfire.com/api/characters/820', 'https://www.anapioficeandfire.com/api/characters/823', 'https://www.anapioficeandfire.com/api/characters/825', 'https://www.anapioficeandfire.com/api/characters/826', 'https://www.anapioficeandfire.com/api/characters/827', 'https://www.anapioficeandfire.com/api/characters/829', 'https://www.anapioficeandfire.com/api/characters/830', 'https://www.anapioficeandfire.com/api/characters/832', 'https://www.anapioficeandfire.com/api/characters/837', 'https://www.anapioficeandfire.com/api/characters/845', 'https://www.anapioficeandfire.com/api/characters/846', 'https://www.anapioficeandfire.com/api/characters/847', 'https://www.anapioficeandfire.com/api/characters/848', 'https://www.anapioficeandfire.com/api/characters/849', 'https://www.anapioficeandfire.com/api/characters/850', 'https://www.anapioficeandfire.com/api/characters/854', 'https://www.anapioficeandfire.com/api/characters/857', 'https://www.anapioficeandfire.com/api/characters/858', 'https://www.anapioficeandfire.com/api/characters/860', 'https://www.anapioficeandfire.com/api/characters/861', 'https://www.anapioficeandfire.com/api/characters/862', 'https://www.anapioficeandfire.com/api/characters/866', 'https://www.anapioficeandfire.com/api/characters/867', 'https://www.anapioficeandfire.com/api/characters/869', 'https://www.anapioficeandfire.com/api/characters/870', 'https://www.anapioficeandfire.com/api/characters/874', 'https://www.anapioficeandfire.com/api/characters/876', 'https://www.anapioficeandfire.com/api/characters/881', 'https://www.anapioficeandfire.com/api/characters/883', 'https://www.anapioficeandfire.com/api/characters/884', 'https://www.anapioficeandfire.com/api/characters/885', 'https://www.anapioficeandfire.com/api/characters/887', 'https://www.anapioficeandfire.com/api/characters/891', 'https://www.anapioficeandfire.com/api/characters/894', 'https://www.anapioficeandfire.com/api/characters/901', 'https://www.anapioficeandfire.com/api/characters/903', 'https://www.anapioficeandfire.com/api/characters/907', 'https://www.anapioficeandfire.com/api/characters/908', 'https://www.anapioficeandfire.com/api/characters/909', 'https://www.anapioficeandfire.com/api/characters/912', 'https://www.anapioficeandfire.com/api/characters/913', 'https://www.anapioficeandfire.com/api/characters/914', 'https://www.anapioficeandfire.com/api/characters/915', 'https://www.anapioficeandfire.com/api/characters/917', 'https://www.anapioficeandfire.com/api/characters/922', 'https://www.anapioficeandfire.com/api/characters/925', 'https://www.anapioficeandfire.com/api/characters/928', 'https://www.anapioficeandfire.com/api/characters/932', 'https://www.anapioficeandfire.com/api/characters/933', 'https://www.anapioficeandfire.com/api/characters/934', 'https://www.anapioficeandfire.com/api/characters/936', 'https://www.anapioficeandfire.com/api/characters/937', 'https://www.anapioficeandfire.com/api/characters/943', 'https://www.anapioficeandfire.com/api/characters/950', 'https://www.anapioficeandfire.com/api/characters/954', 'https://www.anapioficeandfire.com/api/characters/955', 'https://www.anapioficeandfire.com/api/characters/957', 'https://www.anapioficeandfire.com/api/characters/960', 'https://www.anapioficeandfire.com/api/characters/962', 'https://www.anapioficeandfire.com/api/characters/963', 'https://www.anapioficeandfire.com/api/characters/965', 'https://www.anapioficeandfire.com/api/characters/966', 'https://www.anapioficeandfire.com/api/characters/969', 'https://www.anapioficeandfire.com/api/characters/970', 'https://www.anapioficeandfire.com/api/characters/972', 'https://www.anapioficeandfire.com/api/characters/973', 'https://www.anapioficeandfire.com/api/characters/975', 'https://www.anapioficeandfire.com/api/characters/976', 'https://www.anapioficeandfire.com/api/characters/979', 'https://www.anapioficeandfire.com/api/characters/980', 'https://www.anapioficeandfire.com/api/characters/984', 'https://www.anapioficeandfire.com/api/characters/986', 'https://www.anapioficeandfire.com/api/characters/992', 'https://www.anapioficeandfire.com/api/characters/994', 'https://www.anapioficeandfire.com/api/characters/995', 'https://www.anapioficeandfire.com/api/characters/998', 'https://www.anapioficeandfire.com/api/characters/1002', 'https://www.anapioficeandfire.com/api/characters/1004', 'https://www.anapioficeandfire.com/api/characters/1005', 'https://www.anapioficeandfire.com/api/characters/1006', 'https://www.anapioficeandfire.com/api/characters/1009', 'https://www.anapioficeandfire.com/api/characters/1010', 'https://www.anapioficeandfire.com/api/characters/1011', 'https://www.anapioficeandfire.com/api/characters/1013', 'https://www.anapioficeandfire.com/api/characters/1014', 'https://www.anapioficeandfire.com/api/characters/1018', 'https://www.anapioficeandfire.com/api/characters/1020', 'https://www.anapioficeandfire.com/api/characters/1023', 'https://www.anapioficeandfire.com/api/characters/1025', 'https://www.anapioficeandfire.com/api/characters/1027', 'https://www.anapioficeandfire.com/api/characters/1029', 'https://www.anapioficeandfire.com/api/characters/1031', 'https://www.anapioficeandfire.com/api/characters/1033', 'https://www.anapioficeandfire.com/api/characters/1035', 'https://www.anapioficeandfire.com/api/characters/1036', 'https://www.anapioficeandfire.com/api/characters/1039', 'https://www.anapioficeandfire.com/api/characters/1042', 'https://www.anapioficeandfire.com/api/characters/1043', 'https://www.anapioficeandfire.com/api/characters/1047', 'https://www.anapioficeandfire.com/api/characters/1049', 'https://www.anapioficeandfire.com/api/characters/1051', 'https://www.anapioficeandfire.com/api/characters/1054', 'https://www.anapioficeandfire.com/api/characters/1055', 'https://www.anapioficeandfire.com/api/characters/1057', 'https://www.anapioficeandfire.com/api/characters/1058', 'https://www.anapioficeandfire.com/api/characters/1061', 'https://www.anapioficeandfire.com/api/characters/1063', 'https://www.anapioficeandfire.com/api/characters/1078', 'https://www.anapioficeandfire.com/api/characters/1079', 'https://www.anapioficeandfire.com/api/characters/1080', 'https://www.anapioficeandfire.com/api/characters/1084', 'https://www.anapioficeandfire.com/api/characters/1089', 'https://www.anapioficeandfire.com/api/characters/1091', 'https://www.anapioficeandfire.com/api/characters/1092', 'https://www.anapioficeandfire.com/api/characters/1093', 'https://www.anapioficeandfire.com/api/characters/1096', 'https://www.anapioficeandfire.com/api/characters/1097', 'https://www.anapioficeandfire.com/api/characters/1098', 'https://www.anapioficeandfire.com/api/characters/1099', 'https://www.anapioficeandfire.com/api/characters/1102', 'https://www.anapioficeandfire.com/api/characters/1105', 'https://www.anapioficeandfire.com/api/characters/1106', 'https://www.anapioficeandfire.com/api/characters/1107', 'https://www.anapioficeandfire.com/api/characters/1110', 'https://www.anapioficeandfire.com/api/characters/1113', 'https://www.anapioficeandfire.com/api/characters/1114', 'https://www.anapioficeandfire.com/api/characters/1115', 'https://www.anapioficeandfire.com/api/characters/1116', 'https://www.anapioficeandfire.com/api/characters/1118', 'https://www.anapioficeandfire.com/api/characters/1122', 'https://www.anapioficeandfire.com/api/characters/1123', 'https://www.anapioficeandfire.com/api/characters/1124', 'https://www.anapioficeandfire.com/api/characters/1126', 'https://www.anapioficeandfire.com/api/characters/1129', 'https://www.anapioficeandfire.com/api/characters/1131', 'https://www.anapioficeandfire.com/api/characters/1133', 'https://www.anapioficeandfire.com/api/characters/1137', 'https://www.anapioficeandfire.com/api/characters/1141', 'https://www.anapioficeandfire.com/api/characters/1142', 'https://www.anapioficeandfire.com/api/characters/1144', 'https://www.anapioficeandfire.com/api/characters/1146', 'https://www.anapioficeandfire.com/api/characters/1147', 'https://www.anapioficeandfire.com/api/characters/1150', 'https://www.anapioficeandfire.com/api/characters/1151', 'https://www.anapioficeandfire.com/api/characters/1155', 'https://www.anapioficeandfire.com/api/characters/1158', 'https://www.anapioficeandfire.com/api/characters/1159', 'https://www.anapioficeandfire.com/api/characters/1160', 'https://www.anapioficeandfire.com/api/characters/1164', 'https://www.anapioficeandfire.com/api/characters/1172', 'https://www.anapioficeandfire.com/api/characters/1177', 'https://www.anapioficeandfire.com/api/characters/1179', 'https://www.anapioficeandfire.com/api/characters/1180', 'https://www.anapioficeandfire.com/api/characters/1183', 'https://www.anapioficeandfire.com/api/characters/1184', 'https://www.anapioficeandfire.com/api/characters/1187', 'https://www.anapioficeandfire.com/api/characters/1188', 'https://www.anapioficeandfire.com/api/characters/1189', 'https://www.anapioficeandfire.com/api/characters/1191', 'https://www.anapioficeandfire.com/api/characters/1196', 'https://www.anapioficeandfire.com/api/characters/1198', 'https://www.anapioficeandfire.com/api/characters/1205', 'https://www.anapioficeandfire.com/api/characters/1208', 'https://www.anapioficeandfire.com/api/characters/1212', 'https://www.anapioficeandfire.com/api/characters/1218', 'https://www.anapioficeandfire.com/api/characters/1223', 'https://www.anapioficeandfire.com/api/characters/1225', 'https://www.anapioficeandfire.com/api/characters/1229', 'https://www.anapioficeandfire.com/api/characters/1235', 'https://www.anapioficeandfire.com/api/characters/1236', 'https://www.anapioficeandfire.com/api/characters/1238', 'https://www.anapioficeandfire.com/api/characters/1241', 'https://www.anapioficeandfire.com/api/characters/1242', 'https://www.anapioficeandfire.com/api/characters/1243', 'https://www.anapioficeandfire.com/api/characters/1244', 'https://www.anapioficeandfire.com/api/characters/1249', 'https://www.anapioficeandfire.com/api/characters/1253', 'https://www.anapioficeandfire.com/api/characters/1255', 'https://www.anapioficeandfire.com/api/characters/1259', 'https://www.anapioficeandfire.com/api/characters/1262', 'https://www.anapioficeandfire.com/api/characters/1268', 'https://www.anapioficeandfire.com/api/characters/1274', 'https://www.anapioficeandfire.com/api/characters/1275', 'https://www.anapioficeandfire.com/api/characters/1277', 'https://www.anapioficeandfire.com/api/characters/1279', 'https://www.anapioficeandfire.com/api/characters/1280', 'https://www.anapioficeandfire.com/api/characters/1283', 'https://www.anapioficeandfire.com/api/characters/1285', 'https://www.anapioficeandfire.com/api/characters/1289', 'https://www.anapioficeandfire.com/api/characters/1292', 'https://www.anapioficeandfire.com/api/characters/1293', 'https://www.anapioficeandfire.com/api/characters/1296', 'https://www.anapioficeandfire.com/api/characters/1298', 'https://www.anapioficeandfire.com/api/characters/1301', 'https://www.anapioficeandfire.com/api/characters/1306', 'https://www.anapioficeandfire.com/api/characters/1310', 'https://www.anapioficeandfire.com/api/characters/1311', 'https://www.anapioficeandfire.com/api/characters/1313', 'https://www.anapioficeandfire.com/api/characters/1315', 'https://www.anapioficeandfire.com/api/characters/1316', 'https://www.anapioficeandfire.com/api/characters/1317', 'https://www.anapioficeandfire.com/api/characters/1321', 'https://www.anapioficeandfire.com/api/characters/1326', 'https://www.anapioficeandfire.com/api/characters/1327', 'https://www.anapioficeandfire.com/api/characters/1328', 'https://www.anapioficeandfire.com/api/characters/1329', 'https://www.anapioficeandfire.com/api/characters/1331', 'https://www.anapioficeandfire.com/api/characters/1333', 'https://www.anapioficeandfire.com/api/characters/1334', 'https://www.anapioficeandfire.com/api/characters/1335', 'https://www.anapioficeandfire.com/api/characters/1339', 'https://www.anapioficeandfire.com/api/characters/1340', 'https://www.anapioficeandfire.com/api/characters/1341', 'https://www.anapioficeandfire.com/api/characters/1343', 'https://www.anapioficeandfire.com/api/characters/1344', 'https://www.anapioficeandfire.com/api/characters/1346', 'https://www.anapioficeandfire.com/api/characters/1347', 'https://www.anapioficeandfire.com/api/characters/1350', 'https://www.anapioficeandfire.com/api/characters/1352', 'https://www.anapioficeandfire.com/api/characters/1355', 'https://www.anapioficeandfire.com/api/characters/1357', 'https://www.anapioficeandfire.com/api/characters/1358', 'https://www.anapioficeandfire.com/api/characters/1362', 'https://www.anapioficeandfire.com/api/characters/1363', 'https://www.anapioficeandfire.com/api/characters/1364', 'https://www.anapioficeandfire.com/api/characters/1365', 'https://www.anapioficeandfire.com/api/characters/1367', 'https://www.anapioficeandfire.com/api/characters/1369', 'https://www.anapioficeandfire.com/api/characters/1372', 'https://www.anapioficeandfire.com/api/characters/1373', 'https://www.anapioficeandfire.com/api/characters/1381', 'https://www.anapioficeandfire.com/api/characters/1382', 'https://www.anapioficeandfire.com/api/characters/1383', 'https://www.anapioficeandfire.com/api/characters/1386', 'https://www.anapioficeandfire.com/api/characters/1393', 'https://www.anapioficeandfire.com/api/characters/1394', 'https://www.anapioficeandfire.com/api/characters/1397', 'https://www.anapioficeandfire.com/api/characters/1406', 'https://www.anapioficeandfire.com/api/characters/1409', 'https://www.anapioficeandfire.com/api/characters/1410', 'https://www.anapioficeandfire.com/api/characters/1412', 'https://www.anapioficeandfire.com/api/characters/1414', 'https://www.anapioficeandfire.com/api/characters/1415', 'https://www.anapioficeandfire.com/api/characters/1416', 'https://www.anapioficeandfire.com/api/characters/1421', 'https://www.anapioficeandfire.com/api/characters/1423', 'https://www.anapioficeandfire.com/api/characters/1424', 'https://www.anapioficeandfire.com/api/characters/1425', 'https://www.anapioficeandfire.com/api/characters/1426', 'https://www.anapioficeandfire.com/api/characters/1427', 'https://www.anapioficeandfire.com/api/characters/1428', 'https://www.anapioficeandfire.com/api/characters/1429', 'https://www.anapioficeandfire.com/api/characters/1431', 'https://www.anapioficeandfire.com/api/characters/1434', 'https://www.anapioficeandfire.com/api/characters/1439', 'https://www.anapioficeandfire.com/api/characters/1440', 'https://www.anapioficeandfire.com/api/characters/1441', 'https://www.anapioficeandfire.com/api/characters/1442', 'https://www.anapioficeandfire.com/api/characters/1443', 'https://www.anapioficeandfire.com/api/characters/1444', 'https://www.anapioficeandfire.com/api/characters/1445', 'https://www.anapioficeandfire.com/api/characters/1449', 'https://www.anapioficeandfire.com/api/characters/1450', 'https://www.anapioficeandfire.com/api/characters/1451', 'https://www.anapioficeandfire.com/api/characters/1452', 'https://www.anapioficeandfire.com/api/characters/1461', 'https://www.anapioficeandfire.com/api/characters/1464', 'https://www.anapioficeandfire.com/api/characters/1465', 'https://www.anapioficeandfire.com/api/characters/1468', 'https://www.anapioficeandfire.com/api/characters/1469', 'https://www.anapioficeandfire.com/api/characters/1472', 'https://www.anapioficeandfire.com/api/characters/1475', 'https://www.anapioficeandfire.com/api/characters/1476', 'https://www.anapioficeandfire.com/api/characters/1477', 'https://www.anapioficeandfire.com/api/characters/1478', 'https://www.anapioficeandfire.com/api/characters/1479', 'https://www.anapioficeandfire.com/api/characters/1481', 'https://www.anapioficeandfire.com/api/characters/1485', 'https://www.anapioficeandfire.com/api/characters/1487', 'https://www.anapioficeandfire.com/api/characters/1488', 'https://www.anapioficeandfire.com/api/characters/1490', 'https://www.anapioficeandfire.com/api/characters/1491', 'https://www.anapioficeandfire.com/api/characters/1492', 'https://www.anapioficeandfire.com/api/characters/1498', 'https://www.anapioficeandfire.com/api/characters/1501', 'https://www.anapioficeandfire.com/api/characters/1502', 'https://www.anapioficeandfire.com/api/characters/1506', 'https://www.anapioficeandfire.com/api/characters/1507', 'https://www.anapioficeandfire.com/api/characters/1512', 'https://www.anapioficeandfire.com/api/characters/1514', 'https://www.anapioficeandfire.com/api/characters/1515', 'https://www.anapioficeandfire.com/api/characters/1516', 'https://www.anapioficeandfire.com/api/characters/1520', 'https://www.anapioficeandfire.com/api/characters/1521', 'https://www.anapioficeandfire.com/api/characters/1523', 'https://www.anapioficeandfire.com/api/characters/1524', 'https://www.anapioficeandfire.com/api/characters/1531', 'https://www.anapioficeandfire.com/api/characters/1532', 'https://www.anapioficeandfire.com/api/characters/1533', 'https://www.anapioficeandfire.com/api/characters/1537', 'https://www.anapioficeandfire.com/api/characters/1539', 'https://www.anapioficeandfire.com/api/characters/1540', 'https://www.anapioficeandfire.com/api/characters/1544', 'https://www.anapioficeandfire.com/api/characters/1546', 'https://www.anapioficeandfire.com/api/characters/1547', 'https://www.anapioficeandfire.com/api/characters/1548', 'https://www.anapioficeandfire.com/api/characters/1549', 'https://www.anapioficeandfire.com/api/characters/1559', 'https://www.anapioficeandfire.com/api/characters/1560', 'https://www.anapioficeandfire.com/api/characters/1570', 'https://www.anapioficeandfire.com/api/characters/1572', 'https://www.anapioficeandfire.com/api/characters/1577', 'https://www.anapioficeandfire.com/api/characters/1578', 'https://www.anapioficeandfire.com/api/characters/1579', 'https://www.anapioficeandfire.com/api/characters/1580', 'https://www.anapioficeandfire.com/api/characters/1582', 'https://www.anapioficeandfire.com/api/characters/1584', 'https://www.anapioficeandfire.com/api/characters/1586', 'https://www.anapioficeandfire.com/api/characters/1588', 'https://www.anapioficeandfire.com/api/characters/1590', 'https://www.anapioficeandfire.com/api/characters/1594', 'https://www.anapioficeandfire.com/api/characters/1600', 'https://www.anapioficeandfire.com/api/characters/1602', 'https://www.anapioficeandfire.com/api/characters/1607', 'https://www.anapioficeandfire.com/api/characters/1609', 'https://www.anapioficeandfire.com/api/characters/1611', 'https://www.anapioficeandfire.com/api/characters/1612', 'https://www.anapioficeandfire.com/api/characters/1617', 'https://www.anapioficeandfire.com/api/characters/1618', 'https://www.anapioficeandfire.com/api/characters/1621', 'https://www.anapioficeandfire.com/api/characters/1622', 'https://www.anapioficeandfire.com/api/characters/1623', 'https://www.anapioficeandfire.com/api/characters/1627', 'https://www.anapioficeandfire.com/api/characters/1630', 'https://www.anapioficeandfire.com/api/characters/1632', 'https://www.anapioficeandfire.com/api/characters/1640', 'https://www.anapioficeandfire.com/api/characters/1646', 'https://www.anapioficeandfire.com/api/characters/1648', 'https://www.anapioficeandfire.com/api/characters/1649', 'https://www.anapioficeandfire.com/api/characters/1650', 'https://www.anapioficeandfire.com/api/characters/1653', 'https://www.anapioficeandfire.com/api/characters/1655', 'https://www.anapioficeandfire.com/api/characters/1658', 'https://www.anapioficeandfire.com/api/characters/1660', 'https://www.anapioficeandfire.com/api/characters/1666', 'https://www.anapioficeandfire.com/api/characters/1667', 'https://www.anapioficeandfire.com/api/characters/1668', 'https://www.anapioficeandfire.com/api/characters/1671', 'https://www.anapioficeandfire.com/api/characters/1673', 'https://www.anapioficeandfire.com/api/characters/1674', 'https://www.anapioficeandfire.com/api/characters/1676', 'https://www.anapioficeandfire.com/api/characters/1682', 'https://www.anapioficeandfire.com/api/characters/1683', 'https://www.anapioficeandfire.com/api/characters/1684', 'https://www.anapioficeandfire.com/api/characters/1686', 'https://www.anapioficeandfire.com/api/characters/1691', 'https://www.anapioficeandfire.com/api/characters/1693', 'https://www.anapioficeandfire.com/api/characters/1696', 'https://www.anapioficeandfire.com/api/characters/1697', 'https://www.anapioficeandfire.com/api/characters/1701', 'https://www.anapioficeandfire.com/api/characters/1703', 'https://www.anapioficeandfire.com/api/characters/1705', 'https://www.anapioficeandfire.com/api/characters/1706', 'https://www.anapioficeandfire.com/api/characters/1707', 'https://www.anapioficeandfire.com/api/characters/1708', 'https://www.anapioficeandfire.com/api/characters/1709', 'https://www.anapioficeandfire.com/api/characters/1713', 'https://www.anapioficeandfire.com/api/characters/1715', 'https://www.anapioficeandfire.com/api/characters/1719', 'https://www.anapioficeandfire.com/api/characters/1720', 'https://www.anapioficeandfire.com/api/characters/1727', 'https://www.anapioficeandfire.com/api/characters/1728', 'https://www.anapioficeandfire.com/api/characters/1732', 'https://www.anapioficeandfire.com/api/characters/1733', 'https://www.anapioficeandfire.com/api/characters/1735', 'https://www.anapioficeandfire.com/api/characters/1740', 'https://www.anapioficeandfire.com/api/characters/1741', 'https://www.anapioficeandfire.com/api/characters/1743', 'https://www.anapioficeandfire.com/api/characters/1745', 'https://www.anapioficeandfire.com/api/characters/1748', 'https://www.anapioficeandfire.com/api/characters/1749', 'https://www.anapioficeandfire.com/api/characters/1753', 'https://www.anapioficeandfire.com/api/characters/1755', 'https://www.anapioficeandfire.com/api/characters/1758', 'https://www.anapioficeandfire.com/api/characters/1762', 'https://www.anapioficeandfire.com/api/characters/1765', 'https://www.anapioficeandfire.com/api/characters/1766', 'https://www.anapioficeandfire.com/api/characters/1768', 'https://www.anapioficeandfire.com/api/characters/1769', 'https://www.anapioficeandfire.com/api/characters/1770', 'https://www.anapioficeandfire.com/api/characters/1773', 'https://www.anapioficeandfire.com/api/characters/1775', 'https://www.anapioficeandfire.com/api/characters/1776', 'https://www.anapioficeandfire.com/api/characters/1777', 'https://www.anapioficeandfire.com/api/characters/1780', 'https://www.anapioficeandfire.com/api/characters/1781', 'https://www.anapioficeandfire.com/api/characters/1782', 'https://www.anapioficeandfire.com/api/characters/1783', 'https://www.anapioficeandfire.com/api/characters/1785', 'https://www.anapioficeandfire.com/api/characters/1787', 'https://www.anapioficeandfire.com/api/characters/1794', 'https://www.anapioficeandfire.com/api/characters/1795', 'https://www.anapioficeandfire.com/api/characters/1797', 'https://www.anapioficeandfire.com/api/characters/1798', 'https://www.anapioficeandfire.com/api/characters/1809', 'https://www.anapioficeandfire.com/api/characters/1815', 'https://www.anapioficeandfire.com/api/characters/1825', 'https://www.anapioficeandfire.com/api/characters/1826', 'https://www.anapioficeandfire.com/api/characters/1828', 'https://www.anapioficeandfire.com/api/characters/1830', 'https://www.anapioficeandfire.com/api/characters/1831', 'https://www.anapioficeandfire.com/api/characters/1832', 'https://www.anapioficeandfire.com/api/characters/1834', 'https://www.anapioficeandfire.com/api/characters/1836', 'https://www.anapioficeandfire.com/api/characters/1839', 'https://www.anapioficeandfire.com/api/characters/1840', 'https://www.anapioficeandfire.com/api/characters/1841', 'https://www.anapioficeandfire.com/api/characters/1848', 'https://www.anapioficeandfire.com/api/characters/1852', 'https://www.anapioficeandfire.com/api/characters/1854', 'https://www.anapioficeandfire.com/api/characters/1856', 'https://www.anapioficeandfire.com/api/characters/1857', 'https://www.anapioficeandfire.com/api/characters/1858', 'https://www.anapioficeandfire.com/api/characters/1859', 'https://www.anapioficeandfire.com/api/characters/1862', 'https://www.anapioficeandfire.com/api/characters/1866', 'https://www.anapioficeandfire.com/api/characters/1867', 'https://www.anapioficeandfire.com/api/characters/1868', 'https://www.anapioficeandfire.com/api/characters/1870', 'https://www.anapioficeandfire.com/api/characters/1872', 'https://www.anapioficeandfire.com/api/characters/1876', 'https://www.anapioficeandfire.com/api/characters/1880', 'https://www.anapioficeandfire.com/api/characters/1886', 'https://www.anapioficeandfire.com/api/characters/1888', 'https://www.anapioficeandfire.com/api/characters/1895', 'https://www.anapioficeandfire.com/api/characters/1897', 'https://www.anapioficeandfire.com/api/characters/1899', 'https://www.anapioficeandfire.com/api/characters/1900', 'https://www.anapioficeandfire.com/api/characters/1904', 'https://www.anapioficeandfire.com/api/characters/1907', 'https://www.anapioficeandfire.com/api/characters/1910', 'https://www.anapioficeandfire.com/api/characters/1914', 'https://www.anapioficeandfire.com/api/characters/1916', 'https://www.anapioficeandfire.com/api/characters/1917', 'https://www.anapioficeandfire.com/api/characters/1922', 'https://www.anapioficeandfire.com/api/characters/1923', 'https://www.anapioficeandfire.com/api/characters/1925', 'https://www.anapioficeandfire.com/api/characters/1930', 'https://www.anapioficeandfire.com/api/characters/1931', 'https://www.anapioficeandfire.com/api/characters/1935', 'https://www.anapioficeandfire.com/api/characters/1937', 'https://www.anapioficeandfire.com/api/characters/1938', 'https://www.anapioficeandfire.com/api/characters/1939', 'https://www.anapioficeandfire.com/api/characters/1944', 'https://www.anapioficeandfire.com/api/characters/1948', 'https://www.anapioficeandfire.com/api/characters/1949', 'https://www.anapioficeandfire.com/api/characters/1954', 'https://www.anapioficeandfire.com/api/characters/1956', 'https://www.anapioficeandfire.com/api/characters/1957', 'https://www.anapioficeandfire.com/api/characters/1958', 'https://www.anapioficeandfire.com/api/characters/1961', 'https://www.anapioficeandfire.com/api/characters/1962', 'https://www.anapioficeandfire.com/api/characters/1963', 'https://www.anapioficeandfire.com/api/characters/1964', 'https://www.anapioficeandfire.com/api/characters/1965', 'https://www.anapioficeandfire.com/api/characters/1967', 'https://www.anapioficeandfire.com/api/characters/1970', 'https://www.anapioficeandfire.com/api/characters/1972', 'https://www.anapioficeandfire.com/api/characters/1976', 'https://www.anapioficeandfire.com/api/characters/1977', 'https://www.anapioficeandfire.com/api/characters/1978', 'https://www.anapioficeandfire.com/api/characters/1979', 'https://www.anapioficeandfire.com/api/characters/1981', 'https://www.anapioficeandfire.com/api/characters/1994', 'https://www.anapioficeandfire.com/api/characters/1996', 'https://www.anapioficeandfire.com/api/characters/1999', 'https://www.anapioficeandfire.com/api/characters/2000', 'https://www.anapioficeandfire.com/api/characters/2002', 'https://www.anapioficeandfire.com/api/characters/2005', 'https://www.anapioficeandfire.com/api/characters/2006', 'https://www.anapioficeandfire.com/api/characters/2008', 'https://www.anapioficeandfire.com/api/characters/2009', 'https://www.anapioficeandfire.com/api/characters/2013', 'https://www.anapioficeandfire.com/api/characters/2014', 'https://www.anapioficeandfire.com/api/characters/2020', 'https://www.anapioficeandfire.com/api/characters/2022', 'https://www.anapioficeandfire.com/api/characters/2023', 'https://www.anapioficeandfire.com/api/characters/2024', 'https://www.anapioficeandfire.com/api/characters/2026', 'https://www.anapioficeandfire.com/api/characters/2027', 'https://www.anapioficeandfire.com/api/characters/2032', 'https://www.anapioficeandfire.com/api/characters/2033', 'https://www.anapioficeandfire.com/api/characters/2036', 'https://www.anapioficeandfire.com/api/characters/2039', 'https://www.anapioficeandfire.com/api/characters/2040', 'https://www.anapioficeandfire.com/api/characters/2041', 'https://www.anapioficeandfire.com/api/characters/2043', 'https://www.anapioficeandfire.com/api/characters/2044', 'https://www.anapioficeandfire.com/api/characters/2045', 'https://www.anapioficeandfire.com/api/characters/2050', 'https://www.anapioficeandfire.com/api/characters/2065', 'https://www.anapioficeandfire.com/api/characters/2069', 'https://www.anapioficeandfire.com/api/characters/2071', 'https://www.anapioficeandfire.com/api/characters/2072', 'https://www.anapioficeandfire.com/api/characters/2073', 'https://www.anapioficeandfire.com/api/characters/2077', 'https://www.anapioficeandfire.com/api/characters/2078', 'https://www.anapioficeandfire.com/api/characters/2080', 'https://www.anapioficeandfire.com/api/characters/2085', 'https://www.anapioficeandfire.com/api/characters/2097', 'https://www.anapioficeandfire.com/api/characters/2108', 'https://www.anapioficeandfire.com/api/characters/2109', 'https://www.anapioficeandfire.com/api/characters/2112', 'https://www.anapioficeandfire.com/api/characters/2117', 'https://www.anapioficeandfire.com/api/characters/2118', 'https://www.anapioficeandfire.com/api/characters/2122', 'https://www.anapioficeandfire.com/api/characters/2124', 'https://www.anapioficeandfire.com/api/characters/2125', 'https://www.anapioficeandfire.com/api/characters/2126', 'https://www.anapioficeandfire.com/api/characters/2132', 'https://www.anapioficeandfire.com/api/characters/2135', 'https://www.anapioficeandfire.com/api/characters/2136'], 'povCharacters': ['https://www.anapioficeandfire.com/api/characters/148', 'https://www.anapioficeandfire.com/api/characters/150', 'https://www.anapioficeandfire.com/api/characters/168', 'https://www.anapioficeandfire.com/api/characters/208', 'https://www.anapioficeandfire.com/api/characters/238', 'https://www.anapioficeandfire.com/api/characters/529', 'https://www.anapioficeandfire.com/api/characters/576', 'https://www.anapioficeandfire.com/api/characters/583', 'https://www.anapioficeandfire.com/api/characters/605', 'https://www.anapioficeandfire.com/api/characters/743', 'https://www.anapioficeandfire.com/api/characters/844', 'https://www.anapioficeandfire.com/api/characters/1022', 'https://www.anapioficeandfire.com/api/characters/1052', 'https://www.anapioficeandfire.com/api/characters/1074', 'https://www.anapioficeandfire.com/api/characters/1166', 'https://www.anapioficeandfire.com/api/characters/1303', 'https://www.anapioficeandfire.com/api/characters/1319', 'https://www.anapioficeandfire.com/api/characters/2066']}, {'url': 'https://www.anapioficeandfire.com/api/books/9', 'name': 'The Princess and the Queen', 'isbn': '978-0765332066', 'authors': ['George R. R. Martin'], 'numberOfPages': 784, 'publisher': 'Tor Books', 'country': 'United States', 'mediaType': 'Hardcover', 'released': '2013-12-03T00:00:00', 'characters': ['https://www.anapioficeandfire.com/api/characters/33', 'https://www.anapioficeandfire.com/api/characters/38', 'https://www.anapioficeandfire.com/api/characters/39', 'https://www.anapioficeandfire.com/api/characters/40', 'https://www.anapioficeandfire.com/api/characters/49', 'https://www.anapioficeandfire.com/api/characters/55', 'https://www.anapioficeandfire.com/api/characters/76', 'https://www.anapioficeandfire.com/api/characters/91', 'https://www.anapioficeandfire.com/api/characters/154', 'https://www.anapioficeandfire.com/api/characters/157', 'https://www.anapioficeandfire.com/api/characters/242', 'https://www.anapioficeandfire.com/api/characters/253', 'https://www.anapioficeandfire.com/api/characters/259', 'https://www.anapioficeandfire.com/api/characters/269', 'https://www.anapioficeandfire.com/api/characters/275', 'https://www.anapioficeandfire.com/api/characters/386', 'https://www.anapioficeandfire.com/api/characters/449', 'https://www.anapioficeandfire.com/api/characters/481', 'https://www.anapioficeandfire.com/api/characters/488', 'https://www.anapioficeandfire.com/api/characters/526', 'https://www.anapioficeandfire.com/api/characters/538', 'https://www.anapioficeandfire.com/api/characters/543', 'https://www.anapioficeandfire.com/api/characters/548', 'https://www.anapioficeandfire.com/api/characters/610', 'https://www.anapioficeandfire.com/api/characters/611', 'https://www.anapioficeandfire.com/api/characters/618', 'https://www.anapioficeandfire.com/api/characters/643', 'https://www.anapioficeandfire.com/api/characters/646', 'https://www.anapioficeandfire.com/api/characters/671', 'https://www.anapioficeandfire.com/api/characters/680', 'https://www.anapioficeandfire.com/api/characters/685', 'https://www.anapioficeandfire.com/api/characters/694', 'https://www.anapioficeandfire.com/api/characters/696', 'https://www.anapioficeandfire.com/api/characters/808', 'https://www.anapioficeandfire.com/api/characters/871', 'https://www.anapioficeandfire.com/api/characters/873', 'https://www.anapioficeandfire.com/api/characters/874', 'https://www.anapioficeandfire.com/api/characters/875', 'https://www.anapioficeandfire.com/api/characters/888', 'https://www.anapioficeandfire.com/api/characters/987', 'https://www.anapioficeandfire.com/api/characters/1050', 'https://www.anapioficeandfire.com/api/characters/1076', 'https://www.anapioficeandfire.com/api/characters/1077', 'https://www.anapioficeandfire.com/api/characters/1119', 'https://www.anapioficeandfire.com/api/characters/1318', 'https://www.anapioficeandfire.com/api/characters/1458', 'https://www.anapioficeandfire.com/api/characters/1513', 'https://www.anapioficeandfire.com/api/characters/1517', 'https://www.anapioficeandfire.com/api/characters/1527', 'https://www.anapioficeandfire.com/api/characters/1528', 'https://www.anapioficeandfire.com/api/characters/1739', 'https://www.anapioficeandfire.com/api/characters/1746', 'https://www.anapioficeandfire.com/api/characters/1756', 'https://www.anapioficeandfire.com/api/characters/1786', 'https://www.anapioficeandfire.com/api/characters/1884', 'https://www.anapioficeandfire.com/api/characters/2048', 'https://www.anapioficeandfire.com/api/characters/2138'], 'povCharacters': []}, {'url': 'https://www.anapioficeandfire.com/api/books/10', 'name': 'The Rogue Prince', 'isbn': '978-0345537263', 'authors': ['George R. R. Martin'], 'numberOfPages': 832, 'publisher': 'Bantam Books', 'country': 'United States', 'mediaType': 'Hardcover', 'released': '2014-06-17T00:00:00', 'characters': ['https://www.anapioficeandfire.com/api/characters/39', 'https://www.anapioficeandfire.com/api/characters/40', 'https://www.anapioficeandfire.com/api/characters/49', 'https://www.anapioficeandfire.com/api/characters/55', 'https://www.anapioficeandfire.com/api/characters/76', 'https://www.anapioficeandfire.com/api/characters/105', 'https://www.anapioficeandfire.com/api/characters/154', 'https://www.anapioficeandfire.com/api/characters/156', 'https://www.anapioficeandfire.com/api/characters/157', 'https://www.anapioficeandfire.com/api/characters/169', 'https://www.anapioficeandfire.com/api/characters/253', 'https://www.anapioficeandfire.com/api/characters/265', 'https://www.anapioficeandfire.com/api/characters/269', 'https://www.anapioficeandfire.com/api/characters/275', 'https://www.anapioficeandfire.com/api/characters/386', 'https://www.anapioficeandfire.com/api/characters/479', 'https://www.anapioficeandfire.com/api/characters/481', 'https://www.anapioficeandfire.com/api/characters/488', 'https://www.anapioficeandfire.com/api/characters/526', 'https://www.anapioficeandfire.com/api/characters/538', 'https://www.anapioficeandfire.com/api/characters/548', 'https://www.anapioficeandfire.com/api/characters/567', 'https://www.anapioficeandfire.com/api/characters/569', 'https://www.anapioficeandfire.com/api/characters/610', 'https://www.anapioficeandfire.com/api/characters/611', 'https://www.anapioficeandfire.com/api/characters/618', 'https://www.anapioficeandfire.com/api/characters/675', 'https://www.anapioficeandfire.com/api/characters/684', 'https://www.anapioficeandfire.com/api/characters/694', 'https://www.anapioficeandfire.com/api/characters/696', 'https://www.anapioficeandfire.com/api/characters/808', 'https://www.anapioficeandfire.com/api/characters/871', 'https://www.anapioficeandfire.com/api/characters/873', 'https://www.anapioficeandfire.com/api/characters/874', 'https://www.anapioficeandfire.com/api/characters/875', 'https://www.anapioficeandfire.com/api/characters/878', 'https://www.anapioficeandfire.com/api/characters/945', 'https://www.anapioficeandfire.com/api/characters/951', 'https://www.anapioficeandfire.com/api/characters/1050', 'https://www.anapioficeandfire.com/api/characters/1066', 'https://www.anapioficeandfire.com/api/characters/1076', 'https://www.anapioficeandfire.com/api/characters/1077', 'https://www.anapioficeandfire.com/api/characters/1291', 'https://www.anapioficeandfire.com/api/characters/1419', 'https://www.anapioficeandfire.com/api/characters/1458', 'https://www.anapioficeandfire.com/api/characters/1527', 'https://www.anapioficeandfire.com/api/characters/1528', 'https://www.anapioficeandfire.com/api/characters/1699', 'https://www.anapioficeandfire.com/api/characters/1739', 'https://www.anapioficeandfire.com/api/characters/1746', 'https://www.anapioficeandfire.com/api/characters/1833', 'https://www.anapioficeandfire.com/api/characters/1850', 'https://www.anapioficeandfire.com/api/characters/1884', 'https://www.anapioficeandfire.com/api/characters/1912', 'https://www.anapioficeandfire.com/api/characters/2138'], 'povCharacters': []}]\n"
     ]
    }
   ],
   "source": [
    "print(results)"
   ]
  },
  {
   "cell_type": "code",
   "execution_count": 26,
   "id": "9df88b11",
   "metadata": {},
   "outputs": [
    {
     "data": {
      "text/plain": [
       "10"
      ]
     },
     "execution_count": 26,
     "metadata": {},
     "output_type": "execute_result"
    }
   ],
   "source": [
    "len(results)"
   ]
  },
  {
   "cell_type": "code",
   "execution_count": 27,
   "id": "53cd8e94",
   "metadata": {},
   "outputs": [
    {
     "data": {
      "text/plain": [
       "{'Date': 'Fri, 28 Apr 2023 04:14:25 GMT', 'Content-Type': 'application/json; charset=utf-8', 'Transfer-Encoding': 'chunked', 'Connection': 'keep-alive', 'Set-Cookie': 'ARRAffinity=fe68c3d6300860930f25696fde8f9f478e3251d3e333989b68e66de5cb02e620;Path=/;HttpOnly;Secure;Domain=www.anapioficeandfire.com, ARRAffinitySameSite=fe68c3d6300860930f25696fde8f9f478e3251d3e333989b68e66de5cb02e620;Path=/;HttpOnly;SameSite=None;Secure;Domain=www.anapioficeandfire.com', 'Vary': 'Accept-Encoding', 'Link': '<https://www.anapioficeandfire.com/api/books?page=2&pageSize=10>; rel=\"next\", <https://www.anapioficeandfire.com/api/books?page=1&pageSize=10>; rel=\"first\", <https://www.anapioficeandfire.com/api/books?page=2&pageSize=10>; rel=\"last\"', 'X-Powered-By': 'ASP.NET', 'CF-Cache-Status': 'DYNAMIC', 'Report-To': '{\"endpoints\":[{\"url\":\"https:\\\\/\\\\/a.nel.cloudflare.com\\\\/report\\\\/v3?s=b%2Fvel%2FaIbH7ton%2FHLgVysLFeD14wPTMw2YjSqtmHCo54%2FwDa8DpFCm%2BqmiTN9jduLfVOO7PlgBmGg5kFn5tltd9MrRzXIdsX5OfHHnseVgZ3%2F0utEIcRSy9iyIlhkbYhmWDM7zcS02JSLlWE\"}],\"group\":\"cf-nel\",\"max_age\":604800}', 'NEL': '{\"success_fraction\":0,\"report_to\":\"cf-nel\",\"max_age\":604800}', 'Server': 'cloudflare', 'CF-RAY': '7bec7a6d08cd7541-LHR', 'Content-Encoding': 'br', 'alt-svc': 'h3=\":443\"; ma=86400, h3-29=\":443\"; ma=86400'}"
      ]
     },
     "execution_count": 27,
     "metadata": {},
     "output_type": "execute_result"
    }
   ],
   "source": [
    "response.headers"
   ]
  },
  {
   "cell_type": "code",
   "execution_count": 28,
   "id": "20e70171",
   "metadata": {},
   "outputs": [
    {
     "data": {
      "text/plain": [
       "KeysView({'Date': 'Fri, 28 Apr 2023 04:14:25 GMT', 'Content-Type': 'application/json; charset=utf-8', 'Transfer-Encoding': 'chunked', 'Connection': 'keep-alive', 'Set-Cookie': 'ARRAffinity=fe68c3d6300860930f25696fde8f9f478e3251d3e333989b68e66de5cb02e620;Path=/;HttpOnly;Secure;Domain=www.anapioficeandfire.com, ARRAffinitySameSite=fe68c3d6300860930f25696fde8f9f478e3251d3e333989b68e66de5cb02e620;Path=/;HttpOnly;SameSite=None;Secure;Domain=www.anapioficeandfire.com', 'Vary': 'Accept-Encoding', 'Link': '<https://www.anapioficeandfire.com/api/books?page=2&pageSize=10>; rel=\"next\", <https://www.anapioficeandfire.com/api/books?page=1&pageSize=10>; rel=\"first\", <https://www.anapioficeandfire.com/api/books?page=2&pageSize=10>; rel=\"last\"', 'X-Powered-By': 'ASP.NET', 'CF-Cache-Status': 'DYNAMIC', 'Report-To': '{\"endpoints\":[{\"url\":\"https:\\\\/\\\\/a.nel.cloudflare.com\\\\/report\\\\/v3?s=b%2Fvel%2FaIbH7ton%2FHLgVysLFeD14wPTMw2YjSqtmHCo54%2FwDa8DpFCm%2BqmiTN9jduLfVOO7PlgBmGg5kFn5tltd9MrRzXIdsX5OfHHnseVgZ3%2F0utEIcRSy9iyIlhkbYhmWDM7zcS02JSLlWE\"}],\"group\":\"cf-nel\",\"max_age\":604800}', 'NEL': '{\"success_fraction\":0,\"report_to\":\"cf-nel\",\"max_age\":604800}', 'Server': 'cloudflare', 'CF-RAY': '7bec7a6d08cd7541-LHR', 'Content-Encoding': 'br', 'alt-svc': 'h3=\":443\"; ma=86400, h3-29=\":443\"; ma=86400'})"
      ]
     },
     "execution_count": 28,
     "metadata": {},
     "output_type": "execute_result"
    }
   ],
   "source": [
    "response.headers.keys()"
   ]
  },
  {
   "cell_type": "code",
   "execution_count": 36,
   "id": "38132512",
   "metadata": {},
   "outputs": [
    {
     "data": {
      "text/html": [
       "<div>\n",
       "<style scoped>\n",
       "    .dataframe tbody tr th:only-of-type {\n",
       "        vertical-align: middle;\n",
       "    }\n",
       "\n",
       "    .dataframe tbody tr th {\n",
       "        vertical-align: top;\n",
       "    }\n",
       "\n",
       "    .dataframe thead th {\n",
       "        text-align: right;\n",
       "    }\n",
       "</style>\n",
       "<table border=\"1\" class=\"dataframe\">\n",
       "  <thead>\n",
       "    <tr style=\"text-align: right;\">\n",
       "      <th></th>\n",
       "      <th>0</th>\n",
       "      <th>1</th>\n",
       "      <th>2</th>\n",
       "      <th>3</th>\n",
       "      <th>4</th>\n",
       "      <th>5</th>\n",
       "      <th>6</th>\n",
       "      <th>7</th>\n",
       "      <th>8</th>\n",
       "      <th>9</th>\n",
       "    </tr>\n",
       "  </thead>\n",
       "  <tbody>\n",
       "    <tr>\n",
       "      <th>0</th>\n",
       "      <td>{'url': 'https://anapioficeandfire.com/api/books/1', 'name': 'A Game of Thrones', 'isbn': '978-0553103540', 'authors': ['George R. R. Martin'], 'numberOfPages': 694, 'publisher': 'Bantam Books', 'country': 'United States', 'mediaType': 'Hardcover', 'released': '1996-08-01T00:00:00', 'characters': ['https://anapioficeandfire.com/api/characters/2', 'https://anapioficeandfire.com/api/characters/12', 'https://anapioficeandfire.com/api/characters/13', 'https://anapioficeandfire.com/api/characters/16', 'https://anapioficeandfire.com/api/characters/20', 'https://anapioficeandfire.com/api/characters/27', 'https://anapioficeandfire.com/api/characters/31', 'https://anapioficeandfire.com/api/characters/38', 'https://anapioficeandfire.com/api/characters/39', 'https://anapioficeandfire.com/api/characters/40', 'https://anapioficeandfire.com/api/characters/41', 'https://anapioficeandfire.com/api/characters/42', 'https://anapioficeandfire.com/api/characters/46', 'https://anapioficeandfire.com/api/characters/54', 'https://anapioficeandfire.com/api/characters/56', 'https://anapioficeandfire.com/api/characters/57', 'https://anapioficeandfire.com/api/characters/60', 'https://anapioficeandfire.com/api/characters/61', 'https://anapioficeandfire.com/api/characters/62', 'https://anapioficeandfire.com/api/characters/66', 'https://anapioficeandfire.com/api/characters/67', 'https://anapioficeandfire.com/api/characters/69', 'https://anapioficeandfire.com/api/characters/79', 'https://anapioficeandfire.com/api/characters/89', 'https://anapioficeandfire.com/api/characters/107', 'https://anapioficeandfire.com/api/characters/115', 'https://anapioficeandfire.com/api/characters/116', 'https://anapioficeandfire.com/api/characters/120', 'https://anapioficeandfire.com/api/characters/125', 'https://anapioficeandfire.com/api/characters/128', 'https://anapioficeandfire.com/api/characters/129', 'https://anapioficeandfire.com/api/characters/130', 'https://anapioficeandfire.com/api/characters/135', 'https://anapioficeandfire.com/api/characters/137', 'https://anapioficeandfire.com/api/characters/142', 'https://anapioficeandfire.com/api/characters/147', 'https://anapioficeandfire.com/api/characters/149', 'https://anapioficeandfire.com/api/characters/150', 'https://anapioficeandfire.com/api/characters/151', 'https://anapioficeandfire.com/api/characters/160', 'https://anapioficeandfire.com/api/characters/164', 'https://anapioficeandfire.com/api/characters/168', 'https://anapioficeandfire.com/api/characters/171', 'https://anapioficeandfire.com/api/characters/181', 'https://anapioficeandfire.com/api/characters/190', 'https://anapioficeandfire.com/api/characters/194', 'https://anapioficeandfire.com/api/characters/198', 'https://anapioficeandfire.com/api/characters/202', 'https://anapioficeandfire.com/api/characters/203', 'https://anapioficeandfire.com/api/characters/206', 'https://anapioficeandfire.com/api/characters/209', 'https://anapioficeandfire.com/api/characters/211', 'https://anapioficeandfire.com/api/characters/213', 'https://anapioficeandfire.com/api/characters/217', 'https://anapioficeandfire.com/api/characters/220', 'https://anapioficeandfire.com/api/characters/223', 'https://anapioficeandfire.com/api/characters/225', 'https://anapioficeandfire.com/api/characters/235', 'https://anapioficeandfire.com/api/characters/238', 'https://anapioficeandfire.com/api/characters/245', 'https://anapioficeandfire.com/api/characters/259', 'https://anapioficeandfire.com/api/characters/264', 'https://anapioficeandfire.com/api/characters/273', 'https://anapioficeandfire.com/api/characters/274', 'https://anapioficeandfire.com/api/characters/291', 'https://anapioficeandfire.com/api/characters/292', 'https://anapioficeandfire.com/api/characters/293', 'https://anapioficeandfire.com/api/characters/294', 'https://anapioficeandfire.com/api/characters/303', 'https://anapioficeandfire.com/api/characters/306', 'https://anapioficeandfire.com/api/characters/313', 'https://anapioficeandfire.com/api/characters/315', 'https://anapioficeandfire.com/api/characters/325', 'https://anapioficeandfire.com/api/characters/326', 'https://anapioficeandfire.com/api/characters/327', 'https://anapioficeandfire.com/api/characters/338', 'https://anapioficeandfire.com/api/characters/346', 'https://anapioficeandfire.com/api/characters/347', 'https://anapioficeandfire.com/api/characters/348', 'https://anapioficeandfire.com/api/characters/361', 'https://anapioficeandfire.com/api/characters/368', 'https://anapioficeandfire.com/api/characters/377', 'https://anapioficeandfire.com/api/characters/379', 'https://anapioficeandfire.com/api/characters/380', 'https://anapioficeandfire.com/api/characters/384', 'https://anapioficeandfire.com/api/characters/385', 'https://anapioficeandfire.com/api/characters/393', 'https://anapioficeandfire.com/api/characters/394', 'https://anapioficeandfire.com/api/characters/397', 'https://anapioficeandfire.com/api/characters/400', 'https://anapioficeandfire.com/api/characters/401', 'https://anapioficeandfire.com/api/characters/405', 'https://anapioficeandfire.com/api/characters/408', 'https://anapioficeandfire.com/api/characters/413', 'https://anapioficeandfire.com/api/characters/415', 'https://anapioficeandfire.com/api/characters/418', 'https://anapioficeandfire.com/api/characters/421', 'https://anapioficeandfire.com/api/characters/427', 'https://anapioficeandfire.com/api/characters/435', 'https://anapioficeandfire.com/api/characters/439', ...], 'povCharacters': ['https://anapioficeandfire.com/api/characters/148', 'https://anapioficeandfire.com/api/characters/208', 'https://anapioficeandfire.com/api/characters/232', 'https://anapioficeandfire.com/api/characters/339', 'https://anapioficeandfire.com/api/characters/583', 'https://anapioficeandfire.com/api/characters/957', 'https://anapioficeandfire.com/api/characters/1052', 'https://anapioficeandfire.com/api/characters/1109', 'https://anapioficeandfire.com/api/characters/1303']}</td>\n",
       "      <td>{'url': 'https://anapioficeandfire.com/api/books/2', 'name': 'A Clash of Kings', 'isbn': '978-0553108033', 'authors': ['George R. R. Martin'], 'numberOfPages': 768, 'publisher': 'Bantam Books', 'country': 'United States', 'mediaType': 'Hardback', 'released': '1999-02-02T00:00:00', 'characters': ['https://anapioficeandfire.com/api/characters/2', 'https://anapioficeandfire.com/api/characters/12', 'https://anapioficeandfire.com/api/characters/13', 'https://anapioficeandfire.com/api/characters/16', 'https://anapioficeandfire.com/api/characters/20', 'https://anapioficeandfire.com/api/characters/23', 'https://anapioficeandfire.com/api/characters/27', 'https://anapioficeandfire.com/api/characters/31', 'https://anapioficeandfire.com/api/characters/36', 'https://anapioficeandfire.com/api/characters/37', 'https://anapioficeandfire.com/api/characters/38', 'https://anapioficeandfire.com/api/characters/42', 'https://anapioficeandfire.com/api/characters/46', 'https://anapioficeandfire.com/api/characters/52', 'https://anapioficeandfire.com/api/characters/53', 'https://anapioficeandfire.com/api/characters/54', 'https://anapioficeandfire.com/api/characters/56', 'https://anapioficeandfire.com/api/characters/58', 'https://anapioficeandfire.com/api/characters/60', 'https://anapioficeandfire.com/api/characters/62', 'https://anapioficeandfire.com/api/characters/64', 'https://anapioficeandfire.com/api/characters/66', 'https://anapioficeandfire.com/api/characters/67', 'https://anapioficeandfire.com/api/characters/68', 'https://anapioficeandfire.com/api/characters/69', 'https://anapioficeandfire.com/api/characters/70', 'https://anapioficeandfire.com/api/characters/71', 'https://anapioficeandfire.com/api/characters/72', 'https://anapioficeandfire.com/api/characters/73', 'https://anapioficeandfire.com/api/characters/78', 'https://anapioficeandfire.com/api/characters/79', 'https://anapioficeandfire.com/api/characters/82', 'https://anapioficeandfire.com/api/characters/85', 'https://anapioficeandfire.com/api/characters/86', 'https://anapioficeandfire.com/api/characters/87', 'https://anapioficeandfire.com/api/characters/89', 'https://anapioficeandfire.com/api/characters/95', 'https://anapioficeandfire.com/api/characters/108', 'https://anapioficeandfire.com/api/characters/111', 'https://anapioficeandfire.com/api/characters/112', 'https://anapioficeandfire.com/api/characters/114', 'https://anapioficeandfire.com/api/characters/115', 'https://anapioficeandfire.com/api/characters/116', 'https://anapioficeandfire.com/api/characters/118', 'https://anapioficeandfire.com/api/characters/119', 'https://anapioficeandfire.com/api/characters/122', 'https://anapioficeandfire.com/api/characters/123', 'https://anapioficeandfire.com/api/characters/124', 'https://anapioficeandfire.com/api/characters/125', 'https://anapioficeandfire.com/api/characters/127', 'https://anapioficeandfire.com/api/characters/130', 'https://anapioficeandfire.com/api/characters/135', 'https://anapioficeandfire.com/api/characters/142', 'https://anapioficeandfire.com/api/characters/143', 'https://anapioficeandfire.com/api/characters/145', 'https://anapioficeandfire.com/api/characters/146', 'https://anapioficeandfire.com/api/characters/147', 'https://anapioficeandfire.com/api/characters/149', 'https://anapioficeandfire.com/api/characters/150', 'https://anapioficeandfire.com/api/characters/151', 'https://anapioficeandfire.com/api/characters/153', 'https://anapioficeandfire.com/api/characters/158', 'https://anapioficeandfire.com/api/characters/164', 'https://anapioficeandfire.com/api/characters/167', 'https://anapioficeandfire.com/api/characters/168', 'https://anapioficeandfire.com/api/characters/170', 'https://anapioficeandfire.com/api/characters/173', 'https://anapioficeandfire.com/api/characters/177', 'https://anapioficeandfire.com/api/characters/179', 'https://anapioficeandfire.com/api/characters/180', 'https://anapioficeandfire.com/api/characters/181', 'https://anapioficeandfire.com/api/characters/182', 'https://anapioficeandfire.com/api/characters/183', 'https://anapioficeandfire.com/api/characters/187', 'https://anapioficeandfire.com/api/characters/188', 'https://anapioficeandfire.com/api/characters/189', 'https://anapioficeandfire.com/api/characters/190', 'https://anapioficeandfire.com/api/characters/192', 'https://anapioficeandfire.com/api/characters/194', 'https://anapioficeandfire.com/api/characters/199', 'https://anapioficeandfire.com/api/characters/200', 'https://anapioficeandfire.com/api/characters/202', 'https://anapioficeandfire.com/api/characters/203', 'https://anapioficeandfire.com/api/characters/204', 'https://anapioficeandfire.com/api/characters/206', 'https://anapioficeandfire.com/api/characters/207', 'https://anapioficeandfire.com/api/characters/209', 'https://anapioficeandfire.com/api/characters/210', 'https://anapioficeandfire.com/api/characters/211', 'https://anapioficeandfire.com/api/characters/212', 'https://anapioficeandfire.com/api/characters/213', 'https://anapioficeandfire.com/api/characters/214', 'https://anapioficeandfire.com/api/characters/216', 'https://anapioficeandfire.com/api/characters/217', 'https://anapioficeandfire.com/api/characters/218', 'https://anapioficeandfire.com/api/characters/219', 'https://anapioficeandfire.com/api/characters/220', 'https://anapioficeandfire.com/api/characters/222', 'https://anapioficeandfire.com/api/characters/223', 'https://anapioficeandfire.com/api/characters/225', ...], 'povCharacters': ['https://anapioficeandfire.com/api/characters/148', 'https://anapioficeandfire.com/api/characters/208', 'https://anapioficeandfire.com/api/characters/232', 'https://anapioficeandfire.com/api/characters/583', 'https://anapioficeandfire.com/api/characters/957', 'https://anapioficeandfire.com/api/characters/1022', 'https://anapioficeandfire.com/api/characters/1052', 'https://anapioficeandfire.com/api/characters/1295', 'https://anapioficeandfire.com/api/characters/1303', 'https://anapioficeandfire.com/api/characters/1319']}</td>\n",
       "      <td>{'url': 'https://anapioficeandfire.com/api/books/3', 'name': 'A Storm of Swords', 'isbn': '978-0553106633', 'authors': ['George R. R. Martin'], 'numberOfPages': 992, 'publisher': 'Bantam Books', 'country': 'United States', 'mediaType': 'Hardcover', 'released': '2000-10-31T00:00:00', 'characters': ['https://anapioficeandfire.com/api/characters/2', 'https://anapioficeandfire.com/api/characters/3', 'https://anapioficeandfire.com/api/characters/7', 'https://anapioficeandfire.com/api/characters/12', 'https://anapioficeandfire.com/api/characters/13', 'https://anapioficeandfire.com/api/characters/16', 'https://anapioficeandfire.com/api/characters/20', 'https://anapioficeandfire.com/api/characters/21', 'https://anapioficeandfire.com/api/characters/27', 'https://anapioficeandfire.com/api/characters/31', 'https://anapioficeandfire.com/api/characters/35', 'https://anapioficeandfire.com/api/characters/36', 'https://anapioficeandfire.com/api/characters/37', 'https://anapioficeandfire.com/api/characters/38', 'https://anapioficeandfire.com/api/characters/39', 'https://anapioficeandfire.com/api/characters/40', 'https://anapioficeandfire.com/api/characters/41', 'https://anapioficeandfire.com/api/characters/42', 'https://anapioficeandfire.com/api/characters/46', 'https://anapioficeandfire.com/api/characters/50', 'https://anapioficeandfire.com/api/characters/51', 'https://anapioficeandfire.com/api/characters/52', 'https://anapioficeandfire.com/api/characters/53', 'https://anapioficeandfire.com/api/characters/54', 'https://anapioficeandfire.com/api/characters/56', 'https://anapioficeandfire.com/api/characters/58', 'https://anapioficeandfire.com/api/characters/60', 'https://anapioficeandfire.com/api/characters/62', 'https://anapioficeandfire.com/api/characters/64', 'https://anapioficeandfire.com/api/characters/67', 'https://anapioficeandfire.com/api/characters/68', 'https://anapioficeandfire.com/api/characters/69', 'https://anapioficeandfire.com/api/characters/70', 'https://anapioficeandfire.com/api/characters/71', 'https://anapioficeandfire.com/api/characters/72', 'https://anapioficeandfire.com/api/characters/73', 'https://anapioficeandfire.com/api/characters/77', 'https://anapioficeandfire.com/api/characters/78', 'https://anapioficeandfire.com/api/characters/79', 'https://anapioficeandfire.com/api/characters/80', 'https://anapioficeandfire.com/api/characters/81', 'https://anapioficeandfire.com/api/characters/82', 'https://anapioficeandfire.com/api/characters/84', 'https://anapioficeandfire.com/api/characters/85', 'https://anapioficeandfire.com/api/characters/86', 'https://anapioficeandfire.com/api/characters/87', 'https://anapioficeandfire.com/api/characters/89', 'https://anapioficeandfire.com/api/characters/94', 'https://anapioficeandfire.com/api/characters/95', 'https://anapioficeandfire.com/api/characters/96', 'https://anapioficeandfire.com/api/characters/100', 'https://anapioficeandfire.com/api/characters/105', 'https://anapioficeandfire.com/api/characters/108', 'https://anapioficeandfire.com/api/characters/111', 'https://anapioficeandfire.com/api/characters/112', 'https://anapioficeandfire.com/api/characters/114', 'https://anapioficeandfire.com/api/characters/115', 'https://anapioficeandfire.com/api/characters/116', 'https://anapioficeandfire.com/api/characters/117', 'https://anapioficeandfire.com/api/characters/118', 'https://anapioficeandfire.com/api/characters/120', 'https://anapioficeandfire.com/api/characters/122', 'https://anapioficeandfire.com/api/characters/123', 'https://anapioficeandfire.com/api/characters/124', 'https://anapioficeandfire.com/api/characters/125', 'https://anapioficeandfire.com/api/characters/127', 'https://anapioficeandfire.com/api/characters/130', 'https://anapioficeandfire.com/api/characters/138', 'https://anapioficeandfire.com/api/characters/141', 'https://anapioficeandfire.com/api/characters/142', 'https://anapioficeandfire.com/api/characters/145', 'https://anapioficeandfire.com/api/characters/146', 'https://anapioficeandfire.com/api/characters/147', 'https://anapioficeandfire.com/api/characters/149', 'https://anapioficeandfire.com/api/characters/151', 'https://anapioficeandfire.com/api/characters/153', 'https://anapioficeandfire.com/api/characters/158', 'https://anapioficeandfire.com/api/characters/159', 'https://anapioficeandfire.com/api/characters/160', 'https://anapioficeandfire.com/api/characters/161', 'https://anapioficeandfire.com/api/characters/162', 'https://anapioficeandfire.com/api/characters/164', 'https://anapioficeandfire.com/api/characters/168', 'https://anapioficeandfire.com/api/characters/169', 'https://anapioficeandfire.com/api/characters/173', 'https://anapioficeandfire.com/api/characters/175', 'https://anapioficeandfire.com/api/characters/177', 'https://anapioficeandfire.com/api/characters/179', 'https://anapioficeandfire.com/api/characters/180', 'https://anapioficeandfire.com/api/characters/181', 'https://anapioficeandfire.com/api/characters/187', 'https://anapioficeandfire.com/api/characters/188', 'https://anapioficeandfire.com/api/characters/189', 'https://anapioficeandfire.com/api/characters/190', 'https://anapioficeandfire.com/api/characters/193', 'https://anapioficeandfire.com/api/characters/194', 'https://anapioficeandfire.com/api/characters/199', 'https://anapioficeandfire.com/api/characters/200', 'https://anapioficeandfire.com/api/characters/202', 'https://anapioficeandfire.com/api/characters/203', ...], 'povCharacters': ['https://anapioficeandfire.com/api/characters/148', 'https://anapioficeandfire.com/api/characters/208', 'https://anapioficeandfire.com/api/characters/232', 'https://anapioficeandfire.com/api/characters/529', 'https://anapioficeandfire.com/api/characters/583', 'https://anapioficeandfire.com/api/characters/751', 'https://anapioficeandfire.com/api/characters/954', 'https://anapioficeandfire.com/api/characters/957', 'https://anapioficeandfire.com/api/characters/1052', 'https://anapioficeandfire.com/api/characters/1267', 'https://anapioficeandfire.com/api/characters/1303', 'https://anapioficeandfire.com/api/characters/1319']}</td>\n",
       "      <td>{'url': 'https://anapioficeandfire.com/api/books/4', 'name': 'The Hedge Knight', 'isbn': '978-0976401100', 'authors': ['George R. R. Martin'], 'numberOfPages': 164, 'publisher': 'Dabel Brothers Publishing', 'country': 'United States', 'mediaType': 'GraphicNovel', 'released': '2005-03-09T00:00:00', 'characters': ['https://anapioficeandfire.com/api/characters/29', 'https://anapioficeandfire.com/api/characters/38', 'https://anapioficeandfire.com/api/characters/40', 'https://anapioficeandfire.com/api/characters/41', 'https://anapioficeandfire.com/api/characters/46', 'https://anapioficeandfire.com/api/characters/54', 'https://anapioficeandfire.com/api/characters/58', 'https://anapioficeandfire.com/api/characters/61', 'https://anapioficeandfire.com/api/characters/121', 'https://anapioficeandfire.com/api/characters/132', 'https://anapioficeandfire.com/api/characters/161', 'https://anapioficeandfire.com/api/characters/274', 'https://anapioficeandfire.com/api/characters/276', 'https://anapioficeandfire.com/api/characters/283', 'https://anapioficeandfire.com/api/characters/318', 'https://anapioficeandfire.com/api/characters/412', 'https://anapioficeandfire.com/api/characters/437', 'https://anapioficeandfire.com/api/characters/513', 'https://anapioficeandfire.com/api/characters/514', 'https://anapioficeandfire.com/api/characters/581', 'https://anapioficeandfire.com/api/characters/596', 'https://anapioficeandfire.com/api/characters/623', 'https://anapioficeandfire.com/api/characters/641', 'https://anapioficeandfire.com/api/characters/679', 'https://anapioficeandfire.com/api/characters/695', 'https://anapioficeandfire.com/api/characters/702', 'https://anapioficeandfire.com/api/characters/709', 'https://anapioficeandfire.com/api/characters/729', 'https://anapioficeandfire.com/api/characters/733', 'https://anapioficeandfire.com/api/characters/782', 'https://anapioficeandfire.com/api/characters/792', 'https://anapioficeandfire.com/api/characters/807', 'https://anapioficeandfire.com/api/characters/816', 'https://anapioficeandfire.com/api/characters/843', 'https://anapioficeandfire.com/api/characters/853', 'https://anapioficeandfire.com/api/characters/868', 'https://anapioficeandfire.com/api/characters/874', 'https://anapioficeandfire.com/api/characters/895', 'https://anapioficeandfire.com/api/characters/910', 'https://anapioficeandfire.com/api/characters/921', 'https://anapioficeandfire.com/api/characters/945', 'https://anapioficeandfire.com/api/characters/969', 'https://anapioficeandfire.com/api/characters/988', 'https://anapioficeandfire.com/api/characters/1048', 'https://anapioficeandfire.com/api/characters/1067', 'https://anapioficeandfire.com/api/characters/1117', 'https://anapioficeandfire.com/api/characters/1392', 'https://anapioficeandfire.com/api/characters/1812', 'https://anapioficeandfire.com/api/characters/1966', 'https://anapioficeandfire.com/api/characters/1976', 'https://anapioficeandfire.com/api/characters/1983', 'https://anapioficeandfire.com/api/characters/2086', 'https://anapioficeandfire.com/api/characters/2128', 'https://anapioficeandfire.com/api/characters/2130'], 'povCharacters': ['https://anapioficeandfire.com/api/characters/329']}</td>\n",
       "      <td>{'url': 'https://anapioficeandfire.com/api/books/5', 'name': 'A Feast for Crows', 'isbn': '978-0553801507', 'authors': ['George R. R. Martin'], 'numberOfPages': 784, 'publisher': 'Bantam Books', 'country': 'United Status', 'mediaType': 'Hardcover', 'released': '2005-11-08T00:00:00', 'characters': ['https://anapioficeandfire.com/api/characters/1', 'https://anapioficeandfire.com/api/characters/2', 'https://anapioficeandfire.com/api/characters/4', 'https://anapioficeandfire.com/api/characters/5', 'https://anapioficeandfire.com/api/characters/6', 'https://anapioficeandfire.com/api/characters/9', 'https://anapioficeandfire.com/api/characters/10', 'https://anapioficeandfire.com/api/characters/11', 'https://anapioficeandfire.com/api/characters/12', 'https://anapioficeandfire.com/api/characters/14', 'https://anapioficeandfire.com/api/characters/15', 'https://anapioficeandfire.com/api/characters/16', 'https://anapioficeandfire.com/api/characters/17', 'https://anapioficeandfire.com/api/characters/18', 'https://anapioficeandfire.com/api/characters/19', 'https://anapioficeandfire.com/api/characters/21', 'https://anapioficeandfire.com/api/characters/22', 'https://anapioficeandfire.com/api/characters/24', 'https://anapioficeandfire.com/api/characters/25', 'https://anapioficeandfire.com/api/characters/26', 'https://anapioficeandfire.com/api/characters/27', 'https://anapioficeandfire.com/api/characters/28', 'https://anapioficeandfire.com/api/characters/31', 'https://anapioficeandfire.com/api/characters/34', 'https://anapioficeandfire.com/api/characters/36', 'https://anapioficeandfire.com/api/characters/37', 'https://anapioficeandfire.com/api/characters/38', 'https://anapioficeandfire.com/api/characters/39', 'https://anapioficeandfire.com/api/characters/42', 'https://anapioficeandfire.com/api/characters/46', 'https://anapioficeandfire.com/api/characters/47', 'https://anapioficeandfire.com/api/characters/52', 'https://anapioficeandfire.com/api/characters/53', 'https://anapioficeandfire.com/api/characters/54', 'https://anapioficeandfire.com/api/characters/56', 'https://anapioficeandfire.com/api/characters/62', 'https://anapioficeandfire.com/api/characters/63', 'https://anapioficeandfire.com/api/characters/66', 'https://anapioficeandfire.com/api/characters/67', 'https://anapioficeandfire.com/api/characters/68', 'https://anapioficeandfire.com/api/characters/69', 'https://anapioficeandfire.com/api/characters/70', 'https://anapioficeandfire.com/api/characters/71', 'https://anapioficeandfire.com/api/characters/73', 'https://anapioficeandfire.com/api/characters/74', 'https://anapioficeandfire.com/api/characters/77', 'https://anapioficeandfire.com/api/characters/79', 'https://anapioficeandfire.com/api/characters/81', 'https://anapioficeandfire.com/api/characters/82', 'https://anapioficeandfire.com/api/characters/84', 'https://anapioficeandfire.com/api/characters/85', 'https://anapioficeandfire.com/api/characters/86', 'https://anapioficeandfire.com/api/characters/87', 'https://anapioficeandfire.com/api/characters/88', 'https://anapioficeandfire.com/api/characters/89', 'https://anapioficeandfire.com/api/characters/91', 'https://anapioficeandfire.com/api/characters/92', 'https://anapioficeandfire.com/api/characters/94', 'https://anapioficeandfire.com/api/characters/95', 'https://anapioficeandfire.com/api/characters/96', 'https://anapioficeandfire.com/api/characters/99', 'https://anapioficeandfire.com/api/characters/100', 'https://anapioficeandfire.com/api/characters/102', 'https://anapioficeandfire.com/api/characters/103', 'https://anapioficeandfire.com/api/characters/106', 'https://anapioficeandfire.com/api/characters/108', 'https://anapioficeandfire.com/api/characters/111', 'https://anapioficeandfire.com/api/characters/112', 'https://anapioficeandfire.com/api/characters/114', 'https://anapioficeandfire.com/api/characters/115', 'https://anapioficeandfire.com/api/characters/116', 'https://anapioficeandfire.com/api/characters/117', 'https://anapioficeandfire.com/api/characters/118', 'https://anapioficeandfire.com/api/characters/122', 'https://anapioficeandfire.com/api/characters/123', 'https://anapioficeandfire.com/api/characters/124', 'https://anapioficeandfire.com/api/characters/125', 'https://anapioficeandfire.com/api/characters/131', 'https://anapioficeandfire.com/api/characters/134', 'https://anapioficeandfire.com/api/characters/135', 'https://anapioficeandfire.com/api/characters/138', 'https://anapioficeandfire.com/api/characters/141', 'https://anapioficeandfire.com/api/characters/142', 'https://anapioficeandfire.com/api/characters/145', 'https://anapioficeandfire.com/api/characters/146', 'https://anapioficeandfire.com/api/characters/147', 'https://anapioficeandfire.com/api/characters/153', 'https://anapioficeandfire.com/api/characters/158', 'https://anapioficeandfire.com/api/characters/159', 'https://anapioficeandfire.com/api/characters/160', 'https://anapioficeandfire.com/api/characters/162', 'https://anapioficeandfire.com/api/characters/163', 'https://anapioficeandfire.com/api/characters/164', 'https://anapioficeandfire.com/api/characters/166', 'https://anapioficeandfire.com/api/characters/168', 'https://anapioficeandfire.com/api/characters/169', 'https://anapioficeandfire.com/api/characters/172', 'https://anapioficeandfire.com/api/characters/173', 'https://anapioficeandfire.com/api/characters/174', 'https://anapioficeandfire.com/api/characters/175', ...], 'povCharacters': ['https://anapioficeandfire.com/api/characters/60', 'https://anapioficeandfire.com/api/characters/130', 'https://anapioficeandfire.com/api/characters/148', 'https://anapioficeandfire.com/api/characters/149', 'https://anapioficeandfire.com/api/characters/150', 'https://anapioficeandfire.com/api/characters/216', 'https://anapioficeandfire.com/api/characters/238', 'https://anapioficeandfire.com/api/characters/529', 'https://anapioficeandfire.com/api/characters/954', 'https://anapioficeandfire.com/api/characters/957', 'https://anapioficeandfire.com/api/characters/1074', 'https://anapioficeandfire.com/api/characters/1166']}</td>\n",
       "      <td>{'url': 'https://anapioficeandfire.com/api/books/6', 'name': 'The Sworn Sword', 'isbn': '978-0785126508', 'authors': ['George R. R. Martin'], 'numberOfPages': 152, 'publisher': 'Marvel', 'country': 'United States', 'mediaType': 'Hardcover', 'released': '2008-06-18T00:00:00', 'characters': ['https://anapioficeandfire.com/api/characters/8', 'https://anapioficeandfire.com/api/characters/32', 'https://anapioficeandfire.com/api/characters/35', 'https://anapioficeandfire.com/api/characters/38', 'https://anapioficeandfire.com/api/characters/46', 'https://anapioficeandfire.com/api/characters/47', 'https://anapioficeandfire.com/api/characters/48', 'https://anapioficeandfire.com/api/characters/50', 'https://anapioficeandfire.com/api/characters/54', 'https://anapioficeandfire.com/api/characters/58', 'https://anapioficeandfire.com/api/characters/61', 'https://anapioficeandfire.com/api/characters/104', 'https://anapioficeandfire.com/api/characters/113', 'https://anapioficeandfire.com/api/characters/132', 'https://anapioficeandfire.com/api/characters/152', 'https://anapioficeandfire.com/api/characters/160', 'https://anapioficeandfire.com/api/characters/161', 'https://anapioficeandfire.com/api/characters/186', 'https://anapioficeandfire.com/api/characters/231', 'https://anapioficeandfire.com/api/characters/248', 'https://anapioficeandfire.com/api/characters/266', 'https://anapioficeandfire.com/api/characters/267', 'https://anapioficeandfire.com/api/characters/271', 'https://anapioficeandfire.com/api/characters/273', 'https://anapioficeandfire.com/api/characters/274', 'https://anapioficeandfire.com/api/characters/278', 'https://anapioficeandfire.com/api/characters/353', 'https://anapioficeandfire.com/api/characters/388', 'https://anapioficeandfire.com/api/characters/422', 'https://anapioficeandfire.com/api/characters/431', 'https://anapioficeandfire.com/api/characters/447', 'https://anapioficeandfire.com/api/characters/457', 'https://anapioficeandfire.com/api/characters/478', 'https://anapioficeandfire.com/api/characters/489', 'https://anapioficeandfire.com/api/characters/513', 'https://anapioficeandfire.com/api/characters/514', 'https://anapioficeandfire.com/api/characters/614', 'https://anapioficeandfire.com/api/characters/655', 'https://anapioficeandfire.com/api/characters/695', 'https://anapioficeandfire.com/api/characters/703', 'https://anapioficeandfire.com/api/characters/729', 'https://anapioficeandfire.com/api/characters/791', 'https://anapioficeandfire.com/api/characters/807', 'https://anapioficeandfire.com/api/characters/821', 'https://anapioficeandfire.com/api/characters/842', 'https://anapioficeandfire.com/api/characters/864', 'https://anapioficeandfire.com/api/characters/865', 'https://anapioficeandfire.com/api/characters/893', 'https://anapioficeandfire.com/api/characters/926', 'https://anapioficeandfire.com/api/characters/964', 'https://anapioficeandfire.com/api/characters/981', 'https://anapioficeandfire.com/api/characters/982', 'https://anapioficeandfire.com/api/characters/1048', 'https://anapioficeandfire.com/api/characters/1060', 'https://anapioficeandfire.com/api/characters/1067', 'https://anapioficeandfire.com/api/characters/1108', 'https://anapioficeandfire.com/api/characters/1121', 'https://anapioficeandfire.com/api/characters/1242', 'https://anapioficeandfire.com/api/characters/1248', 'https://anapioficeandfire.com/api/characters/1263', 'https://anapioficeandfire.com/api/characters/1276', 'https://anapioficeandfire.com/api/characters/1308', 'https://anapioficeandfire.com/api/characters/1402', 'https://anapioficeandfire.com/api/characters/1411', 'https://anapioficeandfire.com/api/characters/1542', 'https://anapioficeandfire.com/api/characters/1562', 'https://anapioficeandfire.com/api/characters/1614', 'https://anapioficeandfire.com/api/characters/1731', 'https://anapioficeandfire.com/api/characters/1801', 'https://anapioficeandfire.com/api/characters/1803', 'https://anapioficeandfire.com/api/characters/1869', 'https://anapioficeandfire.com/api/characters/1879', 'https://anapioficeandfire.com/api/characters/1889', 'https://anapioficeandfire.com/api/characters/1891', 'https://anapioficeandfire.com/api/characters/1928', 'https://anapioficeandfire.com/api/characters/1944', 'https://anapioficeandfire.com/api/characters/1983', 'https://anapioficeandfire.com/api/characters/2079', 'https://anapioficeandfire.com/api/characters/2083', 'https://anapioficeandfire.com/api/characters/2084', 'https://anapioficeandfire.com/api/characters/2094', 'https://anapioficeandfire.com/api/characters/2103', 'https://anapioficeandfire.com/api/characters/2105', 'https://anapioficeandfire.com/api/characters/2115'], 'povCharacters': ['https://anapioficeandfire.com/api/characters/329']}</td>\n",
       "      <td>{'url': 'https://anapioficeandfire.com/api/books/7', 'name': 'The Mystery Knight', 'isbn': '978-0765360267', 'authors': ['George R. R. Martin'], 'numberOfPages': 416, 'publisher': 'Tor Fantasy', 'country': 'United States', 'mediaType': 'Paperback', 'released': '2011-03-29T00:00:00', 'characters': ['https://anapioficeandfire.com/api/characters/30', 'https://anapioficeandfire.com/api/characters/35', 'https://anapioficeandfire.com/api/characters/38', 'https://anapioficeandfire.com/api/characters/41', 'https://anapioficeandfire.com/api/characters/46', 'https://anapioficeandfire.com/api/characters/47', 'https://anapioficeandfire.com/api/characters/50', 'https://anapioficeandfire.com/api/characters/54', 'https://anapioficeandfire.com/api/characters/58', 'https://anapioficeandfire.com/api/characters/61', 'https://anapioficeandfire.com/api/characters/83', 'https://anapioficeandfire.com/api/characters/113', 'https://anapioficeandfire.com/api/characters/132', 'https://anapioficeandfire.com/api/characters/133', 'https://anapioficeandfire.com/api/characters/161', 'https://anapioficeandfire.com/api/characters/192', 'https://anapioficeandfire.com/api/characters/224', 'https://anapioficeandfire.com/api/characters/240', 'https://anapioficeandfire.com/api/characters/267', 'https://anapioficeandfire.com/api/characters/268', 'https://anapioficeandfire.com/api/characters/274', 'https://anapioficeandfire.com/api/characters/276', 'https://anapioficeandfire.com/api/characters/278', 'https://anapioficeandfire.com/api/characters/283', 'https://anapioficeandfire.com/api/characters/289', 'https://anapioficeandfire.com/api/characters/342', 'https://anapioficeandfire.com/api/characters/399', 'https://anapioficeandfire.com/api/characters/428', 'https://anapioficeandfire.com/api/characters/431', 'https://anapioficeandfire.com/api/characters/464', 'https://anapioficeandfire.com/api/characters/566', 'https://anapioficeandfire.com/api/characters/623', 'https://anapioficeandfire.com/api/characters/655', 'https://anapioficeandfire.com/api/characters/695', 'https://anapioficeandfire.com/api/characters/729', 'https://anapioficeandfire.com/api/characters/732', 'https://anapioficeandfire.com/api/characters/807', 'https://anapioficeandfire.com/api/characters/842', 'https://anapioficeandfire.com/api/characters/868', 'https://anapioficeandfire.com/api/characters/921', 'https://anapioficeandfire.com/api/characters/1048', 'https://anapioficeandfire.com/api/characters/1065', 'https://anapioficeandfire.com/api/characters/1067', 'https://anapioficeandfire.com/api/characters/1078', 'https://anapioficeandfire.com/api/characters/1093', 'https://anapioficeandfire.com/api/characters/1117', 'https://anapioficeandfire.com/api/characters/1138', 'https://anapioficeandfire.com/api/characters/1167', 'https://anapioficeandfire.com/api/characters/1242', 'https://anapioficeandfire.com/api/characters/1287', 'https://anapioficeandfire.com/api/characters/1387', 'https://anapioficeandfire.com/api/characters/1392', 'https://anapioficeandfire.com/api/characters/1462', 'https://anapioficeandfire.com/api/characters/1538', 'https://anapioficeandfire.com/api/characters/1589', 'https://anapioficeandfire.com/api/characters/1591', 'https://anapioficeandfire.com/api/characters/1598', 'https://anapioficeandfire.com/api/characters/1636', 'https://anapioficeandfire.com/api/characters/1641', 'https://anapioficeandfire.com/api/characters/1664', 'https://anapioficeandfire.com/api/characters/1694', 'https://anapioficeandfire.com/api/characters/1726', 'https://anapioficeandfire.com/api/characters/1752', 'https://anapioficeandfire.com/api/characters/1823', 'https://anapioficeandfire.com/api/characters/1851', 'https://anapioficeandfire.com/api/characters/1889', 'https://anapioficeandfire.com/api/characters/1966', 'https://anapioficeandfire.com/api/characters/1983', 'https://anapioficeandfire.com/api/characters/2021', 'https://anapioficeandfire.com/api/characters/2054', 'https://anapioficeandfire.com/api/characters/2102'], 'povCharacters': ['https://anapioficeandfire.com/api/characters/329']}</td>\n",
       "      <td>{'url': 'https://anapioficeandfire.com/api/books/8', 'name': 'A Dance with Dragons', 'isbn': '978-0553801477', 'authors': ['George R. R. Martin'], 'numberOfPages': 1040, 'publisher': 'Bantam Books', 'country': 'United States', 'mediaType': 'Hardcover', 'released': '2011-07-12T00:00:00', 'characters': ['https://anapioficeandfire.com/api/characters/2', 'https://anapioficeandfire.com/api/characters/4', 'https://anapioficeandfire.com/api/characters/11', 'https://anapioficeandfire.com/api/characters/12', 'https://anapioficeandfire.com/api/characters/15', 'https://anapioficeandfire.com/api/characters/16', 'https://anapioficeandfire.com/api/characters/19', 'https://anapioficeandfire.com/api/characters/21', 'https://anapioficeandfire.com/api/characters/22', 'https://anapioficeandfire.com/api/characters/24', 'https://anapioficeandfire.com/api/characters/25', 'https://anapioficeandfire.com/api/characters/26', 'https://anapioficeandfire.com/api/characters/27', 'https://anapioficeandfire.com/api/characters/28', 'https://anapioficeandfire.com/api/characters/31', 'https://anapioficeandfire.com/api/characters/37', 'https://anapioficeandfire.com/api/characters/38', 'https://anapioficeandfire.com/api/characters/42', 'https://anapioficeandfire.com/api/characters/46', 'https://anapioficeandfire.com/api/characters/47', 'https://anapioficeandfire.com/api/characters/52', 'https://anapioficeandfire.com/api/characters/54', 'https://anapioficeandfire.com/api/characters/55', 'https://anapioficeandfire.com/api/characters/56', 'https://anapioficeandfire.com/api/characters/58', 'https://anapioficeandfire.com/api/characters/60', 'https://anapioficeandfire.com/api/characters/62', 'https://anapioficeandfire.com/api/characters/63', 'https://anapioficeandfire.com/api/characters/66', 'https://anapioficeandfire.com/api/characters/67', 'https://anapioficeandfire.com/api/characters/69', 'https://anapioficeandfire.com/api/characters/72', 'https://anapioficeandfire.com/api/characters/77', 'https://anapioficeandfire.com/api/characters/79', 'https://anapioficeandfire.com/api/characters/81', 'https://anapioficeandfire.com/api/characters/82', 'https://anapioficeandfire.com/api/characters/85', 'https://anapioficeandfire.com/api/characters/89', 'https://anapioficeandfire.com/api/characters/91', 'https://anapioficeandfire.com/api/characters/96', 'https://anapioficeandfire.com/api/characters/99', 'https://anapioficeandfire.com/api/characters/100', 'https://anapioficeandfire.com/api/characters/103', 'https://anapioficeandfire.com/api/characters/108', 'https://anapioficeandfire.com/api/characters/112', 'https://anapioficeandfire.com/api/characters/115', 'https://anapioficeandfire.com/api/characters/116', 'https://anapioficeandfire.com/api/characters/117', 'https://anapioficeandfire.com/api/characters/118', 'https://anapioficeandfire.com/api/characters/123', 'https://anapioficeandfire.com/api/characters/124', 'https://anapioficeandfire.com/api/characters/125', 'https://anapioficeandfire.com/api/characters/126', 'https://anapioficeandfire.com/api/characters/130', 'https://anapioficeandfire.com/api/characters/134', 'https://anapioficeandfire.com/api/characters/139', 'https://anapioficeandfire.com/api/characters/140', 'https://anapioficeandfire.com/api/characters/141', 'https://anapioficeandfire.com/api/characters/142', 'https://anapioficeandfire.com/api/characters/143', 'https://anapioficeandfire.com/api/characters/146', 'https://anapioficeandfire.com/api/characters/147', 'https://anapioficeandfire.com/api/characters/149', 'https://anapioficeandfire.com/api/characters/151', 'https://anapioficeandfire.com/api/characters/153', 'https://anapioficeandfire.com/api/characters/160', 'https://anapioficeandfire.com/api/characters/162', 'https://anapioficeandfire.com/api/characters/164', 'https://anapioficeandfire.com/api/characters/165', 'https://anapioficeandfire.com/api/characters/166', 'https://anapioficeandfire.com/api/characters/169', 'https://anapioficeandfire.com/api/characters/172', 'https://anapioficeandfire.com/api/characters/175', 'https://anapioficeandfire.com/api/characters/176', 'https://anapioficeandfire.com/api/characters/177', 'https://anapioficeandfire.com/api/characters/179', 'https://anapioficeandfire.com/api/characters/180', 'https://anapioficeandfire.com/api/characters/181', 'https://anapioficeandfire.com/api/characters/188', 'https://anapioficeandfire.com/api/characters/189', 'https://anapioficeandfire.com/api/characters/190', 'https://anapioficeandfire.com/api/characters/191', 'https://anapioficeandfire.com/api/characters/194', 'https://anapioficeandfire.com/api/characters/196', 'https://anapioficeandfire.com/api/characters/199', 'https://anapioficeandfire.com/api/characters/200', 'https://anapioficeandfire.com/api/characters/201', 'https://anapioficeandfire.com/api/characters/202', 'https://anapioficeandfire.com/api/characters/203', 'https://anapioficeandfire.com/api/characters/205', 'https://anapioficeandfire.com/api/characters/206', 'https://anapioficeandfire.com/api/characters/209', 'https://anapioficeandfire.com/api/characters/214', 'https://anapioficeandfire.com/api/characters/216', 'https://anapioficeandfire.com/api/characters/217', 'https://anapioficeandfire.com/api/characters/220', 'https://anapioficeandfire.com/api/characters/222', 'https://anapioficeandfire.com/api/characters/223', 'https://anapioficeandfire.com/api/characters/229', 'https://anapioficeandfire.com/api/characters/230', ...], 'povCharacters': ['https://anapioficeandfire.com/api/characters/148', 'https://anapioficeandfire.com/api/characters/150', 'https://anapioficeandfire.com/api/characters/168', 'https://anapioficeandfire.com/api/characters/208', 'https://anapioficeandfire.com/api/characters/238', 'https://anapioficeandfire.com/api/characters/529', 'https://anapioficeandfire.com/api/characters/576', 'https://anapioficeandfire.com/api/characters/583', 'https://anapioficeandfire.com/api/characters/605', 'https://anapioficeandfire.com/api/characters/743', 'https://anapioficeandfire.com/api/characters/844', 'https://anapioficeandfire.com/api/characters/1022', 'https://anapioficeandfire.com/api/characters/1052', 'https://anapioficeandfire.com/api/characters/1074', 'https://anapioficeandfire.com/api/characters/1166', 'https://anapioficeandfire.com/api/characters/1303', 'https://anapioficeandfire.com/api/characters/1319', 'https://anapioficeandfire.com/api/characters/2066']}</td>\n",
       "      <td>{'url': 'https://anapioficeandfire.com/api/books/9', 'name': 'The Princess and the Queen', 'isbn': '978-0765332066', 'authors': ['George R. R. Martin'], 'numberOfPages': 784, 'publisher': 'Tor Books', 'country': 'United States', 'mediaType': 'Hardcover', 'released': '2013-12-03T00:00:00', 'characters': ['https://anapioficeandfire.com/api/characters/33', 'https://anapioficeandfire.com/api/characters/38', 'https://anapioficeandfire.com/api/characters/39', 'https://anapioficeandfire.com/api/characters/40', 'https://anapioficeandfire.com/api/characters/49', 'https://anapioficeandfire.com/api/characters/55', 'https://anapioficeandfire.com/api/characters/76', 'https://anapioficeandfire.com/api/characters/91', 'https://anapioficeandfire.com/api/characters/154', 'https://anapioficeandfire.com/api/characters/157', 'https://anapioficeandfire.com/api/characters/242', 'https://anapioficeandfire.com/api/characters/253', 'https://anapioficeandfire.com/api/characters/259', 'https://anapioficeandfire.com/api/characters/269', 'https://anapioficeandfire.com/api/characters/275', 'https://anapioficeandfire.com/api/characters/386', 'https://anapioficeandfire.com/api/characters/449', 'https://anapioficeandfire.com/api/characters/481', 'https://anapioficeandfire.com/api/characters/488', 'https://anapioficeandfire.com/api/characters/526', 'https://anapioficeandfire.com/api/characters/538', 'https://anapioficeandfire.com/api/characters/543', 'https://anapioficeandfire.com/api/characters/548', 'https://anapioficeandfire.com/api/characters/610', 'https://anapioficeandfire.com/api/characters/611', 'https://anapioficeandfire.com/api/characters/618', 'https://anapioficeandfire.com/api/characters/643', 'https://anapioficeandfire.com/api/characters/646', 'https://anapioficeandfire.com/api/characters/671', 'https://anapioficeandfire.com/api/characters/680', 'https://anapioficeandfire.com/api/characters/685', 'https://anapioficeandfire.com/api/characters/694', 'https://anapioficeandfire.com/api/characters/696', 'https://anapioficeandfire.com/api/characters/808', 'https://anapioficeandfire.com/api/characters/871', 'https://anapioficeandfire.com/api/characters/873', 'https://anapioficeandfire.com/api/characters/874', 'https://anapioficeandfire.com/api/characters/875', 'https://anapioficeandfire.com/api/characters/888', 'https://anapioficeandfire.com/api/characters/987', 'https://anapioficeandfire.com/api/characters/1050', 'https://anapioficeandfire.com/api/characters/1076', 'https://anapioficeandfire.com/api/characters/1077', 'https://anapioficeandfire.com/api/characters/1119', 'https://anapioficeandfire.com/api/characters/1318', 'https://anapioficeandfire.com/api/characters/1458', 'https://anapioficeandfire.com/api/characters/1513', 'https://anapioficeandfire.com/api/characters/1517', 'https://anapioficeandfire.com/api/characters/1527', 'https://anapioficeandfire.com/api/characters/1528', 'https://anapioficeandfire.com/api/characters/1739', 'https://anapioficeandfire.com/api/characters/1746', 'https://anapioficeandfire.com/api/characters/1756', 'https://anapioficeandfire.com/api/characters/1786', 'https://anapioficeandfire.com/api/characters/1884', 'https://anapioficeandfire.com/api/characters/2048', 'https://anapioficeandfire.com/api/characters/2138'], 'povCharacters': []}</td>\n",
       "      <td>{'url': 'https://anapioficeandfire.com/api/books/10', 'name': 'The Rogue Prince', 'isbn': '978-0345537263', 'authors': ['George R. R. Martin'], 'numberOfPages': 832, 'publisher': 'Bantam Books', 'country': 'United States', 'mediaType': 'Hardcover', 'released': '2014-06-17T00:00:00', 'characters': ['https://anapioficeandfire.com/api/characters/39', 'https://anapioficeandfire.com/api/characters/40', 'https://anapioficeandfire.com/api/characters/49', 'https://anapioficeandfire.com/api/characters/55', 'https://anapioficeandfire.com/api/characters/76', 'https://anapioficeandfire.com/api/characters/105', 'https://anapioficeandfire.com/api/characters/154', 'https://anapioficeandfire.com/api/characters/156', 'https://anapioficeandfire.com/api/characters/157', 'https://anapioficeandfire.com/api/characters/169', 'https://anapioficeandfire.com/api/characters/253', 'https://anapioficeandfire.com/api/characters/265', 'https://anapioficeandfire.com/api/characters/269', 'https://anapioficeandfire.com/api/characters/275', 'https://anapioficeandfire.com/api/characters/386', 'https://anapioficeandfire.com/api/characters/479', 'https://anapioficeandfire.com/api/characters/481', 'https://anapioficeandfire.com/api/characters/488', 'https://anapioficeandfire.com/api/characters/526', 'https://anapioficeandfire.com/api/characters/538', 'https://anapioficeandfire.com/api/characters/548', 'https://anapioficeandfire.com/api/characters/567', 'https://anapioficeandfire.com/api/characters/569', 'https://anapioficeandfire.com/api/characters/610', 'https://anapioficeandfire.com/api/characters/611', 'https://anapioficeandfire.com/api/characters/618', 'https://anapioficeandfire.com/api/characters/675', 'https://anapioficeandfire.com/api/characters/684', 'https://anapioficeandfire.com/api/characters/694', 'https://anapioficeandfire.com/api/characters/696', 'https://anapioficeandfire.com/api/characters/808', 'https://anapioficeandfire.com/api/characters/871', 'https://anapioficeandfire.com/api/characters/873', 'https://anapioficeandfire.com/api/characters/874', 'https://anapioficeandfire.com/api/characters/875', 'https://anapioficeandfire.com/api/characters/878', 'https://anapioficeandfire.com/api/characters/945', 'https://anapioficeandfire.com/api/characters/951', 'https://anapioficeandfire.com/api/characters/1050', 'https://anapioficeandfire.com/api/characters/1066', 'https://anapioficeandfire.com/api/characters/1076', 'https://anapioficeandfire.com/api/characters/1077', 'https://anapioficeandfire.com/api/characters/1291', 'https://anapioficeandfire.com/api/characters/1419', 'https://anapioficeandfire.com/api/characters/1458', 'https://anapioficeandfire.com/api/characters/1527', 'https://anapioficeandfire.com/api/characters/1528', 'https://anapioficeandfire.com/api/characters/1699', 'https://anapioficeandfire.com/api/characters/1739', 'https://anapioficeandfire.com/api/characters/1746', 'https://anapioficeandfire.com/api/characters/1833', 'https://anapioficeandfire.com/api/characters/1850', 'https://anapioficeandfire.com/api/characters/1884', 'https://anapioficeandfire.com/api/characters/1912', 'https://anapioficeandfire.com/api/characters/2138'], 'povCharacters': []}</td>\n",
       "    </tr>\n",
       "  </tbody>\n",
       "</table>\n",
       "</div>"
      ],
      "text/plain": [
       "                                                                                                                                                                                                                                                                                                                                                                                                                                                                                                                                                                                                                                                                                                                                                                                                                                                                                                                                                                                                                                                                                                                                                                                                                                                                                                                                                                                                                                                                                                                                                                                                                                                                                                                                                                                                                                                                                                                                                                                                                                                                                                                                                                                                                                                                                                                                                                                                                                                                                                                                                                                                                                                                                                                                                                                                                                                                                                                                                                                                                                                                                                                                                                                                                                                                                                                                                                                                                                                                                                                                                                                                                                                                                                                                                                                                                                                                                                                                                                                                                                                                                                                                                                                                                                                                                                                                                                                                                                                                                                                                                                                                                                                                                                                                                                                                                                                                                                                                                                                                                                                                                                                                                                                                                                                                                                                                                                                                                                                                                                                                                                                                                                                                                                                                                                                                                                                                                                                                                                                                                                                                                                                                                                                                                   0  \\\n",
       "0  {'url': 'https://anapioficeandfire.com/api/books/1', 'name': 'A Game of Thrones', 'isbn': '978-0553103540', 'authors': ['George R. R. Martin'], 'numberOfPages': 694, 'publisher': 'Bantam Books', 'country': 'United States', 'mediaType': 'Hardcover', 'released': '1996-08-01T00:00:00', 'characters': ['https://anapioficeandfire.com/api/characters/2', 'https://anapioficeandfire.com/api/characters/12', 'https://anapioficeandfire.com/api/characters/13', 'https://anapioficeandfire.com/api/characters/16', 'https://anapioficeandfire.com/api/characters/20', 'https://anapioficeandfire.com/api/characters/27', 'https://anapioficeandfire.com/api/characters/31', 'https://anapioficeandfire.com/api/characters/38', 'https://anapioficeandfire.com/api/characters/39', 'https://anapioficeandfire.com/api/characters/40', 'https://anapioficeandfire.com/api/characters/41', 'https://anapioficeandfire.com/api/characters/42', 'https://anapioficeandfire.com/api/characters/46', 'https://anapioficeandfire.com/api/characters/54', 'https://anapioficeandfire.com/api/characters/56', 'https://anapioficeandfire.com/api/characters/57', 'https://anapioficeandfire.com/api/characters/60', 'https://anapioficeandfire.com/api/characters/61', 'https://anapioficeandfire.com/api/characters/62', 'https://anapioficeandfire.com/api/characters/66', 'https://anapioficeandfire.com/api/characters/67', 'https://anapioficeandfire.com/api/characters/69', 'https://anapioficeandfire.com/api/characters/79', 'https://anapioficeandfire.com/api/characters/89', 'https://anapioficeandfire.com/api/characters/107', 'https://anapioficeandfire.com/api/characters/115', 'https://anapioficeandfire.com/api/characters/116', 'https://anapioficeandfire.com/api/characters/120', 'https://anapioficeandfire.com/api/characters/125', 'https://anapioficeandfire.com/api/characters/128', 'https://anapioficeandfire.com/api/characters/129', 'https://anapioficeandfire.com/api/characters/130', 'https://anapioficeandfire.com/api/characters/135', 'https://anapioficeandfire.com/api/characters/137', 'https://anapioficeandfire.com/api/characters/142', 'https://anapioficeandfire.com/api/characters/147', 'https://anapioficeandfire.com/api/characters/149', 'https://anapioficeandfire.com/api/characters/150', 'https://anapioficeandfire.com/api/characters/151', 'https://anapioficeandfire.com/api/characters/160', 'https://anapioficeandfire.com/api/characters/164', 'https://anapioficeandfire.com/api/characters/168', 'https://anapioficeandfire.com/api/characters/171', 'https://anapioficeandfire.com/api/characters/181', 'https://anapioficeandfire.com/api/characters/190', 'https://anapioficeandfire.com/api/characters/194', 'https://anapioficeandfire.com/api/characters/198', 'https://anapioficeandfire.com/api/characters/202', 'https://anapioficeandfire.com/api/characters/203', 'https://anapioficeandfire.com/api/characters/206', 'https://anapioficeandfire.com/api/characters/209', 'https://anapioficeandfire.com/api/characters/211', 'https://anapioficeandfire.com/api/characters/213', 'https://anapioficeandfire.com/api/characters/217', 'https://anapioficeandfire.com/api/characters/220', 'https://anapioficeandfire.com/api/characters/223', 'https://anapioficeandfire.com/api/characters/225', 'https://anapioficeandfire.com/api/characters/235', 'https://anapioficeandfire.com/api/characters/238', 'https://anapioficeandfire.com/api/characters/245', 'https://anapioficeandfire.com/api/characters/259', 'https://anapioficeandfire.com/api/characters/264', 'https://anapioficeandfire.com/api/characters/273', 'https://anapioficeandfire.com/api/characters/274', 'https://anapioficeandfire.com/api/characters/291', 'https://anapioficeandfire.com/api/characters/292', 'https://anapioficeandfire.com/api/characters/293', 'https://anapioficeandfire.com/api/characters/294', 'https://anapioficeandfire.com/api/characters/303', 'https://anapioficeandfire.com/api/characters/306', 'https://anapioficeandfire.com/api/characters/313', 'https://anapioficeandfire.com/api/characters/315', 'https://anapioficeandfire.com/api/characters/325', 'https://anapioficeandfire.com/api/characters/326', 'https://anapioficeandfire.com/api/characters/327', 'https://anapioficeandfire.com/api/characters/338', 'https://anapioficeandfire.com/api/characters/346', 'https://anapioficeandfire.com/api/characters/347', 'https://anapioficeandfire.com/api/characters/348', 'https://anapioficeandfire.com/api/characters/361', 'https://anapioficeandfire.com/api/characters/368', 'https://anapioficeandfire.com/api/characters/377', 'https://anapioficeandfire.com/api/characters/379', 'https://anapioficeandfire.com/api/characters/380', 'https://anapioficeandfire.com/api/characters/384', 'https://anapioficeandfire.com/api/characters/385', 'https://anapioficeandfire.com/api/characters/393', 'https://anapioficeandfire.com/api/characters/394', 'https://anapioficeandfire.com/api/characters/397', 'https://anapioficeandfire.com/api/characters/400', 'https://anapioficeandfire.com/api/characters/401', 'https://anapioficeandfire.com/api/characters/405', 'https://anapioficeandfire.com/api/characters/408', 'https://anapioficeandfire.com/api/characters/413', 'https://anapioficeandfire.com/api/characters/415', 'https://anapioficeandfire.com/api/characters/418', 'https://anapioficeandfire.com/api/characters/421', 'https://anapioficeandfire.com/api/characters/427', 'https://anapioficeandfire.com/api/characters/435', 'https://anapioficeandfire.com/api/characters/439', ...], 'povCharacters': ['https://anapioficeandfire.com/api/characters/148', 'https://anapioficeandfire.com/api/characters/208', 'https://anapioficeandfire.com/api/characters/232', 'https://anapioficeandfire.com/api/characters/339', 'https://anapioficeandfire.com/api/characters/583', 'https://anapioficeandfire.com/api/characters/957', 'https://anapioficeandfire.com/api/characters/1052', 'https://anapioficeandfire.com/api/characters/1109', 'https://anapioficeandfire.com/api/characters/1303']}   \n",
       "\n",
       "                                                                                                                                                                                                                                                                                                                                                                                                                                                                                                                                                                                                                                                                                                                                                                                                                                                                                                                                                                                                                                                                                                                                                                                                                                                                                                                                                                                                                                                                                                                                                                                                                                                                                                                                                                                                                                                                                                                                                                                                                                                                                                                                                                                                                                                                                                                                                                                                                                                                                                                                                                                                                                                                                                                                                                                                                                                                                                                                                                                                                                                                                                                                                                                                                                                                                                                                                                                                                                                                                                                                                                                                                                                                                                                                                                                                                                                                                                                                                                                                                                                                                                                                                                                                                                                                                                                                                                                                                                                                                                                                                                                                                                                                                                                                                                                                                                                                                                                                                                                                                                                                                                                                                                                                                                                                                                                                                                                                                                                                                                                                                                                                                                                                                                                                                                                                                                                                                                                                                                                                                                                                                                                                                                                                                                                          1  \\\n",
       "0  {'url': 'https://anapioficeandfire.com/api/books/2', 'name': 'A Clash of Kings', 'isbn': '978-0553108033', 'authors': ['George R. R. Martin'], 'numberOfPages': 768, 'publisher': 'Bantam Books', 'country': 'United States', 'mediaType': 'Hardback', 'released': '1999-02-02T00:00:00', 'characters': ['https://anapioficeandfire.com/api/characters/2', 'https://anapioficeandfire.com/api/characters/12', 'https://anapioficeandfire.com/api/characters/13', 'https://anapioficeandfire.com/api/characters/16', 'https://anapioficeandfire.com/api/characters/20', 'https://anapioficeandfire.com/api/characters/23', 'https://anapioficeandfire.com/api/characters/27', 'https://anapioficeandfire.com/api/characters/31', 'https://anapioficeandfire.com/api/characters/36', 'https://anapioficeandfire.com/api/characters/37', 'https://anapioficeandfire.com/api/characters/38', 'https://anapioficeandfire.com/api/characters/42', 'https://anapioficeandfire.com/api/characters/46', 'https://anapioficeandfire.com/api/characters/52', 'https://anapioficeandfire.com/api/characters/53', 'https://anapioficeandfire.com/api/characters/54', 'https://anapioficeandfire.com/api/characters/56', 'https://anapioficeandfire.com/api/characters/58', 'https://anapioficeandfire.com/api/characters/60', 'https://anapioficeandfire.com/api/characters/62', 'https://anapioficeandfire.com/api/characters/64', 'https://anapioficeandfire.com/api/characters/66', 'https://anapioficeandfire.com/api/characters/67', 'https://anapioficeandfire.com/api/characters/68', 'https://anapioficeandfire.com/api/characters/69', 'https://anapioficeandfire.com/api/characters/70', 'https://anapioficeandfire.com/api/characters/71', 'https://anapioficeandfire.com/api/characters/72', 'https://anapioficeandfire.com/api/characters/73', 'https://anapioficeandfire.com/api/characters/78', 'https://anapioficeandfire.com/api/characters/79', 'https://anapioficeandfire.com/api/characters/82', 'https://anapioficeandfire.com/api/characters/85', 'https://anapioficeandfire.com/api/characters/86', 'https://anapioficeandfire.com/api/characters/87', 'https://anapioficeandfire.com/api/characters/89', 'https://anapioficeandfire.com/api/characters/95', 'https://anapioficeandfire.com/api/characters/108', 'https://anapioficeandfire.com/api/characters/111', 'https://anapioficeandfire.com/api/characters/112', 'https://anapioficeandfire.com/api/characters/114', 'https://anapioficeandfire.com/api/characters/115', 'https://anapioficeandfire.com/api/characters/116', 'https://anapioficeandfire.com/api/characters/118', 'https://anapioficeandfire.com/api/characters/119', 'https://anapioficeandfire.com/api/characters/122', 'https://anapioficeandfire.com/api/characters/123', 'https://anapioficeandfire.com/api/characters/124', 'https://anapioficeandfire.com/api/characters/125', 'https://anapioficeandfire.com/api/characters/127', 'https://anapioficeandfire.com/api/characters/130', 'https://anapioficeandfire.com/api/characters/135', 'https://anapioficeandfire.com/api/characters/142', 'https://anapioficeandfire.com/api/characters/143', 'https://anapioficeandfire.com/api/characters/145', 'https://anapioficeandfire.com/api/characters/146', 'https://anapioficeandfire.com/api/characters/147', 'https://anapioficeandfire.com/api/characters/149', 'https://anapioficeandfire.com/api/characters/150', 'https://anapioficeandfire.com/api/characters/151', 'https://anapioficeandfire.com/api/characters/153', 'https://anapioficeandfire.com/api/characters/158', 'https://anapioficeandfire.com/api/characters/164', 'https://anapioficeandfire.com/api/characters/167', 'https://anapioficeandfire.com/api/characters/168', 'https://anapioficeandfire.com/api/characters/170', 'https://anapioficeandfire.com/api/characters/173', 'https://anapioficeandfire.com/api/characters/177', 'https://anapioficeandfire.com/api/characters/179', 'https://anapioficeandfire.com/api/characters/180', 'https://anapioficeandfire.com/api/characters/181', 'https://anapioficeandfire.com/api/characters/182', 'https://anapioficeandfire.com/api/characters/183', 'https://anapioficeandfire.com/api/characters/187', 'https://anapioficeandfire.com/api/characters/188', 'https://anapioficeandfire.com/api/characters/189', 'https://anapioficeandfire.com/api/characters/190', 'https://anapioficeandfire.com/api/characters/192', 'https://anapioficeandfire.com/api/characters/194', 'https://anapioficeandfire.com/api/characters/199', 'https://anapioficeandfire.com/api/characters/200', 'https://anapioficeandfire.com/api/characters/202', 'https://anapioficeandfire.com/api/characters/203', 'https://anapioficeandfire.com/api/characters/204', 'https://anapioficeandfire.com/api/characters/206', 'https://anapioficeandfire.com/api/characters/207', 'https://anapioficeandfire.com/api/characters/209', 'https://anapioficeandfire.com/api/characters/210', 'https://anapioficeandfire.com/api/characters/211', 'https://anapioficeandfire.com/api/characters/212', 'https://anapioficeandfire.com/api/characters/213', 'https://anapioficeandfire.com/api/characters/214', 'https://anapioficeandfire.com/api/characters/216', 'https://anapioficeandfire.com/api/characters/217', 'https://anapioficeandfire.com/api/characters/218', 'https://anapioficeandfire.com/api/characters/219', 'https://anapioficeandfire.com/api/characters/220', 'https://anapioficeandfire.com/api/characters/222', 'https://anapioficeandfire.com/api/characters/223', 'https://anapioficeandfire.com/api/characters/225', ...], 'povCharacters': ['https://anapioficeandfire.com/api/characters/148', 'https://anapioficeandfire.com/api/characters/208', 'https://anapioficeandfire.com/api/characters/232', 'https://anapioficeandfire.com/api/characters/583', 'https://anapioficeandfire.com/api/characters/957', 'https://anapioficeandfire.com/api/characters/1022', 'https://anapioficeandfire.com/api/characters/1052', 'https://anapioficeandfire.com/api/characters/1295', 'https://anapioficeandfire.com/api/characters/1303', 'https://anapioficeandfire.com/api/characters/1319']}   \n",
       "\n",
       "                                                                                                                                                                                                                                                                                                                                                                                                                                                                                                                                                                                                                                                                                                                                                                                                                                                                                                                                                                                                                                                                                                                                                                                                                                                                                                                                                                                                                                                                                                                                                                                                                                                                                                                                                                                                                                                                                                                                                                                                                                                                                                                                                                                                                                                                                                                                                                                                                                                                                                                                                                                                                                                                                                                                                                                                                                                                                                                                                                                                                                                                                                                                                                                                                                                                                                                                                                                                                                                                                                                                                                                                                                                                                                                                                                                                                                                                                                                                                                                                                                                                                                                                                                                                                                                                                                                                                                                                                                                                                                                                                                                                                                                                                                                                                                                                                                                                                                                                                                                                                                                                                                                                                                                                                                                                                                                                                                                                                                                                                                                                                                                                                                                                                                                                                                                                                                                                                                                                                                                                                                                                                                                                                                                                                                                                                                                                                    2  \\\n",
       "0  {'url': 'https://anapioficeandfire.com/api/books/3', 'name': 'A Storm of Swords', 'isbn': '978-0553106633', 'authors': ['George R. R. Martin'], 'numberOfPages': 992, 'publisher': 'Bantam Books', 'country': 'United States', 'mediaType': 'Hardcover', 'released': '2000-10-31T00:00:00', 'characters': ['https://anapioficeandfire.com/api/characters/2', 'https://anapioficeandfire.com/api/characters/3', 'https://anapioficeandfire.com/api/characters/7', 'https://anapioficeandfire.com/api/characters/12', 'https://anapioficeandfire.com/api/characters/13', 'https://anapioficeandfire.com/api/characters/16', 'https://anapioficeandfire.com/api/characters/20', 'https://anapioficeandfire.com/api/characters/21', 'https://anapioficeandfire.com/api/characters/27', 'https://anapioficeandfire.com/api/characters/31', 'https://anapioficeandfire.com/api/characters/35', 'https://anapioficeandfire.com/api/characters/36', 'https://anapioficeandfire.com/api/characters/37', 'https://anapioficeandfire.com/api/characters/38', 'https://anapioficeandfire.com/api/characters/39', 'https://anapioficeandfire.com/api/characters/40', 'https://anapioficeandfire.com/api/characters/41', 'https://anapioficeandfire.com/api/characters/42', 'https://anapioficeandfire.com/api/characters/46', 'https://anapioficeandfire.com/api/characters/50', 'https://anapioficeandfire.com/api/characters/51', 'https://anapioficeandfire.com/api/characters/52', 'https://anapioficeandfire.com/api/characters/53', 'https://anapioficeandfire.com/api/characters/54', 'https://anapioficeandfire.com/api/characters/56', 'https://anapioficeandfire.com/api/characters/58', 'https://anapioficeandfire.com/api/characters/60', 'https://anapioficeandfire.com/api/characters/62', 'https://anapioficeandfire.com/api/characters/64', 'https://anapioficeandfire.com/api/characters/67', 'https://anapioficeandfire.com/api/characters/68', 'https://anapioficeandfire.com/api/characters/69', 'https://anapioficeandfire.com/api/characters/70', 'https://anapioficeandfire.com/api/characters/71', 'https://anapioficeandfire.com/api/characters/72', 'https://anapioficeandfire.com/api/characters/73', 'https://anapioficeandfire.com/api/characters/77', 'https://anapioficeandfire.com/api/characters/78', 'https://anapioficeandfire.com/api/characters/79', 'https://anapioficeandfire.com/api/characters/80', 'https://anapioficeandfire.com/api/characters/81', 'https://anapioficeandfire.com/api/characters/82', 'https://anapioficeandfire.com/api/characters/84', 'https://anapioficeandfire.com/api/characters/85', 'https://anapioficeandfire.com/api/characters/86', 'https://anapioficeandfire.com/api/characters/87', 'https://anapioficeandfire.com/api/characters/89', 'https://anapioficeandfire.com/api/characters/94', 'https://anapioficeandfire.com/api/characters/95', 'https://anapioficeandfire.com/api/characters/96', 'https://anapioficeandfire.com/api/characters/100', 'https://anapioficeandfire.com/api/characters/105', 'https://anapioficeandfire.com/api/characters/108', 'https://anapioficeandfire.com/api/characters/111', 'https://anapioficeandfire.com/api/characters/112', 'https://anapioficeandfire.com/api/characters/114', 'https://anapioficeandfire.com/api/characters/115', 'https://anapioficeandfire.com/api/characters/116', 'https://anapioficeandfire.com/api/characters/117', 'https://anapioficeandfire.com/api/characters/118', 'https://anapioficeandfire.com/api/characters/120', 'https://anapioficeandfire.com/api/characters/122', 'https://anapioficeandfire.com/api/characters/123', 'https://anapioficeandfire.com/api/characters/124', 'https://anapioficeandfire.com/api/characters/125', 'https://anapioficeandfire.com/api/characters/127', 'https://anapioficeandfire.com/api/characters/130', 'https://anapioficeandfire.com/api/characters/138', 'https://anapioficeandfire.com/api/characters/141', 'https://anapioficeandfire.com/api/characters/142', 'https://anapioficeandfire.com/api/characters/145', 'https://anapioficeandfire.com/api/characters/146', 'https://anapioficeandfire.com/api/characters/147', 'https://anapioficeandfire.com/api/characters/149', 'https://anapioficeandfire.com/api/characters/151', 'https://anapioficeandfire.com/api/characters/153', 'https://anapioficeandfire.com/api/characters/158', 'https://anapioficeandfire.com/api/characters/159', 'https://anapioficeandfire.com/api/characters/160', 'https://anapioficeandfire.com/api/characters/161', 'https://anapioficeandfire.com/api/characters/162', 'https://anapioficeandfire.com/api/characters/164', 'https://anapioficeandfire.com/api/characters/168', 'https://anapioficeandfire.com/api/characters/169', 'https://anapioficeandfire.com/api/characters/173', 'https://anapioficeandfire.com/api/characters/175', 'https://anapioficeandfire.com/api/characters/177', 'https://anapioficeandfire.com/api/characters/179', 'https://anapioficeandfire.com/api/characters/180', 'https://anapioficeandfire.com/api/characters/181', 'https://anapioficeandfire.com/api/characters/187', 'https://anapioficeandfire.com/api/characters/188', 'https://anapioficeandfire.com/api/characters/189', 'https://anapioficeandfire.com/api/characters/190', 'https://anapioficeandfire.com/api/characters/193', 'https://anapioficeandfire.com/api/characters/194', 'https://anapioficeandfire.com/api/characters/199', 'https://anapioficeandfire.com/api/characters/200', 'https://anapioficeandfire.com/api/characters/202', 'https://anapioficeandfire.com/api/characters/203', ...], 'povCharacters': ['https://anapioficeandfire.com/api/characters/148', 'https://anapioficeandfire.com/api/characters/208', 'https://anapioficeandfire.com/api/characters/232', 'https://anapioficeandfire.com/api/characters/529', 'https://anapioficeandfire.com/api/characters/583', 'https://anapioficeandfire.com/api/characters/751', 'https://anapioficeandfire.com/api/characters/954', 'https://anapioficeandfire.com/api/characters/957', 'https://anapioficeandfire.com/api/characters/1052', 'https://anapioficeandfire.com/api/characters/1267', 'https://anapioficeandfire.com/api/characters/1303', 'https://anapioficeandfire.com/api/characters/1319']}   \n",
       "\n",
       "                                                                                                                                                                                                                                                                                                                                                                                                                                                                                                                                                                                                                                                                                                                                                                                                                                                                                                                                                                                                                                                                                                                                                                                                                                                                                                                                                                                                                                                                                                                                                                                                                                                                                                                                                                                                                                                                                                                                                                                                                                                                                                                                                                                                                                                                                                                                                                                                                                                                                                                                                                                                                                                                                                                                                                                                                                                                                                                                                                                                                                                                                                                                                                                                                                                                                                                              3  \\\n",
       "0  {'url': 'https://anapioficeandfire.com/api/books/4', 'name': 'The Hedge Knight', 'isbn': '978-0976401100', 'authors': ['George R. R. Martin'], 'numberOfPages': 164, 'publisher': 'Dabel Brothers Publishing', 'country': 'United States', 'mediaType': 'GraphicNovel', 'released': '2005-03-09T00:00:00', 'characters': ['https://anapioficeandfire.com/api/characters/29', 'https://anapioficeandfire.com/api/characters/38', 'https://anapioficeandfire.com/api/characters/40', 'https://anapioficeandfire.com/api/characters/41', 'https://anapioficeandfire.com/api/characters/46', 'https://anapioficeandfire.com/api/characters/54', 'https://anapioficeandfire.com/api/characters/58', 'https://anapioficeandfire.com/api/characters/61', 'https://anapioficeandfire.com/api/characters/121', 'https://anapioficeandfire.com/api/characters/132', 'https://anapioficeandfire.com/api/characters/161', 'https://anapioficeandfire.com/api/characters/274', 'https://anapioficeandfire.com/api/characters/276', 'https://anapioficeandfire.com/api/characters/283', 'https://anapioficeandfire.com/api/characters/318', 'https://anapioficeandfire.com/api/characters/412', 'https://anapioficeandfire.com/api/characters/437', 'https://anapioficeandfire.com/api/characters/513', 'https://anapioficeandfire.com/api/characters/514', 'https://anapioficeandfire.com/api/characters/581', 'https://anapioficeandfire.com/api/characters/596', 'https://anapioficeandfire.com/api/characters/623', 'https://anapioficeandfire.com/api/characters/641', 'https://anapioficeandfire.com/api/characters/679', 'https://anapioficeandfire.com/api/characters/695', 'https://anapioficeandfire.com/api/characters/702', 'https://anapioficeandfire.com/api/characters/709', 'https://anapioficeandfire.com/api/characters/729', 'https://anapioficeandfire.com/api/characters/733', 'https://anapioficeandfire.com/api/characters/782', 'https://anapioficeandfire.com/api/characters/792', 'https://anapioficeandfire.com/api/characters/807', 'https://anapioficeandfire.com/api/characters/816', 'https://anapioficeandfire.com/api/characters/843', 'https://anapioficeandfire.com/api/characters/853', 'https://anapioficeandfire.com/api/characters/868', 'https://anapioficeandfire.com/api/characters/874', 'https://anapioficeandfire.com/api/characters/895', 'https://anapioficeandfire.com/api/characters/910', 'https://anapioficeandfire.com/api/characters/921', 'https://anapioficeandfire.com/api/characters/945', 'https://anapioficeandfire.com/api/characters/969', 'https://anapioficeandfire.com/api/characters/988', 'https://anapioficeandfire.com/api/characters/1048', 'https://anapioficeandfire.com/api/characters/1067', 'https://anapioficeandfire.com/api/characters/1117', 'https://anapioficeandfire.com/api/characters/1392', 'https://anapioficeandfire.com/api/characters/1812', 'https://anapioficeandfire.com/api/characters/1966', 'https://anapioficeandfire.com/api/characters/1976', 'https://anapioficeandfire.com/api/characters/1983', 'https://anapioficeandfire.com/api/characters/2086', 'https://anapioficeandfire.com/api/characters/2128', 'https://anapioficeandfire.com/api/characters/2130'], 'povCharacters': ['https://anapioficeandfire.com/api/characters/329']}   \n",
       "\n",
       "                                                                                                                                                                                                                                                                                                                                                                                                                                                                                                                                                                                                                                                                                                                                                                                                                                                                                                                                                                                                                                                                                                                                                                                                                                                                                                                                                                                                                                                                                                                                                                                                                                                                                                                                                                                                                                                                                                                                                                                                                                                                                                                                                                                                                                                                                                                                                                                                                                                                                                                                                                                                                                                                                                                                                                                                                                                                                                                                                                                                                                                                                                                                                                                                                                                                                                                                                                                                                                                                                                                                                                                                                                                                                                                                                                                                                                                                                                                                                                                                                                                                                                                                                                                                                                                                                                                                                                                                                                                                                                                                                                                                                                                                                                                                                                                                                                                                                                                                                                                                                                                                                                                                                                                                                                                                                                                                                                                                                                                                                                                                                                                                                                                                                                                                                                                                                                                                                                                                                                                                                                                                                                                                                                                                                                                                                                                                   4  \\\n",
       "0  {'url': 'https://anapioficeandfire.com/api/books/5', 'name': 'A Feast for Crows', 'isbn': '978-0553801507', 'authors': ['George R. R. Martin'], 'numberOfPages': 784, 'publisher': 'Bantam Books', 'country': 'United Status', 'mediaType': 'Hardcover', 'released': '2005-11-08T00:00:00', 'characters': ['https://anapioficeandfire.com/api/characters/1', 'https://anapioficeandfire.com/api/characters/2', 'https://anapioficeandfire.com/api/characters/4', 'https://anapioficeandfire.com/api/characters/5', 'https://anapioficeandfire.com/api/characters/6', 'https://anapioficeandfire.com/api/characters/9', 'https://anapioficeandfire.com/api/characters/10', 'https://anapioficeandfire.com/api/characters/11', 'https://anapioficeandfire.com/api/characters/12', 'https://anapioficeandfire.com/api/characters/14', 'https://anapioficeandfire.com/api/characters/15', 'https://anapioficeandfire.com/api/characters/16', 'https://anapioficeandfire.com/api/characters/17', 'https://anapioficeandfire.com/api/characters/18', 'https://anapioficeandfire.com/api/characters/19', 'https://anapioficeandfire.com/api/characters/21', 'https://anapioficeandfire.com/api/characters/22', 'https://anapioficeandfire.com/api/characters/24', 'https://anapioficeandfire.com/api/characters/25', 'https://anapioficeandfire.com/api/characters/26', 'https://anapioficeandfire.com/api/characters/27', 'https://anapioficeandfire.com/api/characters/28', 'https://anapioficeandfire.com/api/characters/31', 'https://anapioficeandfire.com/api/characters/34', 'https://anapioficeandfire.com/api/characters/36', 'https://anapioficeandfire.com/api/characters/37', 'https://anapioficeandfire.com/api/characters/38', 'https://anapioficeandfire.com/api/characters/39', 'https://anapioficeandfire.com/api/characters/42', 'https://anapioficeandfire.com/api/characters/46', 'https://anapioficeandfire.com/api/characters/47', 'https://anapioficeandfire.com/api/characters/52', 'https://anapioficeandfire.com/api/characters/53', 'https://anapioficeandfire.com/api/characters/54', 'https://anapioficeandfire.com/api/characters/56', 'https://anapioficeandfire.com/api/characters/62', 'https://anapioficeandfire.com/api/characters/63', 'https://anapioficeandfire.com/api/characters/66', 'https://anapioficeandfire.com/api/characters/67', 'https://anapioficeandfire.com/api/characters/68', 'https://anapioficeandfire.com/api/characters/69', 'https://anapioficeandfire.com/api/characters/70', 'https://anapioficeandfire.com/api/characters/71', 'https://anapioficeandfire.com/api/characters/73', 'https://anapioficeandfire.com/api/characters/74', 'https://anapioficeandfire.com/api/characters/77', 'https://anapioficeandfire.com/api/characters/79', 'https://anapioficeandfire.com/api/characters/81', 'https://anapioficeandfire.com/api/characters/82', 'https://anapioficeandfire.com/api/characters/84', 'https://anapioficeandfire.com/api/characters/85', 'https://anapioficeandfire.com/api/characters/86', 'https://anapioficeandfire.com/api/characters/87', 'https://anapioficeandfire.com/api/characters/88', 'https://anapioficeandfire.com/api/characters/89', 'https://anapioficeandfire.com/api/characters/91', 'https://anapioficeandfire.com/api/characters/92', 'https://anapioficeandfire.com/api/characters/94', 'https://anapioficeandfire.com/api/characters/95', 'https://anapioficeandfire.com/api/characters/96', 'https://anapioficeandfire.com/api/characters/99', 'https://anapioficeandfire.com/api/characters/100', 'https://anapioficeandfire.com/api/characters/102', 'https://anapioficeandfire.com/api/characters/103', 'https://anapioficeandfire.com/api/characters/106', 'https://anapioficeandfire.com/api/characters/108', 'https://anapioficeandfire.com/api/characters/111', 'https://anapioficeandfire.com/api/characters/112', 'https://anapioficeandfire.com/api/characters/114', 'https://anapioficeandfire.com/api/characters/115', 'https://anapioficeandfire.com/api/characters/116', 'https://anapioficeandfire.com/api/characters/117', 'https://anapioficeandfire.com/api/characters/118', 'https://anapioficeandfire.com/api/characters/122', 'https://anapioficeandfire.com/api/characters/123', 'https://anapioficeandfire.com/api/characters/124', 'https://anapioficeandfire.com/api/characters/125', 'https://anapioficeandfire.com/api/characters/131', 'https://anapioficeandfire.com/api/characters/134', 'https://anapioficeandfire.com/api/characters/135', 'https://anapioficeandfire.com/api/characters/138', 'https://anapioficeandfire.com/api/characters/141', 'https://anapioficeandfire.com/api/characters/142', 'https://anapioficeandfire.com/api/characters/145', 'https://anapioficeandfire.com/api/characters/146', 'https://anapioficeandfire.com/api/characters/147', 'https://anapioficeandfire.com/api/characters/153', 'https://anapioficeandfire.com/api/characters/158', 'https://anapioficeandfire.com/api/characters/159', 'https://anapioficeandfire.com/api/characters/160', 'https://anapioficeandfire.com/api/characters/162', 'https://anapioficeandfire.com/api/characters/163', 'https://anapioficeandfire.com/api/characters/164', 'https://anapioficeandfire.com/api/characters/166', 'https://anapioficeandfire.com/api/characters/168', 'https://anapioficeandfire.com/api/characters/169', 'https://anapioficeandfire.com/api/characters/172', 'https://anapioficeandfire.com/api/characters/173', 'https://anapioficeandfire.com/api/characters/174', 'https://anapioficeandfire.com/api/characters/175', ...], 'povCharacters': ['https://anapioficeandfire.com/api/characters/60', 'https://anapioficeandfire.com/api/characters/130', 'https://anapioficeandfire.com/api/characters/148', 'https://anapioficeandfire.com/api/characters/149', 'https://anapioficeandfire.com/api/characters/150', 'https://anapioficeandfire.com/api/characters/216', 'https://anapioficeandfire.com/api/characters/238', 'https://anapioficeandfire.com/api/characters/529', 'https://anapioficeandfire.com/api/characters/954', 'https://anapioficeandfire.com/api/characters/957', 'https://anapioficeandfire.com/api/characters/1074', 'https://anapioficeandfire.com/api/characters/1166']}   \n",
       "\n",
       "                                                                                                                                                                                                                                                                                                                                                                                                                                                                                                                                                                                                                                                                                                                                                                                                                                                                                                                                                                                                                                                                                                                                                                                                                                                                                                                                                                                                                                                                                                                                                                                                                                                                                                                                                                                                                                                                                                                                                                                                                                                                                                                                                                                                                                                                                                                                                                                                                                                                                                                                                                                                                                                                                                                                                                                                                                                                                                                                                                                                                                                                                                                                                                                                                                                                                                                                                                                                                                                                                                                                                                                                                                                                                                                                                                                                                                                                                                                                                                                                                                                                                                                                                                                                                                                                                                                                                                                                                                                                                                                                                                                                                                                                                                                                                                                                                                                                                                                                                5  \\\n",
       "0  {'url': 'https://anapioficeandfire.com/api/books/6', 'name': 'The Sworn Sword', 'isbn': '978-0785126508', 'authors': ['George R. R. Martin'], 'numberOfPages': 152, 'publisher': 'Marvel', 'country': 'United States', 'mediaType': 'Hardcover', 'released': '2008-06-18T00:00:00', 'characters': ['https://anapioficeandfire.com/api/characters/8', 'https://anapioficeandfire.com/api/characters/32', 'https://anapioficeandfire.com/api/characters/35', 'https://anapioficeandfire.com/api/characters/38', 'https://anapioficeandfire.com/api/characters/46', 'https://anapioficeandfire.com/api/characters/47', 'https://anapioficeandfire.com/api/characters/48', 'https://anapioficeandfire.com/api/characters/50', 'https://anapioficeandfire.com/api/characters/54', 'https://anapioficeandfire.com/api/characters/58', 'https://anapioficeandfire.com/api/characters/61', 'https://anapioficeandfire.com/api/characters/104', 'https://anapioficeandfire.com/api/characters/113', 'https://anapioficeandfire.com/api/characters/132', 'https://anapioficeandfire.com/api/characters/152', 'https://anapioficeandfire.com/api/characters/160', 'https://anapioficeandfire.com/api/characters/161', 'https://anapioficeandfire.com/api/characters/186', 'https://anapioficeandfire.com/api/characters/231', 'https://anapioficeandfire.com/api/characters/248', 'https://anapioficeandfire.com/api/characters/266', 'https://anapioficeandfire.com/api/characters/267', 'https://anapioficeandfire.com/api/characters/271', 'https://anapioficeandfire.com/api/characters/273', 'https://anapioficeandfire.com/api/characters/274', 'https://anapioficeandfire.com/api/characters/278', 'https://anapioficeandfire.com/api/characters/353', 'https://anapioficeandfire.com/api/characters/388', 'https://anapioficeandfire.com/api/characters/422', 'https://anapioficeandfire.com/api/characters/431', 'https://anapioficeandfire.com/api/characters/447', 'https://anapioficeandfire.com/api/characters/457', 'https://anapioficeandfire.com/api/characters/478', 'https://anapioficeandfire.com/api/characters/489', 'https://anapioficeandfire.com/api/characters/513', 'https://anapioficeandfire.com/api/characters/514', 'https://anapioficeandfire.com/api/characters/614', 'https://anapioficeandfire.com/api/characters/655', 'https://anapioficeandfire.com/api/characters/695', 'https://anapioficeandfire.com/api/characters/703', 'https://anapioficeandfire.com/api/characters/729', 'https://anapioficeandfire.com/api/characters/791', 'https://anapioficeandfire.com/api/characters/807', 'https://anapioficeandfire.com/api/characters/821', 'https://anapioficeandfire.com/api/characters/842', 'https://anapioficeandfire.com/api/characters/864', 'https://anapioficeandfire.com/api/characters/865', 'https://anapioficeandfire.com/api/characters/893', 'https://anapioficeandfire.com/api/characters/926', 'https://anapioficeandfire.com/api/characters/964', 'https://anapioficeandfire.com/api/characters/981', 'https://anapioficeandfire.com/api/characters/982', 'https://anapioficeandfire.com/api/characters/1048', 'https://anapioficeandfire.com/api/characters/1060', 'https://anapioficeandfire.com/api/characters/1067', 'https://anapioficeandfire.com/api/characters/1108', 'https://anapioficeandfire.com/api/characters/1121', 'https://anapioficeandfire.com/api/characters/1242', 'https://anapioficeandfire.com/api/characters/1248', 'https://anapioficeandfire.com/api/characters/1263', 'https://anapioficeandfire.com/api/characters/1276', 'https://anapioficeandfire.com/api/characters/1308', 'https://anapioficeandfire.com/api/characters/1402', 'https://anapioficeandfire.com/api/characters/1411', 'https://anapioficeandfire.com/api/characters/1542', 'https://anapioficeandfire.com/api/characters/1562', 'https://anapioficeandfire.com/api/characters/1614', 'https://anapioficeandfire.com/api/characters/1731', 'https://anapioficeandfire.com/api/characters/1801', 'https://anapioficeandfire.com/api/characters/1803', 'https://anapioficeandfire.com/api/characters/1869', 'https://anapioficeandfire.com/api/characters/1879', 'https://anapioficeandfire.com/api/characters/1889', 'https://anapioficeandfire.com/api/characters/1891', 'https://anapioficeandfire.com/api/characters/1928', 'https://anapioficeandfire.com/api/characters/1944', 'https://anapioficeandfire.com/api/characters/1983', 'https://anapioficeandfire.com/api/characters/2079', 'https://anapioficeandfire.com/api/characters/2083', 'https://anapioficeandfire.com/api/characters/2084', 'https://anapioficeandfire.com/api/characters/2094', 'https://anapioficeandfire.com/api/characters/2103', 'https://anapioficeandfire.com/api/characters/2105', 'https://anapioficeandfire.com/api/characters/2115'], 'povCharacters': ['https://anapioficeandfire.com/api/characters/329']}   \n",
       "\n",
       "                                                                                                                                                                                                                                                                                                                                                                                                                                                                                                                                                                                                                                                                                                                                                                                                                                                                                                                                                                                                                                                                                                                                                                                                                                                                                                                                                                                                                                                                                                                                                                                                                                                                                                                                                                                                                                                                                                                                                                                                                                                                                                                                                                                                                                                                                                                                                                                                                                                                                                                                                                                                                                                                                                                                                                                                                                                                                                                                                                                                                                                                                                                                                                                                                                                                                                                                                                                                                                                                                                                                                                                                                                                                                                                                                                                                                                                                                                                                                                                                                                                                                                                                                                                                                                                    6  \\\n",
       "0  {'url': 'https://anapioficeandfire.com/api/books/7', 'name': 'The Mystery Knight', 'isbn': '978-0765360267', 'authors': ['George R. R. Martin'], 'numberOfPages': 416, 'publisher': 'Tor Fantasy', 'country': 'United States', 'mediaType': 'Paperback', 'released': '2011-03-29T00:00:00', 'characters': ['https://anapioficeandfire.com/api/characters/30', 'https://anapioficeandfire.com/api/characters/35', 'https://anapioficeandfire.com/api/characters/38', 'https://anapioficeandfire.com/api/characters/41', 'https://anapioficeandfire.com/api/characters/46', 'https://anapioficeandfire.com/api/characters/47', 'https://anapioficeandfire.com/api/characters/50', 'https://anapioficeandfire.com/api/characters/54', 'https://anapioficeandfire.com/api/characters/58', 'https://anapioficeandfire.com/api/characters/61', 'https://anapioficeandfire.com/api/characters/83', 'https://anapioficeandfire.com/api/characters/113', 'https://anapioficeandfire.com/api/characters/132', 'https://anapioficeandfire.com/api/characters/133', 'https://anapioficeandfire.com/api/characters/161', 'https://anapioficeandfire.com/api/characters/192', 'https://anapioficeandfire.com/api/characters/224', 'https://anapioficeandfire.com/api/characters/240', 'https://anapioficeandfire.com/api/characters/267', 'https://anapioficeandfire.com/api/characters/268', 'https://anapioficeandfire.com/api/characters/274', 'https://anapioficeandfire.com/api/characters/276', 'https://anapioficeandfire.com/api/characters/278', 'https://anapioficeandfire.com/api/characters/283', 'https://anapioficeandfire.com/api/characters/289', 'https://anapioficeandfire.com/api/characters/342', 'https://anapioficeandfire.com/api/characters/399', 'https://anapioficeandfire.com/api/characters/428', 'https://anapioficeandfire.com/api/characters/431', 'https://anapioficeandfire.com/api/characters/464', 'https://anapioficeandfire.com/api/characters/566', 'https://anapioficeandfire.com/api/characters/623', 'https://anapioficeandfire.com/api/characters/655', 'https://anapioficeandfire.com/api/characters/695', 'https://anapioficeandfire.com/api/characters/729', 'https://anapioficeandfire.com/api/characters/732', 'https://anapioficeandfire.com/api/characters/807', 'https://anapioficeandfire.com/api/characters/842', 'https://anapioficeandfire.com/api/characters/868', 'https://anapioficeandfire.com/api/characters/921', 'https://anapioficeandfire.com/api/characters/1048', 'https://anapioficeandfire.com/api/characters/1065', 'https://anapioficeandfire.com/api/characters/1067', 'https://anapioficeandfire.com/api/characters/1078', 'https://anapioficeandfire.com/api/characters/1093', 'https://anapioficeandfire.com/api/characters/1117', 'https://anapioficeandfire.com/api/characters/1138', 'https://anapioficeandfire.com/api/characters/1167', 'https://anapioficeandfire.com/api/characters/1242', 'https://anapioficeandfire.com/api/characters/1287', 'https://anapioficeandfire.com/api/characters/1387', 'https://anapioficeandfire.com/api/characters/1392', 'https://anapioficeandfire.com/api/characters/1462', 'https://anapioficeandfire.com/api/characters/1538', 'https://anapioficeandfire.com/api/characters/1589', 'https://anapioficeandfire.com/api/characters/1591', 'https://anapioficeandfire.com/api/characters/1598', 'https://anapioficeandfire.com/api/characters/1636', 'https://anapioficeandfire.com/api/characters/1641', 'https://anapioficeandfire.com/api/characters/1664', 'https://anapioficeandfire.com/api/characters/1694', 'https://anapioficeandfire.com/api/characters/1726', 'https://anapioficeandfire.com/api/characters/1752', 'https://anapioficeandfire.com/api/characters/1823', 'https://anapioficeandfire.com/api/characters/1851', 'https://anapioficeandfire.com/api/characters/1889', 'https://anapioficeandfire.com/api/characters/1966', 'https://anapioficeandfire.com/api/characters/1983', 'https://anapioficeandfire.com/api/characters/2021', 'https://anapioficeandfire.com/api/characters/2054', 'https://anapioficeandfire.com/api/characters/2102'], 'povCharacters': ['https://anapioficeandfire.com/api/characters/329']}   \n",
       "\n",
       "                                                                                                                                                                                                                                                                                                                                                                                                                                                                                                                                                                                                                                                                                                                                                                                                                                                                                                                                                                                                                                                                                                                                                                                                                                                                                                                                                                                                                                                                                                                                                                                                                                                                                                                                                                                                                                                                                                                                                                                                                                                                                                                                                                                                                                                                                                                                                                                                                                                                                                                                                                                                                                                                                                                                                                                                                                                                                                                                                                                                                                                                                                                                                                                                                                                                                                                                                                                                                                                                                                                                                                                                                                                                                                                                                                                                                                                                                                                                                                                                                                                                                                                                                                                                                                                                                                                                                                                                                                                                                                                                                                                                                                                                                                                                                                                                                                                                                                                                                                                                                                                                                                                                                                                                                                                                                                                                                                                                                                                                                                                                                                                                                                                                                                                                                                                                                                                                                                                                                                                                                                                                                                                                                                                                                                                                                                                                                                                                                                                                                                                                                                                                                                                                                             7  \\\n",
       "0  {'url': 'https://anapioficeandfire.com/api/books/8', 'name': 'A Dance with Dragons', 'isbn': '978-0553801477', 'authors': ['George R. R. Martin'], 'numberOfPages': 1040, 'publisher': 'Bantam Books', 'country': 'United States', 'mediaType': 'Hardcover', 'released': '2011-07-12T00:00:00', 'characters': ['https://anapioficeandfire.com/api/characters/2', 'https://anapioficeandfire.com/api/characters/4', 'https://anapioficeandfire.com/api/characters/11', 'https://anapioficeandfire.com/api/characters/12', 'https://anapioficeandfire.com/api/characters/15', 'https://anapioficeandfire.com/api/characters/16', 'https://anapioficeandfire.com/api/characters/19', 'https://anapioficeandfire.com/api/characters/21', 'https://anapioficeandfire.com/api/characters/22', 'https://anapioficeandfire.com/api/characters/24', 'https://anapioficeandfire.com/api/characters/25', 'https://anapioficeandfire.com/api/characters/26', 'https://anapioficeandfire.com/api/characters/27', 'https://anapioficeandfire.com/api/characters/28', 'https://anapioficeandfire.com/api/characters/31', 'https://anapioficeandfire.com/api/characters/37', 'https://anapioficeandfire.com/api/characters/38', 'https://anapioficeandfire.com/api/characters/42', 'https://anapioficeandfire.com/api/characters/46', 'https://anapioficeandfire.com/api/characters/47', 'https://anapioficeandfire.com/api/characters/52', 'https://anapioficeandfire.com/api/characters/54', 'https://anapioficeandfire.com/api/characters/55', 'https://anapioficeandfire.com/api/characters/56', 'https://anapioficeandfire.com/api/characters/58', 'https://anapioficeandfire.com/api/characters/60', 'https://anapioficeandfire.com/api/characters/62', 'https://anapioficeandfire.com/api/characters/63', 'https://anapioficeandfire.com/api/characters/66', 'https://anapioficeandfire.com/api/characters/67', 'https://anapioficeandfire.com/api/characters/69', 'https://anapioficeandfire.com/api/characters/72', 'https://anapioficeandfire.com/api/characters/77', 'https://anapioficeandfire.com/api/characters/79', 'https://anapioficeandfire.com/api/characters/81', 'https://anapioficeandfire.com/api/characters/82', 'https://anapioficeandfire.com/api/characters/85', 'https://anapioficeandfire.com/api/characters/89', 'https://anapioficeandfire.com/api/characters/91', 'https://anapioficeandfire.com/api/characters/96', 'https://anapioficeandfire.com/api/characters/99', 'https://anapioficeandfire.com/api/characters/100', 'https://anapioficeandfire.com/api/characters/103', 'https://anapioficeandfire.com/api/characters/108', 'https://anapioficeandfire.com/api/characters/112', 'https://anapioficeandfire.com/api/characters/115', 'https://anapioficeandfire.com/api/characters/116', 'https://anapioficeandfire.com/api/characters/117', 'https://anapioficeandfire.com/api/characters/118', 'https://anapioficeandfire.com/api/characters/123', 'https://anapioficeandfire.com/api/characters/124', 'https://anapioficeandfire.com/api/characters/125', 'https://anapioficeandfire.com/api/characters/126', 'https://anapioficeandfire.com/api/characters/130', 'https://anapioficeandfire.com/api/characters/134', 'https://anapioficeandfire.com/api/characters/139', 'https://anapioficeandfire.com/api/characters/140', 'https://anapioficeandfire.com/api/characters/141', 'https://anapioficeandfire.com/api/characters/142', 'https://anapioficeandfire.com/api/characters/143', 'https://anapioficeandfire.com/api/characters/146', 'https://anapioficeandfire.com/api/characters/147', 'https://anapioficeandfire.com/api/characters/149', 'https://anapioficeandfire.com/api/characters/151', 'https://anapioficeandfire.com/api/characters/153', 'https://anapioficeandfire.com/api/characters/160', 'https://anapioficeandfire.com/api/characters/162', 'https://anapioficeandfire.com/api/characters/164', 'https://anapioficeandfire.com/api/characters/165', 'https://anapioficeandfire.com/api/characters/166', 'https://anapioficeandfire.com/api/characters/169', 'https://anapioficeandfire.com/api/characters/172', 'https://anapioficeandfire.com/api/characters/175', 'https://anapioficeandfire.com/api/characters/176', 'https://anapioficeandfire.com/api/characters/177', 'https://anapioficeandfire.com/api/characters/179', 'https://anapioficeandfire.com/api/characters/180', 'https://anapioficeandfire.com/api/characters/181', 'https://anapioficeandfire.com/api/characters/188', 'https://anapioficeandfire.com/api/characters/189', 'https://anapioficeandfire.com/api/characters/190', 'https://anapioficeandfire.com/api/characters/191', 'https://anapioficeandfire.com/api/characters/194', 'https://anapioficeandfire.com/api/characters/196', 'https://anapioficeandfire.com/api/characters/199', 'https://anapioficeandfire.com/api/characters/200', 'https://anapioficeandfire.com/api/characters/201', 'https://anapioficeandfire.com/api/characters/202', 'https://anapioficeandfire.com/api/characters/203', 'https://anapioficeandfire.com/api/characters/205', 'https://anapioficeandfire.com/api/characters/206', 'https://anapioficeandfire.com/api/characters/209', 'https://anapioficeandfire.com/api/characters/214', 'https://anapioficeandfire.com/api/characters/216', 'https://anapioficeandfire.com/api/characters/217', 'https://anapioficeandfire.com/api/characters/220', 'https://anapioficeandfire.com/api/characters/222', 'https://anapioficeandfire.com/api/characters/223', 'https://anapioficeandfire.com/api/characters/229', 'https://anapioficeandfire.com/api/characters/230', ...], 'povCharacters': ['https://anapioficeandfire.com/api/characters/148', 'https://anapioficeandfire.com/api/characters/150', 'https://anapioficeandfire.com/api/characters/168', 'https://anapioficeandfire.com/api/characters/208', 'https://anapioficeandfire.com/api/characters/238', 'https://anapioficeandfire.com/api/characters/529', 'https://anapioficeandfire.com/api/characters/576', 'https://anapioficeandfire.com/api/characters/583', 'https://anapioficeandfire.com/api/characters/605', 'https://anapioficeandfire.com/api/characters/743', 'https://anapioficeandfire.com/api/characters/844', 'https://anapioficeandfire.com/api/characters/1022', 'https://anapioficeandfire.com/api/characters/1052', 'https://anapioficeandfire.com/api/characters/1074', 'https://anapioficeandfire.com/api/characters/1166', 'https://anapioficeandfire.com/api/characters/1303', 'https://anapioficeandfire.com/api/characters/1319', 'https://anapioficeandfire.com/api/characters/2066']}   \n",
       "\n",
       "                                                                                                                                                                                                                                                                                                                                                                                                                                                                                                                                                                                                                                                                                                                                                                                                                                                                                                                                                                                                                                                                                                                                                                                                                                                                                                                                                                                                                                                                                                                                                                                                                                                                                                                                                                                                                                                                                                                                                                                                                                                                                                                                                                                                                                                                                                                                                                                                                                                                                                                                                                                                                                                                                                                                                                                                                                                                                                                                                                                                                                                                                                                                                                                                                                                                                                                                                                                                                                     8  \\\n",
       "0  {'url': 'https://anapioficeandfire.com/api/books/9', 'name': 'The Princess and the Queen', 'isbn': '978-0765332066', 'authors': ['George R. R. Martin'], 'numberOfPages': 784, 'publisher': 'Tor Books', 'country': 'United States', 'mediaType': 'Hardcover', 'released': '2013-12-03T00:00:00', 'characters': ['https://anapioficeandfire.com/api/characters/33', 'https://anapioficeandfire.com/api/characters/38', 'https://anapioficeandfire.com/api/characters/39', 'https://anapioficeandfire.com/api/characters/40', 'https://anapioficeandfire.com/api/characters/49', 'https://anapioficeandfire.com/api/characters/55', 'https://anapioficeandfire.com/api/characters/76', 'https://anapioficeandfire.com/api/characters/91', 'https://anapioficeandfire.com/api/characters/154', 'https://anapioficeandfire.com/api/characters/157', 'https://anapioficeandfire.com/api/characters/242', 'https://anapioficeandfire.com/api/characters/253', 'https://anapioficeandfire.com/api/characters/259', 'https://anapioficeandfire.com/api/characters/269', 'https://anapioficeandfire.com/api/characters/275', 'https://anapioficeandfire.com/api/characters/386', 'https://anapioficeandfire.com/api/characters/449', 'https://anapioficeandfire.com/api/characters/481', 'https://anapioficeandfire.com/api/characters/488', 'https://anapioficeandfire.com/api/characters/526', 'https://anapioficeandfire.com/api/characters/538', 'https://anapioficeandfire.com/api/characters/543', 'https://anapioficeandfire.com/api/characters/548', 'https://anapioficeandfire.com/api/characters/610', 'https://anapioficeandfire.com/api/characters/611', 'https://anapioficeandfire.com/api/characters/618', 'https://anapioficeandfire.com/api/characters/643', 'https://anapioficeandfire.com/api/characters/646', 'https://anapioficeandfire.com/api/characters/671', 'https://anapioficeandfire.com/api/characters/680', 'https://anapioficeandfire.com/api/characters/685', 'https://anapioficeandfire.com/api/characters/694', 'https://anapioficeandfire.com/api/characters/696', 'https://anapioficeandfire.com/api/characters/808', 'https://anapioficeandfire.com/api/characters/871', 'https://anapioficeandfire.com/api/characters/873', 'https://anapioficeandfire.com/api/characters/874', 'https://anapioficeandfire.com/api/characters/875', 'https://anapioficeandfire.com/api/characters/888', 'https://anapioficeandfire.com/api/characters/987', 'https://anapioficeandfire.com/api/characters/1050', 'https://anapioficeandfire.com/api/characters/1076', 'https://anapioficeandfire.com/api/characters/1077', 'https://anapioficeandfire.com/api/characters/1119', 'https://anapioficeandfire.com/api/characters/1318', 'https://anapioficeandfire.com/api/characters/1458', 'https://anapioficeandfire.com/api/characters/1513', 'https://anapioficeandfire.com/api/characters/1517', 'https://anapioficeandfire.com/api/characters/1527', 'https://anapioficeandfire.com/api/characters/1528', 'https://anapioficeandfire.com/api/characters/1739', 'https://anapioficeandfire.com/api/characters/1746', 'https://anapioficeandfire.com/api/characters/1756', 'https://anapioficeandfire.com/api/characters/1786', 'https://anapioficeandfire.com/api/characters/1884', 'https://anapioficeandfire.com/api/characters/2048', 'https://anapioficeandfire.com/api/characters/2138'], 'povCharacters': []}   \n",
       "\n",
       "                                                                                                                                                                                                                                                                                                                                                                                                                                                                                                                                                                                                                                                                                                                                                                                                                                                                                                                                                                                                                                                                                                                                                                                                                                                                                                                                                                                                                                                                                                                                                                                                                                                                                                                                                                                                                                                                                                                                                                                                                                                                                                                                                                                                                                                                                                                                                                                                                                                                                                                                                                                                                                                                                                                                                                                                                                                                                                                                                                                                                                                                                                                                                                                                                                                                                                                          9  \n",
       "0  {'url': 'https://anapioficeandfire.com/api/books/10', 'name': 'The Rogue Prince', 'isbn': '978-0345537263', 'authors': ['George R. R. Martin'], 'numberOfPages': 832, 'publisher': 'Bantam Books', 'country': 'United States', 'mediaType': 'Hardcover', 'released': '2014-06-17T00:00:00', 'characters': ['https://anapioficeandfire.com/api/characters/39', 'https://anapioficeandfire.com/api/characters/40', 'https://anapioficeandfire.com/api/characters/49', 'https://anapioficeandfire.com/api/characters/55', 'https://anapioficeandfire.com/api/characters/76', 'https://anapioficeandfire.com/api/characters/105', 'https://anapioficeandfire.com/api/characters/154', 'https://anapioficeandfire.com/api/characters/156', 'https://anapioficeandfire.com/api/characters/157', 'https://anapioficeandfire.com/api/characters/169', 'https://anapioficeandfire.com/api/characters/253', 'https://anapioficeandfire.com/api/characters/265', 'https://anapioficeandfire.com/api/characters/269', 'https://anapioficeandfire.com/api/characters/275', 'https://anapioficeandfire.com/api/characters/386', 'https://anapioficeandfire.com/api/characters/479', 'https://anapioficeandfire.com/api/characters/481', 'https://anapioficeandfire.com/api/characters/488', 'https://anapioficeandfire.com/api/characters/526', 'https://anapioficeandfire.com/api/characters/538', 'https://anapioficeandfire.com/api/characters/548', 'https://anapioficeandfire.com/api/characters/567', 'https://anapioficeandfire.com/api/characters/569', 'https://anapioficeandfire.com/api/characters/610', 'https://anapioficeandfire.com/api/characters/611', 'https://anapioficeandfire.com/api/characters/618', 'https://anapioficeandfire.com/api/characters/675', 'https://anapioficeandfire.com/api/characters/684', 'https://anapioficeandfire.com/api/characters/694', 'https://anapioficeandfire.com/api/characters/696', 'https://anapioficeandfire.com/api/characters/808', 'https://anapioficeandfire.com/api/characters/871', 'https://anapioficeandfire.com/api/characters/873', 'https://anapioficeandfire.com/api/characters/874', 'https://anapioficeandfire.com/api/characters/875', 'https://anapioficeandfire.com/api/characters/878', 'https://anapioficeandfire.com/api/characters/945', 'https://anapioficeandfire.com/api/characters/951', 'https://anapioficeandfire.com/api/characters/1050', 'https://anapioficeandfire.com/api/characters/1066', 'https://anapioficeandfire.com/api/characters/1076', 'https://anapioficeandfire.com/api/characters/1077', 'https://anapioficeandfire.com/api/characters/1291', 'https://anapioficeandfire.com/api/characters/1419', 'https://anapioficeandfire.com/api/characters/1458', 'https://anapioficeandfire.com/api/characters/1527', 'https://anapioficeandfire.com/api/characters/1528', 'https://anapioficeandfire.com/api/characters/1699', 'https://anapioficeandfire.com/api/characters/1739', 'https://anapioficeandfire.com/api/characters/1746', 'https://anapioficeandfire.com/api/characters/1833', 'https://anapioficeandfire.com/api/characters/1850', 'https://anapioficeandfire.com/api/characters/1884', 'https://anapioficeandfire.com/api/characters/1912', 'https://anapioficeandfire.com/api/characters/2138'], 'povCharacters': []}  "
      ]
     },
     "execution_count": 36,
     "metadata": {},
     "output_type": "execute_result"
    }
   ],
   "source": [
    "pd.DataFrame([results])"
   ]
  },
  {
   "cell_type": "code",
   "execution_count": 43,
   "id": "a08ce99c",
   "metadata": {},
   "outputs": [
    {
     "data": {
      "text/plain": [
       "'<https://anapioficeandfire.com/api/books?page=2&pageSize=10>; rel=\"next\", <https://anapioficeandfire.com/api/books?page=1&pageSize=10>; rel=\"first\", <https://anapioficeandfire.com/api/books?page=2&pageSize=10>; rel=\"last\"'"
      ]
     },
     "execution_count": 43,
     "metadata": {},
     "output_type": "execute_result"
    }
   ],
   "source": [
    "response.headers.get('Link')"
   ]
  },
  {
   "cell_type": "code",
   "execution_count": 39,
   "id": "f02cdaef",
   "metadata": {},
   "outputs": [
    {
     "data": {
      "text/plain": [
       "'<https://anapioficeandfire.com/api/books?page=2&pageSize=10>; rel=\"next\", <https://anapioficeandfire.com/api/books?page=1&pageSize=10>; rel=\"first\", <https://anapioficeandfire.com/api/books?page=2&pageSize=10>; rel=\"last\"'"
      ]
     },
     "execution_count": 39,
     "metadata": {},
     "output_type": "execute_result"
    }
   ],
   "source": [
    "next_url"
   ]
  },
  {
   "cell_type": "code",
   "execution_count": 40,
   "id": "6ae64044",
   "metadata": {},
   "outputs": [
    {
     "data": {
      "text/plain": [
       "<Response [200]>"
      ]
     },
     "execution_count": 40,
     "metadata": {},
     "output_type": "execute_result"
    }
   ],
   "source": [
    "url = \"https://www.anapioficeandfire.com/api/characters\"\n",
    "results = requests.get(url)\n",
    "results"
   ]
  },
  {
   "cell_type": "code",
   "execution_count": 45,
   "id": "5d601cc7",
   "metadata": {},
   "outputs": [],
   "source": [
    "base_url = \"https://www.anapioficeandfire.com/api/characters\"\n",
    "response = requests.get(base_url)\n",
    "results = response.json()"
   ]
  },
  {
   "cell_type": "code",
   "execution_count": 46,
   "id": "a68e233e",
   "metadata": {},
   "outputs": [
    {
     "data": {
      "text/html": [
       "<div>\n",
       "<style scoped>\n",
       "    .dataframe tbody tr th:only-of-type {\n",
       "        vertical-align: middle;\n",
       "    }\n",
       "\n",
       "    .dataframe tbody tr th {\n",
       "        vertical-align: top;\n",
       "    }\n",
       "\n",
       "    .dataframe thead th {\n",
       "        text-align: right;\n",
       "    }\n",
       "</style>\n",
       "<table border=\"1\" class=\"dataframe\">\n",
       "  <thead>\n",
       "    <tr style=\"text-align: right;\">\n",
       "      <th></th>\n",
       "      <th>0</th>\n",
       "      <th>1</th>\n",
       "      <th>2</th>\n",
       "      <th>3</th>\n",
       "      <th>4</th>\n",
       "      <th>5</th>\n",
       "      <th>6</th>\n",
       "      <th>7</th>\n",
       "      <th>8</th>\n",
       "      <th>9</th>\n",
       "    </tr>\n",
       "  </thead>\n",
       "  <tbody>\n",
       "    <tr>\n",
       "      <th>0</th>\n",
       "      <td>{'url': 'https://www.anapioficeandfire.com/api/characters/1', 'name': '', 'gender': 'Female', 'culture': 'Braavosi', 'born': '', 'died': '', 'titles': [''], 'aliases': ['The Daughter of the Dusk'], 'father': '', 'mother': '', 'spouse': '', 'allegiances': [], 'books': ['https://www.anapioficeandfire.com/api/books/5'], 'povBooks': [], 'tvSeries': [''], 'playedBy': ['']}</td>\n",
       "      <td>{'url': 'https://www.anapioficeandfire.com/api/characters/2', 'name': 'Walder', 'gender': 'Male', 'culture': '', 'born': '', 'died': '', 'titles': [''], 'aliases': ['Hodor'], 'father': '', 'mother': '', 'spouse': '', 'allegiances': ['https://www.anapioficeandfire.com/api/houses/362'], 'books': ['https://www.anapioficeandfire.com/api/books/1', 'https://www.anapioficeandfire.com/api/books/2', 'https://www.anapioficeandfire.com/api/books/3', 'https://www.anapioficeandfire.com/api/books/5', 'https://www.anapioficeandfire.com/api/books/8'], 'povBooks': [], 'tvSeries': ['Season 1', 'Season 2', 'Season 3', 'Season 4', 'Season 6'], 'playedBy': ['Kristian Nairn']}</td>\n",
       "      <td>{'url': 'https://www.anapioficeandfire.com/api/characters/3', 'name': '', 'gender': 'Male', 'culture': '', 'born': '', 'died': '', 'titles': [''], 'aliases': ['Lamprey'], 'father': '', 'mother': '', 'spouse': '', 'allegiances': ['https://www.anapioficeandfire.com/api/houses/15'], 'books': ['https://www.anapioficeandfire.com/api/books/3'], 'povBooks': [], 'tvSeries': [''], 'playedBy': ['']}</td>\n",
       "      <td>{'url': 'https://www.anapioficeandfire.com/api/characters/4', 'name': '', 'gender': 'Female', 'culture': 'Braavosi', 'born': '', 'died': '', 'titles': [''], 'aliases': ['The Merling Queen'], 'father': '', 'mother': '', 'spouse': '', 'allegiances': [], 'books': ['https://www.anapioficeandfire.com/api/books/5', 'https://www.anapioficeandfire.com/api/books/8'], 'povBooks': [], 'tvSeries': [''], 'playedBy': ['']}</td>\n",
       "      <td>{'url': 'https://www.anapioficeandfire.com/api/characters/5', 'name': '', 'gender': 'Male', 'culture': '', 'born': '', 'died': '', 'titles': [''], 'aliases': ['Old Crackbones'], 'father': '', 'mother': '', 'spouse': '', 'allegiances': [], 'books': ['https://www.anapioficeandfire.com/api/books/5'], 'povBooks': [], 'tvSeries': [''], 'playedBy': ['']}</td>\n",
       "      <td>{'url': 'https://www.anapioficeandfire.com/api/characters/6', 'name': '', 'gender': 'Female', 'culture': 'Braavosi', 'born': '', 'died': '', 'titles': [''], 'aliases': ['The Poetess'], 'father': '', 'mother': '', 'spouse': '', 'allegiances': [], 'books': ['https://www.anapioficeandfire.com/api/books/5'], 'povBooks': [], 'tvSeries': [''], 'playedBy': ['']}</td>\n",
       "      <td>{'url': 'https://www.anapioficeandfire.com/api/characters/7', 'name': '', 'gender': 'Female', 'culture': '', 'born': '', 'died': '', 'titles': [''], 'aliases': ['Porridge'], 'father': '', 'mother': '', 'spouse': '', 'allegiances': ['https://www.anapioficeandfire.com/api/houses/15'], 'books': ['https://www.anapioficeandfire.com/api/books/3'], 'povBooks': [], 'tvSeries': [''], 'playedBy': ['']}</td>\n",
       "      <td>{'url': 'https://www.anapioficeandfire.com/api/characters/8', 'name': '', 'gender': 'Male', 'culture': '', 'born': '', 'died': '', 'titles': [''], 'aliases': ['Quickfinger'], 'father': '', 'mother': '', 'spouse': '', 'allegiances': ['https://www.anapioficeandfire.com/api/houses/23'], 'books': ['https://www.anapioficeandfire.com/api/books/6'], 'povBooks': [], 'tvSeries': [''], 'playedBy': ['']}</td>\n",
       "      <td>{'url': 'https://www.anapioficeandfire.com/api/characters/9', 'name': '', 'gender': 'Female', 'culture': '', 'born': '', 'died': '', 'titles': [''], 'aliases': ['the Sailor's Wife'], 'father': '', 'mother': '', 'spouse': '', 'allegiances': [], 'books': ['https://www.anapioficeandfire.com/api/books/5'], 'povBooks': [], 'tvSeries': [''], 'playedBy': ['']}</td>\n",
       "      <td>{'url': 'https://www.anapioficeandfire.com/api/characters/10', 'name': '', 'gender': 'Female', 'culture': 'Braavosi', 'born': '', 'died': '', 'titles': [''], 'aliases': ['The Veiled Lady'], 'father': '', 'mother': '', 'spouse': '', 'allegiances': [], 'books': ['https://www.anapioficeandfire.com/api/books/5'], 'povBooks': [], 'tvSeries': [''], 'playedBy': ['']}</td>\n",
       "    </tr>\n",
       "  </tbody>\n",
       "</table>\n",
       "</div>"
      ],
      "text/plain": [
       "                                                                                                                                                                                                                                                                                                                                                                                    0  \\\n",
       "0  {'url': 'https://www.anapioficeandfire.com/api/characters/1', 'name': '', 'gender': 'Female', 'culture': 'Braavosi', 'born': '', 'died': '', 'titles': [''], 'aliases': ['The Daughter of the Dusk'], 'father': '', 'mother': '', 'spouse': '', 'allegiances': [], 'books': ['https://www.anapioficeandfire.com/api/books/5'], 'povBooks': [], 'tvSeries': [''], 'playedBy': ['']}   \n",
       "\n",
       "                                                                                                                                                                                                                                                                                                                                                                                                                                                                                                                                                                                                                                                                                         1  \\\n",
       "0  {'url': 'https://www.anapioficeandfire.com/api/characters/2', 'name': 'Walder', 'gender': 'Male', 'culture': '', 'born': '', 'died': '', 'titles': [''], 'aliases': ['Hodor'], 'father': '', 'mother': '', 'spouse': '', 'allegiances': ['https://www.anapioficeandfire.com/api/houses/362'], 'books': ['https://www.anapioficeandfire.com/api/books/1', 'https://www.anapioficeandfire.com/api/books/2', 'https://www.anapioficeandfire.com/api/books/3', 'https://www.anapioficeandfire.com/api/books/5', 'https://www.anapioficeandfire.com/api/books/8'], 'povBooks': [], 'tvSeries': ['Season 1', 'Season 2', 'Season 3', 'Season 4', 'Season 6'], 'playedBy': ['Kristian Nairn']}   \n",
       "\n",
       "                                                                                                                                                                                                                                                                                                                                                                                                          2  \\\n",
       "0  {'url': 'https://www.anapioficeandfire.com/api/characters/3', 'name': '', 'gender': 'Male', 'culture': '', 'born': '', 'died': '', 'titles': [''], 'aliases': ['Lamprey'], 'father': '', 'mother': '', 'spouse': '', 'allegiances': ['https://www.anapioficeandfire.com/api/houses/15'], 'books': ['https://www.anapioficeandfire.com/api/books/3'], 'povBooks': [], 'tvSeries': [''], 'playedBy': ['']}   \n",
       "\n",
       "                                                                                                                                                                                                                                                                                                                                                                                                                              3  \\\n",
       "0  {'url': 'https://www.anapioficeandfire.com/api/characters/4', 'name': '', 'gender': 'Female', 'culture': 'Braavosi', 'born': '', 'died': '', 'titles': [''], 'aliases': ['The Merling Queen'], 'father': '', 'mother': '', 'spouse': '', 'allegiances': [], 'books': ['https://www.anapioficeandfire.com/api/books/5', 'https://www.anapioficeandfire.com/api/books/8'], 'povBooks': [], 'tvSeries': [''], 'playedBy': ['']}   \n",
       "\n",
       "                                                                                                                                                                                                                                                                                                                                                                4  \\\n",
       "0  {'url': 'https://www.anapioficeandfire.com/api/characters/5', 'name': '', 'gender': 'Male', 'culture': '', 'born': '', 'died': '', 'titles': [''], 'aliases': ['Old Crackbones'], 'father': '', 'mother': '', 'spouse': '', 'allegiances': [], 'books': ['https://www.anapioficeandfire.com/api/books/5'], 'povBooks': [], 'tvSeries': [''], 'playedBy': ['']}   \n",
       "\n",
       "                                                                                                                                                                                                                                                                                                                                                                       5  \\\n",
       "0  {'url': 'https://www.anapioficeandfire.com/api/characters/6', 'name': '', 'gender': 'Female', 'culture': 'Braavosi', 'born': '', 'died': '', 'titles': [''], 'aliases': ['The Poetess'], 'father': '', 'mother': '', 'spouse': '', 'allegiances': [], 'books': ['https://www.anapioficeandfire.com/api/books/5'], 'povBooks': [], 'tvSeries': [''], 'playedBy': ['']}   \n",
       "\n",
       "                                                                                                                                                                                                                                                                                                                                                                                                             6  \\\n",
       "0  {'url': 'https://www.anapioficeandfire.com/api/characters/7', 'name': '', 'gender': 'Female', 'culture': '', 'born': '', 'died': '', 'titles': [''], 'aliases': ['Porridge'], 'father': '', 'mother': '', 'spouse': '', 'allegiances': ['https://www.anapioficeandfire.com/api/houses/15'], 'books': ['https://www.anapioficeandfire.com/api/books/3'], 'povBooks': [], 'tvSeries': [''], 'playedBy': ['']}   \n",
       "\n",
       "                                                                                                                                                                                                                                                                                                                                                                                                              7  \\\n",
       "0  {'url': 'https://www.anapioficeandfire.com/api/characters/8', 'name': '', 'gender': 'Male', 'culture': '', 'born': '', 'died': '', 'titles': [''], 'aliases': ['Quickfinger'], 'father': '', 'mother': '', 'spouse': '', 'allegiances': ['https://www.anapioficeandfire.com/api/houses/23'], 'books': ['https://www.anapioficeandfire.com/api/books/6'], 'povBooks': [], 'tvSeries': [''], 'playedBy': ['']}   \n",
       "\n",
       "                                                                                                                                                                                                                                                                                                                                                                     8  \\\n",
       "0  {'url': 'https://www.anapioficeandfire.com/api/characters/9', 'name': '', 'gender': 'Female', 'culture': '', 'born': '', 'died': '', 'titles': [''], 'aliases': ['the Sailor's Wife'], 'father': '', 'mother': '', 'spouse': '', 'allegiances': [], 'books': ['https://www.anapioficeandfire.com/api/books/5'], 'povBooks': [], 'tvSeries': [''], 'playedBy': ['']}   \n",
       "\n",
       "                                                                                                                                                                                                                                                                                                                                                                            9  \n",
       "0  {'url': 'https://www.anapioficeandfire.com/api/characters/10', 'name': '', 'gender': 'Female', 'culture': 'Braavosi', 'born': '', 'died': '', 'titles': [''], 'aliases': ['The Veiled Lady'], 'father': '', 'mother': '', 'spouse': '', 'allegiances': [], 'books': ['https://www.anapioficeandfire.com/api/books/5'], 'povBooks': [], 'tvSeries': [''], 'playedBy': ['']}  "
      ]
     },
     "execution_count": 46,
     "metadata": {},
     "output_type": "execute_result"
    }
   ],
   "source": [
    "pd.DataFrame([results])"
   ]
  },
  {
   "cell_type": "code",
   "execution_count": 47,
   "id": "75d0ebcf",
   "metadata": {},
   "outputs": [
    {
     "data": {
      "text/plain": [
       "<Response [200]>"
      ]
     },
     "execution_count": 47,
     "metadata": {},
     "output_type": "execute_result"
    }
   ],
   "source": [
    "url = \"https://www.anapioficeandfire.com/api/houses\"\n",
    "results = requests.get(url)\n",
    "results"
   ]
  },
  {
   "cell_type": "code",
   "execution_count": 48,
   "id": "58287c22",
   "metadata": {},
   "outputs": [],
   "source": [
    "base_url = \"https://www.anapioficeandfire.com/api/houses\"\n",
    "response = requests.get(base_url)\n",
    "results = response.json()"
   ]
  },
  {
   "cell_type": "code",
   "execution_count": 49,
   "id": "0071c8df",
   "metadata": {},
   "outputs": [
    {
     "data": {
      "text/html": [
       "<div>\n",
       "<style scoped>\n",
       "    .dataframe tbody tr th:only-of-type {\n",
       "        vertical-align: middle;\n",
       "    }\n",
       "\n",
       "    .dataframe tbody tr th {\n",
       "        vertical-align: top;\n",
       "    }\n",
       "\n",
       "    .dataframe thead th {\n",
       "        text-align: right;\n",
       "    }\n",
       "</style>\n",
       "<table border=\"1\" class=\"dataframe\">\n",
       "  <thead>\n",
       "    <tr style=\"text-align: right;\">\n",
       "      <th></th>\n",
       "      <th>0</th>\n",
       "      <th>1</th>\n",
       "      <th>2</th>\n",
       "      <th>3</th>\n",
       "      <th>4</th>\n",
       "      <th>5</th>\n",
       "      <th>6</th>\n",
       "      <th>7</th>\n",
       "      <th>8</th>\n",
       "      <th>9</th>\n",
       "    </tr>\n",
       "  </thead>\n",
       "  <tbody>\n",
       "    <tr>\n",
       "      <th>0</th>\n",
       "      <td>{'url': 'https://www.anapioficeandfire.com/api/houses/1', 'name': 'House Algood', 'region': 'The Westerlands', 'coatOfArms': 'A golden wreath, on a blue field with a gold border(Azure, a garland of laurel within a bordure or)', 'words': '', 'titles': [''], 'seats': [''], 'currentLord': '', 'heir': '', 'overlord': 'https://www.anapioficeandfire.com/api/houses/229', 'founded': '', 'founder': '', 'diedOut': '', 'ancestralWeapons': [''], 'cadetBranches': [], 'swornMembers': []}</td>\n",
       "      <td>{'url': 'https://www.anapioficeandfire.com/api/houses/2', 'name': 'House Allyrion of Godsgrace', 'region': 'Dorne', 'coatOfArms': 'Gyronny Gules and Sable, a hand couped Or', 'words': 'No Foe May Pass', 'titles': [''], 'seats': ['Godsgrace'], 'currentLord': 'https://www.anapioficeandfire.com/api/characters/298', 'heir': 'https://www.anapioficeandfire.com/api/characters/1922', 'overlord': 'https://www.anapioficeandfire.com/api/houses/285', 'founded': '', 'founder': '', 'diedOut': '', 'ancestralWeapons': [''], 'cadetBranches': [], 'swornMembers': ['https://www.anapioficeandfire.com/api/characters/298', 'https://www.anapioficeandfire.com/api/characters/1129', 'https://www.anapioficeandfire.com/api/characters/1301', 'https://www.anapioficeandfire.com/api/characters/1922']}</td>\n",
       "      <td>{'url': 'https://www.anapioficeandfire.com/api/houses/3', 'name': 'House Amber', 'region': 'The North', 'coatOfArms': '', 'words': '', 'titles': [''], 'seats': [''], 'currentLord': '', 'heir': '', 'overlord': '', 'founded': '', 'founder': '', 'diedOut': '', 'ancestralWeapons': [''], 'cadetBranches': [], 'swornMembers': []}</td>\n",
       "      <td>{'url': 'https://www.anapioficeandfire.com/api/houses/4', 'name': 'House Ambrose', 'region': 'The Reach', 'coatOfArms': 'Or, semy of ants gules', 'words': 'Never Resting', 'titles': [''], 'seats': [''], 'currentLord': 'https://www.anapioficeandfire.com/api/characters/141', 'heir': '', 'overlord': 'https://www.anapioficeandfire.com/api/houses/398', 'founded': '', 'founder': '', 'diedOut': '', 'ancestralWeapons': [''], 'cadetBranches': [], 'swornMembers': ['https://www.anapioficeandfire.com/api/characters/82', 'https://www.anapioficeandfire.com/api/characters/102', 'https://www.anapioficeandfire.com/api/characters/141', 'https://www.anapioficeandfire.com/api/characters/152', 'https://www.anapioficeandfire.com/api/characters/344']}</td>\n",
       "      <td>{'url': 'https://www.anapioficeandfire.com/api/houses/5', 'name': 'House Appleton of Appleton', 'region': 'The Reach', 'coatOfArms': 'Or, an apple tree eradicated proper fructed gules, quartered with argent, a gatehouse cendrée', 'words': '', 'titles': [''], 'seats': ['Appleton'], 'currentLord': '', 'heir': '', 'overlord': 'https://www.anapioficeandfire.com/api/houses/398', 'founded': '', 'founder': '', 'diedOut': '', 'ancestralWeapons': [''], 'cadetBranches': [], 'swornMembers': []}</td>\n",
       "      <td>{'url': 'https://www.anapioficeandfire.com/api/houses/6', 'name': 'House Arryn of Gulltown', 'region': 'The Vale', 'coatOfArms': '', 'words': '', 'titles': [''], 'seats': ['Gulltown'], 'currentLord': '', 'heir': '', 'overlord': 'https://www.anapioficeandfire.com/api/houses/7', 'founded': '', 'founder': '', 'diedOut': '', 'ancestralWeapons': [''], 'cadetBranches': [], 'swornMembers': []}</td>\n",
       "      <td>{'url': 'https://www.anapioficeandfire.com/api/houses/7', 'name': 'House Arryn of the Eyrie', 'region': 'The Vale', 'coatOfArms': 'A sky-blue falcon soaring against a white moon, on a sky-blue field(Bleu celeste, upon a plate a falcon volant of the field)', 'words': 'As High as Honor', 'titles': ['King of Mountain and Vale (formerly)', 'Lord of the Eyrie', 'Defender of the Vale', 'Warden of the East'], 'seats': ['The Eyrie (summer)', 'Gates of the Moon (winter)'], 'currentLord': 'https://www.anapioficeandfire.com/api/characters/894', 'heir': 'https://www.anapioficeandfire.com/api/characters/477', 'overlord': 'https://www.anapioficeandfire.com/api/houses/16', 'founded': 'Coming of the Andals', 'founder': 'https://www.anapioficeandfire.com/api/characters/144', 'diedOut': '', 'ancestralWeapons': [''], 'cadetBranches': ['https://www.anapioficeandfire.com/api/houses/6'], 'swornMembers': ['https://www.anapioficeandfire.com/api/characters/49', 'https://www.anapioficeandfire.com/api/characters/92', 'https://www.anapioficeandfire.com/api/characters/93', 'https://www.anapioficeandfire.com/api/characters/107', 'https://www.anapioficeandfire.com/api/characters/223', 'https://www.anapioficeandfire.com/api/characters/265', 'https://www.anapioficeandfire.com/api/characters/300', 'https://www.anapioficeandfire.com/api/characters/356', 'https://www.anapioficeandfire.com/api/characters/477', 'https://www.anapioficeandfire.com/api/characters/508', 'https://www.anapioficeandfire.com/api/characters/540', 'https://www.anapioficeandfire.com/api/characters/548', 'https://www.anapioficeandfire.com/api/characters/558', 'https://www.anapioficeandfire.com/api/characters/572', 'https://www.anapioficeandfire.com/api/characters/688', 'https://www.anapioficeandfire.com/api/characters/894', 'https://www.anapioficeandfire.com/api/characters/1068', 'https://www.anapioficeandfire.com/api/characters/1193', 'https://www.anapioficeandfire.com/api/characters/1280', 'https://www.anapioficeandfire.com/api/characters/1443', 'https://www.anapioficeandfire.com/api/characters/1655', 'https://www.anapioficeandfire.com/api/characters/1693', 'https://www.anapioficeandfire.com/api/characters/1715', 'https://www.anapioficeandfire.com/api/characters/1884']}</td>\n",
       "      <td>{'url': 'https://www.anapioficeandfire.com/api/houses/8', 'name': 'House Ashford of Ashford', 'region': 'The Reach', 'coatOfArms': 'Tenny, a sun in splendour beneath a chevron inverted argent', 'words': 'Our Sun Shines Bright', 'titles': ['Lord of Ashford'], 'seats': ['Ashford'], 'currentLord': '', 'heir': '', 'overlord': 'https://www.anapioficeandfire.com/api/houses/398', 'founded': '', 'founder': '', 'diedOut': '', 'ancestralWeapons': [''], 'cadetBranches': [], 'swornMembers': ['https://www.anapioficeandfire.com/api/characters/121', 'https://www.anapioficeandfire.com/api/characters/641', 'https://www.anapioficeandfire.com/api/characters/895', 'https://www.anapioficeandfire.com/api/characters/1812']}</td>\n",
       "      <td>{'url': 'https://www.anapioficeandfire.com/api/houses/9', 'name': 'House Ashwood', 'region': 'The North', 'coatOfArms': '', 'words': '', 'titles': [''], 'seats': [''], 'currentLord': '', 'heir': '', 'overlord': 'https://www.anapioficeandfire.com/api/houses/34', 'founded': '', 'founder': '', 'diedOut': '', 'ancestralWeapons': [''], 'cadetBranches': [], 'swornMembers': []}</td>\n",
       "      <td>{'url': 'https://www.anapioficeandfire.com/api/houses/10', 'name': 'House Baelish of Harrenhal', 'region': 'The Riverlands', 'coatOfArms': 'A field of silver mockingbirds, on a green field(Vert, semé of mockingbirds argent)', 'words': '', 'titles': ['Lord Paramount of the Trident', 'Lord of Harrenhal'], 'seats': ['Harrenhal'], 'currentLord': 'https://www.anapioficeandfire.com/api/characters/823', 'heir': '', 'overlord': 'https://www.anapioficeandfire.com/api/houses/16', 'founded': '299 AC', 'founder': 'https://www.anapioficeandfire.com/api/characters/823', 'diedOut': '', 'ancestralWeapons': [''], 'cadetBranches': [], 'swornMembers': ['https://www.anapioficeandfire.com/api/characters/651', 'https://www.anapioficeandfire.com/api/characters/804', 'https://www.anapioficeandfire.com/api/characters/823', 'https://www.anapioficeandfire.com/api/characters/957', 'https://www.anapioficeandfire.com/api/characters/970']}</td>\n",
       "    </tr>\n",
       "  </tbody>\n",
       "</table>\n",
       "</div>"
      ],
      "text/plain": [
       "                                                                                                                                                                                                                                                                                                                                                                                                                                                                                                0  \\\n",
       "0  {'url': 'https://www.anapioficeandfire.com/api/houses/1', 'name': 'House Algood', 'region': 'The Westerlands', 'coatOfArms': 'A golden wreath, on a blue field with a gold border(Azure, a garland of laurel within a bordure or)', 'words': '', 'titles': [''], 'seats': [''], 'currentLord': '', 'heir': '', 'overlord': 'https://www.anapioficeandfire.com/api/houses/229', 'founded': '', 'founder': '', 'diedOut': '', 'ancestralWeapons': [''], 'cadetBranches': [], 'swornMembers': []}   \n",
       "\n",
       "                                                                                                                                                                                                                                                                                                                                                                                                                                                                                                                                                                                                                                                                                                                                                                                                             1  \\\n",
       "0  {'url': 'https://www.anapioficeandfire.com/api/houses/2', 'name': 'House Allyrion of Godsgrace', 'region': 'Dorne', 'coatOfArms': 'Gyronny Gules and Sable, a hand couped Or', 'words': 'No Foe May Pass', 'titles': [''], 'seats': ['Godsgrace'], 'currentLord': 'https://www.anapioficeandfire.com/api/characters/298', 'heir': 'https://www.anapioficeandfire.com/api/characters/1922', 'overlord': 'https://www.anapioficeandfire.com/api/houses/285', 'founded': '', 'founder': '', 'diedOut': '', 'ancestralWeapons': [''], 'cadetBranches': [], 'swornMembers': ['https://www.anapioficeandfire.com/api/characters/298', 'https://www.anapioficeandfire.com/api/characters/1129', 'https://www.anapioficeandfire.com/api/characters/1301', 'https://www.anapioficeandfire.com/api/characters/1922']}   \n",
       "\n",
       "                                                                                                                                                                                                                                                                                                                                      2  \\\n",
       "0  {'url': 'https://www.anapioficeandfire.com/api/houses/3', 'name': 'House Amber', 'region': 'The North', 'coatOfArms': '', 'words': '', 'titles': [''], 'seats': [''], 'currentLord': '', 'heir': '', 'overlord': '', 'founded': '', 'founder': '', 'diedOut': '', 'ancestralWeapons': [''], 'cadetBranches': [], 'swornMembers': []}   \n",
       "\n",
       "                                                                                                                                                                                                                                                                                                                                                                                                                                                                                                                                                                                                                                                                                                                                                                    3  \\\n",
       "0  {'url': 'https://www.anapioficeandfire.com/api/houses/4', 'name': 'House Ambrose', 'region': 'The Reach', 'coatOfArms': 'Or, semy of ants gules', 'words': 'Never Resting', 'titles': [''], 'seats': [''], 'currentLord': 'https://www.anapioficeandfire.com/api/characters/141', 'heir': '', 'overlord': 'https://www.anapioficeandfire.com/api/houses/398', 'founded': '', 'founder': '', 'diedOut': '', 'ancestralWeapons': [''], 'cadetBranches': [], 'swornMembers': ['https://www.anapioficeandfire.com/api/characters/82', 'https://www.anapioficeandfire.com/api/characters/102', 'https://www.anapioficeandfire.com/api/characters/141', 'https://www.anapioficeandfire.com/api/characters/152', 'https://www.anapioficeandfire.com/api/characters/344']}   \n",
       "\n",
       "                                                                                                                                                                                                                                                                                                                                                                                                                                                                                                          4  \\\n",
       "0  {'url': 'https://www.anapioficeandfire.com/api/houses/5', 'name': 'House Appleton of Appleton', 'region': 'The Reach', 'coatOfArms': 'Or, an apple tree eradicated proper fructed gules, quartered with argent, a gatehouse cendrée', 'words': '', 'titles': [''], 'seats': ['Appleton'], 'currentLord': '', 'heir': '', 'overlord': 'https://www.anapioficeandfire.com/api/houses/398', 'founded': '', 'founder': '', 'diedOut': '', 'ancestralWeapons': [''], 'cadetBranches': [], 'swornMembers': []}   \n",
       "\n",
       "                                                                                                                                                                                                                                                                                                                                                                                                       5  \\\n",
       "0  {'url': 'https://www.anapioficeandfire.com/api/houses/6', 'name': 'House Arryn of Gulltown', 'region': 'The Vale', 'coatOfArms': '', 'words': '', 'titles': [''], 'seats': ['Gulltown'], 'currentLord': '', 'heir': '', 'overlord': 'https://www.anapioficeandfire.com/api/houses/7', 'founded': '', 'founder': '', 'diedOut': '', 'ancestralWeapons': [''], 'cadetBranches': [], 'swornMembers': []}   \n",
       "\n",
       "                                                                                                                                                                                                                                                                                                                                                                                                                                                                                                                                                                                                                                                                                                                                                                                                                                                                                                                                                                                                                                                                                                                                                                                                                                                                                                                                                                                                                                                                                                                                                                                                                                                                                                                                                                                                                                                                                                                                                                                                                                                                                                                                                                                                                                                                                                                                       6  \\\n",
       "0  {'url': 'https://www.anapioficeandfire.com/api/houses/7', 'name': 'House Arryn of the Eyrie', 'region': 'The Vale', 'coatOfArms': 'A sky-blue falcon soaring against a white moon, on a sky-blue field(Bleu celeste, upon a plate a falcon volant of the field)', 'words': 'As High as Honor', 'titles': ['King of Mountain and Vale (formerly)', 'Lord of the Eyrie', 'Defender of the Vale', 'Warden of the East'], 'seats': ['The Eyrie (summer)', 'Gates of the Moon (winter)'], 'currentLord': 'https://www.anapioficeandfire.com/api/characters/894', 'heir': 'https://www.anapioficeandfire.com/api/characters/477', 'overlord': 'https://www.anapioficeandfire.com/api/houses/16', 'founded': 'Coming of the Andals', 'founder': 'https://www.anapioficeandfire.com/api/characters/144', 'diedOut': '', 'ancestralWeapons': [''], 'cadetBranches': ['https://www.anapioficeandfire.com/api/houses/6'], 'swornMembers': ['https://www.anapioficeandfire.com/api/characters/49', 'https://www.anapioficeandfire.com/api/characters/92', 'https://www.anapioficeandfire.com/api/characters/93', 'https://www.anapioficeandfire.com/api/characters/107', 'https://www.anapioficeandfire.com/api/characters/223', 'https://www.anapioficeandfire.com/api/characters/265', 'https://www.anapioficeandfire.com/api/characters/300', 'https://www.anapioficeandfire.com/api/characters/356', 'https://www.anapioficeandfire.com/api/characters/477', 'https://www.anapioficeandfire.com/api/characters/508', 'https://www.anapioficeandfire.com/api/characters/540', 'https://www.anapioficeandfire.com/api/characters/548', 'https://www.anapioficeandfire.com/api/characters/558', 'https://www.anapioficeandfire.com/api/characters/572', 'https://www.anapioficeandfire.com/api/characters/688', 'https://www.anapioficeandfire.com/api/characters/894', 'https://www.anapioficeandfire.com/api/characters/1068', 'https://www.anapioficeandfire.com/api/characters/1193', 'https://www.anapioficeandfire.com/api/characters/1280', 'https://www.anapioficeandfire.com/api/characters/1443', 'https://www.anapioficeandfire.com/api/characters/1655', 'https://www.anapioficeandfire.com/api/characters/1693', 'https://www.anapioficeandfire.com/api/characters/1715', 'https://www.anapioficeandfire.com/api/characters/1884']}   \n",
       "\n",
       "                                                                                                                                                                                                                                                                                                                                                                                                                                                                                                                                                                                                                                                                                                                                        7  \\\n",
       "0  {'url': 'https://www.anapioficeandfire.com/api/houses/8', 'name': 'House Ashford of Ashford', 'region': 'The Reach', 'coatOfArms': 'Tenny, a sun in splendour beneath a chevron inverted argent', 'words': 'Our Sun Shines Bright', 'titles': ['Lord of Ashford'], 'seats': ['Ashford'], 'currentLord': '', 'heir': '', 'overlord': 'https://www.anapioficeandfire.com/api/houses/398', 'founded': '', 'founder': '', 'diedOut': '', 'ancestralWeapons': [''], 'cadetBranches': [], 'swornMembers': ['https://www.anapioficeandfire.com/api/characters/121', 'https://www.anapioficeandfire.com/api/characters/641', 'https://www.anapioficeandfire.com/api/characters/895', 'https://www.anapioficeandfire.com/api/characters/1812']}   \n",
       "\n",
       "                                                                                                                                                                                                                                                                                                                                                                                       8  \\\n",
       "0  {'url': 'https://www.anapioficeandfire.com/api/houses/9', 'name': 'House Ashwood', 'region': 'The North', 'coatOfArms': '', 'words': '', 'titles': [''], 'seats': [''], 'currentLord': '', 'heir': '', 'overlord': 'https://www.anapioficeandfire.com/api/houses/34', 'founded': '', 'founder': '', 'diedOut': '', 'ancestralWeapons': [''], 'cadetBranches': [], 'swornMembers': []}   \n",
       "\n",
       "                                                                                                                                                                                                                                                                                                                                                                                                                                                                                                                                                                                                                                                                                                                                                                                                                                                                                                                                                            9  \n",
       "0  {'url': 'https://www.anapioficeandfire.com/api/houses/10', 'name': 'House Baelish of Harrenhal', 'region': 'The Riverlands', 'coatOfArms': 'A field of silver mockingbirds, on a green field(Vert, semé of mockingbirds argent)', 'words': '', 'titles': ['Lord Paramount of the Trident', 'Lord of Harrenhal'], 'seats': ['Harrenhal'], 'currentLord': 'https://www.anapioficeandfire.com/api/characters/823', 'heir': '', 'overlord': 'https://www.anapioficeandfire.com/api/houses/16', 'founded': '299 AC', 'founder': 'https://www.anapioficeandfire.com/api/characters/823', 'diedOut': '', 'ancestralWeapons': [''], 'cadetBranches': [], 'swornMembers': ['https://www.anapioficeandfire.com/api/characters/651', 'https://www.anapioficeandfire.com/api/characters/804', 'https://www.anapioficeandfire.com/api/characters/823', 'https://www.anapioficeandfire.com/api/characters/957', 'https://www.anapioficeandfire.com/api/characters/970']}  "
      ]
     },
     "execution_count": 49,
     "metadata": {},
     "output_type": "execute_result"
    }
   ],
   "source": [
    "pd.DataFrame([results])"
   ]
  },
  {
   "cell_type": "code",
   "execution_count": null,
   "id": "c2512318",
   "metadata": {},
   "outputs": [],
   "source": []
  },
  {
   "cell_type": "code",
   "execution_count": null,
   "id": "bc963d1b",
   "metadata": {},
   "outputs": [],
   "source": []
  },
  {
   "cell_type": "markdown",
   "id": "51e27c90",
   "metadata": {},
   "source": [
    "## Data Exploration"
   ]
  },
  {
   "cell_type": "code",
   "execution_count": 8,
   "id": "9b5165c3",
   "metadata": {},
   "outputs": [],
   "source": [
    "main_working_folder = os.getcwd()\n",
    "data_folders = \"datasets\"\n",
    "main_path = os.path.join(main_working_folder, data_folders)\n",
    "files_list = os.listdir(main_path)"
   ]
  },
  {
   "cell_type": "code",
   "execution_count": 9,
   "id": "6d4a0e59",
   "metadata": {},
   "outputs": [
    {
     "data": {
      "text/plain": [
       "['books.csv', 'characters.csv', 'houses.csv']"
      ]
     },
     "execution_count": 9,
     "metadata": {},
     "output_type": "execute_result"
    }
   ],
   "source": [
    "files_list"
   ]
  },
  {
   "cell_type": "code",
   "execution_count": 11,
   "id": "ab247209",
   "metadata": {},
   "outputs": [],
   "source": [
    "books_data = pd.read_csv(os.path.join(main_path, files_list[0]))"
   ]
  },
  {
   "cell_type": "code",
   "execution_count": 12,
   "id": "43fd647a",
   "metadata": {},
   "outputs": [
    {
     "data": {
      "text/html": [
       "<div>\n",
       "<style scoped>\n",
       "    .dataframe tbody tr th:only-of-type {\n",
       "        vertical-align: middle;\n",
       "    }\n",
       "\n",
       "    .dataframe tbody tr th {\n",
       "        vertical-align: top;\n",
       "    }\n",
       "\n",
       "    .dataframe thead th {\n",
       "        text-align: right;\n",
       "    }\n",
       "</style>\n",
       "<table border=\"1\" class=\"dataframe\">\n",
       "  <thead>\n",
       "    <tr style=\"text-align: right;\">\n",
       "      <th></th>\n",
       "      <th>author</th>\n",
       "      <th>location</th>\n",
       "      <th>content</th>\n",
       "      <th>properties</th>\n",
       "    </tr>\n",
       "  </thead>\n",
       "  <tbody>\n",
       "    <tr>\n",
       "      <th>0</th>\n",
       "      <td>{\"properties\":{\"friends\":150,\"verified\":false,\"status_count\":583}}</td>\n",
       "      <td>{\"longitude\":-1.4496120000000003,\"country\":\"GB\",\"latitude\":53.38322877572023}</td>\n",
       "      <td>{\"body\":\"To everyone tryin to snapchat me fuck off I'm ugly\"}</td>\n",
       "      <td>{\"sentiment\":-1,\"platform\":\"twitter\"}</td>\n",
       "    </tr>\n",
       "    <tr>\n",
       "      <th>1</th>\n",
       "      <td>{\"properties\":{\"friends\":1321,\"verified\":false,\"status_count\":86271}}</td>\n",
       "      <td>{\"longitude\":-4.200440999999999,\"country\":\"GB\",\"latitude\":57.786631183916356}</td>\n",
       "      <td>{\"body\":\"@cammiescott have you ever been to Scotland? You should give Nessie a wee visit! (I live near her) #askcamscott\"}</td>\n",
       "      <td>{\"sentiment\":-1,\"platform\":\"twitter\"}</td>\n",
       "    </tr>\n",
       "    <tr>\n",
       "      <th>2</th>\n",
       "      <td>{\"properties\":{\"friends\":1952,\"verified\":false,\"status_count\":11785}}</td>\n",
       "      <td>{\"longitude\":-0.07060350000000003,\"country\":\"GB\",\"latitude\":51.46469310439313}</td>\n",
       "      <td>{\"body\":\"#LoveIsland #zaraholland 😭😭😭😭 https://t.co/LUpQvshkm3\"}</td>\n",
       "      <td>{\"sentiment\":-1,\"platform\":\"twitter\"}</td>\n",
       "    </tr>\n",
       "    <tr>\n",
       "      <th>3</th>\n",
       "      <td>{\"properties\":{\"friends\":629,\"verified\":false,\"status_count\":22813}}</td>\n",
       "      <td>{\"longitude\":-0.17311500000000005,\"country\":\"GB\",\"latitude\":51.5248433429905}</td>\n",
       "      <td>{\"body\":\"😴\"}</td>\n",
       "      <td>{\"sentiment\":0,\"platform\":\"twitter\"}</td>\n",
       "    </tr>\n",
       "    <tr>\n",
       "      <th>4</th>\n",
       "      <td>{\"properties\":{\"friends\":509,\"verified\":false,\"status_count\":8740}}</td>\n",
       "      <td>{\"longitude\":-2.6693795,\"country\":\"GB\",\"latitude\":53.46992093633473}</td>\n",
       "      <td>{\"body\":\"@sickkening Yep you're also that xx\"}</td>\n",
       "      <td>{\"sentiment\":1,\"platform\":\"twitter\"}</td>\n",
       "    </tr>\n",
       "  </tbody>\n",
       "</table>\n",
       "</div>"
      ],
      "text/plain": [
       "                                                                  author  \\\n",
       "0     {\"properties\":{\"friends\":150,\"verified\":false,\"status_count\":583}}   \n",
       "1  {\"properties\":{\"friends\":1321,\"verified\":false,\"status_count\":86271}}   \n",
       "2  {\"properties\":{\"friends\":1952,\"verified\":false,\"status_count\":11785}}   \n",
       "3   {\"properties\":{\"friends\":629,\"verified\":false,\"status_count\":22813}}   \n",
       "4    {\"properties\":{\"friends\":509,\"verified\":false,\"status_count\":8740}}   \n",
       "\n",
       "                                                                         location  \\\n",
       "0   {\"longitude\":-1.4496120000000003,\"country\":\"GB\",\"latitude\":53.38322877572023}   \n",
       "1   {\"longitude\":-4.200440999999999,\"country\":\"GB\",\"latitude\":57.786631183916356}   \n",
       "2  {\"longitude\":-0.07060350000000003,\"country\":\"GB\",\"latitude\":51.46469310439313}   \n",
       "3   {\"longitude\":-0.17311500000000005,\"country\":\"GB\",\"latitude\":51.5248433429905}   \n",
       "4            {\"longitude\":-2.6693795,\"country\":\"GB\",\"latitude\":53.46992093633473}   \n",
       "\n",
       "                                                                                                                      content  \\\n",
       "0                                                               {\"body\":\"To everyone tryin to snapchat me fuck off I'm ugly\"}   \n",
       "1  {\"body\":\"@cammiescott have you ever been to Scotland? You should give Nessie a wee visit! (I live near her) #askcamscott\"}   \n",
       "2                                                            {\"body\":\"#LoveIsland #zaraholland 😭😭😭😭 https://t.co/LUpQvshkm3\"}   \n",
       "3                                                                                                                {\"body\":\"😴\"}   \n",
       "4                                                                              {\"body\":\"@sickkening Yep you're also that xx\"}   \n",
       "\n",
       "                              properties  \n",
       "0  {\"sentiment\":-1,\"platform\":\"twitter\"}  \n",
       "1  {\"sentiment\":-1,\"platform\":\"twitter\"}  \n",
       "2  {\"sentiment\":-1,\"platform\":\"twitter\"}  \n",
       "3   {\"sentiment\":0,\"platform\":\"twitter\"}  \n",
       "4   {\"sentiment\":1,\"platform\":\"twitter\"}  "
      ]
     },
     "execution_count": 12,
     "metadata": {},
     "output_type": "execute_result"
    }
   ],
   "source": [
    "books_data.head()"
   ]
  },
  {
   "cell_type": "code",
   "execution_count": 13,
   "id": "3d3b6f78",
   "metadata": {},
   "outputs": [],
   "source": [
    "characters_data = pd.read_csv(os.path.join(main_path, files_list[1]))"
   ]
  },
  {
   "cell_type": "code",
   "execution_count": 14,
   "id": "ba971eda",
   "metadata": {},
   "outputs": [
    {
     "data": {
      "text/html": [
       "<div>\n",
       "<style scoped>\n",
       "    .dataframe tbody tr th:only-of-type {\n",
       "        vertical-align: middle;\n",
       "    }\n",
       "\n",
       "    .dataframe tbody tr th {\n",
       "        vertical-align: top;\n",
       "    }\n",
       "\n",
       "    .dataframe thead th {\n",
       "        text-align: right;\n",
       "    }\n",
       "</style>\n",
       "<table border=\"1\" class=\"dataframe\">\n",
       "  <thead>\n",
       "    <tr style=\"text-align: right;\">\n",
       "      <th></th>\n",
       "      <th>author.properties.friends</th>\n",
       "      <th>author.properties.status_count</th>\n",
       "      <th>author.properties.verified</th>\n",
       "      <th>content.body</th>\n",
       "      <th>location.country</th>\n",
       "      <th>properties.platform</th>\n",
       "      <th>properties.sentiment</th>\n",
       "      <th>location.latitude</th>\n",
       "      <th>location.longitude</th>\n",
       "    </tr>\n",
       "  </thead>\n",
       "  <tbody>\n",
       "    <tr>\n",
       "      <th>0</th>\n",
       "      <td>1689</td>\n",
       "      <td>22566</td>\n",
       "      <td>False</td>\n",
       "      <td>Can't believe I'm missing Love Island 😩</td>\n",
       "      <td>GB</td>\n",
       "      <td>twitter</td>\n",
       "      <td>1</td>\n",
       "      <td>51.57</td>\n",
       "      <td>0.46</td>\n",
       "    </tr>\n",
       "    <tr>\n",
       "      <th>1</th>\n",
       "      <td>114</td>\n",
       "      <td>1377</td>\n",
       "      <td>False</td>\n",
       "      <td>Last tweet about future wedding..... if I actually want a wedding I actually need to find a guy XD we all know I'm a loner. unlovable</td>\n",
       "      <td>GB</td>\n",
       "      <td>twitter</td>\n",
       "      <td>1</td>\n",
       "      <td>52.97</td>\n",
       "      <td>-1.17</td>\n",
       "    </tr>\n",
       "    <tr>\n",
       "      <th>2</th>\n",
       "      <td>568</td>\n",
       "      <td>8375</td>\n",
       "      <td>False</td>\n",
       "      <td>How many times does he wonna say the phrase \"i deal with shit\" #LoveIsland</td>\n",
       "      <td>GB</td>\n",
       "      <td>twitter</td>\n",
       "      <td>-1</td>\n",
       "      <td>51.39</td>\n",
       "      <td>0.03</td>\n",
       "    </tr>\n",
       "    <tr>\n",
       "      <th>3</th>\n",
       "      <td>1845</td>\n",
       "      <td>19394</td>\n",
       "      <td>False</td>\n",
       "      <td>...even better if time travel were invented and I could go there back in 1876 and have a whiskey with Al #Deadwood</td>\n",
       "      <td>GB</td>\n",
       "      <td>twitter</td>\n",
       "      <td>-1</td>\n",
       "      <td>51.65</td>\n",
       "      <td>-3.80</td>\n",
       "    </tr>\n",
       "    <tr>\n",
       "      <th>4</th>\n",
       "      <td>1617</td>\n",
       "      <td>17922</td>\n",
       "      <td>False</td>\n",
       "      <td>@GreenAlty @ShakeyStephens My Mum in mid 80s pushed into road by Black migrants 2 sons with disabilities attacked robbed U THINK WE NEED MOR</td>\n",
       "      <td>GB</td>\n",
       "      <td>twitter</td>\n",
       "      <td>0</td>\n",
       "      <td>53.54</td>\n",
       "      <td>-2.65</td>\n",
       "    </tr>\n",
       "  </tbody>\n",
       "</table>\n",
       "</div>"
      ],
      "text/plain": [
       "   author.properties.friends  author.properties.status_count  \\\n",
       "0                       1689                           22566   \n",
       "1                        114                            1377   \n",
       "2                        568                            8375   \n",
       "3                       1845                           19394   \n",
       "4                       1617                           17922   \n",
       "\n",
       "   author.properties.verified  \\\n",
       "0                       False   \n",
       "1                       False   \n",
       "2                       False   \n",
       "3                       False   \n",
       "4                       False   \n",
       "\n",
       "                                                                                                                                   content.body  \\\n",
       "0                                                                                                       Can't believe I'm missing Love Island 😩   \n",
       "1         Last tweet about future wedding..... if I actually want a wedding I actually need to find a guy XD we all know I'm a loner. unlovable   \n",
       "2                                                                    How many times does he wonna say the phrase \"i deal with shit\" #LoveIsland   \n",
       "3                            ...even better if time travel were invented and I could go there back in 1876 and have a whiskey with Al #Deadwood   \n",
       "4  @GreenAlty @ShakeyStephens My Mum in mid 80s pushed into road by Black migrants 2 sons with disabilities attacked robbed U THINK WE NEED MOR   \n",
       "\n",
       "  location.country properties.platform  properties.sentiment  \\\n",
       "0               GB             twitter                     1   \n",
       "1               GB             twitter                     1   \n",
       "2               GB             twitter                    -1   \n",
       "3               GB             twitter                    -1   \n",
       "4               GB             twitter                     0   \n",
       "\n",
       "   location.latitude  location.longitude  \n",
       "0              51.57                0.46  \n",
       "1              52.97               -1.17  \n",
       "2              51.39                0.03  \n",
       "3              51.65               -3.80  \n",
       "4              53.54               -2.65  "
      ]
     },
     "execution_count": 14,
     "metadata": {},
     "output_type": "execute_result"
    }
   ],
   "source": [
    "characters_data.head()"
   ]
  },
  {
   "cell_type": "code",
   "execution_count": 15,
   "id": "59e55967",
   "metadata": {},
   "outputs": [],
   "source": [
    "houses_data = pd.read_csv(os.path.join(main_path, files_list[2]))"
   ]
  },
  {
   "cell_type": "code",
   "execution_count": 17,
   "id": "19b4a7b6",
   "metadata": {},
   "outputs": [
    {
     "data": {
      "text/html": [
       "<div>\n",
       "<style scoped>\n",
       "    .dataframe tbody tr th:only-of-type {\n",
       "        vertical-align: middle;\n",
       "    }\n",
       "\n",
       "    .dataframe tbody tr th {\n",
       "        vertical-align: top;\n",
       "    }\n",
       "\n",
       "    .dataframe thead th {\n",
       "        text-align: right;\n",
       "    }\n",
       "</style>\n",
       "<table border=\"1\" class=\"dataframe\">\n",
       "  <thead>\n",
       "    <tr style=\"text-align: right;\">\n",
       "      <th></th>\n",
       "      <th>author.properties.friends,author.properties.verified,location.longitude,author.properties.status_count,properties.sentiment,location.latitude,location.country,content.body,properties.platform</th>\n",
       "    </tr>\n",
       "  </thead>\n",
       "  <tbody>\n",
       "    <tr>\n",
       "      <th>0</th>\n",
       "      <td>632,False,-2.3200564999999997,106490,0,52.11937731784101,GB,@moel_bryn https://t.co/qvz1bI2Utb,twitter</td>\n",
       "    </tr>\n",
       "    <tr>\n",
       "      <th>1</th>\n",
       "      <td>278,False,-0.3370625,31467,-1,51.59585202771581,GB,Who wants to rap battle with me on stream tomorrow ðŸ‘€,twitter</td>\n",
       "    </tr>\n",
       "    <tr>\n",
       "      <th>2</th>\n",
       "      <td>169,False,-0.27846400000000004,1185,-1,51.39007140862319,GB,i think she'd Understand but there's like Nothing she can do,twitter</td>\n",
       "    </tr>\n",
       "    <tr>\n",
       "      <th>3</th>\n",
       "      <td>195,False,0.026298999999999996,2742,-1,51.394368557245095,GB,@SoccerSix #SoccerSixNashGrier pleassssssseeeeeee ðŸ™‹ðŸ¼ðŸ™‹ðŸ¼ðŸ™‹ðŸ¼ðŸ™‹ðŸ¼ðŸ™ðŸ¼ðŸ™ðŸ¼ðŸ™ðŸ¼ðŸ™ðŸ¼ðŸ™ðŸ¼ðŸ™ðŸ¼ðŸ™ðŸ¼,twitter</td>\n",
       "    </tr>\n",
       "    <tr>\n",
       "      <th>4</th>\n",
       "      <td>572,False,-0.09263300000000001,18332,0,51.35895133231162,GB,@GraceLazard ðŸ’–,twitter</td>\n",
       "    </tr>\n",
       "  </tbody>\n",
       "</table>\n",
       "</div>"
      ],
      "text/plain": [
       "                   author.properties.friends,author.properties.verified,location.longitude,author.properties.status_count,properties.sentiment,location.latitude,location.country,content.body,properties.platform\n",
       "0                                                                                                           632,False,-2.3200564999999997,106490,0,52.11937731784101,GB,@moel_bryn https://t.co/qvz1bI2Utb,twitter\n",
       "1                                                                                               278,False,-0.3370625,31467,-1,51.59585202771581,GB,Who wants to rap battle with me on stream tomorrow ðŸ‘€,twitter\n",
       "2                                                                                 169,False,-0.27846400000000004,1185,-1,51.39007140862319,GB,i think she'd Understand but there's like Nothing she can do,twitter\n",
       "3  195,False,0.026298999999999996,2742,-1,51.394368557245095,GB,@SoccerSix #SoccerSixNashGrier pleassssssseeeeeee ðŸ™‹ðŸ¼ðŸ™‹ðŸ¼ðŸ™‹ðŸ¼ðŸ™‹ðŸ¼ðŸ™ðŸ¼ðŸ™ðŸ¼ðŸ™ðŸ¼ðŸ™ðŸ¼ðŸ™ðŸ¼ðŸ™ðŸ¼ðŸ™ðŸ¼,twitter\n",
       "4                                                                                                                            572,False,-0.09263300000000001,18332,0,51.35895133231162,GB,@GraceLazard ðŸ’–,twitter"
      ]
     },
     "execution_count": 17,
     "metadata": {},
     "output_type": "execute_result"
    }
   ],
   "source": [
    "houses_data.head()"
   ]
  },
  {
   "cell_type": "code",
   "execution_count": null,
   "id": "72857df8",
   "metadata": {},
   "outputs": [],
   "source": []
  },
  {
   "cell_type": "code",
   "execution_count": null,
   "id": "b556085b",
   "metadata": {},
   "outputs": [],
   "source": []
  },
  {
   "cell_type": "code",
   "execution_count": null,
   "id": "22347c2f",
   "metadata": {},
   "outputs": [],
   "source": []
  },
  {
   "cell_type": "code",
   "execution_count": null,
   "id": "55926259",
   "metadata": {},
   "outputs": [],
   "source": []
  },
  {
   "cell_type": "code",
   "execution_count": null,
   "id": "d20b7419",
   "metadata": {},
   "outputs": [],
   "source": []
  },
  {
   "cell_type": "code",
   "execution_count": 161,
   "id": "3f169c02",
   "metadata": {},
   "outputs": [],
   "source": [
    "FILE_NAME = \"gots.csv\"\n",
    "DATA_FOLDER = \"data\""
   ]
  },
  {
   "cell_type": "code",
   "execution_count": 162,
   "id": "b75e527c",
   "metadata": {},
   "outputs": [],
   "source": [
    "file_path = os.path.join(os.path.join(main_path, DATA_FOLDER), FILE_NAME)"
   ]
  },
  {
   "cell_type": "code",
   "execution_count": 163,
   "id": "45eacd98",
   "metadata": {},
   "outputs": [
    {
     "data": {
      "text/plain": [
       "'C:\\\\Users\\\\User\\\\Documents\\\\workspace_datahackerman\\\\datahackerman_final_project\\\\data\\\\gots.csv'"
      ]
     },
     "execution_count": 163,
     "metadata": {},
     "output_type": "execute_result"
    }
   ],
   "source": [
    "file_path"
   ]
  },
  {
   "cell_type": "code",
   "execution_count": 164,
   "id": "ffb83683",
   "metadata": {},
   "outputs": [
    {
     "name": "stdout",
     "output_type": "stream",
     "text": [
      "CPU times: total: 0 ns\n",
      "Wall time: 5.01 ms\n"
     ]
    }
   ],
   "source": [
    "%%time\n",
    "\n",
    "gots_data = pd.read_csv(file_path)"
   ]
  },
  {
   "cell_type": "code",
   "execution_count": 165,
   "id": "bf8e4f1d",
   "metadata": {},
   "outputs": [
    {
     "data": {
      "text/html": [
       "<div>\n",
       "<style scoped>\n",
       "    .dataframe tbody tr th:only-of-type {\n",
       "        vertical-align: middle;\n",
       "    }\n",
       "\n",
       "    .dataframe tbody tr th {\n",
       "        vertical-align: top;\n",
       "    }\n",
       "\n",
       "    .dataframe thead th {\n",
       "        text-align: right;\n",
       "    }\n",
       "</style>\n",
       "<table border=\"1\" class=\"dataframe\">\n",
       "  <thead>\n",
       "    <tr style=\"text-align: right;\">\n",
       "      <th></th>\n",
       "      <th>author.properties.friends</th>\n",
       "      <th>author.properties.status_count</th>\n",
       "      <th>author.properties.verified</th>\n",
       "      <th>content.body</th>\n",
       "      <th>location.country</th>\n",
       "      <th>properties.platform</th>\n",
       "      <th>properties.sentiment</th>\n",
       "      <th>location.latitude</th>\n",
       "      <th>location.longitude</th>\n",
       "    </tr>\n",
       "  </thead>\n",
       "  <tbody>\n",
       "    <tr>\n",
       "      <th>0</th>\n",
       "      <td>1689</td>\n",
       "      <td>22566</td>\n",
       "      <td>False</td>\n",
       "      <td>Can't believe I'm missing Love Island 😩</td>\n",
       "      <td>GB</td>\n",
       "      <td>twitter</td>\n",
       "      <td>1</td>\n",
       "      <td>51.57</td>\n",
       "      <td>0.46</td>\n",
       "    </tr>\n",
       "    <tr>\n",
       "      <th>1</th>\n",
       "      <td>114</td>\n",
       "      <td>1377</td>\n",
       "      <td>False</td>\n",
       "      <td>Last tweet about future wedding..... if I actually want a wedding I actually need to find a guy XD we all know I'm a loner. unlovable</td>\n",
       "      <td>GB</td>\n",
       "      <td>twitter</td>\n",
       "      <td>1</td>\n",
       "      <td>52.97</td>\n",
       "      <td>-1.17</td>\n",
       "    </tr>\n",
       "    <tr>\n",
       "      <th>2</th>\n",
       "      <td>568</td>\n",
       "      <td>8375</td>\n",
       "      <td>False</td>\n",
       "      <td>How many times does he wonna say the phrase \"i deal with shit\" #LoveIsland</td>\n",
       "      <td>GB</td>\n",
       "      <td>twitter</td>\n",
       "      <td>-1</td>\n",
       "      <td>51.39</td>\n",
       "      <td>0.03</td>\n",
       "    </tr>\n",
       "  </tbody>\n",
       "</table>\n",
       "</div>"
      ],
      "text/plain": [
       "   author.properties.friends  author.properties.status_count  \\\n",
       "0                       1689                           22566   \n",
       "1                        114                            1377   \n",
       "2                        568                            8375   \n",
       "\n",
       "   author.properties.verified  \\\n",
       "0                       False   \n",
       "1                       False   \n",
       "2                       False   \n",
       "\n",
       "                                                                                                                            content.body  \\\n",
       "0                                                                                                Can't believe I'm missing Love Island 😩   \n",
       "1  Last tweet about future wedding..... if I actually want a wedding I actually need to find a guy XD we all know I'm a loner. unlovable   \n",
       "2                                                             How many times does he wonna say the phrase \"i deal with shit\" #LoveIsland   \n",
       "\n",
       "  location.country properties.platform  properties.sentiment  \\\n",
       "0               GB             twitter                     1   \n",
       "1               GB             twitter                     1   \n",
       "2               GB             twitter                    -1   \n",
       "\n",
       "   location.latitude  location.longitude  \n",
       "0              51.57                0.46  \n",
       "1              52.97               -1.17  \n",
       "2              51.39                0.03  "
      ]
     },
     "execution_count": 165,
     "metadata": {},
     "output_type": "execute_result"
    }
   ],
   "source": [
    "gots_data.head(3)"
   ]
  },
  {
   "cell_type": "code",
   "execution_count": 166,
   "id": "c977e1f6",
   "metadata": {},
   "outputs": [
    {
     "data": {
      "text/plain": [
       "(1000, 9)"
      ]
     },
     "execution_count": 166,
     "metadata": {},
     "output_type": "execute_result"
    }
   ],
   "source": [
    "gots_data.shape"
   ]
  },
  {
   "cell_type": "markdown",
   "id": "83c1b32f",
   "metadata": {},
   "source": [
    "## Data Inspection"
   ]
  },
  {
   "cell_type": "code",
   "execution_count": 18,
   "id": "f3e39f76",
   "metadata": {},
   "outputs": [
    {
     "name": "stdout",
     "output_type": "stream",
     "text": [
      "<class 'pandas.core.frame.DataFrame'>\n",
      "RangeIndex: 1000 entries, 0 to 999\n",
      "Data columns (total 4 columns):\n",
      " #   Column      Non-Null Count  Dtype \n",
      "---  ------      --------------  ----- \n",
      " 0   author      1000 non-null   object\n",
      " 1   location    1000 non-null   object\n",
      " 2   content     1000 non-null   object\n",
      " 3   properties  1000 non-null   object\n",
      "dtypes: object(4)\n",
      "memory usage: 31.4+ KB\n"
     ]
    }
   ],
   "source": [
    "books_data.info()"
   ]
  },
  {
   "cell_type": "code",
   "execution_count": 19,
   "id": "ba989a2d",
   "metadata": {},
   "outputs": [
    {
     "data": {
      "text/plain": [
       "Index(['author', 'location', 'content', 'properties'], dtype='object')"
      ]
     },
     "execution_count": 19,
     "metadata": {},
     "output_type": "execute_result"
    }
   ],
   "source": [
    "books_data.columns"
   ]
  },
  {
   "cell_type": "code",
   "execution_count": 169,
   "id": "90eaf082",
   "metadata": {},
   "outputs": [
    {
     "data": {
      "text/plain": [
       "author.properties.friends         0\n",
       "author.properties.status_count    0\n",
       "author.properties.verified        0\n",
       "content.body                      0\n",
       "location.country                  0\n",
       "properties.platform               0\n",
       "properties.sentiment              0\n",
       "location.latitude                 0\n",
       "location.longitude                0\n",
       "dtype: int64"
      ]
     },
     "execution_count": 169,
     "metadata": {},
     "output_type": "execute_result"
    }
   ],
   "source": [
    "gots_data.isnull().sum()"
   ]
  },
  {
   "cell_type": "code",
   "execution_count": 20,
   "id": "4820d821",
   "metadata": {},
   "outputs": [
    {
     "name": "stdout",
     "output_type": "stream",
     "text": [
      "<class 'pandas.core.frame.DataFrame'>\n",
      "RangeIndex: 1000 entries, 0 to 999\n",
      "Data columns (total 9 columns):\n",
      " #   Column                          Non-Null Count  Dtype  \n",
      "---  ------                          --------------  -----  \n",
      " 0   author.properties.friends       1000 non-null   int64  \n",
      " 1   author.properties.status_count  1000 non-null   int64  \n",
      " 2   author.properties.verified      1000 non-null   bool   \n",
      " 3   content.body                    1000 non-null   object \n",
      " 4   location.country                1000 non-null   object \n",
      " 5   properties.platform             1000 non-null   object \n",
      " 6   properties.sentiment            1000 non-null   int64  \n",
      " 7   location.latitude               1000 non-null   float64\n",
      " 8   location.longitude              1000 non-null   float64\n",
      "dtypes: bool(1), float64(2), int64(3), object(3)\n",
      "memory usage: 63.6+ KB\n"
     ]
    }
   ],
   "source": [
    "characters_data.info()"
   ]
  },
  {
   "cell_type": "code",
   "execution_count": 21,
   "id": "053fb1ea",
   "metadata": {},
   "outputs": [
    {
     "data": {
      "text/plain": [
       "author.properties.friends         0\n",
       "author.properties.status_count    0\n",
       "author.properties.verified        0\n",
       "content.body                      0\n",
       "location.country                  0\n",
       "properties.platform               0\n",
       "properties.sentiment              0\n",
       "location.latitude                 0\n",
       "location.longitude                0\n",
       "dtype: int64"
      ]
     },
     "execution_count": 21,
     "metadata": {},
     "output_type": "execute_result"
    }
   ],
   "source": [
    "characters_data.isnull().sum()"
   ]
  },
  {
   "cell_type": "code",
   "execution_count": null,
   "id": "17a1eec5",
   "metadata": {},
   "outputs": [],
   "source": []
  },
  {
   "cell_type": "code",
   "execution_count": null,
   "id": "aa1ef75d",
   "metadata": {},
   "outputs": [],
   "source": []
  },
  {
   "cell_type": "markdown",
   "id": "a70f2233",
   "metadata": {},
   "source": [
    "## Model Building"
   ]
  },
  {
   "cell_type": "code",
   "execution_count": 22,
   "id": "d975a1ab",
   "metadata": {},
   "outputs": [
    {
     "data": {
      "text/html": [
       "<div>\n",
       "<style scoped>\n",
       "    .dataframe tbody tr th:only-of-type {\n",
       "        vertical-align: middle;\n",
       "    }\n",
       "\n",
       "    .dataframe tbody tr th {\n",
       "        vertical-align: top;\n",
       "    }\n",
       "\n",
       "    .dataframe thead th {\n",
       "        text-align: right;\n",
       "    }\n",
       "</style>\n",
       "<table border=\"1\" class=\"dataframe\">\n",
       "  <thead>\n",
       "    <tr style=\"text-align: right;\">\n",
       "      <th></th>\n",
       "      <th>author.properties.friends</th>\n",
       "      <th>author.properties.status_count</th>\n",
       "      <th>author.properties.verified</th>\n",
       "      <th>content.body</th>\n",
       "      <th>location.country</th>\n",
       "      <th>properties.platform</th>\n",
       "      <th>properties.sentiment</th>\n",
       "      <th>location.latitude</th>\n",
       "      <th>location.longitude</th>\n",
       "    </tr>\n",
       "  </thead>\n",
       "  <tbody>\n",
       "    <tr>\n",
       "      <th>0</th>\n",
       "      <td>1689</td>\n",
       "      <td>22566</td>\n",
       "      <td>False</td>\n",
       "      <td>Can't believe I'm missing Love Island 😩</td>\n",
       "      <td>GB</td>\n",
       "      <td>twitter</td>\n",
       "      <td>1</td>\n",
       "      <td>51.57</td>\n",
       "      <td>0.46</td>\n",
       "    </tr>\n",
       "    <tr>\n",
       "      <th>1</th>\n",
       "      <td>114</td>\n",
       "      <td>1377</td>\n",
       "      <td>False</td>\n",
       "      <td>Last tweet about future wedding..... if I actually want a wedding I actually need to find a guy XD we all know I'm a loner. unlovable</td>\n",
       "      <td>GB</td>\n",
       "      <td>twitter</td>\n",
       "      <td>1</td>\n",
       "      <td>52.97</td>\n",
       "      <td>-1.17</td>\n",
       "    </tr>\n",
       "    <tr>\n",
       "      <th>2</th>\n",
       "      <td>568</td>\n",
       "      <td>8375</td>\n",
       "      <td>False</td>\n",
       "      <td>How many times does he wonna say the phrase \"i deal with shit\" #LoveIsland</td>\n",
       "      <td>GB</td>\n",
       "      <td>twitter</td>\n",
       "      <td>-1</td>\n",
       "      <td>51.39</td>\n",
       "      <td>0.03</td>\n",
       "    </tr>\n",
       "    <tr>\n",
       "      <th>3</th>\n",
       "      <td>1845</td>\n",
       "      <td>19394</td>\n",
       "      <td>False</td>\n",
       "      <td>...even better if time travel were invented and I could go there back in 1876 and have a whiskey with Al #Deadwood</td>\n",
       "      <td>GB</td>\n",
       "      <td>twitter</td>\n",
       "      <td>-1</td>\n",
       "      <td>51.65</td>\n",
       "      <td>-3.80</td>\n",
       "    </tr>\n",
       "    <tr>\n",
       "      <th>4</th>\n",
       "      <td>1617</td>\n",
       "      <td>17922</td>\n",
       "      <td>False</td>\n",
       "      <td>@GreenAlty @ShakeyStephens My Mum in mid 80s pushed into road by Black migrants 2 sons with disabilities attacked robbed U THINK WE NEED MOR</td>\n",
       "      <td>GB</td>\n",
       "      <td>twitter</td>\n",
       "      <td>0</td>\n",
       "      <td>53.54</td>\n",
       "      <td>-2.65</td>\n",
       "    </tr>\n",
       "  </tbody>\n",
       "</table>\n",
       "</div>"
      ],
      "text/plain": [
       "   author.properties.friends  author.properties.status_count  \\\n",
       "0                       1689                           22566   \n",
       "1                        114                            1377   \n",
       "2                        568                            8375   \n",
       "3                       1845                           19394   \n",
       "4                       1617                           17922   \n",
       "\n",
       "   author.properties.verified  \\\n",
       "0                       False   \n",
       "1                       False   \n",
       "2                       False   \n",
       "3                       False   \n",
       "4                       False   \n",
       "\n",
       "                                                                                                                                   content.body  \\\n",
       "0                                                                                                       Can't believe I'm missing Love Island 😩   \n",
       "1         Last tweet about future wedding..... if I actually want a wedding I actually need to find a guy XD we all know I'm a loner. unlovable   \n",
       "2                                                                    How many times does he wonna say the phrase \"i deal with shit\" #LoveIsland   \n",
       "3                            ...even better if time travel were invented and I could go there back in 1876 and have a whiskey with Al #Deadwood   \n",
       "4  @GreenAlty @ShakeyStephens My Mum in mid 80s pushed into road by Black migrants 2 sons with disabilities attacked robbed U THINK WE NEED MOR   \n",
       "\n",
       "  location.country properties.platform  properties.sentiment  \\\n",
       "0               GB             twitter                     1   \n",
       "1               GB             twitter                     1   \n",
       "2               GB             twitter                    -1   \n",
       "3               GB             twitter                    -1   \n",
       "4               GB             twitter                     0   \n",
       "\n",
       "   location.latitude  location.longitude  \n",
       "0              51.57                0.46  \n",
       "1              52.97               -1.17  \n",
       "2              51.39                0.03  \n",
       "3              51.65               -3.80  \n",
       "4              53.54               -2.65  "
      ]
     },
     "execution_count": 22,
     "metadata": {},
     "output_type": "execute_result"
    }
   ],
   "source": [
    "characters_data.head()"
   ]
  },
  {
   "cell_type": "code",
   "execution_count": 30,
   "id": "bb291ecd",
   "metadata": {},
   "outputs": [
    {
     "ename": "ModuleNotFoundError",
     "evalue": "No module named 'sklearn'",
     "output_type": "error",
     "traceback": [
      "\u001b[1;31m---------------------------------------------------------------------------\u001b[0m",
      "\u001b[1;31mModuleNotFoundError\u001b[0m                       Traceback (most recent call last)",
      "Cell \u001b[1;32mIn[30], line 1\u001b[0m\n\u001b[1;32m----> 1\u001b[0m \u001b[38;5;28;01mfrom\u001b[39;00m \u001b[38;5;21;01msklearn\u001b[39;00m\u001b[38;5;21;01m.\u001b[39;00m\u001b[38;5;21;01mmodel_selection\u001b[39;00m \u001b[38;5;28;01mimport\u001b[39;00m train_test_split\n\u001b[0;32m      2\u001b[0m \u001b[38;5;28;01mfrom\u001b[39;00m \u001b[38;5;21;01mautogluon\u001b[39;00m\u001b[38;5;21;01m.\u001b[39;00m\u001b[38;5;21;01mtabular\u001b[39;00m \u001b[38;5;28;01mimport\u001b[39;00m TabularDataset, TabularPredictor\n",
      "\u001b[1;31mModuleNotFoundError\u001b[0m: No module named 'sklearn'"
     ]
    }
   ],
   "source": [
    "from sklearn.model_selection import train_test_split\n",
    "from autogluon.tabular import TabularDataset, TabularPredictor"
   ]
  },
  {
   "cell_type": "code",
   "execution_count": 31,
   "id": "0c6cf61e",
   "metadata": {},
   "outputs": [],
   "source": [
    "X = characters_data[[\"author.properties.friends\", \"author.properties.status_count\",\n",
    "       \"author.properties.verified\", \"content.body\", \"location.country\",\n",
    "       \"properties.platform\", \"properties.sentiment\", \"location.latitude\",\n",
    "       \"location.longitude\"]]"
   ]
  },
  {
   "cell_type": "code",
   "execution_count": 32,
   "id": "294ac281",
   "metadata": {},
   "outputs": [
    {
     "data": {
      "text/plain": [
       "pandas.core.frame.DataFrame"
      ]
     },
     "execution_count": 32,
     "metadata": {},
     "output_type": "execute_result"
    }
   ],
   "source": [
    "type(X)"
   ]
  },
  {
   "cell_type": "code",
   "execution_count": 33,
   "id": "e4f388bc",
   "metadata": {},
   "outputs": [
    {
     "data": {
      "text/html": [
       "<div>\n",
       "<style scoped>\n",
       "    .dataframe tbody tr th:only-of-type {\n",
       "        vertical-align: middle;\n",
       "    }\n",
       "\n",
       "    .dataframe tbody tr th {\n",
       "        vertical-align: top;\n",
       "    }\n",
       "\n",
       "    .dataframe thead th {\n",
       "        text-align: right;\n",
       "    }\n",
       "</style>\n",
       "<table border=\"1\" class=\"dataframe\">\n",
       "  <thead>\n",
       "    <tr style=\"text-align: right;\">\n",
       "      <th></th>\n",
       "      <th>author.properties.friends</th>\n",
       "      <th>author.properties.status_count</th>\n",
       "      <th>author.properties.verified</th>\n",
       "      <th>content.body</th>\n",
       "      <th>location.country</th>\n",
       "      <th>properties.platform</th>\n",
       "      <th>properties.sentiment</th>\n",
       "      <th>location.latitude</th>\n",
       "      <th>location.longitude</th>\n",
       "    </tr>\n",
       "  </thead>\n",
       "  <tbody>\n",
       "    <tr>\n",
       "      <th>0</th>\n",
       "      <td>1689</td>\n",
       "      <td>22566</td>\n",
       "      <td>False</td>\n",
       "      <td>Can't believe I'm missing Love Island 😩</td>\n",
       "      <td>GB</td>\n",
       "      <td>twitter</td>\n",
       "      <td>1</td>\n",
       "      <td>51.57</td>\n",
       "      <td>0.46</td>\n",
       "    </tr>\n",
       "    <tr>\n",
       "      <th>1</th>\n",
       "      <td>114</td>\n",
       "      <td>1377</td>\n",
       "      <td>False</td>\n",
       "      <td>Last tweet about future wedding..... if I actually want a wedding I actually need to find a guy XD we all know I'm a loner. unlovable</td>\n",
       "      <td>GB</td>\n",
       "      <td>twitter</td>\n",
       "      <td>1</td>\n",
       "      <td>52.97</td>\n",
       "      <td>-1.17</td>\n",
       "    </tr>\n",
       "    <tr>\n",
       "      <th>2</th>\n",
       "      <td>568</td>\n",
       "      <td>8375</td>\n",
       "      <td>False</td>\n",
       "      <td>How many times does he wonna say the phrase \"i deal with shit\" #LoveIsland</td>\n",
       "      <td>GB</td>\n",
       "      <td>twitter</td>\n",
       "      <td>-1</td>\n",
       "      <td>51.39</td>\n",
       "      <td>0.03</td>\n",
       "    </tr>\n",
       "  </tbody>\n",
       "</table>\n",
       "</div>"
      ],
      "text/plain": [
       "   author.properties.friends  author.properties.status_count  \\\n",
       "0                       1689                           22566   \n",
       "1                        114                            1377   \n",
       "2                        568                            8375   \n",
       "\n",
       "   author.properties.verified  \\\n",
       "0                       False   \n",
       "1                       False   \n",
       "2                       False   \n",
       "\n",
       "                                                                                                                            content.body  \\\n",
       "0                                                                                                Can't believe I'm missing Love Island 😩   \n",
       "1  Last tweet about future wedding..... if I actually want a wedding I actually need to find a guy XD we all know I'm a loner. unlovable   \n",
       "2                                                             How many times does he wonna say the phrase \"i deal with shit\" #LoveIsland   \n",
       "\n",
       "  location.country properties.platform  properties.sentiment  \\\n",
       "0               GB             twitter                     1   \n",
       "1               GB             twitter                     1   \n",
       "2               GB             twitter                    -1   \n",
       "\n",
       "   location.latitude  location.longitude  \n",
       "0              51.57                0.46  \n",
       "1              52.97               -1.17  \n",
       "2              51.39                0.03  "
      ]
     },
     "execution_count": 33,
     "metadata": {},
     "output_type": "execute_result"
    }
   ],
   "source": [
    "X.head(3)"
   ]
  },
  {
   "cell_type": "code",
   "execution_count": 35,
   "id": "ee9a1b16",
   "metadata": {},
   "outputs": [],
   "source": [
    "y = characters_data[\"properties.sentiment\"]"
   ]
  },
  {
   "cell_type": "code",
   "execution_count": 36,
   "id": "ad940cee",
   "metadata": {},
   "outputs": [
    {
     "data": {
      "text/plain": [
       "pandas.core.series.Series"
      ]
     },
     "execution_count": 36,
     "metadata": {},
     "output_type": "execute_result"
    }
   ],
   "source": [
    "type(y)"
   ]
  },
  {
   "cell_type": "code",
   "execution_count": 37,
   "id": "13265a1c",
   "metadata": {},
   "outputs": [
    {
     "data": {
      "text/plain": [
       "0    1\n",
       "1    1\n",
       "2   -1\n",
       "3   -1\n",
       "4    0\n",
       "Name: properties.sentiment, dtype: int64"
      ]
     },
     "execution_count": 37,
     "metadata": {},
     "output_type": "execute_result"
    }
   ],
   "source": [
    "y[0:5]"
   ]
  },
  {
   "cell_type": "code",
   "execution_count": 38,
   "id": "f7d21d19",
   "metadata": {},
   "outputs": [
    {
     "ename": "NameError",
     "evalue": "name 'train_test_split' is not defined",
     "output_type": "error",
     "traceback": [
      "\u001b[1;31m---------------------------------------------------------------------------\u001b[0m",
      "\u001b[1;31mNameError\u001b[0m                                 Traceback (most recent call last)",
      "Cell \u001b[1;32mIn[38], line 1\u001b[0m\n\u001b[1;32m----> 1\u001b[0m X_train, X_test, y_train, y_test \u001b[38;5;241m=\u001b[39m \u001b[43mtrain_test_split\u001b[49m(X, y, test_size\u001b[38;5;241m=\u001b[39m\u001b[38;5;241m0.02\u001b[39m, random_state\u001b[38;5;241m=\u001b[39m\u001b[38;5;241m42\u001b[39m)\n",
      "\u001b[1;31mNameError\u001b[0m: name 'train_test_split' is not defined"
     ]
    }
   ],
   "source": [
    "X_train, X_test, y_train, y_test = train_test_split(X, y, test_size=0.02, random_state=42)"
   ]
  },
  {
   "cell_type": "code",
   "execution_count": 181,
   "id": "9df49c4c",
   "metadata": {},
   "outputs": [
    {
     "data": {
      "text/plain": [
       "((980, 9), (20, 9))"
      ]
     },
     "execution_count": 181,
     "metadata": {},
     "output_type": "execute_result"
    }
   ],
   "source": [
    "X_train.shape, X_test.shape"
   ]
  },
  {
   "cell_type": "code",
   "execution_count": 182,
   "id": "5e400e31",
   "metadata": {},
   "outputs": [],
   "source": [
    "train_data, test_data = train_test_split(gots_data, test_size=0.5, random_state=42)"
   ]
  },
  {
   "cell_type": "code",
   "execution_count": 183,
   "id": "6ce5af92",
   "metadata": {},
   "outputs": [
    {
     "data": {
      "text/plain": [
       "((500, 9), (500, 9))"
      ]
     },
     "execution_count": 183,
     "metadata": {},
     "output_type": "execute_result"
    }
   ],
   "source": [
    "train_data.shape, test_data.shape"
   ]
  },
  {
   "cell_type": "code",
   "execution_count": 184,
   "id": "51d86cb0",
   "metadata": {},
   "outputs": [
    {
     "data": {
      "text/html": [
       "<div>\n",
       "<style scoped>\n",
       "    .dataframe tbody tr th:only-of-type {\n",
       "        vertical-align: middle;\n",
       "    }\n",
       "\n",
       "    .dataframe tbody tr th {\n",
       "        vertical-align: top;\n",
       "    }\n",
       "\n",
       "    .dataframe thead th {\n",
       "        text-align: right;\n",
       "    }\n",
       "</style>\n",
       "<table border=\"1\" class=\"dataframe\">\n",
       "  <thead>\n",
       "    <tr style=\"text-align: right;\">\n",
       "      <th></th>\n",
       "      <th>author.properties.friends</th>\n",
       "      <th>author.properties.status_count</th>\n",
       "      <th>author.properties.verified</th>\n",
       "      <th>content.body</th>\n",
       "      <th>location.country</th>\n",
       "      <th>properties.platform</th>\n",
       "      <th>properties.sentiment</th>\n",
       "      <th>location.latitude</th>\n",
       "      <th>location.longitude</th>\n",
       "    </tr>\n",
       "  </thead>\n",
       "  <tbody>\n",
       "    <tr>\n",
       "      <th>680</th>\n",
       "      <td>1586</td>\n",
       "      <td>13275</td>\n",
       "      <td>False</td>\n",
       "      <td>@Rachhh_xo @icelollyholiday @girlvsglobe thanks Rachel!</td>\n",
       "      <td>GB</td>\n",
       "      <td>twitter</td>\n",
       "      <td>1</td>\n",
       "      <td>51.46</td>\n",
       "      <td>-0.12</td>\n",
       "    </tr>\n",
       "    <tr>\n",
       "      <th>177</th>\n",
       "      <td>69</td>\n",
       "      <td>1090</td>\n",
       "      <td>False</td>\n",
       "      <td>When you're favourite YouTuber followes you!! @_Bennehh https://t.co/DaQfNCrfex</td>\n",
       "      <td>GB</td>\n",
       "      <td>twitter</td>\n",
       "      <td>0</td>\n",
       "      <td>55.94</td>\n",
       "      <td>-3.20</td>\n",
       "    </tr>\n",
       "    <tr>\n",
       "      <th>395</th>\n",
       "      <td>560</td>\n",
       "      <td>36784</td>\n",
       "      <td>False</td>\n",
       "      <td>@cobaltkobra https://t.co/VRjr07Mztv</td>\n",
       "      <td>GB</td>\n",
       "      <td>twitter</td>\n",
       "      <td>0</td>\n",
       "      <td>51.54</td>\n",
       "      <td>-0.44</td>\n",
       "    </tr>\n",
       "    <tr>\n",
       "      <th>911</th>\n",
       "      <td>27</td>\n",
       "      <td>7</td>\n",
       "      <td>False</td>\n",
       "      <td>Im such an idiot</td>\n",
       "      <td>GB</td>\n",
       "      <td>twitter</td>\n",
       "      <td>-1</td>\n",
       "      <td>53.13</td>\n",
       "      <td>-1.27</td>\n",
       "    </tr>\n",
       "    <tr>\n",
       "      <th>793</th>\n",
       "      <td>516</td>\n",
       "      <td>27493</td>\n",
       "      <td>False</td>\n",
       "      <td>@Jonnyy___ Would prefer someone that runs it normally.</td>\n",
       "      <td>GB</td>\n",
       "      <td>twitter</td>\n",
       "      <td>-1</td>\n",
       "      <td>55.86</td>\n",
       "      <td>-4.24</td>\n",
       "    </tr>\n",
       "  </tbody>\n",
       "</table>\n",
       "</div>"
      ],
      "text/plain": [
       "     author.properties.friends  author.properties.status_count  \\\n",
       "680                       1586                           13275   \n",
       "177                         69                            1090   \n",
       "395                        560                           36784   \n",
       "911                         27                               7   \n",
       "793                        516                           27493   \n",
       "\n",
       "     author.properties.verified  \\\n",
       "680                       False   \n",
       "177                       False   \n",
       "395                       False   \n",
       "911                       False   \n",
       "793                       False   \n",
       "\n",
       "                                                                        content.body  \\\n",
       "680                          @Rachhh_xo @icelollyholiday @girlvsglobe thanks Rachel!   \n",
       "177  When you're favourite YouTuber followes you!! @_Bennehh https://t.co/DaQfNCrfex   \n",
       "395                                             @cobaltkobra https://t.co/VRjr07Mztv   \n",
       "911                                                                 Im such an idiot   \n",
       "793                           @Jonnyy___ Would prefer someone that runs it normally.   \n",
       "\n",
       "    location.country properties.platform  properties.sentiment  \\\n",
       "680               GB             twitter                     1   \n",
       "177               GB             twitter                     0   \n",
       "395               GB             twitter                     0   \n",
       "911               GB             twitter                    -1   \n",
       "793               GB             twitter                    -1   \n",
       "\n",
       "     location.latitude  location.longitude  \n",
       "680              51.46               -0.12  \n",
       "177              55.94               -3.20  \n",
       "395              51.54               -0.44  \n",
       "911              53.13               -1.27  \n",
       "793              55.86               -4.24  "
      ]
     },
     "execution_count": 184,
     "metadata": {},
     "output_type": "execute_result"
    }
   ],
   "source": [
    "train_data.head()"
   ]
  },
  {
   "cell_type": "code",
   "execution_count": 185,
   "id": "63db1769",
   "metadata": {},
   "outputs": [
    {
     "data": {
      "text/html": [
       "<div>\n",
       "<style scoped>\n",
       "    .dataframe tbody tr th:only-of-type {\n",
       "        vertical-align: middle;\n",
       "    }\n",
       "\n",
       "    .dataframe tbody tr th {\n",
       "        vertical-align: top;\n",
       "    }\n",
       "\n",
       "    .dataframe thead th {\n",
       "        text-align: right;\n",
       "    }\n",
       "</style>\n",
       "<table border=\"1\" class=\"dataframe\">\n",
       "  <thead>\n",
       "    <tr style=\"text-align: right;\">\n",
       "      <th></th>\n",
       "      <th>author.properties.friends</th>\n",
       "      <th>author.properties.status_count</th>\n",
       "      <th>author.properties.verified</th>\n",
       "      <th>content.body</th>\n",
       "      <th>location.country</th>\n",
       "      <th>properties.platform</th>\n",
       "      <th>properties.sentiment</th>\n",
       "      <th>location.latitude</th>\n",
       "      <th>location.longitude</th>\n",
       "    </tr>\n",
       "  </thead>\n",
       "  <tbody>\n",
       "    <tr>\n",
       "      <th>521</th>\n",
       "      <td>222</td>\n",
       "      <td>6307</td>\n",
       "      <td>False</td>\n",
       "      <td>Why the fuck do I love you so much</td>\n",
       "      <td>GB</td>\n",
       "      <td>twitter</td>\n",
       "      <td>-1</td>\n",
       "      <td>51.02</td>\n",
       "      <td>-3.93</td>\n",
       "    </tr>\n",
       "    <tr>\n",
       "      <th>737</th>\n",
       "      <td>582</td>\n",
       "      <td>6267</td>\n",
       "      <td>False</td>\n",
       "      <td>@HenryNixon93 lionbridge rolls royce mate x</td>\n",
       "      <td>GB</td>\n",
       "      <td>twitter</td>\n",
       "      <td>1</td>\n",
       "      <td>53.92</td>\n",
       "      <td>-2.19</td>\n",
       "    </tr>\n",
       "    <tr>\n",
       "      <th>740</th>\n",
       "      <td>730</td>\n",
       "      <td>10462</td>\n",
       "      <td>False</td>\n",
       "      <td>@northnottsram @ramsfanryan @ShaneMalpass no...maybe it was some poor sod that looks like me 😂😂😂</td>\n",
       "      <td>GB</td>\n",
       "      <td>twitter</td>\n",
       "      <td>-1</td>\n",
       "      <td>52.92</td>\n",
       "      <td>-1.47</td>\n",
       "    </tr>\n",
       "    <tr>\n",
       "      <th>660</th>\n",
       "      <td>425</td>\n",
       "      <td>692</td>\n",
       "      <td>False</td>\n",
       "      <td>https://t.co/AzdtgwqDGp</td>\n",
       "      <td>GB</td>\n",
       "      <td>twitter</td>\n",
       "      <td>0</td>\n",
       "      <td>51.72</td>\n",
       "      <td>-4.06</td>\n",
       "    </tr>\n",
       "    <tr>\n",
       "      <th>411</th>\n",
       "      <td>130</td>\n",
       "      <td>11751</td>\n",
       "      <td>False</td>\n",
       "      <td>Kamara &gt; kamara\\n\\n#MLS \\n#PHIvCLB</td>\n",
       "      <td>GB</td>\n",
       "      <td>twitter</td>\n",
       "      <td>0</td>\n",
       "      <td>51.55</td>\n",
       "      <td>-0.11</td>\n",
       "    </tr>\n",
       "  </tbody>\n",
       "</table>\n",
       "</div>"
      ],
      "text/plain": [
       "     author.properties.friends  author.properties.status_count  \\\n",
       "521                        222                            6307   \n",
       "737                        582                            6267   \n",
       "740                        730                           10462   \n",
       "660                        425                             692   \n",
       "411                        130                           11751   \n",
       "\n",
       "     author.properties.verified  \\\n",
       "521                       False   \n",
       "737                       False   \n",
       "740                       False   \n",
       "660                       False   \n",
       "411                       False   \n",
       "\n",
       "                                                                                         content.body  \\\n",
       "521                                                                Why the fuck do I love you so much   \n",
       "737                                                       @HenryNixon93 lionbridge rolls royce mate x   \n",
       "740  @northnottsram @ramsfanryan @ShaneMalpass no...maybe it was some poor sod that looks like me 😂😂😂   \n",
       "660                                                                           https://t.co/AzdtgwqDGp   \n",
       "411                                                                Kamara > kamara\\n\\n#MLS \\n#PHIvCLB   \n",
       "\n",
       "    location.country properties.platform  properties.sentiment  \\\n",
       "521               GB             twitter                    -1   \n",
       "737               GB             twitter                     1   \n",
       "740               GB             twitter                    -1   \n",
       "660               GB             twitter                     0   \n",
       "411               GB             twitter                     0   \n",
       "\n",
       "     location.latitude  location.longitude  \n",
       "521              51.02               -3.93  \n",
       "737              53.92               -2.19  \n",
       "740              52.92               -1.47  \n",
       "660              51.72               -4.06  \n",
       "411              51.55               -0.11  "
      ]
     },
     "execution_count": 185,
     "metadata": {},
     "output_type": "execute_result"
    }
   ],
   "source": [
    "test_data.head()"
   ]
  },
  {
   "cell_type": "code",
   "execution_count": 188,
   "id": "2efc29ae",
   "metadata": {},
   "outputs": [
    {
     "name": "stdout",
     "output_type": "stream",
     "text": [
      "Summary of class variable: \n",
      " count   500.00\n",
      "mean     -0.29\n",
      "std       0.77\n",
      "min      -1.00\n",
      "25%      -1.00\n",
      "50%       0.00\n",
      "75%       0.00\n",
      "max       1.00\n",
      "Name: properties.sentiment, dtype: float64\n"
     ]
    }
   ],
   "source": [
    "label = 'properties.sentiment'\n",
    "print(\"Summary of class variable: \\n\", train_data[label].describe())"
   ]
  },
  {
   "cell_type": "code",
   "execution_count": 189,
   "id": "15738c9f",
   "metadata": {},
   "outputs": [
    {
     "name": "stderr",
     "output_type": "stream",
     "text": [
      "Warning: path already exists! This predictor may overwrite an existing predictor! path=\"models\"\n",
      "Presets specified: ['best_quality']\n",
      "Stack configuration (auto_stack=True): num_stack_levels=0, num_bag_folds=5, num_bag_sets=1\n",
      "Beginning AutoGluon training ...\n",
      "AutoGluon will save models to \"models\\\"\n",
      "AutoGluon Version:  0.7.0\n",
      "Python Version:     3.9.16\n",
      "Operating System:   Windows\n",
      "Platform Machine:   AMD64\n",
      "Platform Version:   10.0.22621\n",
      "Train Data Rows:    500\n",
      "Train Data Columns: 8\n",
      "Label Column: properties.sentiment\n",
      "Preprocessing data ...\n",
      "AutoGluon infers your prediction problem is: 'multiclass' (because dtype of label-column == int, but few unique label-values observed).\n",
      "\t3 unique label values:  [1, 0, -1]\n",
      "\tIf 'multiclass' is not the correct problem_type, please manually specify the problem_type parameter during predictor init (You may specify problem_type as one of: ['binary', 'multiclass', 'regression'])\n",
      "Train Data Class Count: 3\n",
      "Using Feature Generators to preprocess the data ...\n",
      "Fitting AutoMLPipelineFeatureGenerator...\n",
      "\tAvailable Memory:                    13980.23 MB\n",
      "\tTrain Data (Original)  Memory Usage: 0.17 MB (0.0% of available memory)\n",
      "\tInferring data type of each feature based on column values. Set feature_metadata_in to manually specify special dtypes of the features.\n",
      "\tStage 1 Generators:\n",
      "\t\tFitting AsTypeFeatureGenerator...\n",
      "\t\t\tNote: Converting 1 features to boolean dtype as they only contain 2 unique values.\n",
      "\tStage 2 Generators:\n",
      "\t\tFitting FillNaFeatureGenerator...\n",
      "\tStage 3 Generators:\n",
      "\t\tFitting IdentityFeatureGenerator...\n",
      "\t\tFitting CategoryFeatureGenerator...\n",
      "\t\t\tFitting CategoryMemoryMinimizeFeatureGenerator...\n",
      "\t\tFitting TextSpecialFeatureGenerator...\n",
      "\t\t\tFitting BinnedFeatureGenerator...\n",
      "\t\t\tFitting DropDuplicatesFeatureGenerator...\n",
      "\t\tFitting TextNgramFeatureGenerator...\n",
      "\t\t\tFitting CountVectorizer for text features: ['content.body']\n",
      "\t\t\tCountVectorizer fit with vocabulary size = 17\n",
      "\tStage 4 Generators:\n",
      "\t\tFitting DropUniqueFeatureGenerator...\n",
      "\tUseless Original Features (Count: 1): ['properties.platform']\n",
      "\t\tThese features carry no predictive signal and should be manually investigated.\n",
      "\t\tThis is typically a feature which has the same value for all rows.\n",
      "\t\tThese features do not need to be present at inference time.\n",
      "\tTypes of features in original data (raw dtype, special dtypes):\n",
      "\t\t('bool', [])         : 1 | ['author.properties.verified']\n",
      "\t\t('float', [])        : 2 | ['location.latitude', 'location.longitude']\n",
      "\t\t('int', [])          : 2 | ['author.properties.friends', 'author.properties.status_count']\n",
      "\t\t('object', [])       : 1 | ['location.country']\n",
      "\t\t('object', ['text']) : 1 | ['content.body']\n",
      "\tTypes of features in processed data (raw dtype, special dtypes):\n",
      "\t\t('category', [])                    :  1 | ['location.country']\n",
      "\t\t('float', [])                       :  2 | ['location.latitude', 'location.longitude']\n",
      "\t\t('int', [])                         :  2 | ['author.properties.friends', 'author.properties.status_count']\n",
      "\t\t('int', ['binned', 'text_special']) : 24 | ['content.body.char_count', 'content.body.word_count', 'content.body.capital_ratio', 'content.body.lower_ratio', 'content.body.digit_ratio', ...]\n",
      "\t\t('int', ['bool'])                   :  1 | ['author.properties.verified']\n",
      "\t\t('int', ['text_ngram'])             : 18 | ['__nlp__.and', '__nlp__.co', '__nlp__.for', '__nlp__.https', '__nlp__.https co', ...]\n",
      "\t0.2s = Fit runtime\n",
      "\t7 features in original data used to generate 48 features in processed data.\n",
      "\tTrain Data (Processed) Memory Usage: 0.05 MB (0.0% of available memory)\n",
      "Data preprocessing and feature engineering runtime = 0.29s ...\n",
      "AutoGluon will gauge predictive performance using evaluation metric: 'accuracy'\n",
      "\tTo change this, specify the eval_metric parameter of Predictor()\n",
      "Fitting 13 L1 models ...\n",
      "Fitting model: KNeighborsUnif_BAG_L1 ...\n",
      "\t0.412\t = Validation score   (accuracy)\n",
      "\t0.01s\t = Training   runtime\n",
      "\t0.02s\t = Validation runtime\n",
      "Fitting model: KNeighborsDist_BAG_L1 ...\n",
      "\t0.366\t = Validation score   (accuracy)\n",
      "\t0.01s\t = Training   runtime\n",
      "\t0.02s\t = Validation runtime\n",
      "Fitting model: NeuralNetFastAI_BAG_L1 ...\n",
      "\tFitting 5 child models (S1F1 - S1F5) | Fitting with ParallelLocalFoldFittingStrategy\n",
      "\t0.598\t = Validation score   (accuracy)\n",
      "\t1.88s\t = Training   runtime\n",
      "\t0.03s\t = Validation runtime\n",
      "Fitting model: LightGBMXT_BAG_L1 ...\n",
      "\tFitting 5 child models (S1F1 - S1F5) | Fitting with ParallelLocalFoldFittingStrategy\n",
      "\t0.63\t = Validation score   (accuracy)\n",
      "\t2.0s\t = Training   runtime\n",
      "\t0.01s\t = Validation runtime\n",
      "Fitting model: LightGBM_BAG_L1 ...\n",
      "\tFitting 5 child models (S1F1 - S1F5) | Fitting with ParallelLocalFoldFittingStrategy\n",
      "\t0.624\t = Validation score   (accuracy)\n",
      "\t1.53s\t = Training   runtime\n",
      "\t0.0s\t = Validation runtime\n",
      "Fitting model: RandomForestGini_BAG_L1 ...\n",
      "\t0.602\t = Validation score   (accuracy)\n",
      "\t0.59s\t = Training   runtime\n",
      "\t0.09s\t = Validation runtime\n",
      "Fitting model: RandomForestEntr_BAG_L1 ...\n",
      "\t0.596\t = Validation score   (accuracy)\n",
      "\t0.51s\t = Training   runtime\n",
      "\t0.07s\t = Validation runtime\n",
      "Fitting model: CatBoost_BAG_L1 ...\n",
      "\tFitting 5 child models (S1F1 - S1F5) | Fitting with ParallelLocalFoldFittingStrategy\n",
      "\t0.64\t = Validation score   (accuracy)\n",
      "\t3.4s\t = Training   runtime\n",
      "\t0.02s\t = Validation runtime\n",
      "Fitting model: ExtraTreesGini_BAG_L1 ...\n",
      "\t0.606\t = Validation score   (accuracy)\n",
      "\t0.49s\t = Training   runtime\n",
      "\t0.1s\t = Validation runtime\n",
      "Fitting model: ExtraTreesEntr_BAG_L1 ...\n",
      "\t0.6\t = Validation score   (accuracy)\n",
      "\t0.44s\t = Training   runtime\n",
      "\t0.07s\t = Validation runtime\n",
      "Fitting model: XGBoost_BAG_L1 ...\n",
      "\tFitting 5 child models (S1F1 - S1F5) | Fitting with ParallelLocalFoldFittingStrategy\n",
      "\t0.62\t = Validation score   (accuracy)\n",
      "\t2.25s\t = Training   runtime\n",
      "\t0.02s\t = Validation runtime\n",
      "Fitting model: NeuralNetTorch_BAG_L1 ...\n",
      "\tFitting 5 child models (S1F1 - S1F5) | Fitting with ParallelLocalFoldFittingStrategy\n",
      "\t0.628\t = Validation score   (accuracy)\n",
      "\t2.42s\t = Training   runtime\n",
      "\t0.06s\t = Validation runtime\n",
      "Fitting model: LightGBMLarge_BAG_L1 ...\n",
      "\tFitting 5 child models (S1F1 - S1F5) | Fitting with ParallelLocalFoldFittingStrategy\n",
      "\t0.628\t = Validation score   (accuracy)\n",
      "\t4.07s\t = Training   runtime\n",
      "\t0.07s\t = Validation runtime\n",
      "Fitting model: WeightedEnsemble_L2 ...\n",
      "\t0.64\t = Validation score   (accuracy)\n",
      "\t0.63s\t = Training   runtime\n",
      "\t0.0s\t = Validation runtime\n",
      "AutoGluon training complete, total runtime = 42.63s ... Best model: \"WeightedEnsemble_L2\"\n",
      "TabularPredictor saved. To load, use: predictor = TabularPredictor.load(\"models\\\")\n"
     ]
    },
    {
     "name": "stdout",
     "output_type": "stream",
     "text": [
      "CPU times: total: 2.89 s\n",
      "Wall time: 42.7 s\n"
     ]
    }
   ],
   "source": [
    "%%time\n",
    "\n",
    "save_path = 'models'\n",
    "predictor = TabularPredictor(label=label, path=save_path).fit(train_data, presets=\"best_quality\")"
   ]
  },
  {
   "cell_type": "code",
   "execution_count": 190,
   "id": "bbc58e59",
   "metadata": {},
   "outputs": [
    {
     "data": {
      "text/html": [
       "<div>\n",
       "<style scoped>\n",
       "    .dataframe tbody tr th:only-of-type {\n",
       "        vertical-align: middle;\n",
       "    }\n",
       "\n",
       "    .dataframe tbody tr th {\n",
       "        vertical-align: top;\n",
       "    }\n",
       "\n",
       "    .dataframe thead th {\n",
       "        text-align: right;\n",
       "    }\n",
       "</style>\n",
       "<table border=\"1\" class=\"dataframe\">\n",
       "  <thead>\n",
       "    <tr style=\"text-align: right;\">\n",
       "      <th></th>\n",
       "      <th>model</th>\n",
       "      <th>score_val</th>\n",
       "      <th>pred_time_val</th>\n",
       "      <th>fit_time</th>\n",
       "      <th>pred_time_val_marginal</th>\n",
       "      <th>fit_time_marginal</th>\n",
       "      <th>stack_level</th>\n",
       "      <th>can_infer</th>\n",
       "      <th>fit_order</th>\n",
       "    </tr>\n",
       "  </thead>\n",
       "  <tbody>\n",
       "    <tr>\n",
       "      <th>0</th>\n",
       "      <td>CatBoost_BAG_L1</td>\n",
       "      <td>0.64</td>\n",
       "      <td>0.02</td>\n",
       "      <td>3.40</td>\n",
       "      <td>0.02</td>\n",
       "      <td>3.40</td>\n",
       "      <td>1</td>\n",
       "      <td>True</td>\n",
       "      <td>8</td>\n",
       "    </tr>\n",
       "    <tr>\n",
       "      <th>1</th>\n",
       "      <td>WeightedEnsemble_L2</td>\n",
       "      <td>0.64</td>\n",
       "      <td>0.02</td>\n",
       "      <td>4.03</td>\n",
       "      <td>0.00</td>\n",
       "      <td>0.63</td>\n",
       "      <td>2</td>\n",
       "      <td>True</td>\n",
       "      <td>14</td>\n",
       "    </tr>\n",
       "    <tr>\n",
       "      <th>2</th>\n",
       "      <td>LightGBMXT_BAG_L1</td>\n",
       "      <td>0.63</td>\n",
       "      <td>0.01</td>\n",
       "      <td>2.00</td>\n",
       "      <td>0.01</td>\n",
       "      <td>2.00</td>\n",
       "      <td>1</td>\n",
       "      <td>True</td>\n",
       "      <td>4</td>\n",
       "    </tr>\n",
       "    <tr>\n",
       "      <th>3</th>\n",
       "      <td>NeuralNetTorch_BAG_L1</td>\n",
       "      <td>0.63</td>\n",
       "      <td>0.06</td>\n",
       "      <td>2.42</td>\n",
       "      <td>0.06</td>\n",
       "      <td>2.42</td>\n",
       "      <td>1</td>\n",
       "      <td>True</td>\n",
       "      <td>12</td>\n",
       "    </tr>\n",
       "    <tr>\n",
       "      <th>4</th>\n",
       "      <td>LightGBMLarge_BAG_L1</td>\n",
       "      <td>0.63</td>\n",
       "      <td>0.07</td>\n",
       "      <td>4.07</td>\n",
       "      <td>0.07</td>\n",
       "      <td>4.07</td>\n",
       "      <td>1</td>\n",
       "      <td>True</td>\n",
       "      <td>13</td>\n",
       "    </tr>\n",
       "    <tr>\n",
       "      <th>5</th>\n",
       "      <td>LightGBM_BAG_L1</td>\n",
       "      <td>0.62</td>\n",
       "      <td>0.00</td>\n",
       "      <td>1.53</td>\n",
       "      <td>0.00</td>\n",
       "      <td>1.53</td>\n",
       "      <td>1</td>\n",
       "      <td>True</td>\n",
       "      <td>5</td>\n",
       "    </tr>\n",
       "    <tr>\n",
       "      <th>6</th>\n",
       "      <td>XGBoost_BAG_L1</td>\n",
       "      <td>0.62</td>\n",
       "      <td>0.02</td>\n",
       "      <td>2.25</td>\n",
       "      <td>0.02</td>\n",
       "      <td>2.25</td>\n",
       "      <td>1</td>\n",
       "      <td>True</td>\n",
       "      <td>11</td>\n",
       "    </tr>\n",
       "    <tr>\n",
       "      <th>7</th>\n",
       "      <td>ExtraTreesGini_BAG_L1</td>\n",
       "      <td>0.61</td>\n",
       "      <td>0.10</td>\n",
       "      <td>0.49</td>\n",
       "      <td>0.10</td>\n",
       "      <td>0.49</td>\n",
       "      <td>1</td>\n",
       "      <td>True</td>\n",
       "      <td>9</td>\n",
       "    </tr>\n",
       "    <tr>\n",
       "      <th>8</th>\n",
       "      <td>RandomForestGini_BAG_L1</td>\n",
       "      <td>0.60</td>\n",
       "      <td>0.09</td>\n",
       "      <td>0.59</td>\n",
       "      <td>0.09</td>\n",
       "      <td>0.59</td>\n",
       "      <td>1</td>\n",
       "      <td>True</td>\n",
       "      <td>6</td>\n",
       "    </tr>\n",
       "    <tr>\n",
       "      <th>9</th>\n",
       "      <td>ExtraTreesEntr_BAG_L1</td>\n",
       "      <td>0.60</td>\n",
       "      <td>0.07</td>\n",
       "      <td>0.44</td>\n",
       "      <td>0.07</td>\n",
       "      <td>0.44</td>\n",
       "      <td>1</td>\n",
       "      <td>True</td>\n",
       "      <td>10</td>\n",
       "    </tr>\n",
       "    <tr>\n",
       "      <th>10</th>\n",
       "      <td>NeuralNetFastAI_BAG_L1</td>\n",
       "      <td>0.60</td>\n",
       "      <td>0.03</td>\n",
       "      <td>1.88</td>\n",
       "      <td>0.03</td>\n",
       "      <td>1.88</td>\n",
       "      <td>1</td>\n",
       "      <td>True</td>\n",
       "      <td>3</td>\n",
       "    </tr>\n",
       "    <tr>\n",
       "      <th>11</th>\n",
       "      <td>RandomForestEntr_BAG_L1</td>\n",
       "      <td>0.60</td>\n",
       "      <td>0.07</td>\n",
       "      <td>0.51</td>\n",
       "      <td>0.07</td>\n",
       "      <td>0.51</td>\n",
       "      <td>1</td>\n",
       "      <td>True</td>\n",
       "      <td>7</td>\n",
       "    </tr>\n",
       "    <tr>\n",
       "      <th>12</th>\n",
       "      <td>KNeighborsUnif_BAG_L1</td>\n",
       "      <td>0.41</td>\n",
       "      <td>0.02</td>\n",
       "      <td>0.01</td>\n",
       "      <td>0.02</td>\n",
       "      <td>0.01</td>\n",
       "      <td>1</td>\n",
       "      <td>True</td>\n",
       "      <td>1</td>\n",
       "    </tr>\n",
       "    <tr>\n",
       "      <th>13</th>\n",
       "      <td>KNeighborsDist_BAG_L1</td>\n",
       "      <td>0.37</td>\n",
       "      <td>0.02</td>\n",
       "      <td>0.01</td>\n",
       "      <td>0.02</td>\n",
       "      <td>0.01</td>\n",
       "      <td>1</td>\n",
       "      <td>True</td>\n",
       "      <td>2</td>\n",
       "    </tr>\n",
       "  </tbody>\n",
       "</table>\n",
       "</div>"
      ],
      "text/plain": [
       "                      model  score_val  pred_time_val  fit_time  \\\n",
       "0           CatBoost_BAG_L1       0.64           0.02      3.40   \n",
       "1       WeightedEnsemble_L2       0.64           0.02      4.03   \n",
       "2         LightGBMXT_BAG_L1       0.63           0.01      2.00   \n",
       "3     NeuralNetTorch_BAG_L1       0.63           0.06      2.42   \n",
       "4      LightGBMLarge_BAG_L1       0.63           0.07      4.07   \n",
       "5           LightGBM_BAG_L1       0.62           0.00      1.53   \n",
       "6            XGBoost_BAG_L1       0.62           0.02      2.25   \n",
       "7     ExtraTreesGini_BAG_L1       0.61           0.10      0.49   \n",
       "8   RandomForestGini_BAG_L1       0.60           0.09      0.59   \n",
       "9     ExtraTreesEntr_BAG_L1       0.60           0.07      0.44   \n",
       "10   NeuralNetFastAI_BAG_L1       0.60           0.03      1.88   \n",
       "11  RandomForestEntr_BAG_L1       0.60           0.07      0.51   \n",
       "12    KNeighborsUnif_BAG_L1       0.41           0.02      0.01   \n",
       "13    KNeighborsDist_BAG_L1       0.37           0.02      0.01   \n",
       "\n",
       "    pred_time_val_marginal  fit_time_marginal  stack_level  can_infer  \\\n",
       "0                     0.02               3.40            1       True   \n",
       "1                     0.00               0.63            2       True   \n",
       "2                     0.01               2.00            1       True   \n",
       "3                     0.06               2.42            1       True   \n",
       "4                     0.07               4.07            1       True   \n",
       "5                     0.00               1.53            1       True   \n",
       "6                     0.02               2.25            1       True   \n",
       "7                     0.10               0.49            1       True   \n",
       "8                     0.09               0.59            1       True   \n",
       "9                     0.07               0.44            1       True   \n",
       "10                    0.03               1.88            1       True   \n",
       "11                    0.07               0.51            1       True   \n",
       "12                    0.02               0.01            1       True   \n",
       "13                    0.02               0.01            1       True   \n",
       "\n",
       "    fit_order  \n",
       "0           8  \n",
       "1          14  \n",
       "2           4  \n",
       "3          12  \n",
       "4          13  \n",
       "5           5  \n",
       "6          11  \n",
       "7           9  \n",
       "8           6  \n",
       "9          10  \n",
       "10          3  \n",
       "11          7  \n",
       "12          1  \n",
       "13          2  "
      ]
     },
     "execution_count": 190,
     "metadata": {},
     "output_type": "execute_result"
    }
   ],
   "source": [
    "predictor.leaderboard(silent=True)"
   ]
  },
  {
   "cell_type": "markdown",
   "id": "50bde4b4",
   "metadata": {},
   "source": [
    "## Model Evaluation"
   ]
  },
  {
   "cell_type": "code",
   "execution_count": 191,
   "id": "57b66506",
   "metadata": {},
   "outputs": [
    {
     "data": {
      "text/html": [
       "<div>\n",
       "<style scoped>\n",
       "    .dataframe tbody tr th:only-of-type {\n",
       "        vertical-align: middle;\n",
       "    }\n",
       "\n",
       "    .dataframe tbody tr th {\n",
       "        vertical-align: top;\n",
       "    }\n",
       "\n",
       "    .dataframe thead th {\n",
       "        text-align: right;\n",
       "    }\n",
       "</style>\n",
       "<table border=\"1\" class=\"dataframe\">\n",
       "  <thead>\n",
       "    <tr style=\"text-align: right;\">\n",
       "      <th></th>\n",
       "      <th>author.properties.friends</th>\n",
       "      <th>author.properties.status_count</th>\n",
       "      <th>author.properties.verified</th>\n",
       "      <th>content.body</th>\n",
       "      <th>location.country</th>\n",
       "      <th>properties.platform</th>\n",
       "      <th>properties.sentiment</th>\n",
       "      <th>location.latitude</th>\n",
       "      <th>location.longitude</th>\n",
       "    </tr>\n",
       "  </thead>\n",
       "  <tbody>\n",
       "    <tr>\n",
       "      <th>521</th>\n",
       "      <td>222</td>\n",
       "      <td>6307</td>\n",
       "      <td>False</td>\n",
       "      <td>Why the fuck do I love you so much</td>\n",
       "      <td>GB</td>\n",
       "      <td>twitter</td>\n",
       "      <td>-1</td>\n",
       "      <td>51.02</td>\n",
       "      <td>-3.93</td>\n",
       "    </tr>\n",
       "    <tr>\n",
       "      <th>737</th>\n",
       "      <td>582</td>\n",
       "      <td>6267</td>\n",
       "      <td>False</td>\n",
       "      <td>@HenryNixon93 lionbridge rolls royce mate x</td>\n",
       "      <td>GB</td>\n",
       "      <td>twitter</td>\n",
       "      <td>1</td>\n",
       "      <td>53.92</td>\n",
       "      <td>-2.19</td>\n",
       "    </tr>\n",
       "    <tr>\n",
       "      <th>740</th>\n",
       "      <td>730</td>\n",
       "      <td>10462</td>\n",
       "      <td>False</td>\n",
       "      <td>@northnottsram @ramsfanryan @ShaneMalpass no...maybe it was some poor sod that looks like me 😂😂😂</td>\n",
       "      <td>GB</td>\n",
       "      <td>twitter</td>\n",
       "      <td>-1</td>\n",
       "      <td>52.92</td>\n",
       "      <td>-1.47</td>\n",
       "    </tr>\n",
       "    <tr>\n",
       "      <th>660</th>\n",
       "      <td>425</td>\n",
       "      <td>692</td>\n",
       "      <td>False</td>\n",
       "      <td>https://t.co/AzdtgwqDGp</td>\n",
       "      <td>GB</td>\n",
       "      <td>twitter</td>\n",
       "      <td>0</td>\n",
       "      <td>51.72</td>\n",
       "      <td>-4.06</td>\n",
       "    </tr>\n",
       "    <tr>\n",
       "      <th>411</th>\n",
       "      <td>130</td>\n",
       "      <td>11751</td>\n",
       "      <td>False</td>\n",
       "      <td>Kamara &gt; kamara\\n\\n#MLS \\n#PHIvCLB</td>\n",
       "      <td>GB</td>\n",
       "      <td>twitter</td>\n",
       "      <td>0</td>\n",
       "      <td>51.55</td>\n",
       "      <td>-0.11</td>\n",
       "    </tr>\n",
       "  </tbody>\n",
       "</table>\n",
       "</div>"
      ],
      "text/plain": [
       "     author.properties.friends  author.properties.status_count  \\\n",
       "521                        222                            6307   \n",
       "737                        582                            6267   \n",
       "740                        730                           10462   \n",
       "660                        425                             692   \n",
       "411                        130                           11751   \n",
       "\n",
       "     author.properties.verified  \\\n",
       "521                       False   \n",
       "737                       False   \n",
       "740                       False   \n",
       "660                       False   \n",
       "411                       False   \n",
       "\n",
       "                                                                                         content.body  \\\n",
       "521                                                                Why the fuck do I love you so much   \n",
       "737                                                       @HenryNixon93 lionbridge rolls royce mate x   \n",
       "740  @northnottsram @ramsfanryan @ShaneMalpass no...maybe it was some poor sod that looks like me 😂😂😂   \n",
       "660                                                                           https://t.co/AzdtgwqDGp   \n",
       "411                                                                Kamara > kamara\\n\\n#MLS \\n#PHIvCLB   \n",
       "\n",
       "    location.country properties.platform  properties.sentiment  \\\n",
       "521               GB             twitter                    -1   \n",
       "737               GB             twitter                     1   \n",
       "740               GB             twitter                    -1   \n",
       "660               GB             twitter                     0   \n",
       "411               GB             twitter                     0   \n",
       "\n",
       "     location.latitude  location.longitude  \n",
       "521              51.02               -3.93  \n",
       "737              53.92               -2.19  \n",
       "740              52.92               -1.47  \n",
       "660              51.72               -4.06  \n",
       "411              51.55               -0.11  "
      ]
     },
     "execution_count": 191,
     "metadata": {},
     "output_type": "execute_result"
    }
   ],
   "source": [
    "test_data.head()"
   ]
  },
  {
   "cell_type": "code",
   "execution_count": 192,
   "id": "0f4afe91",
   "metadata": {},
   "outputs": [],
   "source": [
    "y_test = test_data[label]  # values to predict"
   ]
  },
  {
   "cell_type": "code",
   "execution_count": 193,
   "id": "9283f035",
   "metadata": {},
   "outputs": [
    {
     "data": {
      "text/plain": [
       "521   -1\n",
       "737    1\n",
       "740   -1\n",
       "660    0\n",
       "411    0\n",
       "Name: properties.sentiment, dtype: int64"
      ]
     },
     "execution_count": 193,
     "metadata": {},
     "output_type": "execute_result"
    }
   ],
   "source": [
    "y_test[0:5]"
   ]
  },
  {
   "cell_type": "code",
   "execution_count": 194,
   "id": "d91a5abe",
   "metadata": {},
   "outputs": [
    {
     "data": {
      "text/html": [
       "<div>\n",
       "<style scoped>\n",
       "    .dataframe tbody tr th:only-of-type {\n",
       "        vertical-align: middle;\n",
       "    }\n",
       "\n",
       "    .dataframe tbody tr th {\n",
       "        vertical-align: top;\n",
       "    }\n",
       "\n",
       "    .dataframe thead th {\n",
       "        text-align: right;\n",
       "    }\n",
       "</style>\n",
       "<table border=\"1\" class=\"dataframe\">\n",
       "  <thead>\n",
       "    <tr style=\"text-align: right;\">\n",
       "      <th></th>\n",
       "      <th>author.properties.friends</th>\n",
       "      <th>author.properties.status_count</th>\n",
       "      <th>author.properties.verified</th>\n",
       "      <th>content.body</th>\n",
       "      <th>location.country</th>\n",
       "      <th>properties.platform</th>\n",
       "      <th>location.latitude</th>\n",
       "      <th>location.longitude</th>\n",
       "    </tr>\n",
       "  </thead>\n",
       "  <tbody>\n",
       "    <tr>\n",
       "      <th>521</th>\n",
       "      <td>222</td>\n",
       "      <td>6307</td>\n",
       "      <td>False</td>\n",
       "      <td>Why the fuck do I love you so much</td>\n",
       "      <td>GB</td>\n",
       "      <td>twitter</td>\n",
       "      <td>51.02</td>\n",
       "      <td>-3.93</td>\n",
       "    </tr>\n",
       "    <tr>\n",
       "      <th>737</th>\n",
       "      <td>582</td>\n",
       "      <td>6267</td>\n",
       "      <td>False</td>\n",
       "      <td>@HenryNixon93 lionbridge rolls royce mate x</td>\n",
       "      <td>GB</td>\n",
       "      <td>twitter</td>\n",
       "      <td>53.92</td>\n",
       "      <td>-2.19</td>\n",
       "    </tr>\n",
       "    <tr>\n",
       "      <th>740</th>\n",
       "      <td>730</td>\n",
       "      <td>10462</td>\n",
       "      <td>False</td>\n",
       "      <td>@northnottsram @ramsfanryan @ShaneMalpass no...maybe it was some poor sod that looks like me 😂😂😂</td>\n",
       "      <td>GB</td>\n",
       "      <td>twitter</td>\n",
       "      <td>52.92</td>\n",
       "      <td>-1.47</td>\n",
       "    </tr>\n",
       "    <tr>\n",
       "      <th>660</th>\n",
       "      <td>425</td>\n",
       "      <td>692</td>\n",
       "      <td>False</td>\n",
       "      <td>https://t.co/AzdtgwqDGp</td>\n",
       "      <td>GB</td>\n",
       "      <td>twitter</td>\n",
       "      <td>51.72</td>\n",
       "      <td>-4.06</td>\n",
       "    </tr>\n",
       "    <tr>\n",
       "      <th>411</th>\n",
       "      <td>130</td>\n",
       "      <td>11751</td>\n",
       "      <td>False</td>\n",
       "      <td>Kamara &gt; kamara\\n\\n#MLS \\n#PHIvCLB</td>\n",
       "      <td>GB</td>\n",
       "      <td>twitter</td>\n",
       "      <td>51.55</td>\n",
       "      <td>-0.11</td>\n",
       "    </tr>\n",
       "  </tbody>\n",
       "</table>\n",
       "</div>"
      ],
      "text/plain": [
       "     author.properties.friends  author.properties.status_count  \\\n",
       "521                        222                            6307   \n",
       "737                        582                            6267   \n",
       "740                        730                           10462   \n",
       "660                        425                             692   \n",
       "411                        130                           11751   \n",
       "\n",
       "     author.properties.verified  \\\n",
       "521                       False   \n",
       "737                       False   \n",
       "740                       False   \n",
       "660                       False   \n",
       "411                       False   \n",
       "\n",
       "                                                                                         content.body  \\\n",
       "521                                                                Why the fuck do I love you so much   \n",
       "737                                                       @HenryNixon93 lionbridge rolls royce mate x   \n",
       "740  @northnottsram @ramsfanryan @ShaneMalpass no...maybe it was some poor sod that looks like me 😂😂😂   \n",
       "660                                                                           https://t.co/AzdtgwqDGp   \n",
       "411                                                                Kamara > kamara\\n\\n#MLS \\n#PHIvCLB   \n",
       "\n",
       "    location.country properties.platform  location.latitude  \\\n",
       "521               GB             twitter              51.02   \n",
       "737               GB             twitter              53.92   \n",
       "740               GB             twitter              52.92   \n",
       "660               GB             twitter              51.72   \n",
       "411               GB             twitter              51.55   \n",
       "\n",
       "     location.longitude  \n",
       "521               -3.93  \n",
       "737               -2.19  \n",
       "740               -1.47  \n",
       "660               -4.06  \n",
       "411               -0.11  "
      ]
     },
     "execution_count": 194,
     "metadata": {},
     "output_type": "execute_result"
    }
   ],
   "source": [
    "test_data_nolab = test_data.drop(columns=[label])  # delete label column to prove we're not cheating\n",
    "test_data_nolab.head()"
   ]
  },
  {
   "cell_type": "code",
   "execution_count": 195,
   "id": "65da1309",
   "metadata": {},
   "outputs": [
    {
     "data": {
      "text/plain": [
       "'models'"
      ]
     },
     "execution_count": 195,
     "metadata": {},
     "output_type": "execute_result"
    }
   ],
   "source": [
    "save_path"
   ]
  },
  {
   "cell_type": "code",
   "execution_count": 196,
   "id": "14b281f0",
   "metadata": {},
   "outputs": [
    {
     "data": {
      "text/plain": [
       "<autogluon.tabular.predictor.predictor.TabularPredictor at 0x1bb85081430>"
      ]
     },
     "execution_count": 196,
     "metadata": {},
     "output_type": "execute_result"
    }
   ],
   "source": [
    "predictor"
   ]
  },
  {
   "cell_type": "markdown",
   "id": "68538e66",
   "metadata": {},
   "source": [
    "## Load the save model"
   ]
  },
  {
   "cell_type": "code",
   "execution_count": 197,
   "id": "1fc1c055",
   "metadata": {},
   "outputs": [],
   "source": [
    "save_model_predictor = TabularPredictor.load(save_path)"
   ]
  },
  {
   "cell_type": "code",
   "execution_count": 198,
   "id": "49cb3f1d",
   "metadata": {},
   "outputs": [
    {
     "data": {
      "text/plain": [
       "<autogluon.tabular.predictor.predictor.TabularPredictor at 0x1bbed6c3460>"
      ]
     },
     "execution_count": 198,
     "metadata": {},
     "output_type": "execute_result"
    }
   ],
   "source": [
    "save_model_predictor"
   ]
  },
  {
   "cell_type": "markdown",
   "id": "53c98c11",
   "metadata": {},
   "source": [
    "## Predict the target"
   ]
  },
  {
   "cell_type": "code",
   "execution_count": 199,
   "id": "391ae19b",
   "metadata": {},
   "outputs": [],
   "source": [
    "y_pred = save_model_predictor.predict(test_data_nolab)"
   ]
  },
  {
   "cell_type": "code",
   "execution_count": 200,
   "id": "f03cc81b",
   "metadata": {},
   "outputs": [
    {
     "data": {
      "text/plain": [
       "521   -1\n",
       "737   -1\n",
       "740   -1\n",
       "660    0\n",
       "411   -1\n",
       "Name: properties.sentiment, dtype: int64"
      ]
     },
     "execution_count": 200,
     "metadata": {},
     "output_type": "execute_result"
    }
   ],
   "source": [
    "y_pred[0:5]"
   ]
  },
  {
   "cell_type": "code",
   "execution_count": 201,
   "id": "12a4ada1",
   "metadata": {},
   "outputs": [
    {
     "name": "stderr",
     "output_type": "stream",
     "text": [
      "Evaluation: accuracy on test data: 0.608\n",
      "Evaluations on test data:\n",
      "{\n",
      "    \"accuracy\": 0.608,\n",
      "    \"balanced_accuracy\": 0.526091344552883,\n",
      "    \"mcc\": 0.35413964469578013\n",
      "}\n"
     ]
    }
   ],
   "source": [
    "# print(\"Predictions:  \\n\", y_pred)\n",
    "perf = save_model_predictor.evaluate_predictions(y_true=y_test, y_pred=y_pred, auxiliary_metrics=True)"
   ]
  },
  {
   "cell_type": "code",
   "execution_count": 202,
   "id": "62dae678",
   "metadata": {},
   "outputs": [
    {
     "data": {
      "text/html": [
       "<div>\n",
       "<style scoped>\n",
       "    .dataframe tbody tr th:only-of-type {\n",
       "        vertical-align: middle;\n",
       "    }\n",
       "\n",
       "    .dataframe tbody tr th {\n",
       "        vertical-align: top;\n",
       "    }\n",
       "\n",
       "    .dataframe thead th {\n",
       "        text-align: right;\n",
       "    }\n",
       "</style>\n",
       "<table border=\"1\" class=\"dataframe\">\n",
       "  <thead>\n",
       "    <tr style=\"text-align: right;\">\n",
       "      <th></th>\n",
       "      <th>model</th>\n",
       "      <th>score_test</th>\n",
       "      <th>score_val</th>\n",
       "      <th>pred_time_test</th>\n",
       "      <th>pred_time_val</th>\n",
       "      <th>fit_time</th>\n",
       "      <th>pred_time_test_marginal</th>\n",
       "      <th>pred_time_val_marginal</th>\n",
       "      <th>fit_time_marginal</th>\n",
       "      <th>stack_level</th>\n",
       "      <th>can_infer</th>\n",
       "      <th>fit_order</th>\n",
       "    </tr>\n",
       "  </thead>\n",
       "  <tbody>\n",
       "    <tr>\n",
       "      <th>0</th>\n",
       "      <td>LightGBMXT_BAG_L1</td>\n",
       "      <td>0.62</td>\n",
       "      <td>0.63</td>\n",
       "      <td>0.08</td>\n",
       "      <td>0.01</td>\n",
       "      <td>2.00</td>\n",
       "      <td>0.08</td>\n",
       "      <td>0.01</td>\n",
       "      <td>2.00</td>\n",
       "      <td>1</td>\n",
       "      <td>True</td>\n",
       "      <td>4</td>\n",
       "    </tr>\n",
       "    <tr>\n",
       "      <th>1</th>\n",
       "      <td>ExtraTreesEntr_BAG_L1</td>\n",
       "      <td>0.62</td>\n",
       "      <td>0.60</td>\n",
       "      <td>0.08</td>\n",
       "      <td>0.07</td>\n",
       "      <td>0.44</td>\n",
       "      <td>0.08</td>\n",
       "      <td>0.07</td>\n",
       "      <td>0.44</td>\n",
       "      <td>1</td>\n",
       "      <td>True</td>\n",
       "      <td>10</td>\n",
       "    </tr>\n",
       "    <tr>\n",
       "      <th>2</th>\n",
       "      <td>ExtraTreesGini_BAG_L1</td>\n",
       "      <td>0.61</td>\n",
       "      <td>0.61</td>\n",
       "      <td>0.06</td>\n",
       "      <td>0.10</td>\n",
       "      <td>0.49</td>\n",
       "      <td>0.06</td>\n",
       "      <td>0.10</td>\n",
       "      <td>0.49</td>\n",
       "      <td>1</td>\n",
       "      <td>True</td>\n",
       "      <td>9</td>\n",
       "    </tr>\n",
       "    <tr>\n",
       "      <th>3</th>\n",
       "      <td>NeuralNetFastAI_BAG_L1</td>\n",
       "      <td>0.61</td>\n",
       "      <td>0.60</td>\n",
       "      <td>0.35</td>\n",
       "      <td>0.03</td>\n",
       "      <td>1.88</td>\n",
       "      <td>0.35</td>\n",
       "      <td>0.03</td>\n",
       "      <td>1.88</td>\n",
       "      <td>1</td>\n",
       "      <td>True</td>\n",
       "      <td>3</td>\n",
       "    </tr>\n",
       "    <tr>\n",
       "      <th>4</th>\n",
       "      <td>CatBoost_BAG_L1</td>\n",
       "      <td>0.61</td>\n",
       "      <td>0.64</td>\n",
       "      <td>0.02</td>\n",
       "      <td>0.02</td>\n",
       "      <td>3.40</td>\n",
       "      <td>0.02</td>\n",
       "      <td>0.02</td>\n",
       "      <td>3.40</td>\n",
       "      <td>1</td>\n",
       "      <td>True</td>\n",
       "      <td>8</td>\n",
       "    </tr>\n",
       "    <tr>\n",
       "      <th>5</th>\n",
       "      <td>WeightedEnsemble_L2</td>\n",
       "      <td>0.61</td>\n",
       "      <td>0.64</td>\n",
       "      <td>0.02</td>\n",
       "      <td>0.02</td>\n",
       "      <td>4.03</td>\n",
       "      <td>0.00</td>\n",
       "      <td>0.00</td>\n",
       "      <td>0.63</td>\n",
       "      <td>2</td>\n",
       "      <td>True</td>\n",
       "      <td>14</td>\n",
       "    </tr>\n",
       "    <tr>\n",
       "      <th>6</th>\n",
       "      <td>RandomForestEntr_BAG_L1</td>\n",
       "      <td>0.61</td>\n",
       "      <td>0.60</td>\n",
       "      <td>0.06</td>\n",
       "      <td>0.07</td>\n",
       "      <td>0.51</td>\n",
       "      <td>0.06</td>\n",
       "      <td>0.07</td>\n",
       "      <td>0.51</td>\n",
       "      <td>1</td>\n",
       "      <td>True</td>\n",
       "      <td>7</td>\n",
       "    </tr>\n",
       "    <tr>\n",
       "      <th>7</th>\n",
       "      <td>XGBoost_BAG_L1</td>\n",
       "      <td>0.61</td>\n",
       "      <td>0.62</td>\n",
       "      <td>1.37</td>\n",
       "      <td>0.02</td>\n",
       "      <td>2.25</td>\n",
       "      <td>1.37</td>\n",
       "      <td>0.02</td>\n",
       "      <td>2.25</td>\n",
       "      <td>1</td>\n",
       "      <td>True</td>\n",
       "      <td>11</td>\n",
       "    </tr>\n",
       "    <tr>\n",
       "      <th>8</th>\n",
       "      <td>LightGBM_BAG_L1</td>\n",
       "      <td>0.60</td>\n",
       "      <td>0.62</td>\n",
       "      <td>0.03</td>\n",
       "      <td>0.00</td>\n",
       "      <td>1.53</td>\n",
       "      <td>0.03</td>\n",
       "      <td>0.00</td>\n",
       "      <td>1.53</td>\n",
       "      <td>1</td>\n",
       "      <td>True</td>\n",
       "      <td>5</td>\n",
       "    </tr>\n",
       "    <tr>\n",
       "      <th>9</th>\n",
       "      <td>RandomForestGini_BAG_L1</td>\n",
       "      <td>0.60</td>\n",
       "      <td>0.60</td>\n",
       "      <td>0.11</td>\n",
       "      <td>0.09</td>\n",
       "      <td>0.59</td>\n",
       "      <td>0.11</td>\n",
       "      <td>0.09</td>\n",
       "      <td>0.59</td>\n",
       "      <td>1</td>\n",
       "      <td>True</td>\n",
       "      <td>6</td>\n",
       "    </tr>\n",
       "    <tr>\n",
       "      <th>10</th>\n",
       "      <td>LightGBMLarge_BAG_L1</td>\n",
       "      <td>0.58</td>\n",
       "      <td>0.63</td>\n",
       "      <td>0.16</td>\n",
       "      <td>0.07</td>\n",
       "      <td>4.07</td>\n",
       "      <td>0.16</td>\n",
       "      <td>0.07</td>\n",
       "      <td>4.07</td>\n",
       "      <td>1</td>\n",
       "      <td>True</td>\n",
       "      <td>13</td>\n",
       "    </tr>\n",
       "    <tr>\n",
       "      <th>11</th>\n",
       "      <td>NeuralNetTorch_BAG_L1</td>\n",
       "      <td>0.58</td>\n",
       "      <td>0.63</td>\n",
       "      <td>0.13</td>\n",
       "      <td>0.06</td>\n",
       "      <td>2.42</td>\n",
       "      <td>0.13</td>\n",
       "      <td>0.06</td>\n",
       "      <td>2.42</td>\n",
       "      <td>1</td>\n",
       "      <td>True</td>\n",
       "      <td>12</td>\n",
       "    </tr>\n",
       "    <tr>\n",
       "      <th>12</th>\n",
       "      <td>KNeighborsUnif_BAG_L1</td>\n",
       "      <td>0.43</td>\n",
       "      <td>0.41</td>\n",
       "      <td>0.03</td>\n",
       "      <td>0.02</td>\n",
       "      <td>0.01</td>\n",
       "      <td>0.03</td>\n",
       "      <td>0.02</td>\n",
       "      <td>0.01</td>\n",
       "      <td>1</td>\n",
       "      <td>True</td>\n",
       "      <td>1</td>\n",
       "    </tr>\n",
       "    <tr>\n",
       "      <th>13</th>\n",
       "      <td>KNeighborsDist_BAG_L1</td>\n",
       "      <td>0.39</td>\n",
       "      <td>0.37</td>\n",
       "      <td>0.04</td>\n",
       "      <td>0.02</td>\n",
       "      <td>0.01</td>\n",
       "      <td>0.04</td>\n",
       "      <td>0.02</td>\n",
       "      <td>0.01</td>\n",
       "      <td>1</td>\n",
       "      <td>True</td>\n",
       "      <td>2</td>\n",
       "    </tr>\n",
       "  </tbody>\n",
       "</table>\n",
       "</div>"
      ],
      "text/plain": [
       "                      model  score_test  score_val  pred_time_test  \\\n",
       "0         LightGBMXT_BAG_L1        0.62       0.63            0.08   \n",
       "1     ExtraTreesEntr_BAG_L1        0.62       0.60            0.08   \n",
       "2     ExtraTreesGini_BAG_L1        0.61       0.61            0.06   \n",
       "3    NeuralNetFastAI_BAG_L1        0.61       0.60            0.35   \n",
       "4           CatBoost_BAG_L1        0.61       0.64            0.02   \n",
       "5       WeightedEnsemble_L2        0.61       0.64            0.02   \n",
       "6   RandomForestEntr_BAG_L1        0.61       0.60            0.06   \n",
       "7            XGBoost_BAG_L1        0.61       0.62            1.37   \n",
       "8           LightGBM_BAG_L1        0.60       0.62            0.03   \n",
       "9   RandomForestGini_BAG_L1        0.60       0.60            0.11   \n",
       "10     LightGBMLarge_BAG_L1        0.58       0.63            0.16   \n",
       "11    NeuralNetTorch_BAG_L1        0.58       0.63            0.13   \n",
       "12    KNeighborsUnif_BAG_L1        0.43       0.41            0.03   \n",
       "13    KNeighborsDist_BAG_L1        0.39       0.37            0.04   \n",
       "\n",
       "    pred_time_val  fit_time  pred_time_test_marginal  pred_time_val_marginal  \\\n",
       "0            0.01      2.00                     0.08                    0.01   \n",
       "1            0.07      0.44                     0.08                    0.07   \n",
       "2            0.10      0.49                     0.06                    0.10   \n",
       "3            0.03      1.88                     0.35                    0.03   \n",
       "4            0.02      3.40                     0.02                    0.02   \n",
       "5            0.02      4.03                     0.00                    0.00   \n",
       "6            0.07      0.51                     0.06                    0.07   \n",
       "7            0.02      2.25                     1.37                    0.02   \n",
       "8            0.00      1.53                     0.03                    0.00   \n",
       "9            0.09      0.59                     0.11                    0.09   \n",
       "10           0.07      4.07                     0.16                    0.07   \n",
       "11           0.06      2.42                     0.13                    0.06   \n",
       "12           0.02      0.01                     0.03                    0.02   \n",
       "13           0.02      0.01                     0.04                    0.02   \n",
       "\n",
       "    fit_time_marginal  stack_level  can_infer  fit_order  \n",
       "0                2.00            1       True          4  \n",
       "1                0.44            1       True         10  \n",
       "2                0.49            1       True          9  \n",
       "3                1.88            1       True          3  \n",
       "4                3.40            1       True          8  \n",
       "5                0.63            2       True         14  \n",
       "6                0.51            1       True          7  \n",
       "7                2.25            1       True         11  \n",
       "8                1.53            1       True          5  \n",
       "9                0.59            1       True          6  \n",
       "10               4.07            1       True         13  \n",
       "11               2.42            1       True         12  \n",
       "12               0.01            1       True          1  \n",
       "13               0.01            1       True          2  "
      ]
     },
     "execution_count": 202,
     "metadata": {},
     "output_type": "execute_result"
    }
   ],
   "source": [
    "save_model_predictor.leaderboard(test_data, silent=True)"
   ]
  },
  {
   "cell_type": "markdown",
   "id": "e719d68a",
   "metadata": {},
   "source": [
    "## Features Importance"
   ]
  },
  {
   "cell_type": "code",
   "execution_count": 203,
   "id": "01c2d642",
   "metadata": {},
   "outputs": [
    {
     "name": "stderr",
     "output_type": "stream",
     "text": [
      "These features in provided data are not utilized by the predictor and will be ignored: ['properties.platform']\n",
      "Computing feature importance via permutation shuffling for 7 features using 500 rows with 5 shuffle sets...\n",
      "\t2.34s\t= Expected runtime (0.47s per shuffle set)\n",
      "\t1.08s\t= Actual runtime (Completed 5 of 5 shuffle sets)\n"
     ]
    },
    {
     "name": "stdout",
     "output_type": "stream",
     "text": [
      "CPU times: total: 594 ms\n",
      "Wall time: 1.09 s\n"
     ]
    },
    {
     "data": {
      "text/html": [
       "<div>\n",
       "<style scoped>\n",
       "    .dataframe tbody tr th:only-of-type {\n",
       "        vertical-align: middle;\n",
       "    }\n",
       "\n",
       "    .dataframe tbody tr th {\n",
       "        vertical-align: top;\n",
       "    }\n",
       "\n",
       "    .dataframe thead th {\n",
       "        text-align: right;\n",
       "    }\n",
       "</style>\n",
       "<table border=\"1\" class=\"dataframe\">\n",
       "  <thead>\n",
       "    <tr style=\"text-align: right;\">\n",
       "      <th></th>\n",
       "      <th>importance</th>\n",
       "      <th>stddev</th>\n",
       "      <th>p_value</th>\n",
       "      <th>n</th>\n",
       "      <th>p99_high</th>\n",
       "      <th>p99_low</th>\n",
       "    </tr>\n",
       "  </thead>\n",
       "  <tbody>\n",
       "    <tr>\n",
       "      <th>content.body</th>\n",
       "      <td>0.45</td>\n",
       "      <td>0.01</td>\n",
       "      <td>0.00</td>\n",
       "      <td>5</td>\n",
       "      <td>0.46</td>\n",
       "      <td>0.43</td>\n",
       "    </tr>\n",
       "    <tr>\n",
       "      <th>author.properties.status_count</th>\n",
       "      <td>0.07</td>\n",
       "      <td>0.01</td>\n",
       "      <td>0.00</td>\n",
       "      <td>5</td>\n",
       "      <td>0.08</td>\n",
       "      <td>0.06</td>\n",
       "    </tr>\n",
       "    <tr>\n",
       "      <th>location.latitude</th>\n",
       "      <td>0.05</td>\n",
       "      <td>0.01</td>\n",
       "      <td>0.00</td>\n",
       "      <td>5</td>\n",
       "      <td>0.08</td>\n",
       "      <td>0.03</td>\n",
       "    </tr>\n",
       "    <tr>\n",
       "      <th>author.properties.friends</th>\n",
       "      <td>0.05</td>\n",
       "      <td>0.01</td>\n",
       "      <td>0.00</td>\n",
       "      <td>5</td>\n",
       "      <td>0.07</td>\n",
       "      <td>0.03</td>\n",
       "    </tr>\n",
       "    <tr>\n",
       "      <th>location.longitude</th>\n",
       "      <td>0.05</td>\n",
       "      <td>0.01</td>\n",
       "      <td>0.00</td>\n",
       "      <td>5</td>\n",
       "      <td>0.06</td>\n",
       "      <td>0.03</td>\n",
       "    </tr>\n",
       "    <tr>\n",
       "      <th>location.country</th>\n",
       "      <td>0.00</td>\n",
       "      <td>0.00</td>\n",
       "      <td>0.50</td>\n",
       "      <td>5</td>\n",
       "      <td>0.00</td>\n",
       "      <td>0.00</td>\n",
       "    </tr>\n",
       "    <tr>\n",
       "      <th>author.properties.verified</th>\n",
       "      <td>-0.00</td>\n",
       "      <td>0.00</td>\n",
       "      <td>0.81</td>\n",
       "      <td>5</td>\n",
       "      <td>0.00</td>\n",
       "      <td>-0.00</td>\n",
       "    </tr>\n",
       "  </tbody>\n",
       "</table>\n",
       "</div>"
      ],
      "text/plain": [
       "                                importance  stddev  p_value  n  p99_high  \\\n",
       "content.body                          0.45    0.01     0.00  5      0.46   \n",
       "author.properties.status_count        0.07    0.01     0.00  5      0.08   \n",
       "location.latitude                     0.05    0.01     0.00  5      0.08   \n",
       "author.properties.friends             0.05    0.01     0.00  5      0.07   \n",
       "location.longitude                    0.05    0.01     0.00  5      0.06   \n",
       "location.country                      0.00    0.00     0.50  5      0.00   \n",
       "author.properties.verified           -0.00    0.00     0.81  5      0.00   \n",
       "\n",
       "                                p99_low  \n",
       "content.body                       0.43  \n",
       "author.properties.status_count     0.06  \n",
       "location.latitude                  0.03  \n",
       "author.properties.friends          0.03  \n",
       "location.longitude                 0.03  \n",
       "location.country                   0.00  \n",
       "author.properties.verified        -0.00  "
      ]
     },
     "execution_count": 203,
     "metadata": {},
     "output_type": "execute_result"
    }
   ],
   "source": [
    "%%time\n",
    "\n",
    "save_model_predictor.feature_importance(train_data)"
   ]
  },
  {
   "cell_type": "code",
   "execution_count": 204,
   "id": "aeeec4c1",
   "metadata": {},
   "outputs": [
    {
     "name": "stderr",
     "output_type": "stream",
     "text": [
      "These features in provided data are not utilized by the predictor and will be ignored: ['properties.platform']\n",
      "Computing feature importance via permutation shuffling for 7 features using 500 rows with 5 shuffle sets...\n",
      "\t2.42s\t= Expected runtime (0.48s per shuffle set)\n",
      "\t1.18s\t= Actual runtime (Completed 5 of 5 shuffle sets)\n"
     ]
    },
    {
     "name": "stdout",
     "output_type": "stream",
     "text": [
      "CPU times: total: 438 ms\n",
      "Wall time: 1.2 s\n"
     ]
    },
    {
     "data": {
      "text/html": [
       "<div>\n",
       "<style scoped>\n",
       "    .dataframe tbody tr th:only-of-type {\n",
       "        vertical-align: middle;\n",
       "    }\n",
       "\n",
       "    .dataframe tbody tr th {\n",
       "        vertical-align: top;\n",
       "    }\n",
       "\n",
       "    .dataframe thead th {\n",
       "        text-align: right;\n",
       "    }\n",
       "</style>\n",
       "<table border=\"1\" class=\"dataframe\">\n",
       "  <thead>\n",
       "    <tr style=\"text-align: right;\">\n",
       "      <th></th>\n",
       "      <th>importance</th>\n",
       "      <th>stddev</th>\n",
       "      <th>p_value</th>\n",
       "      <th>n</th>\n",
       "      <th>p99_high</th>\n",
       "      <th>p99_low</th>\n",
       "    </tr>\n",
       "  </thead>\n",
       "  <tbody>\n",
       "    <tr>\n",
       "      <th>content.body</th>\n",
       "      <td>0.19</td>\n",
       "      <td>0.00</td>\n",
       "      <td>0.00</td>\n",
       "      <td>5</td>\n",
       "      <td>0.20</td>\n",
       "      <td>0.18</td>\n",
       "    </tr>\n",
       "    <tr>\n",
       "      <th>author.properties.status_count</th>\n",
       "      <td>0.00</td>\n",
       "      <td>0.01</td>\n",
       "      <td>0.28</td>\n",
       "      <td>5</td>\n",
       "      <td>0.02</td>\n",
       "      <td>-0.01</td>\n",
       "    </tr>\n",
       "    <tr>\n",
       "      <th>location.country</th>\n",
       "      <td>0.00</td>\n",
       "      <td>0.00</td>\n",
       "      <td>0.50</td>\n",
       "      <td>5</td>\n",
       "      <td>0.00</td>\n",
       "      <td>0.00</td>\n",
       "    </tr>\n",
       "    <tr>\n",
       "      <th>author.properties.verified</th>\n",
       "      <td>-0.00</td>\n",
       "      <td>0.00</td>\n",
       "      <td>0.81</td>\n",
       "      <td>5</td>\n",
       "      <td>0.00</td>\n",
       "      <td>-0.00</td>\n",
       "    </tr>\n",
       "    <tr>\n",
       "      <th>location.longitude</th>\n",
       "      <td>-0.00</td>\n",
       "      <td>0.01</td>\n",
       "      <td>0.67</td>\n",
       "      <td>5</td>\n",
       "      <td>0.01</td>\n",
       "      <td>-0.01</td>\n",
       "    </tr>\n",
       "    <tr>\n",
       "      <th>location.latitude</th>\n",
       "      <td>-0.00</td>\n",
       "      <td>0.00</td>\n",
       "      <td>0.91</td>\n",
       "      <td>5</td>\n",
       "      <td>0.01</td>\n",
       "      <td>-0.01</td>\n",
       "    </tr>\n",
       "    <tr>\n",
       "      <th>author.properties.friends</th>\n",
       "      <td>-0.01</td>\n",
       "      <td>0.00</td>\n",
       "      <td>1.00</td>\n",
       "      <td>5</td>\n",
       "      <td>-0.01</td>\n",
       "      <td>-0.02</td>\n",
       "    </tr>\n",
       "  </tbody>\n",
       "</table>\n",
       "</div>"
      ],
      "text/plain": [
       "                                importance  stddev  p_value  n  p99_high  \\\n",
       "content.body                          0.19    0.00     0.00  5      0.20   \n",
       "author.properties.status_count        0.00    0.01     0.28  5      0.02   \n",
       "location.country                      0.00    0.00     0.50  5      0.00   \n",
       "author.properties.verified           -0.00    0.00     0.81  5      0.00   \n",
       "location.longitude                   -0.00    0.01     0.67  5      0.01   \n",
       "location.latitude                    -0.00    0.00     0.91  5      0.01   \n",
       "author.properties.friends            -0.01    0.00     1.00  5     -0.01   \n",
       "\n",
       "                                p99_low  \n",
       "content.body                       0.18  \n",
       "author.properties.status_count    -0.01  \n",
       "location.country                   0.00  \n",
       "author.properties.verified        -0.00  \n",
       "location.longitude                -0.01  \n",
       "location.latitude                 -0.01  \n",
       "author.properties.friends         -0.02  "
      ]
     },
     "execution_count": 204,
     "metadata": {},
     "output_type": "execute_result"
    }
   ],
   "source": [
    "%%time\n",
    "\n",
    "save_model_predictor.feature_importance(test_data)"
   ]
  },
  {
   "cell_type": "markdown",
   "id": "dcbf04a0",
   "metadata": {},
   "source": [
    "## Bringing it all together"
   ]
  },
  {
   "cell_type": "code",
   "execution_count": 205,
   "id": "a7fa7d85",
   "metadata": {},
   "outputs": [],
   "source": [
    "test_data[\"predicted_properties.sentiment\"] = y_pred"
   ]
  },
  {
   "cell_type": "code",
   "execution_count": 206,
   "id": "81bd02b5",
   "metadata": {},
   "outputs": [
    {
     "data": {
      "text/html": [
       "<div>\n",
       "<style scoped>\n",
       "    .dataframe tbody tr th:only-of-type {\n",
       "        vertical-align: middle;\n",
       "    }\n",
       "\n",
       "    .dataframe tbody tr th {\n",
       "        vertical-align: top;\n",
       "    }\n",
       "\n",
       "    .dataframe thead th {\n",
       "        text-align: right;\n",
       "    }\n",
       "</style>\n",
       "<table border=\"1\" class=\"dataframe\">\n",
       "  <thead>\n",
       "    <tr style=\"text-align: right;\">\n",
       "      <th></th>\n",
       "      <th>author.properties.friends</th>\n",
       "      <th>author.properties.status_count</th>\n",
       "      <th>author.properties.verified</th>\n",
       "      <th>content.body</th>\n",
       "      <th>location.country</th>\n",
       "      <th>properties.platform</th>\n",
       "      <th>properties.sentiment</th>\n",
       "      <th>location.latitude</th>\n",
       "      <th>location.longitude</th>\n",
       "      <th>predicted_properties.sentiment</th>\n",
       "    </tr>\n",
       "  </thead>\n",
       "  <tbody>\n",
       "    <tr>\n",
       "      <th>521</th>\n",
       "      <td>222</td>\n",
       "      <td>6307</td>\n",
       "      <td>False</td>\n",
       "      <td>Why the fuck do I love you so much</td>\n",
       "      <td>GB</td>\n",
       "      <td>twitter</td>\n",
       "      <td>-1</td>\n",
       "      <td>51.02</td>\n",
       "      <td>-3.93</td>\n",
       "      <td>-1</td>\n",
       "    </tr>\n",
       "    <tr>\n",
       "      <th>737</th>\n",
       "      <td>582</td>\n",
       "      <td>6267</td>\n",
       "      <td>False</td>\n",
       "      <td>@HenryNixon93 lionbridge rolls royce mate x</td>\n",
       "      <td>GB</td>\n",
       "      <td>twitter</td>\n",
       "      <td>1</td>\n",
       "      <td>53.92</td>\n",
       "      <td>-2.19</td>\n",
       "      <td>-1</td>\n",
       "    </tr>\n",
       "    <tr>\n",
       "      <th>740</th>\n",
       "      <td>730</td>\n",
       "      <td>10462</td>\n",
       "      <td>False</td>\n",
       "      <td>@northnottsram @ramsfanryan @ShaneMalpass no...maybe it was some poor sod that looks like me 😂😂😂</td>\n",
       "      <td>GB</td>\n",
       "      <td>twitter</td>\n",
       "      <td>-1</td>\n",
       "      <td>52.92</td>\n",
       "      <td>-1.47</td>\n",
       "      <td>-1</td>\n",
       "    </tr>\n",
       "    <tr>\n",
       "      <th>660</th>\n",
       "      <td>425</td>\n",
       "      <td>692</td>\n",
       "      <td>False</td>\n",
       "      <td>https://t.co/AzdtgwqDGp</td>\n",
       "      <td>GB</td>\n",
       "      <td>twitter</td>\n",
       "      <td>0</td>\n",
       "      <td>51.72</td>\n",
       "      <td>-4.06</td>\n",
       "      <td>0</td>\n",
       "    </tr>\n",
       "    <tr>\n",
       "      <th>411</th>\n",
       "      <td>130</td>\n",
       "      <td>11751</td>\n",
       "      <td>False</td>\n",
       "      <td>Kamara &gt; kamara\\n\\n#MLS \\n#PHIvCLB</td>\n",
       "      <td>GB</td>\n",
       "      <td>twitter</td>\n",
       "      <td>0</td>\n",
       "      <td>51.55</td>\n",
       "      <td>-0.11</td>\n",
       "      <td>-1</td>\n",
       "    </tr>\n",
       "  </tbody>\n",
       "</table>\n",
       "</div>"
      ],
      "text/plain": [
       "     author.properties.friends  author.properties.status_count  \\\n",
       "521                        222                            6307   \n",
       "737                        582                            6267   \n",
       "740                        730                           10462   \n",
       "660                        425                             692   \n",
       "411                        130                           11751   \n",
       "\n",
       "     author.properties.verified  \\\n",
       "521                       False   \n",
       "737                       False   \n",
       "740                       False   \n",
       "660                       False   \n",
       "411                       False   \n",
       "\n",
       "                                                                                         content.body  \\\n",
       "521                                                                Why the fuck do I love you so much   \n",
       "737                                                       @HenryNixon93 lionbridge rolls royce mate x   \n",
       "740  @northnottsram @ramsfanryan @ShaneMalpass no...maybe it was some poor sod that looks like me 😂😂😂   \n",
       "660                                                                           https://t.co/AzdtgwqDGp   \n",
       "411                                                                Kamara > kamara\\n\\n#MLS \\n#PHIvCLB   \n",
       "\n",
       "    location.country properties.platform  properties.sentiment  \\\n",
       "521               GB             twitter                    -1   \n",
       "737               GB             twitter                     1   \n",
       "740               GB             twitter                    -1   \n",
       "660               GB             twitter                     0   \n",
       "411               GB             twitter                     0   \n",
       "\n",
       "     location.latitude  location.longitude  predicted_properties.sentiment  \n",
       "521              51.02               -3.93                              -1  \n",
       "737              53.92               -2.19                              -1  \n",
       "740              52.92               -1.47                              -1  \n",
       "660              51.72               -4.06                               0  \n",
       "411              51.55               -0.11                              -1  "
      ]
     },
     "execution_count": 206,
     "metadata": {},
     "output_type": "execute_result"
    }
   ],
   "source": [
    "test_data.head()"
   ]
  },
  {
   "cell_type": "code",
   "execution_count": 207,
   "id": "fd78249d",
   "metadata": {},
   "outputs": [],
   "source": [
    "test_data[\"error_values\"] = abs(test_data[\"properties.sentiment\"] - test_data[\"predicted_properties.sentiment\"])"
   ]
  },
  {
   "cell_type": "code",
   "execution_count": 208,
   "id": "c0f10f45",
   "metadata": {},
   "outputs": [
    {
     "data": {
      "text/html": [
       "<div>\n",
       "<style scoped>\n",
       "    .dataframe tbody tr th:only-of-type {\n",
       "        vertical-align: middle;\n",
       "    }\n",
       "\n",
       "    .dataframe tbody tr th {\n",
       "        vertical-align: top;\n",
       "    }\n",
       "\n",
       "    .dataframe thead th {\n",
       "        text-align: right;\n",
       "    }\n",
       "</style>\n",
       "<table border=\"1\" class=\"dataframe\">\n",
       "  <thead>\n",
       "    <tr style=\"text-align: right;\">\n",
       "      <th></th>\n",
       "      <th>author.properties.friends</th>\n",
       "      <th>author.properties.status_count</th>\n",
       "      <th>author.properties.verified</th>\n",
       "      <th>content.body</th>\n",
       "      <th>location.country</th>\n",
       "      <th>properties.platform</th>\n",
       "      <th>properties.sentiment</th>\n",
       "      <th>location.latitude</th>\n",
       "      <th>location.longitude</th>\n",
       "      <th>predicted_properties.sentiment</th>\n",
       "      <th>error_values</th>\n",
       "    </tr>\n",
       "  </thead>\n",
       "  <tbody>\n",
       "    <tr>\n",
       "      <th>521</th>\n",
       "      <td>222</td>\n",
       "      <td>6307</td>\n",
       "      <td>False</td>\n",
       "      <td>Why the fuck do I love you so much</td>\n",
       "      <td>GB</td>\n",
       "      <td>twitter</td>\n",
       "      <td>-1</td>\n",
       "      <td>51.02</td>\n",
       "      <td>-3.93</td>\n",
       "      <td>-1</td>\n",
       "      <td>0</td>\n",
       "    </tr>\n",
       "    <tr>\n",
       "      <th>737</th>\n",
       "      <td>582</td>\n",
       "      <td>6267</td>\n",
       "      <td>False</td>\n",
       "      <td>@HenryNixon93 lionbridge rolls royce mate x</td>\n",
       "      <td>GB</td>\n",
       "      <td>twitter</td>\n",
       "      <td>1</td>\n",
       "      <td>53.92</td>\n",
       "      <td>-2.19</td>\n",
       "      <td>-1</td>\n",
       "      <td>2</td>\n",
       "    </tr>\n",
       "    <tr>\n",
       "      <th>740</th>\n",
       "      <td>730</td>\n",
       "      <td>10462</td>\n",
       "      <td>False</td>\n",
       "      <td>@northnottsram @ramsfanryan @ShaneMalpass no...maybe it was some poor sod that looks like me 😂😂😂</td>\n",
       "      <td>GB</td>\n",
       "      <td>twitter</td>\n",
       "      <td>-1</td>\n",
       "      <td>52.92</td>\n",
       "      <td>-1.47</td>\n",
       "      <td>-1</td>\n",
       "      <td>0</td>\n",
       "    </tr>\n",
       "    <tr>\n",
       "      <th>660</th>\n",
       "      <td>425</td>\n",
       "      <td>692</td>\n",
       "      <td>False</td>\n",
       "      <td>https://t.co/AzdtgwqDGp</td>\n",
       "      <td>GB</td>\n",
       "      <td>twitter</td>\n",
       "      <td>0</td>\n",
       "      <td>51.72</td>\n",
       "      <td>-4.06</td>\n",
       "      <td>0</td>\n",
       "      <td>0</td>\n",
       "    </tr>\n",
       "    <tr>\n",
       "      <th>411</th>\n",
       "      <td>130</td>\n",
       "      <td>11751</td>\n",
       "      <td>False</td>\n",
       "      <td>Kamara &gt; kamara\\n\\n#MLS \\n#PHIvCLB</td>\n",
       "      <td>GB</td>\n",
       "      <td>twitter</td>\n",
       "      <td>0</td>\n",
       "      <td>51.55</td>\n",
       "      <td>-0.11</td>\n",
       "      <td>-1</td>\n",
       "      <td>1</td>\n",
       "    </tr>\n",
       "  </tbody>\n",
       "</table>\n",
       "</div>"
      ],
      "text/plain": [
       "     author.properties.friends  author.properties.status_count  \\\n",
       "521                        222                            6307   \n",
       "737                        582                            6267   \n",
       "740                        730                           10462   \n",
       "660                        425                             692   \n",
       "411                        130                           11751   \n",
       "\n",
       "     author.properties.verified  \\\n",
       "521                       False   \n",
       "737                       False   \n",
       "740                       False   \n",
       "660                       False   \n",
       "411                       False   \n",
       "\n",
       "                                                                                         content.body  \\\n",
       "521                                                                Why the fuck do I love you so much   \n",
       "737                                                       @HenryNixon93 lionbridge rolls royce mate x   \n",
       "740  @northnottsram @ramsfanryan @ShaneMalpass no...maybe it was some poor sod that looks like me 😂😂😂   \n",
       "660                                                                           https://t.co/AzdtgwqDGp   \n",
       "411                                                                Kamara > kamara\\n\\n#MLS \\n#PHIvCLB   \n",
       "\n",
       "    location.country properties.platform  properties.sentiment  \\\n",
       "521               GB             twitter                    -1   \n",
       "737               GB             twitter                     1   \n",
       "740               GB             twitter                    -1   \n",
       "660               GB             twitter                     0   \n",
       "411               GB             twitter                     0   \n",
       "\n",
       "     location.latitude  location.longitude  predicted_properties.sentiment  \\\n",
       "521              51.02               -3.93                              -1   \n",
       "737              53.92               -2.19                              -1   \n",
       "740              52.92               -1.47                              -1   \n",
       "660              51.72               -4.06                               0   \n",
       "411              51.55               -0.11                              -1   \n",
       "\n",
       "     error_values  \n",
       "521             0  \n",
       "737             2  \n",
       "740             0  \n",
       "660             0  \n",
       "411             1  "
      ]
     },
     "execution_count": 208,
     "metadata": {},
     "output_type": "execute_result"
    }
   ],
   "source": [
    "test_data.head()"
   ]
  },
  {
   "cell_type": "code",
   "execution_count": null,
   "id": "3f167a72",
   "metadata": {},
   "outputs": [],
   "source": []
  }
 ],
 "metadata": {
  "kernelspec": {
   "display_name": "Python 3 (ipykernel)",
   "language": "python",
   "name": "python3"
  },
  "language_info": {
   "codemirror_mode": {
    "name": "ipython",
    "version": 3
   },
   "file_extension": ".py",
   "mimetype": "text/x-python",
   "name": "python",
   "nbconvert_exporter": "python",
   "pygments_lexer": "ipython3",
   "version": "3.8.16"
  }
 },
 "nbformat": 4,
 "nbformat_minor": 5
}
